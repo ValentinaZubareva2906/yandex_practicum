{
 "cells": [
  {
   "cell_type": "markdown",
   "id": "4f11de00",
   "metadata": {
    "deletable": false,
    "editable": false,
    "id": "4f11de00"
   },
   "source": [
    "# Исследование надежности заемщиков"
   ]
  },
  {
   "cell_type": "markdown",
   "id": "f09d6878",
   "metadata": {
    "deletable": false,
    "editable": false,
    "id": "f09d6878"
   },
   "source": [
    "Это первая часть проекта, она будет проверена автоматически. Вторую часть проверит ревьюер. "
   ]
  },
  {
   "cell_type": "markdown",
   "id": "516620ee",
   "metadata": {
    "deletable": false,
    "editable": false,
    "id": "516620ee"
   },
   "source": [
    "## Откройте таблицу и изучите общую информацию о данных"
   ]
  },
  {
   "cell_type": "markdown",
   "id": "76a8a9ce",
   "metadata": {
    "deletable": false,
    "editable": false,
    "id": "76a8a9ce",
    "tags": [
     "start_task"
    ]
   },
   "source": [
    "**Задание 1. Импортируйте библиотеку pandas. Считайте данные из csv-файла в датафрейм и сохраните в переменную `data`. Путь к файлу:**\n",
    "\n",
    "`/datasets/data.csv`"
   ]
  },
  {
   "cell_type": "code",
   "execution_count": 151,
   "id": "fab207d0",
   "metadata": {
    "id": "fab207d0"
   },
   "outputs": [],
   "source": [
    "import pandas as pd# импортируйте библиотеку pandas"
   ]
  },
  {
   "cell_type": "code",
   "execution_count": 152,
   "id": "6c82b607",
   "metadata": {
    "id": "6c82b607"
   },
   "outputs": [],
   "source": [
    "data = pd.read_csv('/datasets/data.csv')# прочитайте csv-файл"
   ]
  },
  {
   "cell_type": "markdown",
   "id": "08bbb5b3",
   "metadata": {
    "deletable": false,
    "editable": false,
    "id": "08bbb5b3",
    "tags": [
     "start_task"
    ]
   },
   "source": [
    "**Задание 2. Выведите первые 20 строчек датафрейма `data` на экран.**"
   ]
  },
  {
   "cell_type": "code",
   "execution_count": 153,
   "id": "4ff33b36",
   "metadata": {
    "id": "4ff33b36"
   },
   "outputs": [
    {
     "name": "stdout",
     "output_type": "stream",
     "text": [
      "    children  days_employed  dob_years            education  education_id  \\\n",
      "0          1   -8437.673028         42               высшее             0   \n",
      "1          1   -4024.803754         36              среднее             1   \n",
      "2          0   -5623.422610         33              Среднее             1   \n",
      "3          3   -4124.747207         32              среднее             1   \n",
      "4          0  340266.072047         53              среднее             1   \n",
      "5          0    -926.185831         27               высшее             0   \n",
      "6          0   -2879.202052         43               высшее             0   \n",
      "7          0    -152.779569         50              СРЕДНЕЕ             1   \n",
      "8          2   -6929.865299         35               ВЫСШЕЕ             0   \n",
      "9          0   -2188.756445         41              среднее             1   \n",
      "10         2   -4171.483647         36               высшее             0   \n",
      "11         0    -792.701887         40              среднее             1   \n",
      "12         0            NaN         65              среднее             1   \n",
      "13         0   -1846.641941         54  неоконченное высшее             2   \n",
      "14         0   -1844.956182         56               высшее             0   \n",
      "15         1    -972.364419         26              среднее             1   \n",
      "16         0   -1719.934226         35              среднее             1   \n",
      "17         0   -2369.999720         33               высшее             0   \n",
      "18         0  400281.136913         53              среднее             1   \n",
      "19         0  -10038.818549         48              СРЕДНЕЕ             1   \n",
      "\n",
      "       family_status  family_status_id gender income_type  debt  \\\n",
      "0    женат / замужем                 0      F   сотрудник     0   \n",
      "1    женат / замужем                 0      F   сотрудник     0   \n",
      "2    женат / замужем                 0      M   сотрудник     0   \n",
      "3    женат / замужем                 0      M   сотрудник     0   \n",
      "4   гражданский брак                 1      F   пенсионер     0   \n",
      "5   гражданский брак                 1      M   компаньон     0   \n",
      "6    женат / замужем                 0      F   компаньон     0   \n",
      "7    женат / замужем                 0      M   сотрудник     0   \n",
      "8   гражданский брак                 1      F   сотрудник     0   \n",
      "9    женат / замужем                 0      M   сотрудник     0   \n",
      "10   женат / замужем                 0      M   компаньон     0   \n",
      "11   женат / замужем                 0      F   сотрудник     0   \n",
      "12  гражданский брак                 1      M   пенсионер     0   \n",
      "13   женат / замужем                 0      F   сотрудник     0   \n",
      "14  гражданский брак                 1      F   компаньон     1   \n",
      "15   женат / замужем                 0      F   сотрудник     0   \n",
      "16   женат / замужем                 0      F   сотрудник     0   \n",
      "17  гражданский брак                 1      M   сотрудник     0   \n",
      "18    вдовец / вдова                 2      F   пенсионер     0   \n",
      "19         в разводе                 3      F   сотрудник     0   \n",
      "\n",
      "     total_income                                 purpose  \n",
      "0   253875.639453                           покупка жилья  \n",
      "1   112080.014102                 приобретение автомобиля  \n",
      "2   145885.952297                           покупка жилья  \n",
      "3   267628.550329              дополнительное образование  \n",
      "4   158616.077870                         сыграть свадьбу  \n",
      "5   255763.565419                           покупка жилья  \n",
      "6   240525.971920                       операции с жильем  \n",
      "7   135823.934197                             образование  \n",
      "8    95856.832424                   на проведение свадьбы  \n",
      "9   144425.938277                 покупка жилья для семьи  \n",
      "10  113943.491460                    покупка недвижимости  \n",
      "11   77069.234271       покупка коммерческой недвижимости  \n",
      "12            NaN                         сыграть свадьбу  \n",
      "13  130458.228857                 приобретение автомобиля  \n",
      "14  165127.911772              покупка жилой недвижимости  \n",
      "15  116820.904450  строительство собственной недвижимости  \n",
      "16  289202.704229                            недвижимость  \n",
      "17   90410.586745              строительство недвижимости  \n",
      "18   56823.777243      на покупку подержанного автомобиля  \n",
      "19  242831.107982            на покупку своего автомобиля  \n"
     ]
    }
   ],
   "source": [
    "print(data.head(20))"
   ]
  },
  {
   "cell_type": "markdown",
   "id": "c8f382ae",
   "metadata": {
    "deletable": false,
    "editable": false,
    "id": "c8f382ae",
    "tags": [
     "start_task"
    ]
   },
   "source": [
    "**Задание 3. Выведите основную информацию о датафрейме с помощью метода `info()`.**"
   ]
  },
  {
   "cell_type": "code",
   "execution_count": 154,
   "id": "e1ed9908",
   "metadata": {
    "id": "e1ed9908"
   },
   "outputs": [
    {
     "name": "stdout",
     "output_type": "stream",
     "text": [
      "<class 'pandas.core.frame.DataFrame'>\n",
      "RangeIndex: 21525 entries, 0 to 21524\n",
      "Data columns (total 12 columns):\n",
      " #   Column            Non-Null Count  Dtype  \n",
      "---  ------            --------------  -----  \n",
      " 0   children          21525 non-null  int64  \n",
      " 1   days_employed     19351 non-null  float64\n",
      " 2   dob_years         21525 non-null  int64  \n",
      " 3   education         21525 non-null  object \n",
      " 4   education_id      21525 non-null  int64  \n",
      " 5   family_status     21525 non-null  object \n",
      " 6   family_status_id  21525 non-null  int64  \n",
      " 7   gender            21525 non-null  object \n",
      " 8   income_type       21525 non-null  object \n",
      " 9   debt              21525 non-null  int64  \n",
      " 10  total_income      19351 non-null  float64\n",
      " 11  purpose           21525 non-null  object \n",
      "dtypes: float64(2), int64(5), object(5)\n",
      "memory usage: 2.0+ MB\n",
      "None\n"
     ]
    }
   ],
   "source": [
    "print(data.info())"
   ]
  },
  {
   "cell_type": "markdown",
   "id": "f969a1cd",
   "metadata": {
    "deletable": false,
    "editable": false,
    "id": "f969a1cd"
   },
   "source": [
    "## Предобработка данных"
   ]
  },
  {
   "cell_type": "markdown",
   "id": "7283e864",
   "metadata": {
    "deletable": false,
    "editable": false,
    "id": "7283e864"
   },
   "source": [
    "### Удаление пропусков"
   ]
  },
  {
   "cell_type": "markdown",
   "id": "c9a0745e",
   "metadata": {
    "deletable": false,
    "editable": false,
    "id": "c9a0745e",
    "tags": [
     "start_task"
    ]
   },
   "source": [
    "**Задание 4. Выведите количество пропущенных значений для каждого столбца. Используйте комбинацию двух методов.**"
   ]
  },
  {
   "cell_type": "code",
   "execution_count": 155,
   "id": "b7a096e1",
   "metadata": {
    "id": "b7a096e1"
   },
   "outputs": [
    {
     "name": "stdout",
     "output_type": "stream",
     "text": [
      "children               0\n",
      "days_employed       2174\n",
      "dob_years              0\n",
      "education              0\n",
      "education_id           0\n",
      "family_status          0\n",
      "family_status_id       0\n",
      "gender                 0\n",
      "income_type            0\n",
      "debt                   0\n",
      "total_income        2174\n",
      "purpose                0\n",
      "dtype: int64\n"
     ]
    }
   ],
   "source": [
    "print(data.isna().sum())"
   ]
  },
  {
   "cell_type": "markdown",
   "id": "c2578616",
   "metadata": {
    "deletable": false,
    "editable": false,
    "id": "c2578616",
    "tags": [
     "start_task"
    ]
   },
   "source": [
    "**Задание 5. В двух столбцах есть пропущенные значения. Один из них — `days_employed`. Пропуски в этом столбце вы обработаете на следующем этапе. Другой столбец с пропущенными значениями — `total_income` — хранит данные о доходах. На сумму дохода сильнее всего влияет тип занятости, поэтому заполнить пропуски в этом столбце нужно медианным значением по каждому типу из столбца `income_type`. Например, у человека с типом занятости `сотрудник` пропуск в столбце `total_income` должен быть заполнен медианным доходом среди всех записей с тем же типом.**"
   ]
  },
  {
   "cell_type": "code",
   "execution_count": 156,
   "id": "e8afc4bc",
   "metadata": {
    "id": "e8afc4bc"
   },
   "outputs": [],
   "source": [
    "for d in data['income_type'].unique() :\n",
    "    data.loc[(data['income_type'] == d) & (data['total_income'].isna()), 'total_income'] =\\\n",
    "    data.loc[(data['income_type'] == d), 'total_income'].median()"
   ]
  },
  {
   "cell_type": "markdown",
   "id": "ae986d46",
   "metadata": {
    "deletable": false,
    "editable": false,
    "id": "ae986d46"
   },
   "source": [
    "### Обработка аномальных значений"
   ]
  },
  {
   "cell_type": "markdown",
   "id": "b049cbae",
   "metadata": {
    "deletable": false,
    "editable": false,
    "id": "b049cbae",
    "tags": [
     "start_task"
    ]
   },
   "source": [
    "**Задание 6. В данных могут встречаться артефакты (аномалии) — значения, которые не отражают действительность и появились по какой-то ошибке. Таким артефактом будет отрицательное количество дней трудового стажа в столбце `days_employed`. Для реальных данных это нормально. Обработайте значения в этом столбце: замените все отрицательные значения положительными с помощью метода `abs()`.**"
   ]
  },
  {
   "cell_type": "code",
   "execution_count": 157,
   "id": "187779b0",
   "metadata": {
    "id": "187779b0"
   },
   "outputs": [],
   "source": [
    "data['days_employed'] = data['days_employed'].abs()"
   ]
  },
  {
   "cell_type": "markdown",
   "id": "a13054c2",
   "metadata": {
    "deletable": false,
    "editable": false,
    "id": "a13054c2",
    "tags": [
     "start_task"
    ]
   },
   "source": [
    "**Задание 7. Для каждого типа занятости выведите медианное значение трудового стажа `days_employed` в днях.**"
   ]
  },
  {
   "cell_type": "code",
   "execution_count": 158,
   "id": "f3f5810c",
   "metadata": {
    "id": "f3f5810c"
   },
   "outputs": [
    {
     "name": "stdout",
     "output_type": "stream",
     "text": [
      "income_type\n",
      "безработный        366413.652744\n",
      "в декрете            3296.759962\n",
      "госслужащий          2689.368353\n",
      "компаньон            1547.382223\n",
      "пенсионер          365213.306266\n",
      "предприниматель       520.848083\n",
      "сотрудник            1574.202821\n",
      "студент               578.751554\n",
      "Name: days_employed, dtype: float64\n"
     ]
    }
   ],
   "source": [
    "mediane = data.groupby('income_type')['days_employed'].median()\n",
    "print (mediane)"
   ]
  },
  {
   "cell_type": "markdown",
   "id": "dbc3168c",
   "metadata": {
    "deletable": false,
    "editable": false,
    "id": "dbc3168c"
   },
   "source": [
    "У двух типов (безработные и пенсионеры) получатся аномально большие значения. Исправить такие значения сложно, поэтому оставьте их как есть."
   ]
  },
  {
   "cell_type": "markdown",
   "id": "ff4378c2",
   "metadata": {
    "deletable": false,
    "editable": false,
    "id": "ff4378c2",
    "tags": [
     "start_task"
    ]
   },
   "source": [
    "**Задание 8. Выведите перечень уникальных значений столбца `children`.**"
   ]
  },
  {
   "cell_type": "code",
   "execution_count": 159,
   "id": "9bd0c232",
   "metadata": {
    "id": "9bd0c232"
   },
   "outputs": [
    {
     "name": "stdout",
     "output_type": "stream",
     "text": [
      "[ 1  0  3  2 -1  4 20  5]\n"
     ]
    }
   ],
   "source": [
    "print (data['children'].unique())"
   ]
  },
  {
   "cell_type": "markdown",
   "id": "8e911990",
   "metadata": {
    "deletable": false,
    "editable": false,
    "id": "8e911990",
    "tags": [
     "start_task"
    ]
   },
   "source": [
    "**Задание 9. В столбце `children` есть два аномальных значения. Удалите строки, в которых встречаются такие аномальные значения из датафрейма `data`.**"
   ]
  },
  {
   "cell_type": "code",
   "execution_count": 160,
   "id": "6d5ba289",
   "metadata": {
    "id": "6d5ba289"
   },
   "outputs": [],
   "source": [
    "data = data.drop(data[(data['children'] == -1) | (data['children'] == 20)].index)"
   ]
  },
  {
   "cell_type": "markdown",
   "id": "18d77455",
   "metadata": {
    "deletable": false,
    "editable": false,
    "id": "18d77455",
    "tags": [
     "start_task"
    ]
   },
   "source": [
    "**Задание 10. Ещё раз выведите перечень уникальных значений столбца `children`, чтобы убедиться, что артефакты удалены.**"
   ]
  },
  {
   "cell_type": "code",
   "execution_count": 161,
   "id": "2c5fa92c",
   "metadata": {
    "id": "2c5fa92c"
   },
   "outputs": [
    {
     "name": "stdout",
     "output_type": "stream",
     "text": [
      "[1 0 3 2 4 5]\n"
     ]
    }
   ],
   "source": [
    "print (data['children'].unique())"
   ]
  },
  {
   "cell_type": "markdown",
   "id": "0ec07dee",
   "metadata": {
    "deletable": false,
    "editable": false,
    "id": "0ec07dee"
   },
   "source": [
    "### Удаление пропусков (продолжение)"
   ]
  },
  {
   "cell_type": "markdown",
   "id": "0fc3ae3f",
   "metadata": {
    "deletable": false,
    "editable": false,
    "id": "0fc3ae3f",
    "tags": [
     "start_task"
    ]
   },
   "source": [
    "**Задание 11. Заполните пропуски в столбце `days_employed` медианными значениями по каждому типу занятости `income_type`.**"
   ]
  },
  {
   "cell_type": "code",
   "execution_count": 162,
   "id": "e2aea7ac",
   "metadata": {
    "id": "e2aea7ac"
   },
   "outputs": [],
   "source": [
    "for d in data['income_type'].unique() :\n",
    "    data.loc[(data['income_type'] == d) & (data['days_employed'].isna()), 'days_employed'] =\\\n",
    "    data.loc[(data['income_type'] == d), 'days_employed'].median()"
   ]
  },
  {
   "cell_type": "markdown",
   "id": "97b0b795",
   "metadata": {
    "deletable": false,
    "editable": false,
    "id": "97b0b795",
    "tags": [
     "start_task"
    ]
   },
   "source": [
    "**Задание 12. Убедитесь, что все пропуски заполнены. Проверьте себя и ещё раз выведите количество пропущенных значений для каждого столбца с помощью двух методов.**"
   ]
  },
  {
   "cell_type": "code",
   "execution_count": 163,
   "id": "79632a21",
   "metadata": {
    "id": "79632a21"
   },
   "outputs": [
    {
     "name": "stdout",
     "output_type": "stream",
     "text": [
      "children            0\n",
      "days_employed       0\n",
      "dob_years           0\n",
      "education           0\n",
      "education_id        0\n",
      "family_status       0\n",
      "family_status_id    0\n",
      "gender              0\n",
      "income_type         0\n",
      "debt                0\n",
      "total_income        0\n",
      "purpose             0\n",
      "dtype: int64\n"
     ]
    }
   ],
   "source": [
    "print(data.isna().sum())"
   ]
  },
  {
   "cell_type": "markdown",
   "id": "bd4aeb20",
   "metadata": {
    "deletable": false,
    "editable": false,
    "id": "bd4aeb20"
   },
   "source": [
    "### Изменение типов данных"
   ]
  },
  {
   "cell_type": "markdown",
   "id": "963bfa58",
   "metadata": {
    "deletable": false,
    "editable": false,
    "id": "963bfa58",
    "tags": [
     "start_task"
    ]
   },
   "source": [
    "**Задание 13. Замените вещественный тип данных в столбце `total_income` на целочисленный с помощью метода `astype()`.**"
   ]
  },
  {
   "cell_type": "code",
   "execution_count": 164,
   "id": "73da6ea0",
   "metadata": {
    "id": "73da6ea0"
   },
   "outputs": [],
   "source": [
    "data['total_income'] = data['total_income'].astype('int')"
   ]
  },
  {
   "cell_type": "markdown",
   "id": "d290239e",
   "metadata": {
    "deletable": false,
    "editable": false,
    "id": "d290239e"
   },
   "source": [
    "### Обработка дубликатов"
   ]
  },
  {
   "cell_type": "markdown",
   "id": "1b5844fd",
   "metadata": {
    "deletable": false,
    "editable": false,
    "id": "1b5844fd",
    "tags": [
     "start_task"
    ]
   },
   "source": [
    "**Задание 14. Обработайте неявные дубликаты в столбце `education`. В этом столбце есть одни и те же значения, но записанные по-разному: с использованием заглавных и строчных букв. Приведите их к нижнему регистру.**"
   ]
  },
  {
   "cell_type": "code",
   "execution_count": 165,
   "id": "3f2504b3",
   "metadata": {
    "id": "3f2504b3"
   },
   "outputs": [],
   "source": [
    "data['education'] = data['education'].str.lower()"
   ]
  },
  {
   "cell_type": "markdown",
   "id": "4c22acbc",
   "metadata": {
    "deletable": false,
    "editable": false,
    "id": "4c22acbc",
    "tags": [
     "start_task"
    ]
   },
   "source": [
    "**Задание 15. Выведите на экран количество строк-дубликатов в данных. Если такие строки присутствуют, удалите их.**"
   ]
  },
  {
   "cell_type": "code",
   "execution_count": 166,
   "id": "d34a4325",
   "metadata": {
    "id": "d34a4325"
   },
   "outputs": [
    {
     "name": "stdout",
     "output_type": "stream",
     "text": [
      "71\n"
     ]
    }
   ],
   "source": [
    "print(data.duplicated().sum())"
   ]
  },
  {
   "cell_type": "code",
   "execution_count": 167,
   "id": "6e1a6499",
   "metadata": {
    "id": "6e1a6499"
   },
   "outputs": [],
   "source": [
    "data = data.drop_duplicates()"
   ]
  },
  {
   "cell_type": "markdown",
   "id": "e5686ccc",
   "metadata": {
    "deletable": false,
    "editable": false,
    "id": "e5686ccc"
   },
   "source": [
    "### Категоризация данных"
   ]
  },
  {
   "cell_type": "markdown",
   "id": "636e9acd",
   "metadata": {
    "deletable": false,
    "editable": false,
    "id": "636e9acd",
    "tags": [
     "start_task"
    ]
   },
   "source": [
    "**Задание 16. На основании диапазонов, указанных ниже, создайте в датафрейме `data` столбец `total_income_category` с категориями:**\n",
    "\n",
    "- 0–30000 — `'E'`;\n",
    "- 30001–50000 — `'D'`;\n",
    "- 50001–200000 — `'C'`;\n",
    "- 200001–1000000 — `'B'`;\n",
    "- 1000001 и выше — `'A'`.\n",
    "\n",
    "\n",
    "**Например, кредитополучателю с доходом 25000 нужно назначить категорию `'E'`, а клиенту, получающему 235000, — `'B'`. Используйте собственную функцию с именем `categorize_income()` и метод `apply()`.**"
   ]
  },
  {
   "cell_type": "code",
   "execution_count": 172,
   "id": "880a77e5",
   "metadata": {
    "id": "880a77e5"
   },
   "outputs": [],
   "source": [
    "def categorize_income(income) :\n",
    "    if income <= 30000 :\n",
    "        return 'E'\n",
    "    if (income >= 30001) & (income <= 50000) :\n",
    "        return 'D'\n",
    "    if (income >= 50001) & (income <= 200000) :\n",
    "        return 'C'\n",
    "    if (income >= 200001) & (income <= 1000000) :\n",
    "        return 'B'\n",
    "    if income >= 1000001 :\n",
    "        return 'A'"
   ]
  },
  {
   "cell_type": "code",
   "execution_count": 173,
   "id": "6f25f161",
   "metadata": {
    "id": "6f25f161"
   },
   "outputs": [],
   "source": [
    "data['total_income_category'] = data['total_income'].apply(categorize_income)"
   ]
  },
  {
   "cell_type": "markdown",
   "id": "3363b685",
   "metadata": {
    "deletable": false,
    "editable": false,
    "id": "3363b685",
    "tags": [
     "start_task"
    ]
   },
   "source": [
    "**Задание 17. Выведите на экран перечень уникальных целей взятия кредита из столбца `purpose`.**"
   ]
  },
  {
   "cell_type": "code",
   "execution_count": 174,
   "id": "e59f2c15",
   "metadata": {
    "id": "e59f2c15"
   },
   "outputs": [
    {
     "name": "stdout",
     "output_type": "stream",
     "text": [
      "['покупка жилья' 'приобретение автомобиля' 'дополнительное образование'\n",
      " 'сыграть свадьбу' 'операции с жильем' 'образование'\n",
      " 'на проведение свадьбы' 'покупка жилья для семьи' 'покупка недвижимости'\n",
      " 'покупка коммерческой недвижимости' 'покупка жилой недвижимости'\n",
      " 'строительство собственной недвижимости' 'недвижимость'\n",
      " 'строительство недвижимости' 'на покупку подержанного автомобиля'\n",
      " 'на покупку своего автомобиля' 'операции с коммерческой недвижимостью'\n",
      " 'строительство жилой недвижимости' 'жилье'\n",
      " 'операции со своей недвижимостью' 'автомобили' 'заняться образованием'\n",
      " 'сделка с подержанным автомобилем' 'получение образования' 'автомобиль'\n",
      " 'свадьба' 'получение дополнительного образования' 'покупка своего жилья'\n",
      " 'операции с недвижимостью' 'получение высшего образования'\n",
      " 'свой автомобиль' 'сделка с автомобилем' 'профильное образование'\n",
      " 'высшее образование' 'покупка жилья для сдачи' 'на покупку автомобиля'\n",
      " 'ремонт жилью' 'заняться высшим образованием']\n"
     ]
    }
   ],
   "source": [
    "print (data['purpose'].unique())"
   ]
  },
  {
   "cell_type": "markdown",
   "id": "bb33e847",
   "metadata": {
    "deletable": false,
    "editable": false,
    "id": "bb33e847",
    "tags": [
     "start_task"
    ]
   },
   "source": [
    "**Задание 18. Создайте функцию, которая на основании данных из столбца `purpose` сформирует новый столбец `purpose_category`, в который войдут следующие категории:**\n",
    "\n",
    "- `'операции с автомобилем'`,\n",
    "- `'операции с недвижимостью'`,\n",
    "- `'проведение свадьбы'`,\n",
    "- `'получение образования'`.\n",
    "\n",
    "**Например, если в столбце `purpose` находится подстрока `'на покупку автомобиля'`, то в столбце `purpose_category` должна появиться строка `'операции с автомобилем'`.**\n",
    "\n",
    "**Используйте собственную функцию с именем `categorize_purpose()` и метод `apply()`. Изучите данные в столбце `purpose` и определите, какие подстроки помогут вам правильно определить категорию.**"
   ]
  },
  {
   "cell_type": "code",
   "execution_count": 175,
   "id": "63909b83",
   "metadata": {
    "id": "63909b83"
   },
   "outputs": [],
   "source": [
    "# создайте функцию categorize_purpose()\n",
    "def categorize_purpose (row) :\n",
    "    if 'авто' in row :\n",
    "        return 'операции с автомобилем'\n",
    "    elif 'свадьб' in row :\n",
    "        return 'проведение свадьбы'\n",
    "    elif 'образован' in row :\n",
    "        return 'получение образования'\n",
    "    else :\n",
    "        return 'операции с недвижимостью'"
   ]
  },
  {
   "cell_type": "code",
   "execution_count": 176,
   "id": "7cb4a81d",
   "metadata": {
    "id": "7cb4a81d"
   },
   "outputs": [],
   "source": [
    "# примените функцию методом apply()\n",
    "data['purpose_category'] = data['purpose'].apply(categorize_purpose)"
   ]
  },
  {
   "cell_type": "code",
   "execution_count": null,
   "id": "d7689ef3",
   "metadata": {},
   "outputs": [],
   "source": []
  }
 ],
 "metadata": {
  "ExecuteTimeLog": [
   {
    "duration": 426,
    "start_time": "2024-12-26T19:02:28.114Z"
   },
   {
    "duration": 101,
    "start_time": "2024-12-26T19:03:26.603Z"
   },
   {
    "duration": 141,
    "start_time": "2024-12-26T19:03:53.895Z"
   },
   {
    "duration": 10,
    "start_time": "2024-12-26T19:04:20.516Z"
   },
   {
    "duration": 8,
    "start_time": "2024-12-26T19:04:34.071Z"
   },
   {
    "duration": 17,
    "start_time": "2024-12-26T19:04:54.702Z"
   },
   {
    "duration": 39,
    "start_time": "2024-12-26T19:06:59.112Z"
   },
   {
    "duration": 14,
    "start_time": "2024-12-26T19:10:03.176Z"
   },
   {
    "duration": 10,
    "start_time": "2024-12-26T19:10:22.833Z"
   },
   {
    "duration": 1393,
    "start_time": "2024-12-26T19:29:00.524Z"
   },
   {
    "duration": 40610,
    "start_time": "2024-12-26T19:30:45.426Z"
   },
   {
    "duration": 26,
    "start_time": "2024-12-26T19:39:55.830Z"
   },
   {
    "duration": 432,
    "start_time": "2024-12-27T09:41:45.831Z"
   },
   {
    "duration": 147,
    "start_time": "2024-12-27T09:41:50.090Z"
   },
   {
    "duration": 10,
    "start_time": "2024-12-27T09:41:56.279Z"
   },
   {
    "duration": 16,
    "start_time": "2024-12-27T09:42:04.129Z"
   },
   {
    "duration": 10,
    "start_time": "2024-12-27T09:42:09.624Z"
   },
   {
    "duration": 36,
    "start_time": "2024-12-27T09:49:59.064Z"
   },
   {
    "duration": 4,
    "start_time": "2024-12-27T09:52:09.636Z"
   },
   {
    "duration": 736,
    "start_time": "2024-12-27T10:01:21.383Z"
   },
   {
    "duration": 91,
    "start_time": "2024-12-27T10:02:57.232Z"
   },
   {
    "duration": 85,
    "start_time": "2024-12-27T10:03:35.281Z"
   },
   {
    "duration": 698,
    "start_time": "2024-12-27T10:03:50.902Z"
   },
   {
    "duration": 11,
    "start_time": "2024-12-27T10:05:24.387Z"
   },
   {
    "duration": 7,
    "start_time": "2024-12-27T10:05:57.004Z"
   },
   {
    "duration": 4,
    "start_time": "2024-12-27T10:07:12.406Z"
   },
   {
    "duration": 3,
    "start_time": "2024-12-27T10:07:41.944Z"
   },
   {
    "duration": 9,
    "start_time": "2024-12-27T10:21:50.736Z"
   },
   {
    "duration": 4,
    "start_time": "2024-12-27T10:23:32.258Z"
   },
   {
    "duration": 11,
    "start_time": "2024-12-27T10:24:16.158Z"
   },
   {
    "duration": 11,
    "start_time": "2024-12-27T10:24:26.401Z"
   },
   {
    "duration": 10,
    "start_time": "2024-12-27T10:25:23.162Z"
   },
   {
    "duration": 4,
    "start_time": "2024-12-27T10:26:09.252Z"
   },
   {
    "duration": 11,
    "start_time": "2024-12-27T10:27:18.496Z"
   },
   {
    "duration": 1034,
    "start_time": "2024-12-27T10:35:56.698Z"
   },
   {
    "duration": 1126,
    "start_time": "2024-12-27T10:36:52.951Z"
   },
   {
    "duration": 1073,
    "start_time": "2024-12-27T10:38:59.715Z"
   },
   {
    "duration": 1086,
    "start_time": "2024-12-27T10:39:26.639Z"
   },
   {
    "duration": 1309,
    "start_time": "2024-12-27T10:40:06.701Z"
   },
   {
    "duration": 1188,
    "start_time": "2024-12-27T10:40:34.285Z"
   },
   {
    "duration": 79,
    "start_time": "2024-12-27T10:44:51.336Z"
   },
   {
    "duration": 1034,
    "start_time": "2024-12-27T10:44:58.381Z"
   },
   {
    "duration": 1381,
    "start_time": "2024-12-27T10:45:10.015Z"
   },
   {
    "duration": 3,
    "start_time": "2024-12-27T10:46:17.104Z"
   },
   {
    "duration": 76,
    "start_time": "2024-12-27T10:46:18.031Z"
   },
   {
    "duration": 9,
    "start_time": "2024-12-27T10:46:20.207Z"
   },
   {
    "duration": 19,
    "start_time": "2024-12-27T10:46:21.632Z"
   },
   {
    "duration": 11,
    "start_time": "2024-12-27T10:46:24.272Z"
   },
   {
    "duration": 37,
    "start_time": "2024-12-27T10:46:25.704Z"
   },
   {
    "duration": 4,
    "start_time": "2024-12-27T10:46:27.691Z"
   },
   {
    "duration": 7,
    "start_time": "2024-12-27T10:46:29.114Z"
   },
   {
    "duration": 4,
    "start_time": "2024-12-27T10:46:31.461Z"
   },
   {
    "duration": 5,
    "start_time": "2024-12-27T10:46:32.754Z"
   },
   {
    "duration": 6,
    "start_time": "2024-12-27T10:46:41.925Z"
   },
   {
    "duration": 6,
    "start_time": "2024-12-27T10:47:17.514Z"
   },
   {
    "duration": 79,
    "start_time": "2024-12-27T10:51:25.278Z"
   },
   {
    "duration": 16,
    "start_time": "2024-12-27T10:51:58.897Z"
   },
   {
    "duration": 7,
    "start_time": "2024-12-27T10:52:07.108Z"
   },
   {
    "duration": 14,
    "start_time": "2024-12-27T10:52:55.774Z"
   },
   {
    "duration": 8,
    "start_time": "2024-12-27T10:53:03.133Z"
   },
   {
    "duration": 5,
    "start_time": "2024-12-27T10:53:16.184Z"
   },
   {
    "duration": 32,
    "start_time": "2024-12-27T11:01:17.628Z"
   },
   {
    "duration": 9,
    "start_time": "2024-12-27T11:03:54.030Z"
   },
   {
    "duration": 4,
    "start_time": "2024-12-27T11:05:30.522Z"
   },
   {
    "duration": 10,
    "start_time": "2024-12-27T11:06:37.624Z"
   },
   {
    "duration": 15,
    "start_time": "2024-12-27T11:07:57.900Z"
   },
   {
    "duration": 18,
    "start_time": "2024-12-27T11:09:01.045Z"
   },
   {
    "duration": 18,
    "start_time": "2024-12-27T11:09:36.230Z"
   },
   {
    "duration": 3,
    "start_time": "2024-12-27T11:10:14.844Z"
   },
   {
    "duration": 76,
    "start_time": "2024-12-27T11:10:15.452Z"
   },
   {
    "duration": 10,
    "start_time": "2024-12-27T11:10:16.698Z"
   },
   {
    "duration": 16,
    "start_time": "2024-12-27T11:10:17.971Z"
   },
   {
    "duration": 11,
    "start_time": "2024-12-27T11:10:20.488Z"
   },
   {
    "duration": 37,
    "start_time": "2024-12-27T11:10:21.735Z"
   },
   {
    "duration": 4,
    "start_time": "2024-12-27T11:10:23.627Z"
   },
   {
    "duration": 6,
    "start_time": "2024-12-27T11:10:24.992Z"
   },
   {
    "duration": 4,
    "start_time": "2024-12-27T11:10:27.282Z"
   },
   {
    "duration": 7,
    "start_time": "2024-12-27T11:10:28.706Z"
   },
   {
    "duration": 4,
    "start_time": "2024-12-27T11:10:30.255Z"
   },
   {
    "duration": 37,
    "start_time": "2024-12-27T11:10:32.281Z"
   },
   {
    "duration": 10,
    "start_time": "2024-12-27T11:10:33.541Z"
   },
   {
    "duration": 4,
    "start_time": "2024-12-27T11:10:36.241Z"
   },
   {
    "duration": 12,
    "start_time": "2024-12-27T11:10:38.364Z"
   },
   {
    "duration": 20,
    "start_time": "2024-12-27T11:10:40.572Z"
   },
   {
    "duration": 20,
    "start_time": "2024-12-27T11:10:42.938Z"
   },
   {
    "duration": 17,
    "start_time": "2024-12-27T11:10:56.508Z"
   },
   {
    "duration": 19,
    "start_time": "2024-12-27T11:11:00.465Z"
   },
   {
    "duration": 3,
    "start_time": "2024-12-27T11:11:22.360Z"
   },
   {
    "duration": 75,
    "start_time": "2024-12-27T11:11:23.209Z"
   },
   {
    "duration": 9,
    "start_time": "2024-12-27T11:11:24.652Z"
   },
   {
    "duration": 17,
    "start_time": "2024-12-27T11:11:25.967Z"
   },
   {
    "duration": 3,
    "start_time": "2024-12-27T11:12:02.545Z"
   },
   {
    "duration": 75,
    "start_time": "2024-12-27T11:12:03.118Z"
   },
   {
    "duration": 9,
    "start_time": "2024-12-27T11:12:05.418Z"
   },
   {
    "duration": 15,
    "start_time": "2024-12-27T11:12:06.751Z"
   },
   {
    "duration": 10,
    "start_time": "2024-12-27T11:12:09.327Z"
   },
   {
    "duration": 36,
    "start_time": "2024-12-27T11:12:10.731Z"
   },
   {
    "duration": 4,
    "start_time": "2024-12-27T11:12:12.703Z"
   },
   {
    "duration": 7,
    "start_time": "2024-12-27T11:12:14.047Z"
   },
   {
    "duration": 4,
    "start_time": "2024-12-27T11:12:16.114Z"
   },
   {
    "duration": 7,
    "start_time": "2024-12-27T11:12:17.402Z"
   },
   {
    "duration": 4,
    "start_time": "2024-12-27T11:12:18.728Z"
   },
   {
    "duration": 37,
    "start_time": "2024-12-27T11:12:20.914Z"
   },
   {
    "duration": 10,
    "start_time": "2024-12-27T11:12:23.353Z"
   },
   {
    "duration": 4,
    "start_time": "2024-12-27T11:12:29.299Z"
   },
   {
    "duration": 13,
    "start_time": "2024-12-27T11:12:37.714Z"
   },
   {
    "duration": 8,
    "start_time": "2024-12-27T11:13:10.393Z"
   },
   {
    "duration": 12,
    "start_time": "2024-12-27T11:13:44.983Z"
   },
   {
    "duration": 4,
    "start_time": "2024-12-27T11:14:17.665Z"
   },
   {
    "duration": 4,
    "start_time": "2024-12-27T11:14:18.982Z"
   },
   {
    "duration": 3,
    "start_time": "2024-12-27T11:15:01.192Z"
   },
   {
    "duration": 80,
    "start_time": "2024-12-27T11:15:01.666Z"
   },
   {
    "duration": 9,
    "start_time": "2024-12-27T11:15:02.664Z"
   },
   {
    "duration": 15,
    "start_time": "2024-12-27T11:15:03.662Z"
   },
   {
    "duration": 10,
    "start_time": "2024-12-27T11:15:05.661Z"
   },
   {
    "duration": 38,
    "start_time": "2024-12-27T11:15:06.704Z"
   },
   {
    "duration": 4,
    "start_time": "2024-12-27T11:15:08.189Z"
   },
   {
    "duration": 7,
    "start_time": "2024-12-27T11:15:09.259Z"
   },
   {
    "duration": 3,
    "start_time": "2024-12-27T11:15:10.968Z"
   },
   {
    "duration": 9,
    "start_time": "2024-12-27T11:15:12.177Z"
   },
   {
    "duration": 4,
    "start_time": "2024-12-27T11:15:16.324Z"
   },
   {
    "duration": 38,
    "start_time": "2024-12-27T11:15:27.120Z"
   },
   {
    "duration": 10,
    "start_time": "2024-12-27T11:15:29.338Z"
   },
   {
    "duration": 4,
    "start_time": "2024-12-27T11:15:32.576Z"
   },
   {
    "duration": 12,
    "start_time": "2024-12-27T11:15:35.134Z"
   },
   {
    "duration": 6,
    "start_time": "2024-12-27T11:15:40.332Z"
   },
   {
    "duration": 17,
    "start_time": "2024-12-27T11:15:55.138Z"
   },
   {
    "duration": 7,
    "start_time": "2024-12-27T11:16:03.973Z"
   },
   {
    "duration": 5,
    "start_time": "2024-12-27T11:16:35.324Z"
   },
   {
    "duration": 6,
    "start_time": "2024-12-27T11:16:50.966Z"
   },
   {
    "duration": 4,
    "start_time": "2024-12-27T11:25:40.975Z"
   },
   {
    "duration": 341,
    "start_time": "2024-12-27T11:25:42.162Z"
   },
   {
    "duration": 4,
    "start_time": "2024-12-27T11:26:43.247Z"
   },
   {
    "duration": 337,
    "start_time": "2024-12-27T11:26:44.465Z"
   },
   {
    "duration": 4,
    "start_time": "2024-12-27T11:27:24.279Z"
   },
   {
    "duration": 353,
    "start_time": "2024-12-27T11:27:25.227Z"
   },
   {
    "duration": 3,
    "start_time": "2024-12-27T11:27:44.075Z"
   },
   {
    "duration": 77,
    "start_time": "2024-12-27T11:27:44.626Z"
   },
   {
    "duration": 9,
    "start_time": "2024-12-27T11:27:45.690Z"
   },
   {
    "duration": 15,
    "start_time": "2024-12-27T11:27:46.794Z"
   },
   {
    "duration": 9,
    "start_time": "2024-12-27T11:27:48.954Z"
   },
   {
    "duration": 34,
    "start_time": "2024-12-27T11:27:50.027Z"
   },
   {
    "duration": 3,
    "start_time": "2024-12-27T11:27:51.651Z"
   },
   {
    "duration": 7,
    "start_time": "2024-12-27T11:27:52.757Z"
   },
   {
    "duration": 3,
    "start_time": "2024-12-27T11:27:54.487Z"
   },
   {
    "duration": 6,
    "start_time": "2024-12-27T11:27:55.672Z"
   },
   {
    "duration": 4,
    "start_time": "2024-12-27T11:27:59.948Z"
   },
   {
    "duration": 38,
    "start_time": "2024-12-27T11:28:02.646Z"
   },
   {
    "duration": 10,
    "start_time": "2024-12-27T11:28:04.112Z"
   },
   {
    "duration": 4,
    "start_time": "2024-12-27T11:28:06.389Z"
   },
   {
    "duration": 13,
    "start_time": "2024-12-27T11:28:08.923Z"
   },
   {
    "duration": 18,
    "start_time": "2024-12-27T11:28:10.421Z"
   },
   {
    "duration": 17,
    "start_time": "2024-12-27T11:28:11.248Z"
   },
   {
    "duration": 5,
    "start_time": "2024-12-27T11:28:16.760Z"
   },
   {
    "duration": 347,
    "start_time": "2024-12-27T11:28:17.809Z"
   },
   {
    "duration": 4,
    "start_time": "2024-12-27T11:28:59.573Z"
   },
   {
    "duration": 345,
    "start_time": "2024-12-27T11:29:00.394Z"
   },
   {
    "duration": 346,
    "start_time": "2024-12-27T11:32:29.644Z"
   },
   {
    "duration": 15,
    "start_time": "2024-12-27T11:32:48.752Z"
   },
   {
    "duration": 1069,
    "start_time": "2024-12-27T11:32:56.553Z"
   },
   {
    "duration": 4,
    "start_time": "2024-12-27T11:33:11.162Z"
   },
   {
    "duration": 1068,
    "start_time": "2024-12-27T11:33:12.378Z"
   },
   {
    "duration": 3,
    "start_time": "2024-12-27T11:33:32.849Z"
   },
   {
    "duration": 78,
    "start_time": "2024-12-27T11:33:33.353Z"
   },
   {
    "duration": 8,
    "start_time": "2024-12-27T11:33:34.367Z"
   },
   {
    "duration": 15,
    "start_time": "2024-12-27T11:33:35.355Z"
   },
   {
    "duration": 16,
    "start_time": "2024-12-27T11:33:37.439Z"
   },
   {
    "duration": 39,
    "start_time": "2024-12-27T11:33:38.472Z"
   },
   {
    "duration": 3,
    "start_time": "2024-12-27T11:33:39.924Z"
   },
   {
    "duration": 7,
    "start_time": "2024-12-27T11:33:40.878Z"
   },
   {
    "duration": 5,
    "start_time": "2024-12-27T11:33:42.380Z"
   },
   {
    "duration": 7,
    "start_time": "2024-12-27T11:33:43.501Z"
   },
   {
    "duration": 4,
    "start_time": "2024-12-27T11:33:44.608Z"
   },
   {
    "duration": 36,
    "start_time": "2024-12-27T11:33:46.288Z"
   },
   {
    "duration": 11,
    "start_time": "2024-12-27T11:33:47.421Z"
   },
   {
    "duration": 4,
    "start_time": "2024-12-27T11:33:49.221Z"
   },
   {
    "duration": 11,
    "start_time": "2024-12-27T11:33:50.782Z"
   },
   {
    "duration": 19,
    "start_time": "2024-12-27T11:33:51.955Z"
   },
   {
    "duration": 18,
    "start_time": "2024-12-27T11:33:52.550Z"
   },
   {
    "duration": 4,
    "start_time": "2024-12-27T11:33:54.272Z"
   },
   {
    "duration": 1106,
    "start_time": "2024-12-27T11:33:54.928Z"
   },
   {
    "duration": 4,
    "start_time": "2024-12-27T11:35:56.844Z"
   },
   {
    "duration": 330,
    "start_time": "2024-12-27T11:35:57.750Z"
   },
   {
    "duration": 4,
    "start_time": "2024-12-27T11:36:29.941Z"
   },
   {
    "duration": 11,
    "start_time": "2024-12-27T11:36:30.875Z"
   },
   {
    "duration": 8,
    "start_time": "2024-12-27T11:37:24.961Z"
   },
   {
    "duration": 3,
    "start_time": "2024-12-27T11:45:23.785Z"
   },
   {
    "duration": 9,
    "start_time": "2024-12-27T11:46:46.563Z"
   }
  ],
  "colab": {
   "provenance": []
  },
  "kernelspec": {
   "display_name": "Python 3 (ipykernel)",
   "language": "python",
   "name": "python3"
  },
  "language_info": {
   "codemirror_mode": {
    "name": "ipython",
    "version": 3
   },
   "file_extension": ".py",
   "mimetype": "text/x-python",
   "name": "python",
   "nbconvert_exporter": "python",
   "pygments_lexer": "ipython3",
   "version": "3.9.5"
  },
  "toc": {
   "base_numbering": 1,
   "nav_menu": {},
   "number_sections": true,
   "sideBar": true,
   "skip_h1_title": true,
   "title_cell": "Table of Contents",
   "title_sidebar": "Contents",
   "toc_cell": false,
   "toc_position": {},
   "toc_section_display": true,
   "toc_window_display": false
  }
 },
 "nbformat": 4,
 "nbformat_minor": 5
}
