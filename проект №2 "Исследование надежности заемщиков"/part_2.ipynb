{
 "cells": [
  {
   "cell_type": "markdown",
   "id": "71b9612c",
   "metadata": {
    "deletable": false,
    "editable": false,
    "id": "c81daeeb"
   },
   "source": [
    "# Исследование надежности заемщиков\n"
   ]
  },
  {
   "cell_type": "markdown",
   "id": "1210f6c3",
   "metadata": {
    "deletable": false,
    "editable": false,
    "id": "827c20bf"
   },
   "source": [
    "Во второй части проекта вы выполните шаги 3 и 4. Их вручную проверит ревьюер.\n",
    "Чтобы вам не пришлось писать код заново для шагов 1 и 2, мы добавили авторские решения в ячейки с кодом. \n",
    "\n"
   ]
  },
  {
   "cell_type": "markdown",
   "id": "c85a9a88",
   "metadata": {
    "deletable": false,
    "editable": false,
    "id": "744d7639"
   },
   "source": [
    "## Откройте таблицу и изучите общую информацию о данных"
   ]
  },
  {
   "cell_type": "markdown",
   "id": "8f196fa2",
   "metadata": {
    "deletable": false,
    "editable": false,
    "id": "e7a14c31"
   },
   "source": [
    "**Задание 1. Импортируйте библиотеку pandas. Считайте данные из csv-файла в датафрейм и сохраните в переменную `data`. Путь к файлу:**\n",
    "\n",
    "`/datasets/data.csv`"
   ]
  },
  {
   "cell_type": "code",
   "execution_count": 1,
   "id": "1a037a7f",
   "metadata": {
    "deletable": false,
    "id": "7bcf75c9"
   },
   "outputs": [],
   "source": [
    "import pandas as pd\n",
    "\n",
    "try:\n",
    "    data = pd.read_csv('/datasets/data.csv')\n",
    "except:\n",
    "    data = pd.read_csv('https://code.s3.yandex.net/datasets/data.csv')"
   ]
  },
  {
   "cell_type": "markdown",
   "id": "30c1f84a",
   "metadata": {
    "deletable": false,
    "editable": false,
    "id": "b8038fe3"
   },
   "source": [
    "**Задание 2. Выведите первые 20 строчек датафрейма `data` на экран.**"
   ]
  },
  {
   "cell_type": "code",
   "execution_count": 2,
   "id": "ce7d5029",
   "metadata": {
    "deletable": false,
    "id": "2a7cab99",
    "outputId": "1a8f3ef2-d323-4ec2-ddf7-89670b5944c4"
   },
   "outputs": [
    {
     "data": {
      "text/html": [
       "<div>\n",
       "<style scoped>\n",
       "    .dataframe tbody tr th:only-of-type {\n",
       "        vertical-align: middle;\n",
       "    }\n",
       "\n",
       "    .dataframe tbody tr th {\n",
       "        vertical-align: top;\n",
       "    }\n",
       "\n",
       "    .dataframe thead th {\n",
       "        text-align: right;\n",
       "    }\n",
       "</style>\n",
       "<table border=\"1\" class=\"dataframe\">\n",
       "  <thead>\n",
       "    <tr style=\"text-align: right;\">\n",
       "      <th></th>\n",
       "      <th>children</th>\n",
       "      <th>days_employed</th>\n",
       "      <th>dob_years</th>\n",
       "      <th>education</th>\n",
       "      <th>education_id</th>\n",
       "      <th>family_status</th>\n",
       "      <th>family_status_id</th>\n",
       "      <th>gender</th>\n",
       "      <th>income_type</th>\n",
       "      <th>debt</th>\n",
       "      <th>total_income</th>\n",
       "      <th>purpose</th>\n",
       "    </tr>\n",
       "  </thead>\n",
       "  <tbody>\n",
       "    <tr>\n",
       "      <th>0</th>\n",
       "      <td>1</td>\n",
       "      <td>-8437.673028</td>\n",
       "      <td>42</td>\n",
       "      <td>высшее</td>\n",
       "      <td>0</td>\n",
       "      <td>женат / замужем</td>\n",
       "      <td>0</td>\n",
       "      <td>F</td>\n",
       "      <td>сотрудник</td>\n",
       "      <td>0</td>\n",
       "      <td>253875.639453</td>\n",
       "      <td>покупка жилья</td>\n",
       "    </tr>\n",
       "    <tr>\n",
       "      <th>1</th>\n",
       "      <td>1</td>\n",
       "      <td>-4024.803754</td>\n",
       "      <td>36</td>\n",
       "      <td>среднее</td>\n",
       "      <td>1</td>\n",
       "      <td>женат / замужем</td>\n",
       "      <td>0</td>\n",
       "      <td>F</td>\n",
       "      <td>сотрудник</td>\n",
       "      <td>0</td>\n",
       "      <td>112080.014102</td>\n",
       "      <td>приобретение автомобиля</td>\n",
       "    </tr>\n",
       "    <tr>\n",
       "      <th>2</th>\n",
       "      <td>0</td>\n",
       "      <td>-5623.422610</td>\n",
       "      <td>33</td>\n",
       "      <td>Среднее</td>\n",
       "      <td>1</td>\n",
       "      <td>женат / замужем</td>\n",
       "      <td>0</td>\n",
       "      <td>M</td>\n",
       "      <td>сотрудник</td>\n",
       "      <td>0</td>\n",
       "      <td>145885.952297</td>\n",
       "      <td>покупка жилья</td>\n",
       "    </tr>\n",
       "    <tr>\n",
       "      <th>3</th>\n",
       "      <td>3</td>\n",
       "      <td>-4124.747207</td>\n",
       "      <td>32</td>\n",
       "      <td>среднее</td>\n",
       "      <td>1</td>\n",
       "      <td>женат / замужем</td>\n",
       "      <td>0</td>\n",
       "      <td>M</td>\n",
       "      <td>сотрудник</td>\n",
       "      <td>0</td>\n",
       "      <td>267628.550329</td>\n",
       "      <td>дополнительное образование</td>\n",
       "    </tr>\n",
       "    <tr>\n",
       "      <th>4</th>\n",
       "      <td>0</td>\n",
       "      <td>340266.072047</td>\n",
       "      <td>53</td>\n",
       "      <td>среднее</td>\n",
       "      <td>1</td>\n",
       "      <td>гражданский брак</td>\n",
       "      <td>1</td>\n",
       "      <td>F</td>\n",
       "      <td>пенсионер</td>\n",
       "      <td>0</td>\n",
       "      <td>158616.077870</td>\n",
       "      <td>сыграть свадьбу</td>\n",
       "    </tr>\n",
       "    <tr>\n",
       "      <th>5</th>\n",
       "      <td>0</td>\n",
       "      <td>-926.185831</td>\n",
       "      <td>27</td>\n",
       "      <td>высшее</td>\n",
       "      <td>0</td>\n",
       "      <td>гражданский брак</td>\n",
       "      <td>1</td>\n",
       "      <td>M</td>\n",
       "      <td>компаньон</td>\n",
       "      <td>0</td>\n",
       "      <td>255763.565419</td>\n",
       "      <td>покупка жилья</td>\n",
       "    </tr>\n",
       "    <tr>\n",
       "      <th>6</th>\n",
       "      <td>0</td>\n",
       "      <td>-2879.202052</td>\n",
       "      <td>43</td>\n",
       "      <td>высшее</td>\n",
       "      <td>0</td>\n",
       "      <td>женат / замужем</td>\n",
       "      <td>0</td>\n",
       "      <td>F</td>\n",
       "      <td>компаньон</td>\n",
       "      <td>0</td>\n",
       "      <td>240525.971920</td>\n",
       "      <td>операции с жильем</td>\n",
       "    </tr>\n",
       "    <tr>\n",
       "      <th>7</th>\n",
       "      <td>0</td>\n",
       "      <td>-152.779569</td>\n",
       "      <td>50</td>\n",
       "      <td>СРЕДНЕЕ</td>\n",
       "      <td>1</td>\n",
       "      <td>женат / замужем</td>\n",
       "      <td>0</td>\n",
       "      <td>M</td>\n",
       "      <td>сотрудник</td>\n",
       "      <td>0</td>\n",
       "      <td>135823.934197</td>\n",
       "      <td>образование</td>\n",
       "    </tr>\n",
       "    <tr>\n",
       "      <th>8</th>\n",
       "      <td>2</td>\n",
       "      <td>-6929.865299</td>\n",
       "      <td>35</td>\n",
       "      <td>ВЫСШЕЕ</td>\n",
       "      <td>0</td>\n",
       "      <td>гражданский брак</td>\n",
       "      <td>1</td>\n",
       "      <td>F</td>\n",
       "      <td>сотрудник</td>\n",
       "      <td>0</td>\n",
       "      <td>95856.832424</td>\n",
       "      <td>на проведение свадьбы</td>\n",
       "    </tr>\n",
       "    <tr>\n",
       "      <th>9</th>\n",
       "      <td>0</td>\n",
       "      <td>-2188.756445</td>\n",
       "      <td>41</td>\n",
       "      <td>среднее</td>\n",
       "      <td>1</td>\n",
       "      <td>женат / замужем</td>\n",
       "      <td>0</td>\n",
       "      <td>M</td>\n",
       "      <td>сотрудник</td>\n",
       "      <td>0</td>\n",
       "      <td>144425.938277</td>\n",
       "      <td>покупка жилья для семьи</td>\n",
       "    </tr>\n",
       "    <tr>\n",
       "      <th>10</th>\n",
       "      <td>2</td>\n",
       "      <td>-4171.483647</td>\n",
       "      <td>36</td>\n",
       "      <td>высшее</td>\n",
       "      <td>0</td>\n",
       "      <td>женат / замужем</td>\n",
       "      <td>0</td>\n",
       "      <td>M</td>\n",
       "      <td>компаньон</td>\n",
       "      <td>0</td>\n",
       "      <td>113943.491460</td>\n",
       "      <td>покупка недвижимости</td>\n",
       "    </tr>\n",
       "    <tr>\n",
       "      <th>11</th>\n",
       "      <td>0</td>\n",
       "      <td>-792.701887</td>\n",
       "      <td>40</td>\n",
       "      <td>среднее</td>\n",
       "      <td>1</td>\n",
       "      <td>женат / замужем</td>\n",
       "      <td>0</td>\n",
       "      <td>F</td>\n",
       "      <td>сотрудник</td>\n",
       "      <td>0</td>\n",
       "      <td>77069.234271</td>\n",
       "      <td>покупка коммерческой недвижимости</td>\n",
       "    </tr>\n",
       "    <tr>\n",
       "      <th>12</th>\n",
       "      <td>0</td>\n",
       "      <td>NaN</td>\n",
       "      <td>65</td>\n",
       "      <td>среднее</td>\n",
       "      <td>1</td>\n",
       "      <td>гражданский брак</td>\n",
       "      <td>1</td>\n",
       "      <td>M</td>\n",
       "      <td>пенсионер</td>\n",
       "      <td>0</td>\n",
       "      <td>NaN</td>\n",
       "      <td>сыграть свадьбу</td>\n",
       "    </tr>\n",
       "    <tr>\n",
       "      <th>13</th>\n",
       "      <td>0</td>\n",
       "      <td>-1846.641941</td>\n",
       "      <td>54</td>\n",
       "      <td>неоконченное высшее</td>\n",
       "      <td>2</td>\n",
       "      <td>женат / замужем</td>\n",
       "      <td>0</td>\n",
       "      <td>F</td>\n",
       "      <td>сотрудник</td>\n",
       "      <td>0</td>\n",
       "      <td>130458.228857</td>\n",
       "      <td>приобретение автомобиля</td>\n",
       "    </tr>\n",
       "    <tr>\n",
       "      <th>14</th>\n",
       "      <td>0</td>\n",
       "      <td>-1844.956182</td>\n",
       "      <td>56</td>\n",
       "      <td>высшее</td>\n",
       "      <td>0</td>\n",
       "      <td>гражданский брак</td>\n",
       "      <td>1</td>\n",
       "      <td>F</td>\n",
       "      <td>компаньон</td>\n",
       "      <td>1</td>\n",
       "      <td>165127.911772</td>\n",
       "      <td>покупка жилой недвижимости</td>\n",
       "    </tr>\n",
       "    <tr>\n",
       "      <th>15</th>\n",
       "      <td>1</td>\n",
       "      <td>-972.364419</td>\n",
       "      <td>26</td>\n",
       "      <td>среднее</td>\n",
       "      <td>1</td>\n",
       "      <td>женат / замужем</td>\n",
       "      <td>0</td>\n",
       "      <td>F</td>\n",
       "      <td>сотрудник</td>\n",
       "      <td>0</td>\n",
       "      <td>116820.904450</td>\n",
       "      <td>строительство собственной недвижимости</td>\n",
       "    </tr>\n",
       "    <tr>\n",
       "      <th>16</th>\n",
       "      <td>0</td>\n",
       "      <td>-1719.934226</td>\n",
       "      <td>35</td>\n",
       "      <td>среднее</td>\n",
       "      <td>1</td>\n",
       "      <td>женат / замужем</td>\n",
       "      <td>0</td>\n",
       "      <td>F</td>\n",
       "      <td>сотрудник</td>\n",
       "      <td>0</td>\n",
       "      <td>289202.704229</td>\n",
       "      <td>недвижимость</td>\n",
       "    </tr>\n",
       "    <tr>\n",
       "      <th>17</th>\n",
       "      <td>0</td>\n",
       "      <td>-2369.999720</td>\n",
       "      <td>33</td>\n",
       "      <td>высшее</td>\n",
       "      <td>0</td>\n",
       "      <td>гражданский брак</td>\n",
       "      <td>1</td>\n",
       "      <td>M</td>\n",
       "      <td>сотрудник</td>\n",
       "      <td>0</td>\n",
       "      <td>90410.586745</td>\n",
       "      <td>строительство недвижимости</td>\n",
       "    </tr>\n",
       "    <tr>\n",
       "      <th>18</th>\n",
       "      <td>0</td>\n",
       "      <td>400281.136913</td>\n",
       "      <td>53</td>\n",
       "      <td>среднее</td>\n",
       "      <td>1</td>\n",
       "      <td>вдовец / вдова</td>\n",
       "      <td>2</td>\n",
       "      <td>F</td>\n",
       "      <td>пенсионер</td>\n",
       "      <td>0</td>\n",
       "      <td>56823.777243</td>\n",
       "      <td>на покупку подержанного автомобиля</td>\n",
       "    </tr>\n",
       "    <tr>\n",
       "      <th>19</th>\n",
       "      <td>0</td>\n",
       "      <td>-10038.818549</td>\n",
       "      <td>48</td>\n",
       "      <td>СРЕДНЕЕ</td>\n",
       "      <td>1</td>\n",
       "      <td>в разводе</td>\n",
       "      <td>3</td>\n",
       "      <td>F</td>\n",
       "      <td>сотрудник</td>\n",
       "      <td>0</td>\n",
       "      <td>242831.107982</td>\n",
       "      <td>на покупку своего автомобиля</td>\n",
       "    </tr>\n",
       "  </tbody>\n",
       "</table>\n",
       "</div>"
      ],
      "text/plain": [
       "    children  days_employed  dob_years            education  education_id  \\\n",
       "0          1   -8437.673028         42               высшее             0   \n",
       "1          1   -4024.803754         36              среднее             1   \n",
       "2          0   -5623.422610         33              Среднее             1   \n",
       "3          3   -4124.747207         32              среднее             1   \n",
       "4          0  340266.072047         53              среднее             1   \n",
       "5          0    -926.185831         27               высшее             0   \n",
       "6          0   -2879.202052         43               высшее             0   \n",
       "7          0    -152.779569         50              СРЕДНЕЕ             1   \n",
       "8          2   -6929.865299         35               ВЫСШЕЕ             0   \n",
       "9          0   -2188.756445         41              среднее             1   \n",
       "10         2   -4171.483647         36               высшее             0   \n",
       "11         0    -792.701887         40              среднее             1   \n",
       "12         0            NaN         65              среднее             1   \n",
       "13         0   -1846.641941         54  неоконченное высшее             2   \n",
       "14         0   -1844.956182         56               высшее             0   \n",
       "15         1    -972.364419         26              среднее             1   \n",
       "16         0   -1719.934226         35              среднее             1   \n",
       "17         0   -2369.999720         33               высшее             0   \n",
       "18         0  400281.136913         53              среднее             1   \n",
       "19         0  -10038.818549         48              СРЕДНЕЕ             1   \n",
       "\n",
       "       family_status  family_status_id gender income_type  debt  \\\n",
       "0    женат / замужем                 0      F   сотрудник     0   \n",
       "1    женат / замужем                 0      F   сотрудник     0   \n",
       "2    женат / замужем                 0      M   сотрудник     0   \n",
       "3    женат / замужем                 0      M   сотрудник     0   \n",
       "4   гражданский брак                 1      F   пенсионер     0   \n",
       "5   гражданский брак                 1      M   компаньон     0   \n",
       "6    женат / замужем                 0      F   компаньон     0   \n",
       "7    женат / замужем                 0      M   сотрудник     0   \n",
       "8   гражданский брак                 1      F   сотрудник     0   \n",
       "9    женат / замужем                 0      M   сотрудник     0   \n",
       "10   женат / замужем                 0      M   компаньон     0   \n",
       "11   женат / замужем                 0      F   сотрудник     0   \n",
       "12  гражданский брак                 1      M   пенсионер     0   \n",
       "13   женат / замужем                 0      F   сотрудник     0   \n",
       "14  гражданский брак                 1      F   компаньон     1   \n",
       "15   женат / замужем                 0      F   сотрудник     0   \n",
       "16   женат / замужем                 0      F   сотрудник     0   \n",
       "17  гражданский брак                 1      M   сотрудник     0   \n",
       "18    вдовец / вдова                 2      F   пенсионер     0   \n",
       "19         в разводе                 3      F   сотрудник     0   \n",
       "\n",
       "     total_income                                 purpose  \n",
       "0   253875.639453                           покупка жилья  \n",
       "1   112080.014102                 приобретение автомобиля  \n",
       "2   145885.952297                           покупка жилья  \n",
       "3   267628.550329              дополнительное образование  \n",
       "4   158616.077870                         сыграть свадьбу  \n",
       "5   255763.565419                           покупка жилья  \n",
       "6   240525.971920                       операции с жильем  \n",
       "7   135823.934197                             образование  \n",
       "8    95856.832424                   на проведение свадьбы  \n",
       "9   144425.938277                 покупка жилья для семьи  \n",
       "10  113943.491460                    покупка недвижимости  \n",
       "11   77069.234271       покупка коммерческой недвижимости  \n",
       "12            NaN                         сыграть свадьбу  \n",
       "13  130458.228857                 приобретение автомобиля  \n",
       "14  165127.911772              покупка жилой недвижимости  \n",
       "15  116820.904450  строительство собственной недвижимости  \n",
       "16  289202.704229                            недвижимость  \n",
       "17   90410.586745              строительство недвижимости  \n",
       "18   56823.777243      на покупку подержанного автомобиля  \n",
       "19  242831.107982            на покупку своего автомобиля  "
      ]
     },
     "execution_count": 2,
     "metadata": {},
     "output_type": "execute_result"
    }
   ],
   "source": [
    "data.head(20)"
   ]
  },
  {
   "cell_type": "markdown",
   "id": "c6aeac9b",
   "metadata": {
    "deletable": false,
    "editable": false,
    "id": "1c12e233"
   },
   "source": [
    "**Задание 3. Выведите основную информацию о датафрейме с помощью метода `info()`.**"
   ]
  },
  {
   "cell_type": "code",
   "execution_count": 3,
   "id": "d27d2588",
   "metadata": {
    "deletable": false,
    "id": "2b757bca",
    "outputId": "15376089-8dad-46c9-b520-c05248d43158"
   },
   "outputs": [
    {
     "name": "stdout",
     "output_type": "stream",
     "text": [
      "<class 'pandas.core.frame.DataFrame'>\n",
      "RangeIndex: 21525 entries, 0 to 21524\n",
      "Data columns (total 12 columns):\n",
      " #   Column            Non-Null Count  Dtype  \n",
      "---  ------            --------------  -----  \n",
      " 0   children          21525 non-null  int64  \n",
      " 1   days_employed     19351 non-null  float64\n",
      " 2   dob_years         21525 non-null  int64  \n",
      " 3   education         21525 non-null  object \n",
      " 4   education_id      21525 non-null  int64  \n",
      " 5   family_status     21525 non-null  object \n",
      " 6   family_status_id  21525 non-null  int64  \n",
      " 7   gender            21525 non-null  object \n",
      " 8   income_type       21525 non-null  object \n",
      " 9   debt              21525 non-null  int64  \n",
      " 10  total_income      19351 non-null  float64\n",
      " 11  purpose           21525 non-null  object \n",
      "dtypes: float64(2), int64(5), object(5)\n",
      "memory usage: 2.0+ MB\n"
     ]
    }
   ],
   "source": [
    "data.info()"
   ]
  },
  {
   "cell_type": "markdown",
   "id": "0624c8c6",
   "metadata": {
    "deletable": false,
    "editable": false,
    "id": "333ec665"
   },
   "source": [
    "## Предобработка данных"
   ]
  },
  {
   "cell_type": "markdown",
   "id": "dc2c8859",
   "metadata": {
    "deletable": false,
    "editable": false,
    "id": "02d92d53"
   },
   "source": [
    "### Удаление пропусков"
   ]
  },
  {
   "cell_type": "markdown",
   "id": "3d78f814",
   "metadata": {
    "deletable": false,
    "editable": false,
    "id": "cd84967c"
   },
   "source": [
    "**Задание 4. Выведите количество пропущенных значений для каждого столбца. Используйте комбинацию двух методов.**"
   ]
  },
  {
   "cell_type": "code",
   "execution_count": 4,
   "id": "457c90b9",
   "metadata": {
    "deletable": false,
    "id": "7f9b2309",
    "outputId": "81f4d817-781c-465c-ed15-91ce4446810d"
   },
   "outputs": [
    {
     "data": {
      "text/plain": [
       "children               0\n",
       "days_employed       2174\n",
       "dob_years              0\n",
       "education              0\n",
       "education_id           0\n",
       "family_status          0\n",
       "family_status_id       0\n",
       "gender                 0\n",
       "income_type            0\n",
       "debt                   0\n",
       "total_income        2174\n",
       "purpose                0\n",
       "dtype: int64"
      ]
     },
     "execution_count": 4,
     "metadata": {},
     "output_type": "execute_result"
    }
   ],
   "source": [
    "data.isna().sum()"
   ]
  },
  {
   "cell_type": "markdown",
   "id": "7bd19de0",
   "metadata": {
    "deletable": false,
    "editable": false,
    "id": "db86e27b"
   },
   "source": [
    "**Задание 5. В двух столбцах есть пропущенные значения. Один из них — `days_employed`. Пропуски в этом столбце вы обработаете на следующем этапе. Другой столбец с пропущенными значениями — `total_income` — хранит данные о доходах. На сумму дохода сильнее всего влияет тип занятости, поэтому заполнить пропуски в этом столбце нужно медианным значением по каждому типу из столбца `income_type`. Например, у человека с типом занятости `сотрудник` пропуск в столбце `total_income` должен быть заполнен медианным доходом среди всех записей с тем же типом.**"
   ]
  },
  {
   "cell_type": "code",
   "execution_count": 5,
   "id": "c2eb68d0",
   "metadata": {
    "deletable": false,
    "id": "42006a93"
   },
   "outputs": [],
   "source": [
    "for t in data['income_type'].unique():\n",
    "    data.loc[(data['income_type'] == t) & (data['total_income'].isna()), 'total_income'] = \\\n",
    "    data.loc[(data['income_type'] == t), 'total_income'].median()"
   ]
  },
  {
   "cell_type": "markdown",
   "id": "6db80817",
   "metadata": {
    "deletable": false,
    "editable": false,
    "id": "89da5ece"
   },
   "source": [
    "### Обработка аномальных значений"
   ]
  },
  {
   "cell_type": "markdown",
   "id": "c2c460a8",
   "metadata": {
    "deletable": false,
    "editable": false,
    "id": "57964554"
   },
   "source": [
    "**Задание 6. В данных могут встречаться артефакты (аномалии) — значения, которые не отражают действительность и появились по какой-то ошибке. таким артефактом будет отрицательное количество дней трудового стажа в столбце `days_employed`. Для реальных данных это нормально. Обработайте значения в этом столбце: замените все отрицательные значения положительными с помощью метода `abs()`.**"
   ]
  },
  {
   "cell_type": "code",
   "execution_count": 6,
   "id": "d047440d",
   "metadata": {
    "deletable": false,
    "id": "f6f055bf"
   },
   "outputs": [],
   "source": [
    "data['days_employed'] = data['days_employed'].abs()"
   ]
  },
  {
   "cell_type": "markdown",
   "id": "c03e0de1",
   "metadata": {
    "deletable": false,
    "editable": false,
    "id": "6107dd2f"
   },
   "source": [
    "**Задание 7. Для каждого типа занятости выведите медианное значение трудового стажа `days_employed` в днях.**"
   ]
  },
  {
   "cell_type": "code",
   "execution_count": 7,
   "id": "ffc8407a",
   "metadata": {
    "deletable": false,
    "id": "85a5faf6",
    "outputId": "801ef80e-522b-4668-f34e-565af7432bcf"
   },
   "outputs": [
    {
     "data": {
      "text/plain": [
       "income_type\n",
       "безработный        366413.652744\n",
       "в декрете            3296.759962\n",
       "госслужащий          2689.368353\n",
       "компаньон            1547.382223\n",
       "пенсионер          365213.306266\n",
       "предприниматель       520.848083\n",
       "сотрудник            1574.202821\n",
       "студент               578.751554\n",
       "Name: days_employed, dtype: float64"
      ]
     },
     "execution_count": 7,
     "metadata": {},
     "output_type": "execute_result"
    }
   ],
   "source": [
    "data.groupby('income_type')['days_employed'].agg('median')"
   ]
  },
  {
   "cell_type": "markdown",
   "id": "1685002e",
   "metadata": {
    "deletable": false,
    "editable": false,
    "id": "38d1a030"
   },
   "source": [
    "У двух типов (безработные и пенсионеры) получатся аномально большие значения. Исправить такие значения сложно, поэтому оставьте их как есть. Тем более этот столбец не понадобится вам для исследования."
   ]
  },
  {
   "cell_type": "markdown",
   "id": "4840af51",
   "metadata": {
    "deletable": false,
    "editable": false,
    "id": "d8a9f147"
   },
   "source": [
    "**Задание 8. Выведите перечень уникальных значений столбца `children`.**"
   ]
  },
  {
   "cell_type": "code",
   "execution_count": 8,
   "id": "1d5ab0b5",
   "metadata": {
    "deletable": false,
    "id": "ef5056eb",
    "outputId": "6975b15c-7f95-4697-d16d-a0c79b657b03"
   },
   "outputs": [
    {
     "data": {
      "text/plain": [
       "array([ 1,  0,  3,  2, -1,  4, 20,  5])"
      ]
     },
     "execution_count": 8,
     "metadata": {},
     "output_type": "execute_result"
    }
   ],
   "source": [
    "data['children'].unique()"
   ]
  },
  {
   "cell_type": "markdown",
   "id": "5f9040eb",
   "metadata": {
    "deletable": false,
    "editable": false,
    "id": "40b9ebf2"
   },
   "source": [
    "**Задание 9. В столбце `children` есть два аномальных значения. Удалите строки, в которых встречаются такие аномальные значения из датафрейма `data`.**"
   ]
  },
  {
   "cell_type": "code",
   "execution_count": 9,
   "id": "95eebeef",
   "metadata": {
    "deletable": false,
    "id": "3ff9801d"
   },
   "outputs": [],
   "source": [
    "data = data[(data['children'] != -1) & (data['children'] != 20)]"
   ]
  },
  {
   "cell_type": "markdown",
   "id": "195d3d19",
   "metadata": {
    "deletable": false,
    "editable": false,
    "id": "bbc4d0ce"
   },
   "source": [
    "**Задание 10. Ещё раз выведите перечень уникальных значений столбца `children`, чтобы убедиться, что артефакты удалены.**"
   ]
  },
  {
   "cell_type": "code",
   "execution_count": 10,
   "id": "25781d73",
   "metadata": {
    "deletable": false,
    "id": "ad4fa8b7",
    "outputId": "b2097101-d49d-44d9-901b-32a65c9463d1"
   },
   "outputs": [
    {
     "data": {
      "text/plain": [
       "array([1, 0, 3, 2, 4, 5])"
      ]
     },
     "execution_count": 10,
     "metadata": {},
     "output_type": "execute_result"
    }
   ],
   "source": [
    "data['children'].unique()"
   ]
  },
  {
   "cell_type": "markdown",
   "id": "42bd450c",
   "metadata": {
    "deletable": false,
    "editable": false,
    "id": "75440b63"
   },
   "source": [
    "### Удаление пропусков (продолжение)"
   ]
  },
  {
   "cell_type": "markdown",
   "id": "e7583929",
   "metadata": {
    "deletable": false,
    "editable": false,
    "id": "f4ea573f"
   },
   "source": [
    "**Задание 11. Заполните пропуски в столбце `days_employed` медианными значениями по каждого типа занятости `income_type`.**"
   ]
  },
  {
   "cell_type": "code",
   "execution_count": 11,
   "id": "8e29f6b8",
   "metadata": {
    "deletable": false,
    "id": "af6b1a7e"
   },
   "outputs": [],
   "source": [
    "for t in data['income_type'].unique():\n",
    "    data.loc[(data['income_type'] == t) & (data['days_employed'].isna()), 'days_employed'] = \\\n",
    "    data.loc[(data['income_type'] == t), 'days_employed'].median()"
   ]
  },
  {
   "cell_type": "markdown",
   "id": "57ec62f2",
   "metadata": {
    "deletable": false,
    "editable": false,
    "id": "2753f40d"
   },
   "source": [
    "**Задание 12. Убедитесь, что все пропуски заполнены. Проверьте себя и ещё раз выведите количество пропущенных значений для каждого столбца с помощью двух методов.**"
   ]
  },
  {
   "cell_type": "code",
   "execution_count": 12,
   "id": "bfa740d0",
   "metadata": {
    "deletable": false,
    "id": "55f78bc2",
    "outputId": "8da1e4e1-358e-4e87-98c9-f261bce0a7b2"
   },
   "outputs": [
    {
     "data": {
      "text/plain": [
       "children            0\n",
       "days_employed       0\n",
       "dob_years           0\n",
       "education           0\n",
       "education_id        0\n",
       "family_status       0\n",
       "family_status_id    0\n",
       "gender              0\n",
       "income_type         0\n",
       "debt                0\n",
       "total_income        0\n",
       "purpose             0\n",
       "dtype: int64"
      ]
     },
     "execution_count": 12,
     "metadata": {},
     "output_type": "execute_result"
    }
   ],
   "source": [
    "data.isna().sum()"
   ]
  },
  {
   "cell_type": "markdown",
   "id": "a3f8eac1",
   "metadata": {
    "deletable": false,
    "editable": false,
    "id": "ddc81e43"
   },
   "source": [
    "### Изменение типов данных"
   ]
  },
  {
   "cell_type": "markdown",
   "id": "9b933045",
   "metadata": {
    "deletable": false,
    "editable": false,
    "id": "42d19d24"
   },
   "source": [
    "**Задание 13. Замените вещественный тип данных в столбце `total_income` на целочисленный с помощью метода `astype()`.**"
   ]
  },
  {
   "cell_type": "code",
   "execution_count": 13,
   "id": "7dab3a29",
   "metadata": {
    "deletable": false,
    "id": "920b65ad"
   },
   "outputs": [],
   "source": [
    "data['total_income'] = data['total_income'].astype(int)"
   ]
  },
  {
   "cell_type": "markdown",
   "id": "30f37671",
   "metadata": {
    "deletable": false,
    "editable": false,
    "id": "80c420ba"
   },
   "source": [
    "### Обработка дубликатов"
   ]
  },
  {
   "cell_type": "markdown",
   "id": "f19ce2ce",
   "metadata": {
    "deletable": false,
    "editable": false
   },
   "source": [
    "**Задание 14. Обработайте неявные дубликаты в столбце `education`. В этом столбце есть одни и те же значения, но записанные по-разному: с использованием заглавных и строчных букв. Приведите их к нижнему регистру. Проверьте остальные столбцы.**"
   ]
  },
  {
   "cell_type": "code",
   "execution_count": 14,
   "id": "fa6ace00",
   "metadata": {
    "deletable": false
   },
   "outputs": [],
   "source": [
    "data['education'] = data['education'].str.lower()"
   ]
  },
  {
   "cell_type": "markdown",
   "id": "3e9db28b",
   "metadata": {
    "deletable": false,
    "editable": false,
    "id": "dc587695"
   },
   "source": [
    "**Задание 15. Выведите на экран количество строк-дубликатов в данных. Если такие строки присутствуют, удалите их.**"
   ]
  },
  {
   "cell_type": "code",
   "execution_count": 15,
   "id": "64548e66",
   "metadata": {
    "deletable": false,
    "id": "3ee445e4",
    "outputId": "9684deba-1934-42d1-99e1-cda61740f822"
   },
   "outputs": [
    {
     "data": {
      "text/plain": [
       "71"
      ]
     },
     "execution_count": 15,
     "metadata": {},
     "output_type": "execute_result"
    }
   ],
   "source": [
    "data.duplicated().sum()"
   ]
  },
  {
   "cell_type": "code",
   "execution_count": 16,
   "id": "f6276d86",
   "metadata": {
    "deletable": false,
    "id": "8575fe05"
   },
   "outputs": [],
   "source": [
    "data = data.drop_duplicates()"
   ]
  },
  {
   "cell_type": "markdown",
   "id": "bd15ca10",
   "metadata": {
    "deletable": false,
    "editable": false,
    "id": "9904cf55"
   },
   "source": [
    "### Категоризация данных"
   ]
  },
  {
   "cell_type": "markdown",
   "id": "45392eb2",
   "metadata": {
    "deletable": false,
    "editable": false,
    "id": "72fcc8a2"
   },
   "source": [
    "**Задание 16. На основании диапазонов, указанных ниже, создайте в датафрейме `data` столбец `total_income_category` с категориями:**\n",
    "\n",
    "- 0–30000 — `'E'`;\n",
    "- 30001–50000 — `'D'`;\n",
    "- 50001–200000 — `'C'`;\n",
    "- 200001–1000000 — `'B'`;\n",
    "- 1000001 и выше — `'A'`.\n",
    "\n",
    "\n",
    "**Например, кредитополучателю с доходом 25000 нужно назначить категорию `'E'`, а клиенту, получающему 235000, — `'B'`. Используйте собственную функцию с именем `categorize_income()` и метод `apply()`.**"
   ]
  },
  {
   "cell_type": "code",
   "execution_count": 17,
   "id": "ac42761f",
   "metadata": {
    "deletable": false,
    "id": "e1771346"
   },
   "outputs": [],
   "source": [
    "def categorize_income(income):\n",
    "    try:\n",
    "        if 0 <= income <= 30000:\n",
    "            return 'E'\n",
    "        elif 30001 <= income <= 50000:\n",
    "            return 'D'\n",
    "        elif 50001 <= income <= 200000:\n",
    "            return 'C'\n",
    "        elif 200001 <= income <= 1000000:\n",
    "            return 'B'\n",
    "        elif income >= 1000001:\n",
    "            return 'A'\n",
    "    except:\n",
    "        pass"
   ]
  },
  {
   "cell_type": "code",
   "execution_count": 18,
   "id": "9619c03a",
   "metadata": {
    "deletable": false,
    "id": "d5f3586d"
   },
   "outputs": [],
   "source": [
    "data['total_income_category'] = data['total_income'].apply(categorize_income)"
   ]
  },
  {
   "cell_type": "markdown",
   "id": "500c1309",
   "metadata": {
    "deletable": false,
    "editable": false,
    "id": "dde49b5c"
   },
   "source": [
    "**Задание 17. Выведите на экран перечень уникальных целей взятия кредита из столбца `purpose`.**"
   ]
  },
  {
   "cell_type": "code",
   "execution_count": 19,
   "id": "9ded5849",
   "metadata": {
    "deletable": false,
    "id": "f67ce9b3",
    "outputId": "673c12d9-7d7e-4ae0-9812-c622c89dd244"
   },
   "outputs": [
    {
     "data": {
      "text/plain": [
       "array(['покупка жилья', 'приобретение автомобиля',\n",
       "       'дополнительное образование', 'сыграть свадьбу',\n",
       "       'операции с жильем', 'образование', 'на проведение свадьбы',\n",
       "       'покупка жилья для семьи', 'покупка недвижимости',\n",
       "       'покупка коммерческой недвижимости', 'покупка жилой недвижимости',\n",
       "       'строительство собственной недвижимости', 'недвижимость',\n",
       "       'строительство недвижимости', 'на покупку подержанного автомобиля',\n",
       "       'на покупку своего автомобиля',\n",
       "       'операции с коммерческой недвижимостью',\n",
       "       'строительство жилой недвижимости', 'жилье',\n",
       "       'операции со своей недвижимостью', 'автомобили',\n",
       "       'заняться образованием', 'сделка с подержанным автомобилем',\n",
       "       'получение образования', 'автомобиль', 'свадьба',\n",
       "       'получение дополнительного образования', 'покупка своего жилья',\n",
       "       'операции с недвижимостью', 'получение высшего образования',\n",
       "       'свой автомобиль', 'сделка с автомобилем',\n",
       "       'профильное образование', 'высшее образование',\n",
       "       'покупка жилья для сдачи', 'на покупку автомобиля', 'ремонт жилью',\n",
       "       'заняться высшим образованием'], dtype=object)"
      ]
     },
     "execution_count": 19,
     "metadata": {},
     "output_type": "execute_result"
    }
   ],
   "source": [
    "data['purpose'].unique()"
   ]
  },
  {
   "cell_type": "markdown",
   "id": "92df86f1",
   "metadata": {
    "deletable": false,
    "editable": false,
    "id": "85d0aef0"
   },
   "source": [
    "**Задание 18. Создайте функцию, которая на основании данных из столбца `purpose` сформирует новый столбец `purpose_category`, в который войдут следующие категории:**\n",
    "\n",
    "- `'операции с автомобилем'`,\n",
    "- `'операции с недвижимостью'`,\n",
    "- `'проведение свадьбы'`,\n",
    "- `'получение образования'`.\n",
    "\n",
    "**Например, если в столбце `purpose` находится подстрока `'на покупку автомобиля'`, то в столбце `purpose_category` должна появиться строка `'операции с автомобилем'`.**\n",
    "\n",
    "**Используйте собственную функцию с именем `categorize_purpose()` и метод `apply()`. Изучите данные в столбце `purpose` и определите, какие подстроки помогут вам правильно определить категорию.**"
   ]
  },
  {
   "cell_type": "code",
   "execution_count": 20,
   "id": "ff4148d8",
   "metadata": {
    "deletable": false,
    "id": "e149fab4"
   },
   "outputs": [],
   "source": [
    "def categorize_purpose(row):\n",
    "    try:\n",
    "        if 'автом' in row:\n",
    "            return 'операции с автомобилем'\n",
    "        elif 'жил' in row or 'недвиж' in row:\n",
    "            return 'операции с недвижимостью'\n",
    "        elif 'свад' in row:\n",
    "            return 'проведение свадьбы'\n",
    "        elif 'образов' in row:\n",
    "            return 'получение образования'\n",
    "    except:\n",
    "        return 'нет категории'"
   ]
  },
  {
   "cell_type": "code",
   "execution_count": 21,
   "id": "d40efada",
   "metadata": {
    "deletable": false,
    "id": "bf36e69b"
   },
   "outputs": [],
   "source": [
    "data['purpose_category'] = data['purpose'].apply(categorize_purpose)"
   ]
  },
  {
   "cell_type": "markdown",
   "id": "b9ebe475",
   "metadata": {
    "deletable": false,
    "editable": false,
    "id": "09b242bf"
   },
   "source": [
    "### Шаг 3. Исследуйте данные и ответьте на вопросы"
   ]
  },
  {
   "cell_type": "markdown",
   "id": "73585ecb",
   "metadata": {
    "deletable": false,
    "editable": false,
    "id": "c5d66278"
   },
   "source": [
    "#### 3.1 Есть ли зависимость между количеством детей и возвратом кредита в срок?"
   ]
  },
  {
   "cell_type": "code",
   "execution_count": 22,
   "id": "35e76403",
   "metadata": {
    "deletable": false,
    "id": "2cacfc4a"
   },
   "outputs": [
    {
     "name": "stdout",
     "output_type": "stream",
     "text": [
      "проверка зависимости возврата кредита в срок в зависимости от количества детей в семье\n",
      "\n",
      "   children  debt_0  debt_1    d_mean\n",
      "0         0   13028    1063  0.075438\n",
      "1         1    4364     444  0.092346\n",
      "2         2    1858     194  0.094542\n",
      "3         3     303      27  0.081818\n",
      "4         4      37       4  0.097561\n",
      "5         5       9       0  0.000000\n"
     ]
    }
   ],
   "source": [
    "#для определения зависимости между колочеством детей и возвратом кредита в срок\n",
    "#1.определим сколько было вовзратов с срок и не возвратов в срок в зависимости от числа детей в семье\n",
    "#2.в зависимости от числа детей посчитаем среднее значение\n",
    "#3.оформим полученные данные в виде таблицы \n",
    "\n",
    "# стоблец 'children' - количество детей в семье\n",
    "# столбец 'debt_0' - количество выплат кредита в срок для выбранной категории\n",
    "# столбец 'debt_1' - количество неыплат кредита в срок для выбранной категории\n",
    "# столбец 'd_mean' - среднее значение невыплат для выбранной категории\n",
    "\n",
    "dat = [[0, 0,0,0],[1,0,0,0], [2 ,0,0,0], [3,0,0,0], [4,0,0,0] , [5,0,0,0]] #3\n",
    "tot = ['children','debt_0', 'debt_1', 'd_mean']\n",
    "d = pd.DataFrame(data = dat, columns = tot )\n",
    "\n",
    "for row in data['children'].unique() :\n",
    "    d.loc[d['children'] == row, 'd_mean'] = data.loc[data['children'] == row, 'debt'].mean() #2\n",
    "    d.loc[d['children'] == row, 'debt_0'] = data.loc[(data['children'] == row) & (data['debt'] == 0), 'debt'].count() #1\n",
    "    d.loc[d['children'] == row, 'debt_1'] = data.loc[(data['children'] == row) & (data['debt'] == 1), 'debt'].count() #1\n",
    "\n",
    "print ('проверка зависимости возврата кредита в срок в зависимости от количества детей в семье\\n')\n",
    "print (d)"
   ]
  },
  {
   "cell_type": "markdown",
   "id": "870f7436",
   "metadata": {
    "deletable": false,
    "id": "3a6b99ec"
   },
   "source": [
    "**Вывод:**  На основании полученных расчётов можно сделать вывод, что среднее значение невыплат увеличивается по мере увеличения количества детей в семье(хотя в приведенных даных, количество семей с детьми разное и убывает по мере увеличения детей) можно утверждать, что количество детей влияет на возвраты кредитов."
   ]
  },
  {
   "cell_type": "markdown",
   "id": "15d58cef",
   "metadata": {
    "deletable": false,
    "editable": false,
    "id": "97be82ca"
   },
   "source": [
    "#### 3.2 Есть ли зависимость между семейным положением и возвратом кредита в срок?"
   ]
  },
  {
   "cell_type": "code",
   "execution_count": 23,
   "id": "679ea8bd",
   "metadata": {
    "deletable": false,
    "id": "dc3f7ee8"
   },
   "outputs": [
    {
     "name": "stdout",
     "output_type": "stream",
     "text": [
      "['женат / замужем' 'гражданский брак' 'вдовец / вдова' 'в разводе'\n",
      " 'Не женат / не замужем']\n",
      "\n",
      "проверка зависимости возврата кредита в срок в зависимости от статуса семейного положения\n",
      "\n",
      " family_status\n",
      "вдовец / вдова           0.066246\n",
      "в разводе                0.070648\n",
      "женат / замужем          0.075606\n",
      "гражданский брак         0.093130\n",
      "Не женат / не замужем    0.097639\n",
      "Name: debt, dtype: float64\n"
     ]
    }
   ],
   "source": [
    "#для определения зависимости семейного положения от возврата кредита в срок\n",
    "#1.определим какие категории семейного положения есть в данных\n",
    "#2.в зависимости от категорий определим среднее значение невыплат в срок\n",
    "\n",
    "print(data['family_status'].unique())\n",
    "\n",
    "mean_debt = data.groupby('family_status')['debt'].mean()\n",
    "\n",
    "print ('\\nпроверка зависимости возврата кредита в срок в зависимости от статуса семейного положения')\n",
    "print ('\\n',mean_debt.sort_values()) #расположим в порядке возрастания среднего значения невыплат по категориям"
   ]
  },
  {
   "cell_type": "markdown",
   "id": "ba30a60d",
   "metadata": {
    "deletable": false,
    "id": "1cef7837"
   },
   "source": [
    "**Вывод:** На основании полученных данных, делаем вывод, что люди которые были браке, но он расспался в силу развода или смерти одного из cупругов, возвращают кредит чаще, чем люди которые в браке или никогда еще не вступали в брак. Максимальный показатель у группы людей, которые не были в браке."
   ]
  },
  {
   "cell_type": "markdown",
   "id": "fe5db6cf",
   "metadata": {
    "deletable": false,
    "editable": false,
    "id": "1e8b2fca"
   },
   "source": [
    "#### 3.3 Есть ли зависимость между уровнем дохода и возвратом кредита в срок?"
   ]
  },
  {
   "cell_type": "code",
   "execution_count": 24,
   "id": "1b932a86",
   "metadata": {
    "deletable": false,
    "id": "cd7e3720",
    "scrolled": true
   },
   "outputs": [
    {
     "name": "stdout",
     "output_type": "stream",
     "text": [
      "проверка зависимости возврата кредита в срок в зависимости от уровня дохода\n",
      "\n",
      "  total_category  debt_0  debt_1    d_mean\n",
      "0              A      23       2  0.080000\n",
      "1              B    4660     354  0.070602\n",
      "2              C   14568    1353  0.084982\n",
      "3              D     328      21  0.060172\n",
      "4              E      20       2  0.090909\n"
     ]
    }
   ],
   "source": [
    "#для определения зависимости возврата кредита в срок в зависимости от уровня дохода:\n",
    "#1.определим cреднее значение невыплат в срок в зависимости от уровня дохода\n",
    "#2.определим количество выплат и невыплат кредита для каждой категории уровня дохода\n",
    "#3.оформим полученные данные в виде таблицы\n",
    "\n",
    "# стоблец 'total_category' - названий категорий,которые есть в данных\n",
    "# столбец 'debt_0' - количество выплат кредита в срок для выбранной категории\n",
    "# столбец 'debt_1' - количество неыплат кредита в срок для выбранной категории\n",
    "# столбец 'd_mean' - среднее значение невыплат для выбранной категории\n",
    "\n",
    "dat = [['A', 0,0,0],['B',0,0,0], ['C' ,0,0,0], ['D',0,0,0], ['E',0,0,0]] #3\n",
    "tot = ['total_category','debt_0', 'debt_1', 'd_mean']\n",
    "d = pd.DataFrame(data = dat, columns = tot )\n",
    "\n",
    "for row in data['total_income_category'].unique() :\n",
    "    d.loc[d['total_category'] == row, 'd_mean'] = data.loc[data['total_income_category'] == row, 'debt'].mean() #1\n",
    "    d.loc[d['total_category'] == row, 'debt_0'] = data.loc[(data['total_income_category'] == row) & (data['debt'] == 0), 'debt'].count() #2\n",
    "    d.loc[d['total_category'] == row, 'debt_1'] = data.loc[(data['total_income_category'] == row) & (data['debt'] == 1), 'debt'].count() #2\n",
    "\n",
    "print ('проверка зависимости возврата кредита в срок в зависимости от уровня дохода\\n')\n",
    "print (d)"
   ]
  },
  {
   "cell_type": "markdown",
   "id": "8c23123e",
   "metadata": {
    "deletable": false,
    "id": "e8593def"
   },
   "source": [
    "**Вывод:** На основании полученных данных делаем вывод, что зависимость выплаты кредита в срок от уровня дохода,с учётом предоставленных данных, не наблюдается. Поскольку количество клиентов по уровням дохода сильно различны. Например, максимальная степень невыплат принадлежит категории 'E' (доход от 0 до 30000 руб), но в каегории 'Е' количество клиентов значительно меньше, чем, например, в категории 'C' (доход от 50000 до 200000 руб).  "
   ]
  },
  {
   "cell_type": "markdown",
   "id": "0cc49e8a",
   "metadata": {
    "deletable": false,
    "editable": false,
    "id": "99ecbd1f"
   },
   "source": [
    "#### 3.4 Как разные цели кредита влияют на его возврат в срок?"
   ]
  },
  {
   "cell_type": "code",
   "execution_count": 25,
   "id": "9e8446fc",
   "metadata": {
    "deletable": false,
    "id": "2b687290"
   },
   "outputs": [
    {
     "name": "stdout",
     "output_type": "stream",
     "text": [
      "\n",
      "проверка зависимости возврата кредита в срок в зависимости от цели кредита\n",
      "\n",
      " purpose_category\n",
      "операции с недвижимостью    0.072551\n",
      "проведение свадьбы          0.079118\n",
      "получение образования       0.092528\n",
      "операции с автомобилем      0.093480\n",
      "Name: debt, dtype: float64\n"
     ]
    }
   ],
   "source": [
    "#определим среднее значение невозврата кредита в срок в зависимости от цели кредита\n",
    "mean_debt = data.groupby('purpose_category')['debt'].mean()\n",
    "\n",
    "print ('\\nпроверка зависимости возврата кредита в срок в зависимости от цели кредита')\n",
    "print ('\\n',mean_debt.sort_values())"
   ]
  },
  {
   "cell_type": "markdown",
   "id": "b849ec81",
   "metadata": {
    "deletable": false,
    "id": "b4bb2ce6"
   },
   "source": [
    "**Вывод:** На основании полученных данных, возврат кредита в срок осуществляется больше в тех категориях, которые связаны с недвижимостью и свадьбой, и хуже с теми категориями, которые связаны с получением образования и операциями с автомобилями"
   ]
  },
  {
   "cell_type": "markdown",
   "id": "c900766f",
   "metadata": {
    "deletable": false,
    "editable": false,
    "id": "09c3ac4c"
   },
   "source": [
    "#### 3.5 Приведите возможные причины появления пропусков в исходных данных."
   ]
  },
  {
   "cell_type": "markdown",
   "id": "9d864bde",
   "metadata": {
    "deletable": false,
    "id": "9da2ceda"
   },
   "source": [
    "*Ответ:* возможные причины пропусков в данных связаны с занисением информации, поскольку этот процесс осуществляется человеком, то есть возникает человеческий фактор, в виде пропусков, искажения информации и неккоректного его ввода."
   ]
  },
  {
   "cell_type": "markdown",
   "id": "7ede5028",
   "metadata": {
    "deletable": false,
    "editable": false,
    "id": "7b0487d6"
   },
   "source": [
    "#### 3.6 Объясните, почему заполнить пропуски медианным значением — лучшее решение для количественных переменных."
   ]
  },
  {
   "cell_type": "markdown",
   "id": "6401b734",
   "metadata": {
    "deletable": false,
    "id": "7ecf2b8e"
   },
   "source": [
    "*Ответ:* Заполнение пропуски медианным значением лучше, чем средним арифметическим, потому что в наборе данным могут быть единичные значения, которые выбиваются из разброса диапазона. Эти значения будут сильно оказывать влиянение на среднее значение, что будет портить данные. А медиана  - это значение, которое находится в \"середине\" упорядоченного диапазона данных, поэтому значения которые выбиваются из диапазона не будут оказывать влиянения. Это позволит сделать дальнейшие вычисления без сильного искажения."
   ]
  },
  {
   "cell_type": "markdown",
   "id": "99c79cac",
   "metadata": {
    "deletable": false,
    "editable": false,
    "id": "6db5255a"
   },
   "source": [
    "### Шаг 4: общий вывод."
   ]
  },
  {
   "cell_type": "markdown",
   "id": "d34f5431",
   "metadata": {
    "deletable": false,
    "id": "bad65432"
   },
   "source": [
    "Было проведено исследование по надежности заемщиков. Было установлено, что:\n",
    "1. количество детей в семье влияет на количество выплат в срок кретита(линейная зависимость);\n",
    "2. люди которые были браке, но он расспался в силу развода или смерти одного из cупругов, возвращают кредит чаще, чем люди которые в браке или никогда еще не вступали в брак. Максимальный показатель невозврата кредита в срок у группы людей, которые не были в браке.\n",
    "3. зависимость выплаты кредита в срок от уровня дохода,с учётом предоставленных данных, не наблюдается. Поскольку количество клиентов по уровням дохода сильно различны;\n",
    "4. возврат кредита в срок осуществляется больше в тех категориях, которые связаны с недвижимостью и свадьбой, и хуже в тех категориях, которые связаны с получением образования и операциями с автомобилями."
   ]
  },
  {
   "cell_type": "code",
   "execution_count": null,
   "id": "20a04fa4",
   "metadata": {},
   "outputs": [],
   "source": []
  }
 ],
 "metadata": {
  "ExecuteTimeLog": [
   {
    "duration": 50,
    "start_time": "2024-12-27T12:03:25.134Z"
   },
   {
    "duration": 500,
    "start_time": "2024-12-27T12:03:41.125Z"
   },
   {
    "duration": 24,
    "start_time": "2024-12-27T12:03:47.704Z"
   },
   {
    "duration": 16,
    "start_time": "2024-12-27T12:03:49.396Z"
   },
   {
    "duration": 12,
    "start_time": "2024-12-27T12:03:52.122Z"
   },
   {
    "duration": 38,
    "start_time": "2024-12-27T12:03:53.356Z"
   },
   {
    "duration": 5,
    "start_time": "2024-12-27T12:03:55.172Z"
   },
   {
    "duration": 8,
    "start_time": "2024-12-27T12:03:56.299Z"
   },
   {
    "duration": 5,
    "start_time": "2024-12-27T12:03:57.959Z"
   },
   {
    "duration": 7,
    "start_time": "2024-12-27T12:03:59.043Z"
   },
   {
    "duration": 5,
    "start_time": "2024-12-27T12:04:00.147Z"
   },
   {
    "duration": 36,
    "start_time": "2024-12-27T12:04:01.817Z"
   },
   {
    "duration": 10,
    "start_time": "2024-12-27T12:04:02.864Z"
   },
   {
    "duration": 4,
    "start_time": "2024-12-27T12:04:04.552Z"
   },
   {
    "duration": 13,
    "start_time": "2024-12-27T12:04:06.209Z"
   },
   {
    "duration": 22,
    "start_time": "2024-12-27T12:04:07.407Z"
   },
   {
    "duration": 20,
    "start_time": "2024-12-27T12:04:08.066Z"
   },
   {
    "duration": 5,
    "start_time": "2024-12-27T12:04:09.989Z"
   },
   {
    "duration": 17,
    "start_time": "2024-12-27T12:04:10.694Z"
   },
   {
    "duration": 6,
    "start_time": "2024-12-27T12:04:12.058Z"
   },
   {
    "duration": 3,
    "start_time": "2024-12-27T12:04:13.522Z"
   },
   {
    "duration": 10,
    "start_time": "2024-12-27T12:04:14.778Z"
   },
   {
    "duration": 6,
    "start_time": "2024-12-27T12:04:18.144Z"
   },
   {
    "duration": 9,
    "start_time": "2024-12-27T12:05:12.948Z"
   },
   {
    "duration": 33,
    "start_time": "2024-12-27T12:08:46.666Z"
   },
   {
    "duration": 12,
    "start_time": "2024-12-27T12:08:57.023Z"
   },
   {
    "duration": 9,
    "start_time": "2024-12-27T12:10:15.811Z"
   },
   {
    "duration": 7,
    "start_time": "2024-12-27T12:11:25.463Z"
   },
   {
    "duration": 12,
    "start_time": "2024-12-27T12:12:38.801Z"
   },
   {
    "duration": 9,
    "start_time": "2024-12-27T12:12:49.955Z"
   },
   {
    "duration": 10,
    "start_time": "2024-12-27T12:13:38.790Z"
   },
   {
    "duration": 10,
    "start_time": "2024-12-27T12:19:08.101Z"
   },
   {
    "duration": 10,
    "start_time": "2024-12-27T12:19:53.350Z"
   },
   {
    "duration": 12,
    "start_time": "2024-12-27T12:20:38.287Z"
   },
   {
    "duration": 13,
    "start_time": "2024-12-27T12:22:20.187Z"
   },
   {
    "duration": 13,
    "start_time": "2024-12-27T12:27:59.599Z"
   },
   {
    "duration": 9,
    "start_time": "2024-12-27T12:28:32.854Z"
   },
   {
    "duration": 10,
    "start_time": "2024-12-27T12:29:09.249Z"
   },
   {
    "duration": 12,
    "start_time": "2024-12-27T12:29:48.615Z"
   },
   {
    "duration": 9,
    "start_time": "2024-12-27T12:29:59.473Z"
   },
   {
    "duration": 1116,
    "start_time": "2024-12-27T12:30:23.646Z"
   },
   {
    "duration": 11,
    "start_time": "2024-12-27T12:30:38.024Z"
   },
   {
    "duration": 15,
    "start_time": "2024-12-27T12:32:06.811Z"
   },
   {
    "duration": 15,
    "start_time": "2024-12-27T12:32:23.697Z"
   },
   {
    "duration": 567,
    "start_time": "2024-12-27T17:28:59.311Z"
   },
   {
    "duration": 23,
    "start_time": "2024-12-27T17:29:01.860Z"
   },
   {
    "duration": 16,
    "start_time": "2024-12-27T17:29:03.366Z"
   },
   {
    "duration": 10,
    "start_time": "2024-12-27T17:29:05.892Z"
   },
   {
    "duration": 35,
    "start_time": "2024-12-27T17:29:06.949Z"
   },
   {
    "duration": 4,
    "start_time": "2024-12-27T17:29:08.251Z"
   },
   {
    "duration": 14,
    "start_time": "2024-12-27T17:29:09.526Z"
   },
   {
    "duration": 5,
    "start_time": "2024-12-27T17:29:11.970Z"
   },
   {
    "duration": 7,
    "start_time": "2024-12-27T17:29:13.502Z"
   },
   {
    "duration": 4,
    "start_time": "2024-12-27T17:29:14.860Z"
   },
   {
    "duration": 33,
    "start_time": "2024-12-27T17:29:16.877Z"
   },
   {
    "duration": 13,
    "start_time": "2024-12-27T17:29:18.272Z"
   },
   {
    "duration": 12,
    "start_time": "2024-12-27T17:29:20.220Z"
   },
   {
    "duration": 13,
    "start_time": "2024-12-27T17:29:21.986Z"
   },
   {
    "duration": 19,
    "start_time": "2024-12-27T17:29:23.184Z"
   },
   {
    "duration": 17,
    "start_time": "2024-12-27T17:29:23.799Z"
   },
   {
    "duration": 4,
    "start_time": "2024-12-27T17:29:25.641Z"
   },
   {
    "duration": 10,
    "start_time": "2024-12-27T17:29:26.346Z"
   },
   {
    "duration": 6,
    "start_time": "2024-12-27T17:29:28.139Z"
   },
   {
    "duration": 3,
    "start_time": "2024-12-27T17:29:29.551Z"
   },
   {
    "duration": 8,
    "start_time": "2024-12-27T17:29:30.259Z"
   },
   {
    "duration": 12,
    "start_time": "2024-12-27T17:33:54.190Z"
   },
   {
    "duration": 15,
    "start_time": "2024-12-27T17:34:10.705Z"
   },
   {
    "duration": 20,
    "start_time": "2024-12-27T17:38:41.413Z"
   },
   {
    "duration": 20,
    "start_time": "2024-12-27T17:38:49.886Z"
   },
   {
    "duration": 13,
    "start_time": "2024-12-27T17:39:48.560Z"
   },
   {
    "duration": 11,
    "start_time": "2024-12-27T17:40:03.014Z"
   },
   {
    "duration": 11,
    "start_time": "2024-12-27T17:40:44.608Z"
   },
   {
    "duration": 19,
    "start_time": "2024-12-27T17:41:03.117Z"
   },
   {
    "duration": 23,
    "start_time": "2024-12-27T17:41:21.820Z"
   },
   {
    "duration": 29,
    "start_time": "2024-12-27T17:41:31.618Z"
   },
   {
    "duration": 16,
    "start_time": "2024-12-27T17:41:42.040Z"
   },
   {
    "duration": 10,
    "start_time": "2024-12-27T17:42:48.863Z"
   },
   {
    "duration": 14,
    "start_time": "2024-12-27T17:43:00.945Z"
   },
   {
    "duration": 17,
    "start_time": "2024-12-27T17:44:37.356Z"
   },
   {
    "duration": 13,
    "start_time": "2024-12-27T17:46:30.059Z"
   },
   {
    "duration": 15,
    "start_time": "2024-12-27T17:47:03.046Z"
   },
   {
    "duration": 77,
    "start_time": "2024-12-27T17:53:35.916Z"
   },
   {
    "duration": 84,
    "start_time": "2024-12-27T17:53:55.593Z"
   },
   {
    "duration": 22,
    "start_time": "2024-12-27T17:54:50.509Z"
   },
   {
    "duration": 17,
    "start_time": "2024-12-27T17:55:03.548Z"
   },
   {
    "duration": 15,
    "start_time": "2024-12-27T17:56:42.614Z"
   },
   {
    "duration": 21,
    "start_time": "2024-12-27T18:00:42.400Z"
   },
   {
    "duration": 25,
    "start_time": "2024-12-27T18:02:26.989Z"
   },
   {
    "duration": 113,
    "start_time": "2024-12-27T18:03:32.676Z"
   },
   {
    "duration": 26,
    "start_time": "2024-12-27T18:03:43.757Z"
   },
   {
    "duration": 18,
    "start_time": "2024-12-27T18:04:04.061Z"
   },
   {
    "duration": 26,
    "start_time": "2024-12-27T18:04:18.174Z"
   },
   {
    "duration": 24,
    "start_time": "2024-12-27T18:08:48.822Z"
   },
   {
    "duration": 21,
    "start_time": "2024-12-27T18:09:09.045Z"
   },
   {
    "duration": 21,
    "start_time": "2024-12-27T18:09:27.442Z"
   },
   {
    "duration": 17,
    "start_time": "2024-12-27T18:09:56.765Z"
   },
   {
    "duration": 17,
    "start_time": "2024-12-27T18:10:32.878Z"
   },
   {
    "duration": 17,
    "start_time": "2024-12-27T18:11:09.054Z"
   },
   {
    "duration": 19,
    "start_time": "2024-12-27T18:11:40.095Z"
   },
   {
    "duration": 20,
    "start_time": "2024-12-27T18:12:06.888Z"
   },
   {
    "duration": 24,
    "start_time": "2024-12-27T18:12:18.317Z"
   },
   {
    "duration": 15,
    "start_time": "2024-12-27T18:19:17.458Z"
   },
   {
    "duration": 10,
    "start_time": "2024-12-27T18:23:16.435Z"
   },
   {
    "duration": 10,
    "start_time": "2024-12-27T18:23:47.343Z"
   },
   {
    "duration": 5,
    "start_time": "2024-12-27T18:24:14.146Z"
   },
   {
    "duration": 80,
    "start_time": "2024-12-27T18:28:13.859Z"
   },
   {
    "duration": 180,
    "start_time": "2024-12-27T18:28:25.404Z"
   },
   {
    "duration": 12,
    "start_time": "2024-12-27T18:28:34.809Z"
   },
   {
    "duration": 9,
    "start_time": "2024-12-27T18:29:06.994Z"
   },
   {
    "duration": 8,
    "start_time": "2024-12-27T18:29:55.289Z"
   },
   {
    "duration": 9,
    "start_time": "2024-12-27T18:32:15.258Z"
   },
   {
    "duration": 8,
    "start_time": "2024-12-27T18:32:42.087Z"
   },
   {
    "duration": 10,
    "start_time": "2024-12-27T18:36:16.867Z"
   },
   {
    "duration": 9,
    "start_time": "2024-12-27T18:36:44.983Z"
   },
   {
    "duration": 91,
    "start_time": "2024-12-27T18:38:28.452Z"
   },
   {
    "duration": 90,
    "start_time": "2024-12-27T18:38:46.315Z"
   },
   {
    "duration": 94,
    "start_time": "2024-12-27T18:39:04.442Z"
   },
   {
    "duration": 80,
    "start_time": "2024-12-27T18:39:10.407Z"
   },
   {
    "duration": 10,
    "start_time": "2024-12-27T18:39:18.102Z"
   },
   {
    "duration": 11,
    "start_time": "2024-12-27T18:39:50.357Z"
   },
   {
    "duration": 10,
    "start_time": "2024-12-27T18:40:05.561Z"
   },
   {
    "duration": 8,
    "start_time": "2024-12-27T18:46:56.470Z"
   },
   {
    "duration": 11,
    "start_time": "2024-12-27T18:47:26.881Z"
   },
   {
    "duration": 7,
    "start_time": "2024-12-27T18:47:40.093Z"
   },
   {
    "duration": 7,
    "start_time": "2024-12-27T18:48:28.612Z"
   },
   {
    "duration": 8,
    "start_time": "2024-12-27T18:48:37.147Z"
   },
   {
    "duration": 7,
    "start_time": "2024-12-27T19:12:15.267Z"
   },
   {
    "duration": 10,
    "start_time": "2024-12-27T19:39:32.514Z"
   },
   {
    "duration": 10,
    "start_time": "2024-12-27T19:39:37.206Z"
   },
   {
    "duration": 8,
    "start_time": "2024-12-27T19:39:39.451Z"
   },
   {
    "duration": 8,
    "start_time": "2024-12-27T19:39:40.955Z"
   },
   {
    "duration": 77,
    "start_time": "2024-12-27T19:39:53.676Z"
   },
   {
    "duration": 14,
    "start_time": "2024-12-27T19:39:54.609Z"
   },
   {
    "duration": 15,
    "start_time": "2024-12-27T19:39:55.541Z"
   },
   {
    "duration": 10,
    "start_time": "2024-12-27T19:39:57.264Z"
   },
   {
    "duration": 38,
    "start_time": "2024-12-27T19:39:58.208Z"
   },
   {
    "duration": 3,
    "start_time": "2024-12-27T19:39:59.508Z"
   },
   {
    "duration": 8,
    "start_time": "2024-12-27T19:40:00.385Z"
   },
   {
    "duration": 4,
    "start_time": "2024-12-27T19:40:01.675Z"
   },
   {
    "duration": 5,
    "start_time": "2024-12-27T19:40:02.545Z"
   },
   {
    "duration": 5,
    "start_time": "2024-12-27T19:40:03.411Z"
   },
   {
    "duration": 33,
    "start_time": "2024-12-27T19:40:04.734Z"
   },
   {
    "duration": 11,
    "start_time": "2024-12-27T19:40:05.616Z"
   },
   {
    "duration": 4,
    "start_time": "2024-12-27T19:40:06.959Z"
   },
   {
    "duration": 11,
    "start_time": "2024-12-27T19:40:08.363Z"
   },
   {
    "duration": 25,
    "start_time": "2024-12-27T19:40:09.312Z"
   },
   {
    "duration": 17,
    "start_time": "2024-12-27T19:40:09.795Z"
   },
   {
    "duration": 3,
    "start_time": "2024-12-27T19:40:11.243Z"
   },
   {
    "duration": 9,
    "start_time": "2024-12-27T19:40:11.765Z"
   },
   {
    "duration": 13,
    "start_time": "2024-12-27T19:40:12.821Z"
   },
   {
    "duration": 3,
    "start_time": "2024-12-27T19:40:13.881Z"
   },
   {
    "duration": 18,
    "start_time": "2024-12-27T19:40:14.416Z"
   },
   {
    "duration": 10,
    "start_time": "2024-12-27T19:40:16.046Z"
   },
   {
    "duration": 9,
    "start_time": "2024-12-27T19:40:20.246Z"
   },
   {
    "duration": 18,
    "start_time": "2024-12-27T19:40:22.320Z"
   },
   {
    "duration": 9,
    "start_time": "2024-12-27T19:40:24.040Z"
   },
   {
    "duration": 6,
    "start_time": "2024-12-27T19:40:25.679Z"
   },
   {
    "duration": 548,
    "start_time": "2024-12-28T07:01:40.232Z"
   },
   {
    "duration": 23,
    "start_time": "2024-12-28T07:01:41.704Z"
   },
   {
    "duration": 16,
    "start_time": "2024-12-28T07:01:42.740Z"
   },
   {
    "duration": 10,
    "start_time": "2024-12-28T07:01:44.602Z"
   },
   {
    "duration": 38,
    "start_time": "2024-12-28T07:01:45.464Z"
   },
   {
    "duration": 3,
    "start_time": "2024-12-28T07:01:50.613Z"
   },
   {
    "duration": 8,
    "start_time": "2024-12-28T07:01:51.625Z"
   },
   {
    "duration": 5,
    "start_time": "2024-12-28T07:01:53.132Z"
   },
   {
    "duration": 7,
    "start_time": "2024-12-28T07:01:54.137Z"
   },
   {
    "duration": 5,
    "start_time": "2024-12-28T07:01:55.138Z"
   },
   {
    "duration": 35,
    "start_time": "2024-12-28T07:01:56.744Z"
   },
   {
    "duration": 11,
    "start_time": "2024-12-28T07:01:57.805Z"
   },
   {
    "duration": 4,
    "start_time": "2024-12-28T07:01:59.308Z"
   },
   {
    "duration": 12,
    "start_time": "2024-12-28T07:02:00.813Z"
   },
   {
    "duration": 20,
    "start_time": "2024-12-28T07:02:01.761Z"
   },
   {
    "duration": 18,
    "start_time": "2024-12-28T07:02:02.267Z"
   },
   {
    "duration": 3,
    "start_time": "2024-12-28T07:02:03.948Z"
   },
   {
    "duration": 11,
    "start_time": "2024-12-28T07:02:04.553Z"
   },
   {
    "duration": 7,
    "start_time": "2024-12-28T07:02:05.730Z"
   },
   {
    "duration": 3,
    "start_time": "2024-12-28T07:02:10.616Z"
   },
   {
    "duration": 10,
    "start_time": "2024-12-28T07:02:11.226Z"
   },
   {
    "duration": 9,
    "start_time": "2024-12-28T07:03:38.207Z"
   },
   {
    "duration": 10,
    "start_time": "2024-12-28T07:04:15.080Z"
   },
   {
    "duration": 11,
    "start_time": "2024-12-28T07:04:30.744Z"
   },
   {
    "duration": 9,
    "start_time": "2024-12-28T07:04:50.054Z"
   },
   {
    "duration": 7,
    "start_time": "2024-12-28T07:04:53.314Z"
   },
   {
    "duration": 15,
    "start_time": "2024-12-28T07:06:59.111Z"
   },
   {
    "duration": 69,
    "start_time": "2024-12-28T07:23:54.589Z"
   },
   {
    "duration": 3,
    "start_time": "2024-12-28T07:24:17.429Z"
   },
   {
    "duration": 3,
    "start_time": "2024-12-28T07:24:42.776Z"
   },
   {
    "duration": 10,
    "start_time": "2024-12-28T07:24:52.994Z"
   },
   {
    "duration": 392,
    "start_time": "2024-12-28T07:25:03.208Z"
   },
   {
    "duration": 14,
    "start_time": "2024-12-28T07:25:28.419Z"
   },
   {
    "duration": 14,
    "start_time": "2024-12-28T07:25:44.889Z"
   },
   {
    "duration": 107,
    "start_time": "2024-12-28T07:26:21.498Z"
   },
   {
    "duration": 12,
    "start_time": "2024-12-28T07:26:28.099Z"
   },
   {
    "duration": 10,
    "start_time": "2024-12-28T07:27:41.876Z"
   },
   {
    "duration": 16,
    "start_time": "2024-12-28T07:27:47.831Z"
   },
   {
    "duration": 21,
    "start_time": "2024-12-28T07:28:34.085Z"
   },
   {
    "duration": 17,
    "start_time": "2024-12-28T07:28:51.110Z"
   },
   {
    "duration": 690,
    "start_time": "2024-12-28T07:29:52.826Z"
   },
   {
    "duration": 3,
    "start_time": "2024-12-28T07:30:10.464Z"
   },
   {
    "duration": 5,
    "start_time": "2024-12-28T07:30:17.617Z"
   },
   {
    "duration": 9,
    "start_time": "2024-12-28T07:30:52.198Z"
   },
   {
    "duration": 9,
    "start_time": "2024-12-28T07:31:05.024Z"
   },
   {
    "duration": 10,
    "start_time": "2024-12-28T07:32:05.961Z"
   },
   {
    "duration": 5,
    "start_time": "2024-12-28T07:32:15.078Z"
   },
   {
    "duration": 5,
    "start_time": "2024-12-28T07:33:03.881Z"
   },
   {
    "duration": 10,
    "start_time": "2024-12-28T07:33:23.696Z"
   },
   {
    "duration": 9,
    "start_time": "2024-12-28T07:34:51.875Z"
   },
   {
    "duration": 24,
    "start_time": "2024-12-28T07:36:02.827Z"
   },
   {
    "duration": 9,
    "start_time": "2024-12-28T07:36:32.745Z"
   },
   {
    "duration": 9,
    "start_time": "2024-12-28T07:36:40.585Z"
   },
   {
    "duration": 17,
    "start_time": "2024-12-28T07:36:46.531Z"
   },
   {
    "duration": 687,
    "start_time": "2024-12-28T07:37:06.468Z"
   },
   {
    "duration": 930,
    "start_time": "2024-12-28T07:41:05.058Z"
   },
   {
    "duration": 78,
    "start_time": "2024-12-28T07:42:13.413Z"
   },
   {
    "duration": 1197,
    "start_time": "2024-12-28T07:42:24.929Z"
   },
   {
    "duration": 14,
    "start_time": "2024-12-28T07:42:42.941Z"
   },
   {
    "duration": 12,
    "start_time": "2024-12-28T07:43:35.684Z"
   },
   {
    "duration": 880,
    "start_time": "2024-12-28T07:43:49.314Z"
   },
   {
    "duration": 673,
    "start_time": "2024-12-28T07:44:12.270Z"
   },
   {
    "duration": 761,
    "start_time": "2024-12-28T07:46:03.005Z"
   },
   {
    "duration": 940,
    "start_time": "2024-12-28T07:46:41.112Z"
   },
   {
    "duration": 6,
    "start_time": "2024-12-28T07:48:05.017Z"
   },
   {
    "duration": 14,
    "start_time": "2024-12-28T07:50:02.333Z"
   },
   {
    "duration": 16,
    "start_time": "2024-12-28T07:50:29.862Z"
   },
   {
    "duration": 9,
    "start_time": "2024-12-28T07:50:56.196Z"
   },
   {
    "duration": 562,
    "start_time": "2024-12-28T07:51:17.615Z"
   },
   {
    "duration": 11,
    "start_time": "2024-12-28T07:51:42.657Z"
   },
   {
    "duration": 348,
    "start_time": "2024-12-28T07:51:54.144Z"
   },
   {
    "duration": 9,
    "start_time": "2024-12-28T07:52:09.919Z"
   },
   {
    "duration": 10,
    "start_time": "2024-12-28T07:53:20.519Z"
   },
   {
    "duration": 11,
    "start_time": "2024-12-28T07:53:37.694Z"
   },
   {
    "duration": 10,
    "start_time": "2024-12-28T07:55:17.509Z"
   },
   {
    "duration": 11,
    "start_time": "2024-12-28T07:55:33.779Z"
   },
   {
    "duration": 12,
    "start_time": "2024-12-28T07:55:58.741Z"
   },
   {
    "duration": 12,
    "start_time": "2024-12-28T07:56:05.762Z"
   },
   {
    "duration": 10,
    "start_time": "2024-12-28T07:57:16.583Z"
   },
   {
    "duration": 11,
    "start_time": "2024-12-28T07:57:23.433Z"
   },
   {
    "duration": 8,
    "start_time": "2024-12-28T07:57:43.500Z"
   },
   {
    "duration": 12,
    "start_time": "2024-12-28T07:57:54.276Z"
   },
   {
    "duration": 436,
    "start_time": "2024-12-28T07:58:01.257Z"
   },
   {
    "duration": 403,
    "start_time": "2024-12-28T07:58:27.384Z"
   },
   {
    "duration": 344,
    "start_time": "2024-12-28T07:58:36.802Z"
   },
   {
    "duration": 9,
    "start_time": "2024-12-28T07:58:45.593Z"
   },
   {
    "duration": 12,
    "start_time": "2024-12-28T07:58:53.980Z"
   },
   {
    "duration": 9,
    "start_time": "2024-12-28T07:59:18.874Z"
   },
   {
    "duration": 13,
    "start_time": "2024-12-28T07:59:28.341Z"
   },
   {
    "duration": 15,
    "start_time": "2024-12-28T08:01:54.732Z"
   },
   {
    "duration": 14,
    "start_time": "2024-12-28T08:03:58.740Z"
   },
   {
    "duration": 103,
    "start_time": "2024-12-28T08:07:37.217Z"
   },
   {
    "duration": 19,
    "start_time": "2024-12-28T08:07:43.020Z"
   },
   {
    "duration": 19,
    "start_time": "2024-12-28T08:07:58.703Z"
   },
   {
    "duration": 14,
    "start_time": "2024-12-28T08:09:06.466Z"
   },
   {
    "duration": 20,
    "start_time": "2024-12-28T08:10:27.745Z"
   },
   {
    "duration": 15,
    "start_time": "2024-12-28T08:11:20.029Z"
   },
   {
    "duration": 26,
    "start_time": "2024-12-28T08:12:06.049Z"
   },
   {
    "duration": 18,
    "start_time": "2024-12-28T08:12:13.147Z"
   },
   {
    "duration": 9,
    "start_time": "2024-12-28T08:13:00.292Z"
   },
   {
    "duration": 12,
    "start_time": "2024-12-28T08:13:38.169Z"
   },
   {
    "duration": 682,
    "start_time": "2024-12-28T08:14:01.902Z"
   },
   {
    "duration": 10,
    "start_time": "2024-12-28T08:14:30.882Z"
   },
   {
    "duration": 11,
    "start_time": "2024-12-28T08:14:34.376Z"
   },
   {
    "duration": 10,
    "start_time": "2024-12-28T08:15:39.573Z"
   },
   {
    "duration": 9,
    "start_time": "2024-12-28T08:15:47.193Z"
   },
   {
    "duration": 14,
    "start_time": "2024-12-28T08:16:41.042Z"
   },
   {
    "duration": 8,
    "start_time": "2024-12-28T08:16:46.388Z"
   },
   {
    "duration": 7,
    "start_time": "2024-12-28T08:16:59.717Z"
   },
   {
    "duration": 9,
    "start_time": "2024-12-28T08:17:09.123Z"
   },
   {
    "duration": 14,
    "start_time": "2024-12-28T08:17:24.766Z"
   },
   {
    "duration": 1412,
    "start_time": "2024-12-28T08:20:21.213Z"
   },
   {
    "duration": 1359,
    "start_time": "2024-12-28T08:20:32.613Z"
   },
   {
    "duration": 685,
    "start_time": "2024-12-28T08:20:54.575Z"
   },
   {
    "duration": 13,
    "start_time": "2024-12-28T08:23:59.404Z"
   },
   {
    "duration": 13,
    "start_time": "2024-12-28T08:24:06.116Z"
   },
   {
    "duration": 11,
    "start_time": "2024-12-28T08:24:12.563Z"
   },
   {
    "duration": 12,
    "start_time": "2024-12-28T08:24:37.182Z"
   },
   {
    "duration": 12,
    "start_time": "2024-12-28T08:25:46.312Z"
   },
   {
    "duration": 394,
    "start_time": "2024-12-28T08:26:05.841Z"
   },
   {
    "duration": 12,
    "start_time": "2024-12-28T08:26:26.292Z"
   },
   {
    "duration": 11,
    "start_time": "2024-12-28T08:26:43.377Z"
   },
   {
    "duration": 92,
    "start_time": "2024-12-28T08:26:54.676Z"
   },
   {
    "duration": 79,
    "start_time": "2024-12-28T08:27:01.182Z"
   },
   {
    "duration": 12,
    "start_time": "2024-12-28T08:27:06.578Z"
   },
   {
    "duration": 457,
    "start_time": "2024-12-28T08:27:51.953Z"
   },
   {
    "duration": 17,
    "start_time": "2024-12-28T08:28:01.322Z"
   },
   {
    "duration": 12,
    "start_time": "2024-12-28T08:28:43.516Z"
   },
   {
    "duration": 9,
    "start_time": "2024-12-28T08:29:19.372Z"
   },
   {
    "duration": 8,
    "start_time": "2024-12-28T08:29:33.576Z"
   },
   {
    "duration": 8,
    "start_time": "2024-12-28T08:29:47.736Z"
   },
   {
    "duration": 8,
    "start_time": "2024-12-28T08:30:03.636Z"
   },
   {
    "duration": 9,
    "start_time": "2024-12-28T08:31:37.926Z"
   },
   {
    "duration": 10,
    "start_time": "2024-12-28T08:31:51.566Z"
   },
   {
    "duration": 12,
    "start_time": "2024-12-28T08:32:30.968Z"
   },
   {
    "duration": 12,
    "start_time": "2024-12-28T08:33:18.528Z"
   },
   {
    "duration": 8,
    "start_time": "2024-12-28T08:34:44.897Z"
   },
   {
    "duration": 8,
    "start_time": "2024-12-28T08:35:02.926Z"
   },
   {
    "duration": 6,
    "start_time": "2024-12-28T08:35:10.587Z"
   },
   {
    "duration": 12,
    "start_time": "2024-12-28T08:35:21.231Z"
   },
   {
    "duration": 447,
    "start_time": "2024-12-28T08:35:30.161Z"
   },
   {
    "duration": 16,
    "start_time": "2024-12-28T08:36:07.127Z"
   },
   {
    "duration": 9,
    "start_time": "2024-12-28T08:36:32.623Z"
   },
   {
    "duration": 10,
    "start_time": "2024-12-28T08:37:12.343Z"
   },
   {
    "duration": 10,
    "start_time": "2024-12-28T08:37:53.719Z"
   },
   {
    "duration": 20,
    "start_time": "2024-12-28T08:38:34.863Z"
   },
   {
    "duration": 13,
    "start_time": "2024-12-28T08:39:13.586Z"
   },
   {
    "duration": 14,
    "start_time": "2024-12-28T08:39:44.678Z"
   },
   {
    "duration": 12,
    "start_time": "2024-12-28T08:39:54.199Z"
   },
   {
    "duration": 8,
    "start_time": "2024-12-28T08:43:44.251Z"
   },
   {
    "duration": 16,
    "start_time": "2024-12-28T08:44:32.539Z"
   },
   {
    "duration": 16,
    "start_time": "2024-12-28T08:48:45.652Z"
   },
   {
    "duration": 12,
    "start_time": "2024-12-28T08:49:03.674Z"
   },
   {
    "duration": 13,
    "start_time": "2024-12-28T08:49:38.954Z"
   },
   {
    "duration": 21,
    "start_time": "2024-12-28T08:53:48.016Z"
   },
   {
    "duration": 24,
    "start_time": "2024-12-28T08:54:15.171Z"
   },
   {
    "duration": 31,
    "start_time": "2024-12-28T08:56:19.942Z"
   },
   {
    "duration": 37,
    "start_time": "2024-12-28T08:57:07.683Z"
   },
   {
    "duration": 13,
    "start_time": "2024-12-28T08:58:47.470Z"
   },
   {
    "duration": 23,
    "start_time": "2024-12-28T08:58:55.183Z"
   },
   {
    "duration": 18,
    "start_time": "2024-12-28T08:59:25.110Z"
   },
   {
    "duration": 21,
    "start_time": "2024-12-28T08:59:45.586Z"
   },
   {
    "duration": 41,
    "start_time": "2024-12-28T09:00:36.072Z"
   },
   {
    "duration": 1479,
    "start_time": "2024-12-28T09:01:44.341Z"
   },
   {
    "duration": 39,
    "start_time": "2024-12-28T09:02:16.657Z"
   },
   {
    "duration": 35,
    "start_time": "2024-12-28T09:02:48.738Z"
   },
   {
    "duration": 34,
    "start_time": "2024-12-28T09:04:00.043Z"
   },
   {
    "duration": 37,
    "start_time": "2024-12-28T09:07:00.235Z"
   },
   {
    "duration": 47,
    "start_time": "2024-12-28T09:07:20.814Z"
   },
   {
    "duration": 39,
    "start_time": "2024-12-28T09:08:09.307Z"
   },
   {
    "duration": 45,
    "start_time": "2024-12-28T09:08:38.383Z"
   },
   {
    "duration": 41,
    "start_time": "2024-12-28T09:09:17.463Z"
   },
   {
    "duration": 42,
    "start_time": "2024-12-28T09:16:09.905Z"
   },
   {
    "duration": 42,
    "start_time": "2024-12-28T09:16:23.135Z"
   },
   {
    "duration": 45,
    "start_time": "2024-12-28T09:16:31.968Z"
   },
   {
    "duration": 41,
    "start_time": "2024-12-28T09:16:38.179Z"
   },
   {
    "duration": 38,
    "start_time": "2024-12-28T09:20:16.347Z"
   },
   {
    "duration": 22,
    "start_time": "2024-12-28T09:21:06.140Z"
   },
   {
    "duration": 20,
    "start_time": "2024-12-28T09:21:49.328Z"
   },
   {
    "duration": 22,
    "start_time": "2024-12-28T09:22:07.311Z"
   },
   {
    "duration": 22,
    "start_time": "2024-12-28T09:23:59.163Z"
   },
   {
    "duration": 33,
    "start_time": "2024-12-28T09:24:14.053Z"
   },
   {
    "duration": 28,
    "start_time": "2024-12-28T09:25:22.269Z"
   },
   {
    "duration": 28,
    "start_time": "2024-12-28T09:28:51.796Z"
   },
   {
    "duration": 28,
    "start_time": "2024-12-28T09:29:09.933Z"
   },
   {
    "duration": 43,
    "start_time": "2024-12-28T09:30:20.147Z"
   },
   {
    "duration": 16,
    "start_time": "2024-12-28T09:31:52.359Z"
   },
   {
    "duration": 10,
    "start_time": "2024-12-28T09:32:08.412Z"
   },
   {
    "duration": 13,
    "start_time": "2024-12-28T09:32:11.945Z"
   },
   {
    "duration": 9,
    "start_time": "2024-12-28T09:33:34.974Z"
   },
   {
    "duration": 86,
    "start_time": "2024-12-28T09:36:34.104Z"
   },
   {
    "duration": 69,
    "start_time": "2024-12-28T09:36:44.408Z"
   },
   {
    "duration": 89,
    "start_time": "2024-12-28T09:37:56.732Z"
   },
   {
    "duration": 74,
    "start_time": "2024-12-28T09:38:16.409Z"
   },
   {
    "duration": 79,
    "start_time": "2024-12-28T09:38:31.057Z"
   },
   {
    "duration": 15,
    "start_time": "2024-12-28T09:38:31.987Z"
   },
   {
    "duration": 15,
    "start_time": "2024-12-28T09:38:32.896Z"
   },
   {
    "duration": 11,
    "start_time": "2024-12-28T09:38:34.688Z"
   },
   {
    "duration": 35,
    "start_time": "2024-12-28T09:38:35.562Z"
   },
   {
    "duration": 3,
    "start_time": "2024-12-28T09:38:38.268Z"
   },
   {
    "duration": 9,
    "start_time": "2024-12-28T09:38:39.542Z"
   },
   {
    "duration": 4,
    "start_time": "2024-12-28T09:38:41.412Z"
   },
   {
    "duration": 7,
    "start_time": "2024-12-28T09:38:42.626Z"
   },
   {
    "duration": 4,
    "start_time": "2024-12-28T09:38:43.803Z"
   },
   {
    "duration": 37,
    "start_time": "2024-12-28T09:38:45.527Z"
   },
   {
    "duration": 11,
    "start_time": "2024-12-28T09:38:46.631Z"
   },
   {
    "duration": 4,
    "start_time": "2024-12-28T09:38:48.367Z"
   },
   {
    "duration": 12,
    "start_time": "2024-12-28T09:38:50.086Z"
   },
   {
    "duration": 20,
    "start_time": "2024-12-28T09:38:51.238Z"
   },
   {
    "duration": 18,
    "start_time": "2024-12-28T09:38:51.812Z"
   },
   {
    "duration": 3,
    "start_time": "2024-12-28T09:38:53.619Z"
   },
   {
    "duration": 11,
    "start_time": "2024-12-28T09:38:54.213Z"
   },
   {
    "duration": 5,
    "start_time": "2024-12-28T09:38:55.429Z"
   },
   {
    "duration": 4,
    "start_time": "2024-12-28T09:38:56.695Z"
   },
   {
    "duration": 9,
    "start_time": "2024-12-28T09:38:57.315Z"
   },
   {
    "duration": 28,
    "start_time": "2024-12-28T09:38:59.653Z"
   },
   {
    "duration": 88,
    "start_time": "2024-12-28T09:39:05.278Z"
   },
   {
    "duration": 97,
    "start_time": "2024-12-28T09:39:59.513Z"
   },
   {
    "duration": 80,
    "start_time": "2024-12-28T09:40:56.848Z"
   },
   {
    "duration": 10,
    "start_time": "2024-12-28T09:44:53.682Z"
   },
   {
    "duration": 41,
    "start_time": "2024-12-28T09:45:03.399Z"
   },
   {
    "duration": 45,
    "start_time": "2024-12-28T09:45:51.902Z"
   },
   {
    "duration": 91,
    "start_time": "2024-12-28T10:00:45.914Z"
   },
   {
    "duration": 20,
    "start_time": "2024-12-28T10:00:47.063Z"
   },
   {
    "duration": 16,
    "start_time": "2024-12-28T10:00:48.170Z"
   },
   {
    "duration": 17,
    "start_time": "2024-12-28T10:00:50.243Z"
   },
   {
    "duration": 35,
    "start_time": "2024-12-28T10:00:51.169Z"
   },
   {
    "duration": 4,
    "start_time": "2024-12-28T10:00:52.551Z"
   },
   {
    "duration": 9,
    "start_time": "2024-12-28T10:00:53.519Z"
   },
   {
    "duration": 7,
    "start_time": "2024-12-28T10:00:55.044Z"
   },
   {
    "duration": 6,
    "start_time": "2024-12-28T10:00:56.050Z"
   },
   {
    "duration": 6,
    "start_time": "2024-12-28T10:00:57.091Z"
   },
   {
    "duration": 42,
    "start_time": "2024-12-28T10:00:58.644Z"
   },
   {
    "duration": 14,
    "start_time": "2024-12-28T10:00:59.653Z"
   },
   {
    "duration": 5,
    "start_time": "2024-12-28T10:01:01.250Z"
   },
   {
    "duration": 12,
    "start_time": "2024-12-28T10:01:03.762Z"
   },
   {
    "duration": 29,
    "start_time": "2024-12-28T10:01:04.813Z"
   },
   {
    "duration": 31,
    "start_time": "2024-12-28T10:01:05.343Z"
   },
   {
    "duration": 3,
    "start_time": "2024-12-28T10:01:08.080Z"
   },
   {
    "duration": 19,
    "start_time": "2024-12-28T10:01:08.745Z"
   },
   {
    "duration": 6,
    "start_time": "2024-12-28T10:01:10.103Z"
   },
   {
    "duration": 4,
    "start_time": "2024-12-28T10:01:11.484Z"
   },
   {
    "duration": 9,
    "start_time": "2024-12-28T10:01:12.156Z"
   },
   {
    "duration": 30,
    "start_time": "2024-12-28T10:01:14.087Z"
   },
   {
    "duration": 9,
    "start_time": "2024-12-28T10:01:17.887Z"
   },
   {
    "duration": 49,
    "start_time": "2024-12-28T10:01:20.828Z"
   },
   {
    "duration": 9,
    "start_time": "2024-12-28T10:01:25.484Z"
   },
   {
    "duration": 30,
    "start_time": "2024-12-28T10:02:19.823Z"
   },
   {
    "duration": 73,
    "start_time": "2024-12-28T10:02:30.244Z"
   },
   {
    "duration": 16,
    "start_time": "2024-12-28T10:02:31.242Z"
   },
   {
    "duration": 16,
    "start_time": "2024-12-28T10:02:32.242Z"
   },
   {
    "duration": 11,
    "start_time": "2024-12-28T10:02:34.320Z"
   },
   {
    "duration": 35,
    "start_time": "2024-12-28T10:02:35.483Z"
   },
   {
    "duration": 5,
    "start_time": "2024-12-28T10:02:37.174Z"
   },
   {
    "duration": 9,
    "start_time": "2024-12-28T10:02:45.161Z"
   },
   {
    "duration": 5,
    "start_time": "2024-12-28T10:02:47.091Z"
   },
   {
    "duration": 6,
    "start_time": "2024-12-28T10:02:48.411Z"
   },
   {
    "duration": 5,
    "start_time": "2024-12-28T10:02:49.618Z"
   },
   {
    "duration": 50,
    "start_time": "2024-12-28T10:02:51.412Z"
   },
   {
    "duration": 11,
    "start_time": "2024-12-28T10:02:52.571Z"
   },
   {
    "duration": 4,
    "start_time": "2024-12-28T10:02:54.451Z"
   },
   {
    "duration": 12,
    "start_time": "2024-12-28T10:02:56.321Z"
   },
   {
    "duration": 30,
    "start_time": "2024-12-28T10:02:57.543Z"
   },
   {
    "duration": 19,
    "start_time": "2024-12-28T10:02:58.189Z"
   },
   {
    "duration": 3,
    "start_time": "2024-12-28T10:02:59.886Z"
   },
   {
    "duration": 11,
    "start_time": "2024-12-28T10:03:00.460Z"
   },
   {
    "duration": 17,
    "start_time": "2024-12-28T10:03:01.634Z"
   },
   {
    "duration": 4,
    "start_time": "2024-12-28T10:03:02.799Z"
   },
   {
    "duration": 10,
    "start_time": "2024-12-28T10:03:03.374Z"
   },
   {
    "duration": 29,
    "start_time": "2024-12-28T10:03:05.152Z"
   },
   {
    "duration": 10,
    "start_time": "2024-12-28T10:03:16.590Z"
   },
   {
    "duration": 42,
    "start_time": "2024-12-28T10:03:23.744Z"
   },
   {
    "duration": 8,
    "start_time": "2024-12-28T10:03:27.316Z"
   },
   {
    "duration": 797,
    "start_time": "2025-09-20T17:41:48.191Z"
   },
   {
    "duration": 26,
    "start_time": "2025-09-20T17:41:48.990Z"
   },
   {
    "duration": 19,
    "start_time": "2025-09-20T17:41:49.019Z"
   },
   {
    "duration": 12,
    "start_time": "2025-09-20T17:41:49.041Z"
   },
   {
    "duration": 56,
    "start_time": "2025-09-20T17:41:49.055Z"
   },
   {
    "duration": 5,
    "start_time": "2025-09-20T17:41:49.112Z"
   },
   {
    "duration": 13,
    "start_time": "2025-09-20T17:41:49.119Z"
   },
   {
    "duration": 5,
    "start_time": "2025-09-20T17:41:49.134Z"
   },
   {
    "duration": 39,
    "start_time": "2025-09-20T17:41:49.140Z"
   },
   {
    "duration": 5,
    "start_time": "2025-09-20T17:41:49.182Z"
   },
   {
    "duration": 38,
    "start_time": "2025-09-20T17:41:49.188Z"
   },
   {
    "duration": 11,
    "start_time": "2025-09-20T17:41:49.228Z"
   },
   {
    "duration": 5,
    "start_time": "2025-09-20T17:41:49.272Z"
   },
   {
    "duration": 19,
    "start_time": "2025-09-20T17:41:49.278Z"
   },
   {
    "duration": 21,
    "start_time": "2025-09-20T17:41:49.299Z"
   },
   {
    "duration": 26,
    "start_time": "2025-09-20T17:41:49.322Z"
   },
   {
    "duration": 23,
    "start_time": "2025-09-20T17:41:49.349Z"
   },
   {
    "duration": 43,
    "start_time": "2025-09-20T17:41:49.374Z"
   },
   {
    "duration": 6,
    "start_time": "2025-09-20T17:41:49.419Z"
   },
   {
    "duration": 10,
    "start_time": "2025-09-20T17:41:49.426Z"
   },
   {
    "duration": 13,
    "start_time": "2025-09-20T17:41:49.438Z"
   },
   {
    "duration": 37,
    "start_time": "2025-09-20T17:41:49.453Z"
   },
   {
    "duration": 11,
    "start_time": "2025-09-20T17:41:49.491Z"
   },
   {
    "duration": 69,
    "start_time": "2025-09-20T17:41:49.504Z"
   },
   {
    "duration": 9,
    "start_time": "2025-09-20T17:41:49.575Z"
   }
  ],
  "colab": {
   "name": "dpp_template_part2.ipynb",
   "provenance": []
  },
  "kernelspec": {
   "display_name": "Python 3 (ipykernel)",
   "language": "python",
   "name": "python3"
  },
  "language_info": {
   "codemirror_mode": {
    "name": "ipython",
    "version": 3
   },
   "file_extension": ".py",
   "mimetype": "text/x-python",
   "name": "python",
   "nbconvert_exporter": "python",
   "pygments_lexer": "ipython3",
   "version": "3.9.5"
  },
  "toc": {
   "base_numbering": 1,
   "nav_menu": {},
   "number_sections": true,
   "sideBar": true,
   "skip_h1_title": true,
   "title_cell": "Table of Contents",
   "title_sidebar": "Contents",
   "toc_cell": false,
   "toc_position": {},
   "toc_section_display": true,
   "toc_window_display": false
  }
 },
 "nbformat": 4,
 "nbformat_minor": 5
}
