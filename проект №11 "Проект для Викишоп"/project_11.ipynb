{
 "cells": [
  {
   "cell_type": "markdown",
   "metadata": {},
   "source": [
    "# Проект для «Викишоп»"
   ]
  },
  {
   "cell_type": "markdown",
   "metadata": {},
   "source": [
    "Интернет-магазин «Викишоп» запускает новый сервис. Теперь пользователи могут редактировать и дополнять описания товаров, как в вики-сообществах. То есть клиенты предлагают свои правки и комментируют изменения других. Магазину нужен инструмент, который будет искать токсичные комментарии и отправлять их на модерацию. \n",
    "\n",
    "Обучите модель классифицировать комментарии на позитивные и негативные. В вашем распоряжении набор данных с разметкой о токсичности правок.\n",
    "\n",
    "Постройте модель со значением метрики качества *F1* не меньше 0.75. \n",
    "\n",
    "**Инструкция по выполнению проекта**\n",
    "\n",
    "1. Загрузите и подготовьте данные.\n",
    "2. Обучите разные модели. \n",
    "3. Сделайте выводы.\n",
    "\n",
    "Для выполнения проекта применять *BERT* необязательно, но вы можете попробовать.\n",
    "\n",
    "**Описание данных**\n",
    "\n",
    "Данные находятся в файле `toxic_comments.csv`. Столбец *text* в нём содержит текст комментария, а *toxic* — целевой признак."
   ]
  },
  {
   "cell_type": "code",
   "execution_count": 1,
   "metadata": {},
   "outputs": [],
   "source": [
    "import pandas as pd\n",
    "import numpy as np\n",
    "import matplotlib.pyplot as plt \n",
    "\n",
    "from sklearn.pipeline import Pipeline\n",
    "from sklearn.metrics import accuracy_score\n",
    "from sklearn.linear_model import LogisticRegression\n",
    "from sklearn.tree import DecisionTreeClassifier\n",
    "from sklearn.ensemble import RandomForestClassifier\n",
    "from sklearn.feature_extraction.text import CountVectorizer,TfidfVectorizer\n",
    "from sklearn.model_selection import train_test_split,cross_val_score,RandomizedSearchCV,GridSearchCV\n",
    "from sklearn.metrics import f1_score\n",
    "\n",
    "from tqdm.notebook import tqdm\n",
    "tqdm.pandas()\n",
    "\n",
    "import nltk\n",
    "from nltk.stem import WordNetLemmatizer \n",
    "from nltk.corpus import wordnet\n",
    "#from nltk.corpus import stopwords"
   ]
  },
  {
   "cell_type": "code",
   "execution_count": 2,
   "metadata": {},
   "outputs": [
    {
     "name": "stderr",
     "output_type": "stream",
     "text": [
      "[nltk_data] Downloading package averaged_perceptron_tagger to\n",
      "[nltk_data]     /home/jovyan/nltk_data...\n",
      "[nltk_data]   Package averaged_perceptron_tagger is already up-to-\n",
      "[nltk_data]       date!\n"
     ]
    },
    {
     "data": {
      "text/plain": [
       "True"
      ]
     },
     "execution_count": 2,
     "metadata": {},
     "output_type": "execute_result"
    }
   ],
   "source": [
    "nltk.download('averaged_perceptron_tagger')"
   ]
  },
  {
   "cell_type": "code",
   "execution_count": 3,
   "metadata": {},
   "outputs": [],
   "source": [
    "import re\n",
    "import time"
   ]
  },
  {
   "cell_type": "code",
   "execution_count": 4,
   "metadata": {},
   "outputs": [],
   "source": [
    "RANDOM_STATE = 42\n",
    "TEST_SIZE = 0.1"
   ]
  },
  {
   "cell_type": "markdown",
   "metadata": {},
   "source": [
    "## Подготовка"
   ]
  },
  {
   "cell_type": "markdown",
   "metadata": {},
   "source": [
    "### Загрузка данных.\n",
    "На данном этапе проведем загрузку данных и их общую информацию. Сделаем вывод по полученным данным."
   ]
  },
  {
   "cell_type": "code",
   "execution_count": 5,
   "metadata": {},
   "outputs": [],
   "source": [
    "data = pd.read_csv('/datasets/toxic_comments.csv', index_col=0)"
   ]
  },
  {
   "cell_type": "code",
   "execution_count": 6,
   "metadata": {},
   "outputs": [
    {
     "name": "stdout",
     "output_type": "stream",
     "text": [
      "<class 'pandas.core.frame.DataFrame'>\n",
      "Int64Index: 159292 entries, 0 to 159450\n",
      "Data columns (total 2 columns):\n",
      " #   Column  Non-Null Count   Dtype \n",
      "---  ------  --------------   ----- \n",
      " 0   text    159292 non-null  object\n",
      " 1   toxic   159292 non-null  int64 \n",
      "dtypes: int64(1), object(1)\n",
      "memory usage: 3.6+ MB\n"
     ]
    },
    {
     "data": {
      "text/plain": [
       "None"
      ]
     },
     "metadata": {},
     "output_type": "display_data"
    }
   ],
   "source": [
    "display(data.info())"
   ]
  },
  {
   "cell_type": "code",
   "execution_count": 7,
   "metadata": {},
   "outputs": [
    {
     "data": {
      "text/html": [
       "<div>\n",
       "<style scoped>\n",
       "    .dataframe tbody tr th:only-of-type {\n",
       "        vertical-align: middle;\n",
       "    }\n",
       "\n",
       "    .dataframe tbody tr th {\n",
       "        vertical-align: top;\n",
       "    }\n",
       "\n",
       "    .dataframe thead th {\n",
       "        text-align: right;\n",
       "    }\n",
       "</style>\n",
       "<table border=\"1\" class=\"dataframe\">\n",
       "  <thead>\n",
       "    <tr style=\"text-align: right;\">\n",
       "      <th></th>\n",
       "      <th>text</th>\n",
       "      <th>toxic</th>\n",
       "    </tr>\n",
       "  </thead>\n",
       "  <tbody>\n",
       "    <tr>\n",
       "      <th>0</th>\n",
       "      <td>Explanation\\nWhy the edits made under my usern...</td>\n",
       "      <td>0</td>\n",
       "    </tr>\n",
       "    <tr>\n",
       "      <th>1</th>\n",
       "      <td>D'aww! He matches this background colour I'm s...</td>\n",
       "      <td>0</td>\n",
       "    </tr>\n",
       "    <tr>\n",
       "      <th>2</th>\n",
       "      <td>Hey man, I'm really not trying to edit war. It...</td>\n",
       "      <td>0</td>\n",
       "    </tr>\n",
       "    <tr>\n",
       "      <th>3</th>\n",
       "      <td>\"\\nMore\\nI can't make any real suggestions on ...</td>\n",
       "      <td>0</td>\n",
       "    </tr>\n",
       "    <tr>\n",
       "      <th>4</th>\n",
       "      <td>You, sir, are my hero. Any chance you remember...</td>\n",
       "      <td>0</td>\n",
       "    </tr>\n",
       "    <tr>\n",
       "      <th>5</th>\n",
       "      <td>\"\\n\\nCongratulations from me as well, use the ...</td>\n",
       "      <td>0</td>\n",
       "    </tr>\n",
       "    <tr>\n",
       "      <th>6</th>\n",
       "      <td>COCKSUCKER BEFORE YOU PISS AROUND ON MY WORK</td>\n",
       "      <td>1</td>\n",
       "    </tr>\n",
       "    <tr>\n",
       "      <th>7</th>\n",
       "      <td>Your vandalism to the Matt Shirvington article...</td>\n",
       "      <td>0</td>\n",
       "    </tr>\n",
       "    <tr>\n",
       "      <th>8</th>\n",
       "      <td>Sorry if the word 'nonsense' was offensive to ...</td>\n",
       "      <td>0</td>\n",
       "    </tr>\n",
       "    <tr>\n",
       "      <th>9</th>\n",
       "      <td>alignment on this subject and which are contra...</td>\n",
       "      <td>0</td>\n",
       "    </tr>\n",
       "  </tbody>\n",
       "</table>\n",
       "</div>"
      ],
      "text/plain": [
       "                                                text  toxic\n",
       "0  Explanation\\nWhy the edits made under my usern...      0\n",
       "1  D'aww! He matches this background colour I'm s...      0\n",
       "2  Hey man, I'm really not trying to edit war. It...      0\n",
       "3  \"\\nMore\\nI can't make any real suggestions on ...      0\n",
       "4  You, sir, are my hero. Any chance you remember...      0\n",
       "5  \"\\n\\nCongratulations from me as well, use the ...      0\n",
       "6       COCKSUCKER BEFORE YOU PISS AROUND ON MY WORK      1\n",
       "7  Your vandalism to the Matt Shirvington article...      0\n",
       "8  Sorry if the word 'nonsense' was offensive to ...      0\n",
       "9  alignment on this subject and which are contra...      0"
      ]
     },
     "metadata": {},
     "output_type": "display_data"
    }
   ],
   "source": [
    "display(data.head(10))"
   ]
  },
  {
   "cell_type": "code",
   "execution_count": 8,
   "metadata": {},
   "outputs": [
    {
     "name": "stdout",
     "output_type": "stream",
     "text": [
      "количество строк в данных:  159292\n",
      "количество дубликатов в данных:  0\n",
      "Процентное соотношение: 0.0 %\n",
      "количество пропусков в данных:\n",
      " text     0\n",
      "toxic    0\n",
      "dtype: int64\n"
     ]
    }
   ],
   "source": [
    "print('количество строк в данных: ',data.shape[0])\n",
    "print('количество дубликатов в данных: ',data.duplicated().sum())\n",
    "print('Процентное соотношение:',format(round(data.duplicated().sum() / data.shape[0] * 100, 2)), '%')\n",
    "print('количество пропусков в данных:\\n',data.isna().sum())"
   ]
  },
  {
   "cell_type": "code",
   "execution_count": 9,
   "metadata": {},
   "outputs": [
    {
     "data": {
      "image/png": "[encoded data removed]",
      "text/plain": [
       "<Figure size 720x360 with 1 Axes>"
      ]
     },
     "metadata": {
      "needs_background": "light"
     },
     "output_type": "display_data"
    }
   ],
   "source": [
    "plt.figure(figsize=[10,5])\n",
    "\n",
    "ax = data['toxic'].value_counts().plot.bar( color = '#8B0A50');\n",
    "plt.title (\"Распределение классов в целевом признаке 'toxic'\\n\", fontsize=14)\n",
    "plt.xlabel('классы целевого признака', fontsize=13)\n",
    "plt.xticks(rotation=0);\n",
    "plt.ylabel('количество ответов', fontsize=13)\n",
    "plt.grid(True)\n",
    "\n",
    "for p in ax.patches:\n",
    "        percentage = f'{100 * p.get_height() / len(data):.1f}%\\n'\n",
    "        x = p.get_x() + p.get_width() / 2\n",
    "        y = p.get_height()\n",
    "        ax.annotate(percentage, (x, y), ha='center', va='center')"
   ]
  },
  {
   "cell_type": "markdown",
   "metadata": {},
   "source": [
    "### ВЫВОД:\n",
    "Была проведена загрузка данных из файла toxic_comments.csv. При чтении файла был прописан параметр index_col=0. Была проведена проверка на пропуски и дубликаты. Они отсутствуют. Был просмотрен целевой признак, 90% занимают положительные отзывы, остальные - отрицательные."
   ]
  },
  {
   "cell_type": "markdown",
   "metadata": {},
   "source": [
    "### Предобработка текстовых данных.\n",
    "На данном этапе будет выполнена токенизация каждого текста и его лемматизированние. "
   ]
  },
  {
   "cell_type": "code",
   "execution_count": 10,
   "metadata": {},
   "outputs": [],
   "source": [
    "def get_wordnet_pos(word):\n",
    "    tag = nltk.pos_tag([word])[0][1][0].upper()\n",
    "    tag_dict = {\"J\": wordnet.ADJ,\n",
    "                \"N\": wordnet.NOUN,\n",
    "                \"V\": wordnet.VERB,\n",
    "                \"R\": wordnet.ADV}\n",
    "    return tag_dict.get(tag, wordnet.NOUN)"
   ]
  },
  {
   "cell_type": "code",
   "execution_count": 11,
   "metadata": {},
   "outputs": [
    {
     "name": "stderr",
     "output_type": "stream",
     "text": [
      "[nltk_data] Downloading package punkt to /home/jovyan/nltk_data...\n",
      "[nltk_data]   Package punkt is already up-to-date!\n"
     ]
    }
   ],
   "source": [
    "nltk.download('punkt');\n",
    "m = WordNetLemmatizer();\n",
    "\n",
    "def lemmatize(text) :\n",
    "    text = text.lower()\n",
    "    word_list = nltk.word_tokenize(text)\n",
    "    lemm_list = [m.lemmatize(w, get_wordnet_pos(w)) for w in word_list]\n",
    "    lemm_text = \" \".join(lemm_list)\n",
    "    \n",
    "    return lemm_text"
   ]
  },
  {
   "cell_type": "code",
   "execution_count": 12,
   "metadata": {},
   "outputs": [],
   "source": [
    "def clear_text (text) :\n",
    "   # text_1 = re.sub(r'[^a-zA-Z ]',' ', text)\n",
    "    text_1 = re.sub(r\"[^a-zA-Z']\", ' ', text)\n",
    "    clear = \" \".join(text_1.split())\n",
    "    \n",
    "    return clear"
   ]
  },
  {
   "cell_type": "code",
   "execution_count": 13,
   "metadata": {},
   "outputs": [
    {
     "name": "stdout",
     "output_type": "stream",
     "text": [
      "the strip bat be hang on their foot for best\n",
      "the strip bat be hang on their foot for best\n"
     ]
    }
   ],
   "source": [
    "#проверка\n",
    "sentence = \"The striped bats are hanging on their feet for best\"\n",
    "sentence = lemmatize(clear_text(sentence))\n",
    "print(\"the strip bat be hang on their foot for best\" )\n",
    "print(sentence)"
   ]
  },
  {
   "cell_type": "code",
   "execution_count": 14,
   "metadata": {},
   "outputs": [
    {
     "data": {
      "application/vnd.jupyter.widget-view+json": {
       "model_id": "2abf58f4e1fd48b78000dfa51173a6b7",
       "version_major": 2,
       "version_minor": 0
      },
      "text/plain": [
       "  0%|          | 0/159292 [00:00<?, ?it/s]"
      ]
     },
     "metadata": {},
     "output_type": "display_data"
    },
    {
     "data": {
      "application/vnd.jupyter.widget-view+json": {
       "model_id": "361cd8525d5d4de998af699016d0a08e",
       "version_major": 2,
       "version_minor": 0
      },
      "text/plain": [
       "  0%|          | 0/159292 [00:00<?, ?it/s]"
      ]
     },
     "metadata": {},
     "output_type": "display_data"
    }
   ],
   "source": [
    "data['text'] = data ['text'].progress_apply(clear_text).progress_apply(lemmatize)"
   ]
  },
  {
   "cell_type": "code",
   "execution_count": 15,
   "metadata": {},
   "outputs": [
    {
     "data": {
      "text/html": [
       "<div>\n",
       "<style scoped>\n",
       "    .dataframe tbody tr th:only-of-type {\n",
       "        vertical-align: middle;\n",
       "    }\n",
       "\n",
       "    .dataframe tbody tr th {\n",
       "        vertical-align: top;\n",
       "    }\n",
       "\n",
       "    .dataframe thead th {\n",
       "        text-align: right;\n",
       "    }\n",
       "</style>\n",
       "<table border=\"1\" class=\"dataframe\">\n",
       "  <thead>\n",
       "    <tr style=\"text-align: right;\">\n",
       "      <th></th>\n",
       "      <th>text</th>\n",
       "      <th>toxic</th>\n",
       "    </tr>\n",
       "  </thead>\n",
       "  <tbody>\n",
       "    <tr>\n",
       "      <th>0</th>\n",
       "      <td>explanation why the edits make under my userna...</td>\n",
       "      <td>0</td>\n",
       "    </tr>\n",
       "    <tr>\n",
       "      <th>1</th>\n",
       "      <td>d'aww he match this background colour i 'm see...</td>\n",
       "      <td>0</td>\n",
       "    </tr>\n",
       "    <tr>\n",
       "      <th>2</th>\n",
       "      <td>hey man i 'm really not try to edit war it 's ...</td>\n",
       "      <td>0</td>\n",
       "    </tr>\n",
       "    <tr>\n",
       "      <th>3</th>\n",
       "      <td>more i ca n't make any real suggestion on impr...</td>\n",
       "      <td>0</td>\n",
       "    </tr>\n",
       "    <tr>\n",
       "      <th>4</th>\n",
       "      <td>you sir be my hero any chance you remember wha...</td>\n",
       "      <td>0</td>\n",
       "    </tr>\n",
       "    <tr>\n",
       "      <th>5</th>\n",
       "      <td>congratulation from me a well use the tool wel...</td>\n",
       "      <td>0</td>\n",
       "    </tr>\n",
       "    <tr>\n",
       "      <th>6</th>\n",
       "      <td>cocksucker before you piss around on my work</td>\n",
       "      <td>1</td>\n",
       "    </tr>\n",
       "    <tr>\n",
       "      <th>7</th>\n",
       "      <td>your vandalism to the matt shirvington article...</td>\n",
       "      <td>0</td>\n",
       "    </tr>\n",
       "    <tr>\n",
       "      <th>8</th>\n",
       "      <td>sorry if the word 'nonsense ' be offensive to ...</td>\n",
       "      <td>0</td>\n",
       "    </tr>\n",
       "    <tr>\n",
       "      <th>9</th>\n",
       "      <td>alignment on this subject and which be contrar...</td>\n",
       "      <td>0</td>\n",
       "    </tr>\n",
       "  </tbody>\n",
       "</table>\n",
       "</div>"
      ],
      "text/plain": [
       "                                                text  toxic\n",
       "0  explanation why the edits make under my userna...      0\n",
       "1  d'aww he match this background colour i 'm see...      0\n",
       "2  hey man i 'm really not try to edit war it 's ...      0\n",
       "3  more i ca n't make any real suggestion on impr...      0\n",
       "4  you sir be my hero any chance you remember wha...      0\n",
       "5  congratulation from me a well use the tool wel...      0\n",
       "6       cocksucker before you piss around on my work      1\n",
       "7  your vandalism to the matt shirvington article...      0\n",
       "8  sorry if the word 'nonsense ' be offensive to ...      0\n",
       "9  alignment on this subject and which be contrar...      0"
      ]
     },
     "metadata": {},
     "output_type": "display_data"
    }
   ],
   "source": [
    "display(data.head(10))"
   ]
  },
  {
   "cell_type": "code",
   "execution_count": 16,
   "metadata": {},
   "outputs": [
    {
     "name": "stdout",
     "output_type": "stream",
     "text": [
      "Явные дубликаты: 1261\n",
      "Процентное соотношение: 0.79 %\n"
     ]
    }
   ],
   "source": [
    "print('Явные дубликаты:',data.duplicated().sum())\n",
    "print('Процентное соотношение:',format(round(data.duplicated().sum() / data.shape[0] * 100, 2)), '%')"
   ]
  },
  {
   "cell_type": "code",
   "execution_count": 17,
   "metadata": {},
   "outputs": [
    {
     "name": "stdout",
     "output_type": "stream",
     "text": [
      "Проверка на явные дубликаты после их удаления: 0\n",
      "Новое количество строк: 158031\n"
     ]
    }
   ],
   "source": [
    "data.drop_duplicates(inplace=True)\n",
    "print('Проверка на явные дубликаты после их удаления:',data.duplicated().sum())\n",
    "print('Новое количество строк:', data.shape[0])"
   ]
  },
  {
   "cell_type": "markdown",
   "metadata": {},
   "source": [
    "### Вывод: \n",
    "Была совершена обработка текстовых данных. Были проведены токенезация и лемматизация. Лемматизация даных проведена с помощью WordNetLemmatizer()( Mystem работал очень медленно). После предобработки была проведена повторная проверка на дубликаты. Обнаружено меньше 1%. Было принято решение их удалить."
   ]
  },
  {
   "cell_type": "markdown",
   "metadata": {},
   "source": [
    "## Обучение"
   ]
  },
  {
   "cell_type": "markdown",
   "metadata": {},
   "source": [
    "### Подготовка данных\n",
    "На данном этапе будет проходить разделение данных на выборки и проверка на разделение матриц."
   ]
  },
  {
   "cell_type": "code",
   "execution_count": 18,
   "metadata": {},
   "outputs": [],
   "source": [
    "corpus = data['text'].values"
   ]
  },
  {
   "cell_type": "code",
   "execution_count": 19,
   "metadata": {},
   "outputs": [],
   "source": [
    "features = corpus\n",
    "target = data['toxic']\n",
    "X_train,X_test,y_train,y_test = train_test_split(features,target,test_size=TEST_SIZE,random_state=42)"
   ]
  },
  {
   "cell_type": "code",
   "execution_count": 20,
   "metadata": {},
   "outputs": [
    {
     "name": "stdout",
     "output_type": "stream",
     "text": [
      "Выборка разделена в пропорциях:\n",
      "90% — тренировочная;\n",
      "10% — тестовая;\n",
      "\n"
     ]
    }
   ],
   "source": [
    "print(\n",
    "    f'Выборка разделена в пропорциях:\\n'\n",
    "    f'{(len(X_train)/len(data)):.0%} — тренировочная;\\n'\n",
    "    f'{(len(X_test)/len(data)):.0%} — тестовая;\\n'\n",
    ")"
   ]
  },
  {
   "cell_type": "code",
   "execution_count": 21,
   "metadata": {},
   "outputs": [
    {
     "name": "stdout",
     "output_type": "stream",
     "text": [
      "Размер матриц:\n",
      "(142227, 142227) — тренировочная;\n",
      "(15804, 15804) — тестовая;\n",
      "\n"
     ]
    }
   ],
   "source": [
    "print(\n",
    "    f'Размер матриц:\\n'\n",
    "    f'{X_train.shape[0], y_train.shape[0]} — тренировочная;\\n'\n",
    "    f'{X_test.shape[0], y_test.shape[0]} — тестовая;\\n'\n",
    ")"
   ]
  },
  {
   "cell_type": "markdown",
   "metadata": {},
   "source": [
    "#### ВЫВОД: \n",
    "Данные разделены в соотношении 90 на 10. В треннировочных и тестовых данных наблюдаются различия по матрицам, при обучении необходимо будет воспользоваться балансом."
   ]
  },
  {
   "cell_type": "markdown",
   "metadata": {},
   "source": [
    "### ОБУЧЕНИЕ ДАННЫХ"
   ]
  },
  {
   "cell_type": "markdown",
   "metadata": {},
   "source": [
    "####  Модель ЛОГИСТИЧЕСКАЯ РЕГРЕССИЯ"
   ]
  },
  {
   "cell_type": "code",
   "execution_count": 22,
   "metadata": {},
   "outputs": [],
   "source": [
    "pipe_lir = Pipeline([('tfidf', TfidfVectorizer(stop_words='english', sublinear_tf=True)),\n",
    "                       ('lir', LogisticRegression(solver='liblinear', class_weight = 'balanced', random_state=RANDOM_STATE))])\n",
    "parameters_lir = {\n",
    "    'lir__C': range(8,10), \n",
    "    'lir__max_iter': [500],  \n",
    "}\n",
    "\n",
    "lir_grid = GridSearchCV(pipe_lir, parameters_lir, scoring='f1', cv=3,  verbose=True, n_jobs=-1, error_score = 'raise')"
   ]
  },
  {
   "cell_type": "code",
   "execution_count": 23,
   "metadata": {},
   "outputs": [
    {
     "name": "stdout",
     "output_type": "stream",
     "text": [
      "Fitting 3 folds for each of 2 candidates, totalling 6 fits\n",
      "Лучшая модель и её параметры: Pipeline(steps=[('tfidf',\n",
      "                 TfidfVectorizer(stop_words='english', sublinear_tf=True)),\n",
      "                ('lir',\n",
      "                 LogisticRegression(C=8, class_weight='balanced', max_iter=500,\n",
      "                                    random_state=42, solver='liblinear'))])\n",
      "Лучший показатель F1: 0.76\n",
      "CPU times: user 2min 15s, sys: 1min 14s, total: 3min 30s\n",
      "Wall time: 3min 30s\n"
     ]
    }
   ],
   "source": [
    "%%time\n",
    "\n",
    "lir_grid.fit(X_train, y_train)\n",
    "\n",
    "lir_fit_score = lir_grid.best_score_\n",
    "print('Лучшая модель и её параметры:', lir_grid.best_estimator_)\n",
    "print(f'Лучший показатель F1: {lir_fit_score:.2f}')"
   ]
  },
  {
   "cell_type": "markdown",
   "metadata": {},
   "source": [
    "#### Модель DecisionTreeClassifier"
   ]
  },
  {
   "cell_type": "code",
   "execution_count": 24,
   "metadata": {},
   "outputs": [],
   "source": [
    "pipe_tree = Pipeline([('tfidf', TfidfVectorizer(stop_words='english', sublinear_tf=True)),\n",
    "                       ('tree', DecisionTreeClassifier(random_state=RANDOM_STATE, class_weight='balanced'))])\n",
    "parameters_tree = {\n",
    "    'tree__max_depth': list(range(20,25))  \n",
    "}\n",
    "\n",
    "tree_grid = GridSearchCV(pipe_tree, parameters_tree, scoring='f1', cv=3, n_jobs=-1, error_score = 'raise')"
   ]
  },
  {
   "cell_type": "code",
   "execution_count": 25,
   "metadata": {},
   "outputs": [
    {
     "name": "stdout",
     "output_type": "stream",
     "text": [
      "Лучшая модель и её параметры: Pipeline(steps=[('tfidf',\n",
      "                 TfidfVectorizer(stop_words='english', sublinear_tf=True)),\n",
      "                ('tree',\n",
      "                 DecisionTreeClassifier(class_weight='balanced', max_depth=24,\n",
      "                                        random_state=42))])\n",
      "Лучший показатель F1: 0.63\n",
      "CPU times: user 5min 8s, sys: 179 ms, total: 5min 8s\n",
      "Wall time: 5min 8s\n"
     ]
    }
   ],
   "source": [
    "%%time\n",
    "\n",
    "tree_grid.fit(X_train, y_train)\n",
    "tree_fit_score = tree_grid.best_score_\n",
    "print('Лучшая модель и её параметры:', tree_grid.best_estimator_)\n",
    "print(f'Лучший показатель F1: {tree_fit_score:.2f}')"
   ]
  },
  {
   "cell_type": "markdown",
   "metadata": {},
   "source": [
    "#### Модель RandomForestClassifier"
   ]
  },
  {
   "cell_type": "code",
   "execution_count": 26,
   "metadata": {},
   "outputs": [],
   "source": [
    "pipe_random = Pipeline([('tfidf', TfidfVectorizer(stop_words='english', sublinear_tf=True)),\n",
    "                       ('random', RandomForestClassifier(random_state=RANDOM_STATE, class_weight='balanced',verbose=False ))])\n",
    "parametrs_random = { 'random__n_estimators': list(range(90,100,150)),\n",
    "                     'random__max_depth': (None, *range(1,10))\n",
    "                   }\n",
    "random_grid = GridSearchCV(pipe_random, parametrs_random, scoring='f1', cv=3, n_jobs=-1, error_score = 'raise' )"
   ]
  },
  {
   "cell_type": "code",
   "execution_count": 27,
   "metadata": {},
   "outputs": [
    {
     "name": "stdout",
     "output_type": "stream",
     "text": [
      "Лyчшая модель и её параметры: Pipeline(steps=[('tfidf',\n",
      "                 TfidfVectorizer(stop_words='english', sublinear_tf=True)),\n",
      "                ('random',\n",
      "                 RandomForestClassifier(class_weight='balanced',\n",
      "                                        n_estimators=90, random_state=42,\n",
      "                                        verbose=False))])\n",
      "Лучший показатель F1: 0.64\n",
      "CPU times: user 42min 27s, sys: 2.01 s, total: 42min 29s\n",
      "Wall time: 42min 33s\n"
     ]
    }
   ],
   "source": [
    "%%time\n",
    "\n",
    "random_grid.fit(X_train, y_train)\n",
    "random_fit_score = random_grid.best_score_\n",
    "print('Лyчшая модель и её параметры:', random_grid.best_estimator_)\n",
    "print(f'Лучший показатель F1: {random_fit_score:.2f}')"
   ]
  },
  {
   "cell_type": "markdown",
   "metadata": {},
   "source": [
    "#### Вывод.\n",
    "Данные были обучены на трёх моделях: LogisticRegression, DecisionTreeClassifier и RandomForestClassifier.\n",
    "Точность больше 0.75 показала модель LogisticRegression (0.762) с параметрами C=8, class_weight='balanced', max_iter=500, random_state=42, solver='liblinear'. На данной моели будет проведено тестирование."
   ]
  },
  {
   "cell_type": "markdown",
   "metadata": {},
   "source": [
    "### Тестирование"
   ]
  },
  {
   "cell_type": "code",
   "execution_count": 28,
   "metadata": {},
   "outputs": [],
   "source": [
    "pipe = Pipeline([('tfidf', TfidfVectorizer(stop_words='english', sublinear_tf=True)),\n",
    "                       ('lir', LogisticRegression(solver='liblinear', class_weight = 'balanced', random_state=RANDOM_STATE))])\n",
    "parameters_lir = {\n",
    "    'lir__C': [8], \n",
    "    'lir__max_iter': [500],  \n",
    "}"
   ]
  },
  {
   "cell_type": "code",
   "execution_count": 30,
   "metadata": {},
   "outputs": [
    {
     "name": "stdout",
     "output_type": "stream",
     "text": [
      "Показатель F1 на тренировочной выборке: 0.75\n"
     ]
    }
   ],
   "source": [
    "predictions = lir_grid.predict(X_test)\n",
    "lir_f1 = f1_score(y_test, predictions)\n",
    "\n",
    "#predictions = pipe_lir.predict(X_test)\n",
    "#lir_f1 = f1_score(y_test, predictions)\n",
    "\n",
    "print(f'Показатель F1 на тренировочной выборке: {lir_f1:.2f}')"
   ]
  },
  {
   "cell_type": "markdown",
   "metadata": {},
   "source": [
    "#### Вывод\n",
    "Проверка на тестовых данных модель LogisticRegression показала результат  0.75, что удовлетворяет требованию поставленной задачи."
   ]
  },
  {
   "cell_type": "markdown",
   "metadata": {},
   "source": [
    "## Выводы"
   ]
  },
  {
   "cell_type": "markdown",
   "metadata": {},
   "source": [
    "Была поставлена задача в обучении модели классифицировать комментарии на позитивные и негативные. При этом построенная  модель должна иметь метрику метрики качества *F1* не меньше 0.75. \n",
    "\n",
    "Для решения задачи было сделано:\n",
    "\n",
    "- Была проведена загрузка данных из файла toxic_comments.csv. При чтении файла был прописан параметр index_col=0. Была проведена проверка на пропуски и дубликаты. Они отсутствуют. Был просмотрен целевой признак, 90% занимают положительные отзывы, остальные - отрицательные.\n",
    "\n",
    "- Была совершена обработка текстовых данных. Были проведены токенезация и лемматизация. Лемматизация даных проведена с помощью WordNetLemmatizer()( Mystem работал очень медленно). После предобработки была проведена повторная проверка на дубликаты. Обнаружено меньше 1%. Было принято решение их удалить.\n",
    "\n",
    "- На этапе подготовки даннных к обучению, они были разделены в соотношении 90 на 10. В треннировочных и тестовых данных наблюдаются различия по матрицам, при обучении необходимо будет воспользоваться балансом.\n",
    "\n",
    "- Данные были обучены на трёх моделях: LogisticRegression, DecisionTreeClassifier и RandomForestClassifier.Точность больше 0.75 показала модель LogisticRegression (0.762) с параметрами C=8, class_weight='balanced', max_iter=500, random_state=42, solver='liblinear'. На данной моели будет проведено тестирование.\n",
    "\n",
    "- Проверка на тестовых данных модель LogisticRegression показала результат  0.75, что удовлетворяет требованию поставленной задачи."
   ]
  }
 ],
 "metadata": {
  "ExecuteTimeLog": [
   {
    "duration": 1689,
    "start_time": "2025-06-20T20:31:13.868Z"
   },
   {
    "duration": 999,
    "start_time": "2025-06-20T20:32:52.077Z"
   },
   {
    "duration": 908,
    "start_time": "2025-06-20T20:33:09.125Z"
   },
   {
    "duration": 5,
    "start_time": "2025-06-20T20:39:50.762Z"
   },
   {
    "duration": 3,
    "start_time": "2025-06-20T20:40:13.457Z"
   },
   {
    "duration": 118,
    "start_time": "2025-06-20T20:41:50.904Z"
   },
   {
    "duration": 13,
    "start_time": "2025-06-20T20:42:13.397Z"
   },
   {
    "duration": 13,
    "start_time": "2025-06-20T20:42:22.457Z"
   },
   {
    "duration": 9,
    "start_time": "2025-06-20T20:42:54.597Z"
   },
   {
    "duration": 10,
    "start_time": "2025-06-20T20:43:11.237Z"
   },
   {
    "duration": 2,
    "start_time": "2025-06-20T20:43:19.178Z"
   },
   {
    "duration": 12,
    "start_time": "2025-06-20T20:43:27.401Z"
   },
   {
    "duration": 3,
    "start_time": "2025-06-20T20:43:35.416Z"
   },
   {
    "duration": 2,
    "start_time": "2025-06-20T20:43:36.065Z"
   },
   {
    "duration": 11,
    "start_time": "2025-06-20T20:43:36.964Z"
   },
   {
    "duration": 807,
    "start_time": "2025-06-20T20:52:58.766Z"
   },
   {
    "duration": 32,
    "start_time": "2025-06-20T20:53:14.828Z"
   },
   {
    "duration": 7,
    "start_time": "2025-06-20T20:53:30.087Z"
   },
   {
    "duration": 227,
    "start_time": "2025-06-20T20:57:10.950Z"
   },
   {
    "duration": 15,
    "start_time": "2025-06-20T21:02:05.266Z"
   },
   {
    "duration": 198,
    "start_time": "2025-06-20T21:02:23.255Z"
   },
   {
    "duration": 612,
    "start_time": "2025-06-20T21:04:59.865Z"
   },
   {
    "duration": 117,
    "start_time": "2025-06-20T21:06:08.033Z"
   },
   {
    "duration": 13,
    "start_time": "2025-06-20T21:06:49.565Z"
   },
   {
    "duration": 12,
    "start_time": "2025-06-20T21:08:09.359Z"
   },
   {
    "duration": 6,
    "start_time": "2025-06-20T21:08:49.392Z"
   },
   {
    "duration": 115,
    "start_time": "2025-06-20T21:08:55.087Z"
   },
   {
    "duration": 11,
    "start_time": "2025-06-20T21:09:25.892Z"
   },
   {
    "duration": 125,
    "start_time": "2025-06-20T21:09:49.975Z"
   },
   {
    "duration": 128,
    "start_time": "2025-06-20T21:12:25.085Z"
   },
   {
    "duration": 130,
    "start_time": "2025-06-20T21:12:40.914Z"
   },
   {
    "duration": 95,
    "start_time": "2025-06-20T21:18:01.463Z"
   },
   {
    "duration": 96,
    "start_time": "2025-06-20T21:18:22.210Z"
   },
   {
    "duration": 124,
    "start_time": "2025-06-20T21:19:09.419Z"
   },
   {
    "duration": 149,
    "start_time": "2025-06-20T21:19:18.608Z"
   },
   {
    "duration": 70,
    "start_time": "2025-06-20T21:20:36.175Z"
   },
   {
    "duration": 141,
    "start_time": "2025-06-20T21:20:36.983Z"
   },
   {
    "duration": 3,
    "start_time": "2025-06-20T21:21:38.743Z"
   },
   {
    "duration": 139,
    "start_time": "2025-06-20T21:21:39.398Z"
   },
   {
    "duration": 2759,
    "start_time": "2025-06-20T21:22:38.566Z"
   },
   {
    "duration": 1774,
    "start_time": "2025-06-20T21:22:54.793Z"
   },
   {
    "duration": 4,
    "start_time": "2025-06-20T21:22:56.569Z"
   },
   {
    "duration": 963,
    "start_time": "2025-06-20T21:22:56.575Z"
   },
   {
    "duration": 41,
    "start_time": "2025-06-20T21:22:57.540Z"
   },
   {
    "duration": 9,
    "start_time": "2025-06-20T21:22:57.583Z"
   },
   {
    "duration": 17,
    "start_time": "2025-06-20T21:22:57.593Z"
   },
   {
    "duration": 241,
    "start_time": "2025-06-20T21:22:57.612Z"
   },
   {
    "duration": 200,
    "start_time": "2025-06-20T21:22:57.854Z"
   },
   {
    "duration": 2460,
    "start_time": "2025-06-20T21:22:58.056Z"
   },
   {
    "duration": 3,
    "start_time": "2025-06-20T21:23:00.518Z"
   },
   {
    "duration": 289,
    "start_time": "2025-06-20T21:23:00.523Z"
   },
   {
    "duration": 235,
    "start_time": "2025-06-20T21:23:16.419Z"
   },
   {
    "duration": 134,
    "start_time": "2025-06-20T21:29:27.276Z"
   },
   {
    "duration": 306,
    "start_time": "2025-06-20T21:30:28.190Z"
   },
   {
    "duration": 196,
    "start_time": "2025-06-20T21:30:36.928Z"
   },
   {
    "duration": 160,
    "start_time": "2025-06-20T21:30:43.389Z"
   },
   {
    "duration": 162,
    "start_time": "2025-06-20T21:30:53.379Z"
   },
   {
    "duration": 156,
    "start_time": "2025-06-20T21:31:11.882Z"
   },
   {
    "duration": 148,
    "start_time": "2025-06-20T21:31:18.489Z"
   },
   {
    "duration": 248,
    "start_time": "2025-06-20T21:38:36.730Z"
   },
   {
    "duration": 220,
    "start_time": "2025-06-20T21:38:50.365Z"
   },
   {
    "duration": 218,
    "start_time": "2025-06-20T21:38:55.949Z"
   },
   {
    "duration": 221,
    "start_time": "2025-06-20T21:39:28.608Z"
   },
   {
    "duration": 234,
    "start_time": "2025-06-20T21:39:35.949Z"
   },
   {
    "duration": 1674,
    "start_time": "2025-06-20T21:45:59.993Z"
   },
   {
    "duration": 5,
    "start_time": "2025-06-20T21:46:01.669Z"
   },
   {
    "duration": 971,
    "start_time": "2025-06-20T21:46:01.675Z"
   },
   {
    "duration": 39,
    "start_time": "2025-06-20T21:46:02.648Z"
   },
   {
    "duration": 9,
    "start_time": "2025-06-20T21:46:02.689Z"
   },
   {
    "duration": 19,
    "start_time": "2025-06-20T21:46:02.699Z"
   },
   {
    "duration": 284,
    "start_time": "2025-06-20T21:46:02.719Z"
   },
   {
    "duration": 204,
    "start_time": "2025-06-20T21:46:03.005Z"
   },
   {
    "duration": 169,
    "start_time": "2025-06-20T21:46:03.211Z"
   },
   {
    "duration": 215,
    "start_time": "2025-06-20T21:48:26.279Z"
   },
   {
    "duration": 161,
    "start_time": "2025-06-20T21:48:42.236Z"
   },
   {
    "duration": 140,
    "start_time": "2025-06-20T21:48:50.534Z"
   },
   {
    "duration": 1750,
    "start_time": "2025-06-20T21:49:33.519Z"
   },
   {
    "duration": 4,
    "start_time": "2025-06-20T21:49:35.271Z"
   },
   {
    "duration": 934,
    "start_time": "2025-06-20T21:49:35.277Z"
   },
   {
    "duration": 36,
    "start_time": "2025-06-20T21:49:36.212Z"
   },
   {
    "duration": 23,
    "start_time": "2025-06-20T21:49:36.250Z"
   },
   {
    "duration": 20,
    "start_time": "2025-06-20T21:49:36.275Z"
   },
   {
    "duration": 265,
    "start_time": "2025-06-20T21:49:36.296Z"
   },
   {
    "duration": 201,
    "start_time": "2025-06-20T21:49:36.563Z"
   },
   {
    "duration": 163,
    "start_time": "2025-06-20T21:49:36.771Z"
   },
   {
    "duration": 1771,
    "start_time": "2025-06-20T21:50:17.860Z"
   },
   {
    "duration": 4,
    "start_time": "2025-06-20T21:50:19.633Z"
   },
   {
    "duration": 911,
    "start_time": "2025-06-20T21:50:19.639Z"
   },
   {
    "duration": 39,
    "start_time": "2025-06-20T21:50:20.552Z"
   },
   {
    "duration": 12,
    "start_time": "2025-06-20T21:50:20.592Z"
   },
   {
    "duration": 29,
    "start_time": "2025-06-20T21:50:20.605Z"
   },
   {
    "duration": 265,
    "start_time": "2025-06-20T21:50:20.635Z"
   },
   {
    "duration": 175,
    "start_time": "2025-06-20T21:50:20.902Z"
   },
   {
    "duration": 2318,
    "start_time": "2025-06-20T21:56:21.801Z"
   },
   {
    "duration": 1712,
    "start_time": "2025-06-20T21:57:45.102Z"
   },
   {
    "duration": 5,
    "start_time": "2025-06-20T21:57:46.816Z"
   },
   {
    "duration": 938,
    "start_time": "2025-06-20T21:57:46.823Z"
   },
   {
    "duration": 41,
    "start_time": "2025-06-20T21:57:47.764Z"
   },
   {
    "duration": 10,
    "start_time": "2025-06-20T21:57:47.806Z"
   },
   {
    "duration": 16,
    "start_time": "2025-06-20T21:57:47.817Z"
   },
   {
    "duration": 277,
    "start_time": "2025-06-20T21:57:47.834Z"
   },
   {
    "duration": 165,
    "start_time": "2025-06-20T21:57:48.112Z"
   },
   {
    "duration": 1758,
    "start_time": "2025-06-20T21:58:08.521Z"
   },
   {
    "duration": 4,
    "start_time": "2025-06-20T21:58:10.281Z"
   },
   {
    "duration": 962,
    "start_time": "2025-06-20T21:58:10.286Z"
   },
   {
    "duration": 40,
    "start_time": "2025-06-20T21:58:11.250Z"
   },
   {
    "duration": 9,
    "start_time": "2025-06-20T21:58:11.292Z"
   },
   {
    "duration": 16,
    "start_time": "2025-06-20T21:58:11.303Z"
   },
   {
    "duration": 288,
    "start_time": "2025-06-20T21:58:11.321Z"
   },
   {
    "duration": 172,
    "start_time": "2025-06-20T21:58:11.612Z"
   },
   {
    "duration": 1685,
    "start_time": "2025-06-20T21:58:37.836Z"
   },
   {
    "duration": 5,
    "start_time": "2025-06-20T21:58:39.523Z"
   },
   {
    "duration": 936,
    "start_time": "2025-06-20T21:58:39.530Z"
   },
   {
    "duration": 35,
    "start_time": "2025-06-20T21:58:40.471Z"
   },
   {
    "duration": 9,
    "start_time": "2025-06-20T21:58:40.507Z"
   },
   {
    "duration": 15,
    "start_time": "2025-06-20T21:58:40.517Z"
   },
   {
    "duration": 274,
    "start_time": "2025-06-20T21:58:40.534Z"
   },
   {
    "duration": 219,
    "start_time": "2025-06-20T21:58:40.811Z"
   },
   {
    "duration": 2,
    "start_time": "2025-06-20T21:58:41.032Z"
   },
   {
    "duration": 3,
    "start_time": "2025-06-20T21:58:41.036Z"
   },
   {
    "duration": 48,
    "start_time": "2025-06-20T21:59:08.713Z"
   },
   {
    "duration": 1733,
    "start_time": "2025-06-20T21:59:35.758Z"
   },
   {
    "duration": 6,
    "start_time": "2025-06-20T21:59:37.493Z"
   },
   {
    "duration": 908,
    "start_time": "2025-06-20T21:59:37.501Z"
   },
   {
    "duration": 34,
    "start_time": "2025-06-20T21:59:38.411Z"
   },
   {
    "duration": 8,
    "start_time": "2025-06-20T21:59:38.447Z"
   },
   {
    "duration": 16,
    "start_time": "2025-06-20T21:59:38.472Z"
   },
   {
    "duration": 257,
    "start_time": "2025-06-20T21:59:38.489Z"
   },
   {
    "duration": 163,
    "start_time": "2025-06-20T21:59:38.747Z"
   },
   {
    "duration": 2143,
    "start_time": "2025-06-20T21:59:38.912Z"
   },
   {
    "duration": 15,
    "start_time": "2025-06-20T21:59:41.057Z"
   },
   {
    "duration": 3,
    "start_time": "2025-06-20T22:00:34.924Z"
   },
   {
    "duration": 3,
    "start_time": "2025-06-20T22:02:10.350Z"
   },
   {
    "duration": 116,
    "start_time": "2025-06-20T22:02:51.989Z"
   },
   {
    "duration": 129,
    "start_time": "2025-06-20T22:03:00.204Z"
   },
   {
    "duration": 13,
    "start_time": "2025-06-20T22:03:03.778Z"
   },
   {
    "duration": 10,
    "start_time": "2025-06-20T22:03:55.796Z"
   },
   {
    "duration": 5,
    "start_time": "2025-06-20T22:03:58.928Z"
   },
   {
    "duration": 3,
    "start_time": "2025-06-20T22:04:11.358Z"
   },
   {
    "duration": 16,
    "start_time": "2025-06-20T22:04:40.487Z"
   },
   {
    "duration": 874,
    "start_time": "2025-06-20T22:04:44.628Z"
   },
   {
    "duration": 3,
    "start_time": "2025-06-20T22:06:32.329Z"
   },
   {
    "duration": 97,
    "start_time": "2025-06-20T22:12:05.977Z"
   },
   {
    "duration": 3,
    "start_time": "2025-06-20T22:12:14.156Z"
   },
   {
    "duration": 3,
    "start_time": "2025-06-20T22:12:33.808Z"
   },
   {
    "duration": 4,
    "start_time": "2025-06-20T22:12:42.777Z"
   },
   {
    "duration": 1807,
    "start_time": "2025-06-20T22:13:02.497Z"
   },
   {
    "duration": 6,
    "start_time": "2025-06-20T22:13:04.307Z"
   },
   {
    "duration": 4,
    "start_time": "2025-06-20T22:13:04.314Z"
   },
   {
    "duration": 999,
    "start_time": "2025-06-20T22:13:04.320Z"
   },
   {
    "duration": 36,
    "start_time": "2025-06-20T22:13:05.322Z"
   },
   {
    "duration": 9,
    "start_time": "2025-06-20T22:13:05.372Z"
   },
   {
    "duration": 15,
    "start_time": "2025-06-20T22:13:05.383Z"
   },
   {
    "duration": 274,
    "start_time": "2025-06-20T22:13:05.399Z"
   },
   {
    "duration": 176,
    "start_time": "2025-06-20T22:13:05.675Z"
   },
   {
    "duration": 2206,
    "start_time": "2025-06-20T22:13:05.853Z"
   },
   {
    "duration": 14,
    "start_time": "2025-06-20T22:13:08.061Z"
   },
   {
    "duration": 14,
    "start_time": "2025-06-20T22:13:08.077Z"
   },
   {
    "duration": 4,
    "start_time": "2025-06-20T22:13:08.093Z"
   },
   {
    "duration": 939,
    "start_time": "2025-06-20T22:13:08.100Z"
   },
   {
    "duration": 6,
    "start_time": "2025-06-20T22:13:09.041Z"
   },
   {
    "duration": 1678,
    "start_time": "2025-06-20T22:13:38.066Z"
   },
   {
    "duration": 4,
    "start_time": "2025-06-20T22:13:39.746Z"
   },
   {
    "duration": 13,
    "start_time": "2025-06-20T22:13:39.752Z"
   },
   {
    "duration": 961,
    "start_time": "2025-06-20T22:13:39.767Z"
   },
   {
    "duration": 52,
    "start_time": "2025-06-20T22:13:40.730Z"
   },
   {
    "duration": 10,
    "start_time": "2025-06-20T22:13:40.785Z"
   },
   {
    "duration": 17,
    "start_time": "2025-06-20T22:13:40.796Z"
   },
   {
    "duration": 284,
    "start_time": "2025-06-20T22:13:40.814Z"
   },
   {
    "duration": 169,
    "start_time": "2025-06-20T22:13:41.099Z"
   },
   {
    "duration": 2181,
    "start_time": "2025-06-20T22:13:41.270Z"
   },
   {
    "duration": 7,
    "start_time": "2025-06-20T22:13:43.453Z"
   },
   {
    "duration": 10,
    "start_time": "2025-06-20T22:13:43.462Z"
   },
   {
    "duration": 6,
    "start_time": "2025-06-20T22:13:43.473Z"
   },
   {
    "duration": 874,
    "start_time": "2025-06-20T22:13:43.480Z"
   },
   {
    "duration": 5,
    "start_time": "2025-06-20T22:13:44.356Z"
   },
   {
    "duration": 1694,
    "start_time": "2025-06-20T22:14:51.610Z"
   },
   {
    "duration": 5,
    "start_time": "2025-06-20T22:14:53.306Z"
   },
   {
    "duration": 3,
    "start_time": "2025-06-20T22:14:53.312Z"
   },
   {
    "duration": 960,
    "start_time": "2025-06-20T22:14:53.316Z"
   },
   {
    "duration": 35,
    "start_time": "2025-06-20T22:14:54.279Z"
   },
   {
    "duration": 9,
    "start_time": "2025-06-20T22:14:54.315Z"
   },
   {
    "duration": 16,
    "start_time": "2025-06-20T22:14:54.325Z"
   },
   {
    "duration": 282,
    "start_time": "2025-06-20T22:14:54.342Z"
   },
   {
    "duration": 177,
    "start_time": "2025-06-20T22:14:54.626Z"
   },
   {
    "duration": 2205,
    "start_time": "2025-06-20T22:14:54.805Z"
   },
   {
    "duration": 14,
    "start_time": "2025-06-20T22:14:57.012Z"
   },
   {
    "duration": 4,
    "start_time": "2025-06-20T22:14:57.028Z"
   },
   {
    "duration": 11,
    "start_time": "2025-06-20T22:14:57.033Z"
   },
   {
    "duration": 946,
    "start_time": "2025-06-20T22:14:57.046Z"
   },
   {
    "duration": 4,
    "start_time": "2025-06-20T22:14:57.993Z"
   },
   {
    "duration": 1745,
    "start_time": "2025-06-20T22:15:21.350Z"
   },
   {
    "duration": 4,
    "start_time": "2025-06-20T22:15:23.097Z"
   },
   {
    "duration": 3,
    "start_time": "2025-06-20T22:15:23.102Z"
   },
   {
    "duration": 966,
    "start_time": "2025-06-20T22:15:23.107Z"
   },
   {
    "duration": 37,
    "start_time": "2025-06-20T22:15:24.075Z"
   },
   {
    "duration": 30,
    "start_time": "2025-06-20T22:15:24.114Z"
   },
   {
    "duration": 18,
    "start_time": "2025-06-20T22:15:24.146Z"
   },
   {
    "duration": 262,
    "start_time": "2025-06-20T22:15:24.165Z"
   },
   {
    "duration": 177,
    "start_time": "2025-06-20T22:15:24.428Z"
   },
   {
    "duration": 2221,
    "start_time": "2025-06-20T22:15:24.607Z"
   },
   {
    "duration": 9,
    "start_time": "2025-06-20T22:15:26.830Z"
   },
   {
    "duration": 25,
    "start_time": "2025-06-20T22:15:26.840Z"
   },
   {
    "duration": 6,
    "start_time": "2025-06-20T22:15:26.867Z"
   },
   {
    "duration": 915,
    "start_time": "2025-06-20T22:15:26.875Z"
   },
   {
    "duration": 4,
    "start_time": "2025-06-20T22:15:27.793Z"
   },
   {
    "duration": 905,
    "start_time": "2025-06-20T22:15:55.966Z"
   },
   {
    "duration": 4,
    "start_time": "2025-06-20T22:15:58.928Z"
   },
   {
    "duration": 855,
    "start_time": "2025-06-20T22:16:18.248Z"
   },
   {
    "duration": 4,
    "start_time": "2025-06-20T22:16:20.019Z"
   },
   {
    "duration": 1753,
    "start_time": "2025-06-20T22:16:28.556Z"
   },
   {
    "duration": 5,
    "start_time": "2025-06-20T22:16:30.311Z"
   },
   {
    "duration": 26,
    "start_time": "2025-06-20T22:16:30.318Z"
   },
   {
    "duration": 953,
    "start_time": "2025-06-20T22:16:30.346Z"
   },
   {
    "duration": 36,
    "start_time": "2025-06-20T22:16:31.301Z"
   },
   {
    "duration": 12,
    "start_time": "2025-06-20T22:16:31.338Z"
   },
   {
    "duration": 15,
    "start_time": "2025-06-20T22:16:31.372Z"
   },
   {
    "duration": 271,
    "start_time": "2025-06-20T22:16:31.388Z"
   },
   {
    "duration": 171,
    "start_time": "2025-06-20T22:16:31.660Z"
   },
   {
    "duration": 2153,
    "start_time": "2025-06-20T22:16:31.832Z"
   },
   {
    "duration": 13,
    "start_time": "2025-06-20T22:16:33.987Z"
   },
   {
    "duration": 3,
    "start_time": "2025-06-20T22:16:34.001Z"
   },
   {
    "duration": 8,
    "start_time": "2025-06-20T22:16:34.005Z"
   },
   {
    "duration": 867,
    "start_time": "2025-06-20T22:16:34.015Z"
   },
   {
    "duration": 5,
    "start_time": "2025-06-20T22:16:34.884Z"
   },
   {
    "duration": 125,
    "start_time": "2025-06-20T22:23:28.468Z"
   },
   {
    "duration": 3,
    "start_time": "2025-06-20T22:23:51.597Z"
   },
   {
    "duration": 4,
    "start_time": "2025-06-20T22:24:00.316Z"
   },
   {
    "duration": 4,
    "start_time": "2025-06-20T22:24:08.478Z"
   },
   {
    "duration": 3,
    "start_time": "2025-06-20T22:24:19.558Z"
   },
   {
    "duration": 4,
    "start_time": "2025-06-20T22:24:20.237Z"
   },
   {
    "duration": 3,
    "start_time": "2025-06-20T22:29:36.137Z"
   },
   {
    "duration": 2,
    "start_time": "2025-06-20T22:30:09.088Z"
   },
   {
    "duration": 3,
    "start_time": "2025-06-20T22:30:09.948Z"
   },
   {
    "duration": 2,
    "start_time": "2025-06-20T22:30:29.158Z"
   },
   {
    "duration": 4,
    "start_time": "2025-06-20T22:30:30.105Z"
   },
   {
    "duration": 1661,
    "start_time": "2025-06-20T22:30:47.348Z"
   },
   {
    "duration": 5,
    "start_time": "2025-06-20T22:30:49.011Z"
   },
   {
    "duration": 8,
    "start_time": "2025-06-20T22:30:49.017Z"
   },
   {
    "duration": 942,
    "start_time": "2025-06-20T22:30:49.026Z"
   },
   {
    "duration": 36,
    "start_time": "2025-06-20T22:30:49.971Z"
   },
   {
    "duration": 8,
    "start_time": "2025-06-20T22:30:50.009Z"
   },
   {
    "duration": 16,
    "start_time": "2025-06-20T22:30:50.019Z"
   },
   {
    "duration": 277,
    "start_time": "2025-06-20T22:30:50.037Z"
   },
   {
    "duration": 162,
    "start_time": "2025-06-20T22:30:50.316Z"
   },
   {
    "duration": 2176,
    "start_time": "2025-06-20T22:30:50.480Z"
   },
   {
    "duration": 6,
    "start_time": "2025-06-20T22:30:52.657Z"
   },
   {
    "duration": 2,
    "start_time": "2025-06-20T22:30:52.672Z"
   },
   {
    "duration": 10,
    "start_time": "2025-06-20T22:30:52.676Z"
   },
   {
    "duration": 886,
    "start_time": "2025-06-20T22:30:52.688Z"
   },
   {
    "duration": 5,
    "start_time": "2025-06-20T22:30:53.576Z"
   },
   {
    "duration": 6,
    "start_time": "2025-06-20T22:30:53.582Z"
   },
   {
    "duration": 6,
    "start_time": "2025-06-20T22:30:53.590Z"
   },
   {
    "duration": 6,
    "start_time": "2025-06-20T22:30:53.597Z"
   },
   {
    "duration": 3,
    "start_time": "2025-06-20T22:34:05.177Z"
   },
   {
    "duration": 3,
    "start_time": "2025-06-20T22:34:08.287Z"
   },
   {
    "duration": 4,
    "start_time": "2025-06-20T22:34:09.157Z"
   },
   {
    "duration": 1662,
    "start_time": "2025-06-20T22:34:18.322Z"
   },
   {
    "duration": 4,
    "start_time": "2025-06-20T22:34:19.986Z"
   },
   {
    "duration": 4,
    "start_time": "2025-06-20T22:34:19.992Z"
   },
   {
    "duration": 954,
    "start_time": "2025-06-20T22:34:19.998Z"
   },
   {
    "duration": 45,
    "start_time": "2025-06-20T22:34:20.954Z"
   },
   {
    "duration": 11,
    "start_time": "2025-06-20T22:34:21.000Z"
   },
   {
    "duration": 43,
    "start_time": "2025-06-20T22:34:21.013Z"
   },
   {
    "duration": 263,
    "start_time": "2025-06-20T22:34:21.058Z"
   },
   {
    "duration": 166,
    "start_time": "2025-06-20T22:34:21.323Z"
   },
   {
    "duration": 2189,
    "start_time": "2025-06-20T22:34:21.491Z"
   },
   {
    "duration": 17,
    "start_time": "2025-06-20T22:34:23.682Z"
   },
   {
    "duration": 3,
    "start_time": "2025-06-20T22:34:23.701Z"
   },
   {
    "duration": 8,
    "start_time": "2025-06-20T22:34:23.705Z"
   },
   {
    "duration": 864,
    "start_time": "2025-06-20T22:34:23.716Z"
   },
   {
    "duration": 4,
    "start_time": "2025-06-20T22:34:24.582Z"
   },
   {
    "duration": 18,
    "start_time": "2025-06-20T22:34:24.588Z"
   },
   {
    "duration": 10,
    "start_time": "2025-06-20T22:34:24.607Z"
   },
   {
    "duration": 15,
    "start_time": "2025-06-20T22:34:24.619Z"
   },
   {
    "duration": 2,
    "start_time": "2025-06-20T22:35:11.167Z"
   },
   {
    "duration": 4,
    "start_time": "2025-06-20T22:35:11.917Z"
   },
   {
    "duration": 4,
    "start_time": "2025-06-20T22:35:20.658Z"
   },
   {
    "duration": 4,
    "start_time": "2025-06-20T22:35:21.957Z"
   },
   {
    "duration": 3,
    "start_time": "2025-06-20T22:35:22.877Z"
   },
   {
    "duration": 4,
    "start_time": "2025-06-20T22:35:23.677Z"
   },
   {
    "duration": 886,
    "start_time": "2025-06-20T22:36:34.077Z"
   },
   {
    "duration": 4,
    "start_time": "2025-06-20T22:36:35.934Z"
   },
   {
    "duration": 124,
    "start_time": "2025-06-20T22:36:40.998Z"
   },
   {
    "duration": 3,
    "start_time": "2025-06-20T22:36:44.837Z"
   },
   {
    "duration": 4,
    "start_time": "2025-06-20T22:36:46.705Z"
   },
   {
    "duration": 1796,
    "start_time": "2025-06-20T22:36:55.046Z"
   },
   {
    "duration": 4,
    "start_time": "2025-06-20T22:36:56.844Z"
   },
   {
    "duration": 7,
    "start_time": "2025-06-20T22:36:56.850Z"
   },
   {
    "duration": 915,
    "start_time": "2025-06-20T22:36:56.859Z"
   },
   {
    "duration": 36,
    "start_time": "2025-06-20T22:36:57.776Z"
   },
   {
    "duration": 9,
    "start_time": "2025-06-20T22:36:57.814Z"
   },
   {
    "duration": 15,
    "start_time": "2025-06-20T22:36:57.825Z"
   },
   {
    "duration": 283,
    "start_time": "2025-06-20T22:36:57.841Z"
   },
   {
    "duration": 169,
    "start_time": "2025-06-20T22:36:58.126Z"
   },
   {
    "duration": 2158,
    "start_time": "2025-06-20T22:36:58.298Z"
   },
   {
    "duration": 19,
    "start_time": "2025-06-20T22:37:00.457Z"
   },
   {
    "duration": 12,
    "start_time": "2025-06-20T22:37:00.478Z"
   },
   {
    "duration": 33,
    "start_time": "2025-06-20T22:37:00.492Z"
   },
   {
    "duration": 944,
    "start_time": "2025-06-20T22:37:00.527Z"
   },
   {
    "duration": 7,
    "start_time": "2025-06-20T22:37:01.473Z"
   },
   {
    "duration": 5,
    "start_time": "2025-06-20T22:37:01.482Z"
   },
   {
    "duration": 13,
    "start_time": "2025-06-20T22:37:01.489Z"
   },
   {
    "duration": 30,
    "start_time": "2025-06-20T22:37:01.504Z"
   },
   {
    "duration": 1646,
    "start_time": "2025-06-20T22:43:53.039Z"
   },
   {
    "duration": 3,
    "start_time": "2025-06-20T22:43:54.687Z"
   },
   {
    "duration": 3,
    "start_time": "2025-06-20T22:43:54.692Z"
   },
   {
    "duration": 942,
    "start_time": "2025-06-20T22:43:54.696Z"
   },
   {
    "duration": 37,
    "start_time": "2025-06-20T22:43:55.640Z"
   },
   {
    "duration": 50,
    "start_time": "2025-06-20T22:43:55.678Z"
   },
   {
    "duration": 23,
    "start_time": "2025-06-20T22:43:55.729Z"
   },
   {
    "duration": 255,
    "start_time": "2025-06-20T22:43:55.754Z"
   },
   {
    "duration": 181,
    "start_time": "2025-06-20T22:43:56.011Z"
   },
   {
    "duration": 2167,
    "start_time": "2025-06-20T22:43:56.193Z"
   },
   {
    "duration": 10,
    "start_time": "2025-06-20T22:43:58.361Z"
   },
   {
    "duration": 14,
    "start_time": "2025-06-20T22:43:58.373Z"
   },
   {
    "duration": 3,
    "start_time": "2025-06-20T22:43:58.388Z"
   },
   {
    "duration": 123,
    "start_time": "2025-06-20T22:43:58.393Z"
   },
   {
    "duration": 0,
    "start_time": "2025-06-20T22:43:58.518Z"
   },
   {
    "duration": 11,
    "start_time": "2025-06-20T22:44:21.085Z"
   },
   {
    "duration": 11,
    "start_time": "2025-06-20T22:46:48.326Z"
   },
   {
    "duration": 3987,
    "start_time": "2025-06-20T22:46:57.070Z"
   },
   {
    "duration": 1660,
    "start_time": "2025-06-20T22:48:03.317Z"
   },
   {
    "duration": 5,
    "start_time": "2025-06-20T22:48:04.979Z"
   },
   {
    "duration": 7,
    "start_time": "2025-06-20T22:48:04.985Z"
   },
   {
    "duration": 943,
    "start_time": "2025-06-20T22:48:04.994Z"
   },
   {
    "duration": 44,
    "start_time": "2025-06-20T22:48:05.939Z"
   },
   {
    "duration": 11,
    "start_time": "2025-06-20T22:48:05.985Z"
   },
   {
    "duration": 17,
    "start_time": "2025-06-20T22:48:05.997Z"
   },
   {
    "duration": 292,
    "start_time": "2025-06-20T22:48:06.016Z"
   },
   {
    "duration": 173,
    "start_time": "2025-06-20T22:48:06.310Z"
   },
   {
    "duration": 2239,
    "start_time": "2025-06-20T22:48:06.486Z"
   },
   {
    "duration": 5,
    "start_time": "2025-06-20T22:48:08.726Z"
   },
   {
    "duration": 3,
    "start_time": "2025-06-20T22:48:08.733Z"
   },
   {
    "duration": 3,
    "start_time": "2025-06-20T22:48:08.737Z"
   },
   {
    "duration": 1753,
    "start_time": "2025-06-20T22:56:02.035Z"
   },
   {
    "duration": 5,
    "start_time": "2025-06-20T22:56:03.790Z"
   },
   {
    "duration": 10,
    "start_time": "2025-06-20T22:56:03.796Z"
   },
   {
    "duration": 954,
    "start_time": "2025-06-20T22:56:03.807Z"
   },
   {
    "duration": 36,
    "start_time": "2025-06-20T22:56:04.764Z"
   },
   {
    "duration": 37,
    "start_time": "2025-06-20T22:56:04.802Z"
   },
   {
    "duration": 29,
    "start_time": "2025-06-20T22:56:04.841Z"
   },
   {
    "duration": 266,
    "start_time": "2025-06-20T22:56:04.871Z"
   },
   {
    "duration": 173,
    "start_time": "2025-06-20T22:56:05.139Z"
   },
   {
    "duration": 2242,
    "start_time": "2025-06-20T22:56:05.314Z"
   },
   {
    "duration": 14,
    "start_time": "2025-06-20T22:56:07.557Z"
   },
   {
    "duration": 10,
    "start_time": "2025-06-20T22:56:07.572Z"
   },
   {
    "duration": 8,
    "start_time": "2025-06-20T22:56:07.584Z"
   },
   {
    "duration": 3954,
    "start_time": "2025-06-20T22:56:07.595Z"
   },
   {
    "duration": 8,
    "start_time": "2025-06-20T22:56:11.551Z"
   },
   {
    "duration": 3,
    "start_time": "2025-06-20T23:02:25.537Z"
   },
   {
    "duration": 123,
    "start_time": "2025-06-20T23:04:01.068Z"
   },
   {
    "duration": 79368,
    "start_time": "2025-06-20T23:04:10.017Z"
   },
   {
    "duration": 8,
    "start_time": "2025-06-20T23:05:29.387Z"
   },
   {
    "duration": 1659,
    "start_time": "2025-06-20T23:06:51.907Z"
   },
   {
    "duration": 2,
    "start_time": "2025-06-20T23:06:53.568Z"
   },
   {
    "duration": 11,
    "start_time": "2025-06-20T23:06:53.571Z"
   },
   {
    "duration": 946,
    "start_time": "2025-06-20T23:06:53.584Z"
   },
   {
    "duration": 44,
    "start_time": "2025-06-20T23:06:54.532Z"
   },
   {
    "duration": 9,
    "start_time": "2025-06-20T23:06:54.577Z"
   },
   {
    "duration": 16,
    "start_time": "2025-06-20T23:06:54.587Z"
   },
   {
    "duration": 269,
    "start_time": "2025-06-20T23:06:54.605Z"
   },
   {
    "duration": 163,
    "start_time": "2025-06-20T23:06:54.875Z"
   },
   {
    "duration": 2215,
    "start_time": "2025-06-20T23:06:55.040Z"
   },
   {
    "duration": 4,
    "start_time": "2025-06-20T23:06:57.257Z"
   },
   {
    "duration": 37,
    "start_time": "2025-06-20T23:06:57.263Z"
   },
   {
    "duration": 2,
    "start_time": "2025-06-20T23:06:57.302Z"
   },
   {
    "duration": 122560,
    "start_time": "2025-06-20T23:06:57.306Z"
   },
   {
    "duration": 7,
    "start_time": "2025-06-20T23:08:59.870Z"
   },
   {
    "duration": 1758,
    "start_time": "2025-06-20T23:12:59.588Z"
   },
   {
    "duration": 3,
    "start_time": "2025-06-20T23:13:01.348Z"
   },
   {
    "duration": 47,
    "start_time": "2025-06-20T23:13:01.353Z"
   },
   {
    "duration": 1058,
    "start_time": "2025-06-20T23:13:01.401Z"
   },
   {
    "duration": 45,
    "start_time": "2025-06-20T23:13:02.462Z"
   },
   {
    "duration": 12,
    "start_time": "2025-06-20T23:13:02.509Z"
   },
   {
    "duration": 42,
    "start_time": "2025-06-20T23:13:02.523Z"
   },
   {
    "duration": 265,
    "start_time": "2025-06-20T23:13:02.567Z"
   },
   {
    "duration": 170,
    "start_time": "2025-06-20T23:13:02.834Z"
   },
   {
    "duration": 2246,
    "start_time": "2025-06-20T23:13:03.006Z"
   },
   {
    "duration": 20,
    "start_time": "2025-06-20T23:13:05.253Z"
   },
   {
    "duration": 50,
    "start_time": "2025-06-20T23:13:05.274Z"
   },
   {
    "duration": 54,
    "start_time": "2025-06-20T23:13:05.326Z"
   },
   {
    "duration": 80235,
    "start_time": "2025-06-20T23:13:05.382Z"
   },
   {
    "duration": 8,
    "start_time": "2025-06-20T23:14:25.619Z"
   },
   {
    "duration": 5,
    "start_time": "2025-06-20T23:15:00.125Z"
   },
   {
    "duration": 1726,
    "start_time": "2025-06-20T23:15:22.355Z"
   },
   {
    "duration": 2,
    "start_time": "2025-06-20T23:15:24.083Z"
   },
   {
    "duration": 7,
    "start_time": "2025-06-20T23:15:24.087Z"
   },
   {
    "duration": 943,
    "start_time": "2025-06-20T23:15:24.095Z"
   },
   {
    "duration": 51,
    "start_time": "2025-06-20T23:15:25.040Z"
   },
   {
    "duration": 12,
    "start_time": "2025-06-20T23:15:25.092Z"
   },
   {
    "duration": 16,
    "start_time": "2025-06-20T23:15:25.105Z"
   },
   {
    "duration": 277,
    "start_time": "2025-06-20T23:15:25.122Z"
   },
   {
    "duration": 167,
    "start_time": "2025-06-20T23:15:25.401Z"
   },
   {
    "duration": 2244,
    "start_time": "2025-06-20T23:15:25.570Z"
   },
   {
    "duration": 9,
    "start_time": "2025-06-20T23:15:27.816Z"
   },
   {
    "duration": 44,
    "start_time": "2025-06-20T23:15:27.827Z"
   },
   {
    "duration": 3,
    "start_time": "2025-06-20T23:15:27.872Z"
   },
   {
    "duration": 79743,
    "start_time": "2025-06-20T23:15:27.877Z"
   },
   {
    "duration": 8,
    "start_time": "2025-06-20T23:16:47.621Z"
   },
   {
    "duration": 192,
    "start_time": "2025-06-20T23:21:23.894Z"
   },
   {
    "duration": 291,
    "start_time": "2025-06-20T23:22:01.108Z"
   },
   {
    "duration": 183,
    "start_time": "2025-06-20T23:22:15.139Z"
   },
   {
    "duration": 181,
    "start_time": "2025-06-20T23:22:23.387Z"
   },
   {
    "duration": 92,
    "start_time": "2025-06-20T23:27:00.837Z"
   },
   {
    "duration": 367,
    "start_time": "2025-06-20T23:27:06.348Z"
   },
   {
    "duration": 370,
    "start_time": "2025-06-20T23:27:23.818Z"
   },
   {
    "duration": 356,
    "start_time": "2025-06-20T23:27:59.086Z"
   },
   {
    "duration": 358,
    "start_time": "2025-06-20T23:28:46.515Z"
   },
   {
    "duration": 358,
    "start_time": "2025-06-20T23:29:02.718Z"
   },
   {
    "duration": 381,
    "start_time": "2025-06-20T23:29:12.037Z"
   },
   {
    "duration": 370,
    "start_time": "2025-06-20T23:30:38.988Z"
   },
   {
    "duration": 201,
    "start_time": "2025-06-20T23:30:40.848Z"
   },
   {
    "duration": 364,
    "start_time": "2025-06-20T23:30:55.361Z"
   },
   {
    "duration": 1674,
    "start_time": "2025-06-20T23:35:27.467Z"
   },
   {
    "duration": 3,
    "start_time": "2025-06-20T23:35:29.143Z"
   },
   {
    "duration": 3,
    "start_time": "2025-06-20T23:35:29.148Z"
   },
   {
    "duration": 893,
    "start_time": "2025-06-20T23:35:29.153Z"
   },
   {
    "duration": 43,
    "start_time": "2025-06-20T23:35:30.048Z"
   },
   {
    "duration": 9,
    "start_time": "2025-06-20T23:35:30.092Z"
   },
   {
    "duration": 35,
    "start_time": "2025-06-20T23:35:30.103Z"
   },
   {
    "duration": 454,
    "start_time": "2025-06-20T23:35:30.139Z"
   },
   {
    "duration": 162,
    "start_time": "2025-06-20T23:35:30.595Z"
   },
   {
    "duration": 40,
    "start_time": "2025-06-20T23:35:30.759Z"
   },
   {
    "duration": 3,
    "start_time": "2025-06-20T23:35:30.800Z"
   },
   {
    "duration": 79437,
    "start_time": "2025-06-20T23:35:30.805Z"
   },
   {
    "duration": 7,
    "start_time": "2025-06-20T23:36:50.244Z"
   },
   {
    "duration": 381,
    "start_time": "2025-06-20T23:36:50.253Z"
   },
   {
    "duration": 389,
    "start_time": "2025-06-20T23:36:50.635Z"
   },
   {
    "duration": 2029,
    "start_time": "2025-06-21T09:45:46.928Z"
   },
   {
    "duration": 3,
    "start_time": "2025-06-21T09:45:48.960Z"
   },
   {
    "duration": 48,
    "start_time": "2025-06-21T09:45:48.967Z"
   },
   {
    "duration": 967,
    "start_time": "2025-06-21T09:45:49.017Z"
   },
   {
    "duration": 49,
    "start_time": "2025-06-21T09:45:49.986Z"
   },
   {
    "duration": 11,
    "start_time": "2025-06-21T09:45:50.037Z"
   },
   {
    "duration": 29,
    "start_time": "2025-06-21T09:45:50.049Z"
   },
   {
    "duration": 439,
    "start_time": "2025-06-21T09:45:50.080Z"
   },
   {
    "duration": 166,
    "start_time": "2025-06-21T09:45:50.521Z"
   },
   {
    "duration": 47,
    "start_time": "2025-06-21T09:45:50.689Z"
   },
   {
    "duration": 3,
    "start_time": "2025-06-21T09:45:50.737Z"
   },
   {
    "duration": 82475,
    "start_time": "2025-06-21T09:45:50.742Z"
   },
   {
    "duration": 7,
    "start_time": "2025-06-21T09:47:13.220Z"
   },
   {
    "duration": 379,
    "start_time": "2025-06-21T09:47:13.237Z"
   },
   {
    "duration": 370,
    "start_time": "2025-06-21T09:47:13.618Z"
   },
   {
    "duration": 3,
    "start_time": "2025-06-21T10:17:49.428Z"
   },
   {
    "duration": 2,
    "start_time": "2025-06-21T10:20:14.560Z"
   },
   {
    "duration": 123,
    "start_time": "2025-06-21T10:20:22.951Z"
   },
   {
    "duration": 55,
    "start_time": "2025-06-21T10:21:18.638Z"
   },
   {
    "duration": 21,
    "start_time": "2025-06-21T10:21:25.130Z"
   },
   {
    "duration": 2,
    "start_time": "2025-06-21T10:21:52.781Z"
   },
   {
    "duration": 24,
    "start_time": "2025-06-21T10:21:56.580Z"
   },
   {
    "duration": 27,
    "start_time": "2025-06-21T10:25:40.606Z"
   },
   {
    "duration": 3,
    "start_time": "2025-06-21T10:25:44.413Z"
   },
   {
    "duration": 34,
    "start_time": "2025-06-21T10:25:45.351Z"
   },
   {
    "duration": 25,
    "start_time": "2025-06-21T10:38:33.564Z"
   },
   {
    "duration": 24,
    "start_time": "2025-06-21T10:40:09.754Z"
   },
   {
    "duration": 17,
    "start_time": "2025-06-21T10:41:52.930Z"
   },
   {
    "duration": 2,
    "start_time": "2025-06-21T10:43:01.201Z"
   },
   {
    "duration": 11,
    "start_time": "2025-06-21T10:43:02.038Z"
   },
   {
    "duration": 41,
    "start_time": "2025-06-21T10:43:41.880Z"
   },
   {
    "duration": 6124,
    "start_time": "2025-06-21T10:43:42.661Z"
   },
   {
    "duration": 5600,
    "start_time": "2025-06-21T10:45:22.931Z"
   },
   {
    "duration": 21,
    "start_time": "2025-06-21T10:47:24.150Z"
   },
   {
    "duration": 1372,
    "start_time": "2025-06-21T10:47:43.101Z"
   },
   {
    "duration": 3,
    "start_time": "2025-06-21T10:48:28.811Z"
   },
   {
    "duration": 3,
    "start_time": "2025-06-21T10:49:39.425Z"
   },
   {
    "duration": 3,
    "start_time": "2025-06-21T10:51:28.518Z"
   },
   {
    "duration": 147,
    "start_time": "2025-06-21T10:53:30.151Z"
   },
   {
    "duration": 2,
    "start_time": "2025-06-21T10:53:34.531Z"
   },
   {
    "duration": 3,
    "start_time": "2025-06-21T10:53:35.432Z"
   },
   {
    "duration": 3,
    "start_time": "2025-06-21T10:55:47.390Z"
   },
   {
    "duration": 22,
    "start_time": "2025-06-21T10:55:48.159Z"
   },
   {
    "duration": 3,
    "start_time": "2025-06-21T10:55:49.559Z"
   },
   {
    "duration": 5635,
    "start_time": "2025-06-21T10:55:50.300Z"
   },
   {
    "duration": 1368,
    "start_time": "2025-06-21T10:56:00.452Z"
   },
   {
    "duration": 3,
    "start_time": "2025-06-21T10:56:02.961Z"
   },
   {
    "duration": 2,
    "start_time": "2025-06-21T11:02:37.580Z"
   },
   {
    "duration": 14,
    "start_time": "2025-06-21T11:11:29.570Z"
   },
   {
    "duration": 3,
    "start_time": "2025-06-21T11:11:46.049Z"
   },
   {
    "duration": 11,
    "start_time": "2025-06-21T11:12:28.389Z"
   },
   {
    "duration": 37,
    "start_time": "2025-06-21T11:12:56.860Z"
   },
   {
    "duration": 970,
    "start_time": "2025-06-21T11:13:55.587Z"
   },
   {
    "duration": 0,
    "start_time": "2025-06-21T11:13:56.560Z"
   },
   {
    "duration": 7,
    "start_time": "2025-06-21T11:15:13.529Z"
   },
   {
    "duration": 36,
    "start_time": "2025-06-21T11:15:14.937Z"
   },
   {
    "duration": 5,
    "start_time": "2025-06-21T11:16:56.569Z"
   },
   {
    "duration": 93,
    "start_time": "2025-06-21T11:16:57.386Z"
   },
   {
    "duration": 4,
    "start_time": "2025-06-21T11:20:28.181Z"
   },
   {
    "duration": 1996,
    "start_time": "2025-06-21T11:20:28.191Z"
   },
   {
    "duration": 2,
    "start_time": "2025-06-21T11:20:30.189Z"
   },
   {
    "duration": 144,
    "start_time": "2025-06-21T11:20:30.193Z"
   },
   {
    "duration": 80,
    "start_time": "2025-06-21T11:20:30.338Z"
   },
   {
    "duration": 24,
    "start_time": "2025-06-21T11:20:30.420Z"
   },
   {
    "duration": 873,
    "start_time": "2025-06-21T11:20:30.446Z"
   },
   {
    "duration": 115,
    "start_time": "2025-06-21T11:20:31.321Z"
   },
   {
    "duration": 11,
    "start_time": "2025-06-21T11:20:31.438Z"
   },
   {
    "duration": 187,
    "start_time": "2025-06-21T11:20:31.450Z"
   },
   {
    "duration": 467,
    "start_time": "2025-06-21T11:20:31.639Z"
   },
   {
    "duration": 177,
    "start_time": "2025-06-21T11:20:32.108Z"
   },
   {
    "duration": 29,
    "start_time": "2025-06-21T11:20:32.287Z"
   },
   {
    "duration": 109,
    "start_time": "2025-06-21T11:20:32.317Z"
   },
   {
    "duration": 87921,
    "start_time": "2025-06-21T11:20:32.429Z"
   },
   {
    "duration": 7,
    "start_time": "2025-06-21T11:22:00.352Z"
   },
   {
    "duration": 389,
    "start_time": "2025-06-21T11:22:00.361Z"
   },
   {
    "duration": 389,
    "start_time": "2025-06-21T11:22:00.752Z"
   },
   {
    "duration": 3,
    "start_time": "2025-06-21T11:22:01.143Z"
   },
   {
    "duration": 31,
    "start_time": "2025-06-21T11:22:01.147Z"
   },
   {
    "duration": 3,
    "start_time": "2025-06-21T11:22:01.180Z"
   },
   {
    "duration": 5702,
    "start_time": "2025-06-21T11:22:01.185Z"
   },
   {
    "duration": 1408,
    "start_time": "2025-06-21T11:22:06.889Z"
   },
   {
    "duration": 4,
    "start_time": "2025-06-21T11:22:08.299Z"
   },
   {
    "duration": 87,
    "start_time": "2025-06-21T11:22:08.305Z"
   },
   {
    "duration": 212,
    "start_time": "2025-06-21T11:22:08.393Z"
   },
   {
    "duration": 4,
    "start_time": "2025-06-21T11:22:08.607Z"
   },
   {
    "duration": 100,
    "start_time": "2025-06-21T11:22:08.612Z"
   },
   {
    "duration": 5,
    "start_time": "2025-06-21T11:24:21.437Z"
   },
   {
    "duration": 11,
    "start_time": "2025-06-21T11:25:07.559Z"
   },
   {
    "duration": 26,
    "start_time": "2025-06-21T11:26:06.229Z"
   },
   {
    "duration": 30,
    "start_time": "2025-06-21T11:26:15.259Z"
   },
   {
    "duration": 3,
    "start_time": "2025-06-21T11:26:17.657Z"
   },
   {
    "duration": 3,
    "start_time": "2025-06-21T11:27:19.799Z"
   },
   {
    "duration": 44,
    "start_time": "2025-06-21T11:27:36.259Z"
   },
   {
    "duration": 3,
    "start_time": "2025-06-21T11:27:37.739Z"
   },
   {
    "duration": 5501,
    "start_time": "2025-06-21T11:27:45.827Z"
   },
   {
    "duration": 5530,
    "start_time": "2025-06-21T11:28:11.657Z"
   },
   {
    "duration": 1449,
    "start_time": "2025-06-21T11:28:35.288Z"
   },
   {
    "duration": 3,
    "start_time": "2025-06-21T11:28:37.644Z"
   },
   {
    "duration": 4,
    "start_time": "2025-06-21T11:28:42.310Z"
   },
   {
    "duration": 98049,
    "start_time": "2025-06-21T11:28:44.209Z"
   },
   {
    "duration": 12,
    "start_time": "2025-06-21T11:33:11.179Z"
   },
   {
    "duration": 5,
    "start_time": "2025-06-21T11:33:24.964Z"
   },
   {
    "duration": 4,
    "start_time": "2025-06-21T11:33:37.827Z"
   },
   {
    "duration": 3,
    "start_time": "2025-06-21T11:33:43.467Z"
   },
   {
    "duration": 4,
    "start_time": "2025-06-21T11:41:23.860Z"
   },
   {
    "duration": 1677,
    "start_time": "2025-06-21T11:41:23.866Z"
   },
   {
    "duration": 2,
    "start_time": "2025-06-21T11:41:25.545Z"
   },
   {
    "duration": 59,
    "start_time": "2025-06-21T11:41:25.549Z"
   },
   {
    "duration": 48,
    "start_time": "2025-06-21T11:41:25.610Z"
   },
   {
    "duration": 7,
    "start_time": "2025-06-21T11:41:25.659Z"
   },
   {
    "duration": 874,
    "start_time": "2025-06-21T11:41:25.667Z"
   },
   {
    "duration": 137,
    "start_time": "2025-06-21T11:41:26.543Z"
   },
   {
    "duration": 10,
    "start_time": "2025-06-21T11:41:26.681Z"
   },
   {
    "duration": 17,
    "start_time": "2025-06-21T11:41:26.693Z"
   },
   {
    "duration": 478,
    "start_time": "2025-06-21T11:41:26.713Z"
   },
   {
    "duration": 171,
    "start_time": "2025-06-21T11:41:27.193Z"
   },
   {
    "duration": 29,
    "start_time": "2025-06-21T11:41:27.366Z"
   },
   {
    "duration": 3,
    "start_time": "2025-06-21T11:41:27.396Z"
   },
   {
    "duration": 84871,
    "start_time": "2025-06-21T11:41:27.400Z"
   },
   {
    "duration": 8,
    "start_time": "2025-06-21T11:42:52.273Z"
   },
   {
    "duration": 406,
    "start_time": "2025-06-21T11:42:52.282Z"
   },
   {
    "duration": 397,
    "start_time": "2025-06-21T11:42:52.690Z"
   },
   {
    "duration": 2,
    "start_time": "2025-06-21T11:42:53.089Z"
   },
   {
    "duration": 26,
    "start_time": "2025-06-21T11:42:53.093Z"
   },
   {
    "duration": 145,
    "start_time": "2025-06-21T11:42:53.120Z"
   },
   {
    "duration": 0,
    "start_time": "2025-06-21T11:42:53.267Z"
   },
   {
    "duration": 0,
    "start_time": "2025-06-21T11:42:53.269Z"
   },
   {
    "duration": 0,
    "start_time": "2025-06-21T11:42:53.270Z"
   },
   {
    "duration": 1,
    "start_time": "2025-06-21T11:42:53.271Z"
   },
   {
    "duration": 0,
    "start_time": "2025-06-21T11:42:53.273Z"
   },
   {
    "duration": 0,
    "start_time": "2025-06-21T11:42:53.274Z"
   },
   {
    "duration": 3,
    "start_time": "2025-06-21T11:44:23.429Z"
   },
   {
    "duration": 5406,
    "start_time": "2025-06-21T11:44:25.297Z"
   },
   {
    "duration": 1310,
    "start_time": "2025-06-21T11:44:30.705Z"
   },
   {
    "duration": 3,
    "start_time": "2025-06-21T11:44:32.017Z"
   },
   {
    "duration": 4,
    "start_time": "2025-06-21T11:44:42.902Z"
   },
   {
    "duration": 0,
    "start_time": "2025-06-21T11:55:47.171Z"
   },
   {
    "duration": 4,
    "start_time": "2025-06-21T11:56:27.288Z"
   },
   {
    "duration": 86194,
    "start_time": "2025-06-21T11:56:28.269Z"
   },
   {
    "duration": 87453,
    "start_time": "2025-06-21T11:58:07.018Z"
   },
   {
    "duration": 4,
    "start_time": "2025-06-21T12:02:31.196Z"
   },
   {
    "duration": 695443,
    "start_time": "2025-06-21T12:03:20.228Z"
   },
   {
    "duration": 5858,
    "start_time": "2025-06-21T12:14:56.206Z"
   },
   {
    "duration": 3,
    "start_time": "2025-06-21T12:15:09.968Z"
   },
   {
    "duration": 3,
    "start_time": "2025-06-21T12:15:10.754Z"
   },
   {
    "duration": 3,
    "start_time": "2025-06-21T12:16:41.206Z"
   },
   {
    "duration": 1673,
    "start_time": "2025-06-21T12:16:41.212Z"
   },
   {
    "duration": 3,
    "start_time": "2025-06-21T12:16:42.887Z"
   },
   {
    "duration": 62,
    "start_time": "2025-06-21T12:16:42.891Z"
   },
   {
    "duration": 3,
    "start_time": "2025-06-21T12:16:42.954Z"
   },
   {
    "duration": 97,
    "start_time": "2025-06-21T12:16:42.960Z"
   },
   {
    "duration": 915,
    "start_time": "2025-06-21T12:16:43.059Z"
   },
   {
    "duration": 123,
    "start_time": "2025-06-21T12:16:43.975Z"
   },
   {
    "duration": 12,
    "start_time": "2025-06-21T12:16:44.100Z"
   },
   {
    "duration": 38,
    "start_time": "2025-06-21T12:16:44.114Z"
   },
   {
    "duration": 540,
    "start_time": "2025-06-21T12:16:44.154Z"
   },
   {
    "duration": 179,
    "start_time": "2025-06-21T12:16:44.696Z"
   },
   {
    "duration": 31,
    "start_time": "2025-06-21T12:16:44.877Z"
   },
   {
    "duration": 3,
    "start_time": "2025-06-21T12:16:44.909Z"
   },
   {
    "duration": 91375,
    "start_time": "2025-06-21T12:16:44.936Z"
   },
   {
    "duration": 8,
    "start_time": "2025-06-21T12:18:16.313Z"
   },
   {
    "duration": 447,
    "start_time": "2025-06-21T12:18:16.322Z"
   },
   {
    "duration": 401,
    "start_time": "2025-06-21T12:18:16.771Z"
   },
   {
    "duration": 2,
    "start_time": "2025-06-21T12:18:17.174Z"
   },
   {
    "duration": 26,
    "start_time": "2025-06-21T12:18:17.178Z"
   },
   {
    "duration": 3,
    "start_time": "2025-06-21T12:18:17.206Z"
   },
   {
    "duration": 5852,
    "start_time": "2025-06-21T12:18:17.211Z"
   },
   {
    "duration": 1403,
    "start_time": "2025-06-21T12:18:23.064Z"
   },
   {
    "duration": 4,
    "start_time": "2025-06-21T12:18:24.469Z"
   },
   {
    "duration": 5,
    "start_time": "2025-06-21T12:18:24.475Z"
   },
   {
    "duration": 89069,
    "start_time": "2025-06-21T12:18:24.482Z"
   },
   {
    "duration": 3,
    "start_time": "2025-06-21T12:19:53.553Z"
   },
   {
    "duration": 4,
    "start_time": "2025-06-21T12:19:53.558Z"
   },
   {
    "duration": 1366768,
    "start_time": "2025-06-21T12:19:53.564Z"
   },
   {
    "duration": 6,
    "start_time": "2025-06-21T12:45:05.339Z"
   },
   {
    "duration": 4,
    "start_time": "2025-06-21T12:45:17.727Z"
   },
   {
    "duration": 86688,
    "start_time": "2025-06-21T12:45:54.076Z"
   },
   {
    "duration": 5,
    "start_time": "2025-06-21T12:51:33.839Z"
   },
   {
    "duration": 1393328,
    "start_time": "2025-06-21T12:52:18.099Z"
   },
   {
    "duration": 13,
    "start_time": "2025-06-21T14:23:04.357Z"
   },
   {
    "duration": 93,
    "start_time": "2025-06-21T14:23:20.667Z"
   },
   {
    "duration": 4,
    "start_time": "2025-06-21T14:23:59.505Z"
   },
   {
    "duration": 1685,
    "start_time": "2025-06-21T14:23:59.511Z"
   },
   {
    "duration": 3,
    "start_time": "2025-06-21T14:24:01.198Z"
   },
   {
    "duration": 158,
    "start_time": "2025-06-21T14:24:01.202Z"
   },
   {
    "duration": 63,
    "start_time": "2025-06-21T14:24:01.362Z"
   },
   {
    "duration": 8,
    "start_time": "2025-06-21T14:24:01.427Z"
   },
   {
    "duration": 917,
    "start_time": "2025-06-21T14:24:01.437Z"
   },
   {
    "duration": 111,
    "start_time": "2025-06-21T14:24:02.356Z"
   },
   {
    "duration": 9,
    "start_time": "2025-06-21T14:24:02.469Z"
   },
   {
    "duration": 29,
    "start_time": "2025-06-21T14:24:02.480Z"
   },
   {
    "duration": 460,
    "start_time": "2025-06-21T14:24:02.511Z"
   },
   {
    "duration": 173,
    "start_time": "2025-06-21T14:24:02.973Z"
   },
   {
    "duration": 30,
    "start_time": "2025-06-21T14:24:03.148Z"
   },
   {
    "duration": 3,
    "start_time": "2025-06-21T14:24:03.180Z"
   },
   {
    "duration": 85570,
    "start_time": "2025-06-21T14:24:03.185Z"
   },
   {
    "duration": 8,
    "start_time": "2025-06-21T14:25:28.757Z"
   },
   {
    "duration": 400,
    "start_time": "2025-06-21T14:25:28.767Z"
   },
   {
    "duration": 414,
    "start_time": "2025-06-21T14:25:29.169Z"
   },
   {
    "duration": 2,
    "start_time": "2025-06-21T14:25:29.585Z"
   },
   {
    "duration": 38,
    "start_time": "2025-06-21T14:25:29.589Z"
   },
   {
    "duration": 8,
    "start_time": "2025-06-21T14:25:29.628Z"
   },
   {
    "duration": 5689,
    "start_time": "2025-06-21T14:25:29.637Z"
   },
   {
    "duration": 1348,
    "start_time": "2025-06-21T14:25:35.328Z"
   },
   {
    "duration": 3,
    "start_time": "2025-06-21T14:25:36.678Z"
   },
   {
    "duration": 79,
    "start_time": "2025-06-21T14:25:36.683Z"
   },
   {
    "duration": 24230,
    "start_time": "2025-06-21T14:25:36.764Z"
   },
   {
    "duration": 0,
    "start_time": "2025-06-21T14:26:00.996Z"
   },
   {
    "duration": 0,
    "start_time": "2025-06-21T14:26:00.998Z"
   },
   {
    "duration": 0,
    "start_time": "2025-06-21T14:26:00.999Z"
   },
   {
    "duration": 0,
    "start_time": "2025-06-21T14:26:01.000Z"
   },
   {
    "duration": 0,
    "start_time": "2025-06-21T14:26:01.001Z"
   },
   {
    "duration": 0,
    "start_time": "2025-06-21T14:26:01.002Z"
   },
   {
    "duration": 0,
    "start_time": "2025-06-21T14:26:01.003Z"
   },
   {
    "duration": 35,
    "start_time": "2025-06-21T14:26:11.258Z"
   },
   {
    "duration": 78,
    "start_time": "2025-06-21T14:32:36.499Z"
   },
   {
    "duration": 3,
    "start_time": "2025-06-21T14:33:10.158Z"
   },
   {
    "duration": 345582,
    "start_time": "2025-06-21T14:33:11.198Z"
   },
   {
    "duration": 3,
    "start_time": "2025-06-21T14:40:55.597Z"
   },
   {
    "duration": 168336,
    "start_time": "2025-06-21T14:40:56.535Z"
   },
   {
    "duration": 13,
    "start_time": "2025-06-21T14:49:18.308Z"
   },
   {
    "duration": 3,
    "start_time": "2025-06-21T14:49:22.076Z"
   },
   {
    "duration": 27,
    "start_time": "2025-06-21T14:49:22.898Z"
   },
   {
    "duration": 4,
    "start_time": "2025-06-21T14:50:57.189Z"
   },
   {
    "duration": 5759,
    "start_time": "2025-06-21T14:51:12.426Z"
   },
   {
    "duration": 1342,
    "start_time": "2025-06-21T14:51:18.187Z"
   },
   {
    "duration": 5,
    "start_time": "2025-06-21T14:51:19.531Z"
   },
   {
    "duration": 5,
    "start_time": "2025-06-21T14:51:29.284Z"
   },
   {
    "duration": 4,
    "start_time": "2025-06-21T14:52:04.152Z"
   },
   {
    "duration": 98367,
    "start_time": "2025-06-21T14:52:19.795Z"
   },
   {
    "duration": 3,
    "start_time": "2025-06-21T14:54:18.698Z"
   },
   {
    "duration": 1847,
    "start_time": "2025-06-21T14:54:18.703Z"
   },
   {
    "duration": 3,
    "start_time": "2025-06-21T14:54:20.553Z"
   },
   {
    "duration": 76,
    "start_time": "2025-06-21T14:54:20.558Z"
   },
   {
    "duration": 4,
    "start_time": "2025-06-21T14:54:20.636Z"
   },
   {
    "duration": 10,
    "start_time": "2025-06-21T14:54:20.641Z"
   },
   {
    "duration": 912,
    "start_time": "2025-06-21T14:54:20.653Z"
   },
   {
    "duration": 119,
    "start_time": "2025-06-21T14:54:21.567Z"
   },
   {
    "duration": 30,
    "start_time": "2025-06-21T14:54:21.688Z"
   },
   {
    "duration": 15,
    "start_time": "2025-06-21T14:54:21.719Z"
   },
   {
    "duration": 470,
    "start_time": "2025-06-21T14:54:21.737Z"
   },
   {
    "duration": 176,
    "start_time": "2025-06-21T14:54:22.209Z"
   },
   {
    "duration": 31,
    "start_time": "2025-06-21T14:54:22.387Z"
   },
   {
    "duration": 15,
    "start_time": "2025-06-21T14:54:22.420Z"
   },
   {
    "duration": 86517,
    "start_time": "2025-06-21T14:54:22.437Z"
   },
   {
    "duration": 9,
    "start_time": "2025-06-21T14:55:48.956Z"
   },
   {
    "duration": 400,
    "start_time": "2025-06-21T14:55:48.967Z"
   },
   {
    "duration": 395,
    "start_time": "2025-06-21T14:55:49.368Z"
   },
   {
    "duration": 2,
    "start_time": "2025-06-21T14:55:49.765Z"
   },
   {
    "duration": 22,
    "start_time": "2025-06-21T14:55:49.769Z"
   },
   {
    "duration": 4,
    "start_time": "2025-06-21T14:55:49.792Z"
   },
   {
    "duration": 5569,
    "start_time": "2025-06-21T14:55:49.797Z"
   },
   {
    "duration": 1349,
    "start_time": "2025-06-21T14:55:55.368Z"
   },
   {
    "duration": 4,
    "start_time": "2025-06-21T14:55:56.718Z"
   },
   {
    "duration": 81,
    "start_time": "2025-06-21T14:55:56.735Z"
   },
   {
    "duration": 372837,
    "start_time": "2025-06-21T14:55:56.817Z"
   },
   {
    "duration": 4,
    "start_time": "2025-06-21T15:02:09.656Z"
   },
   {
    "duration": 209,
    "start_time": "2025-06-21T15:02:09.661Z"
   },
   {
    "duration": 0,
    "start_time": "2025-06-21T15:02:09.872Z"
   },
   {
    "duration": 0,
    "start_time": "2025-06-21T15:02:09.873Z"
   },
   {
    "duration": 0,
    "start_time": "2025-06-21T15:02:09.874Z"
   },
   {
    "duration": 3,
    "start_time": "2025-06-21T15:04:06.388Z"
   },
   {
    "duration": 3,
    "start_time": "2025-06-21T15:04:48.827Z"
   },
   {
    "duration": 930139,
    "start_time": "2025-06-21T15:04:50.659Z"
   },
   {
    "duration": 3,
    "start_time": "2025-06-21T15:20:28.516Z"
   },
   {
    "duration": 338609,
    "start_time": "2025-06-21T15:20:29.427Z"
   },
   {
    "duration": 4,
    "start_time": "2025-06-21T15:30:36.900Z"
   },
   {
    "duration": 5,
    "start_time": "2025-06-21T15:37:39.302Z"
   },
   {
    "duration": 15,
    "start_time": "2025-06-21T15:37:40.531Z"
   },
   {
    "duration": 4,
    "start_time": "2025-06-21T15:38:38.991Z"
   },
   {
    "duration": 720885,
    "start_time": "2025-06-21T15:38:48.682Z"
   },
   {
    "duration": 3,
    "start_time": "2025-06-21T20:41:25.194Z"
   },
   {
    "duration": 1941,
    "start_time": "2025-06-21T20:41:25.199Z"
   },
   {
    "duration": 2,
    "start_time": "2025-06-21T20:41:27.142Z"
   },
   {
    "duration": 49,
    "start_time": "2025-06-21T20:41:27.145Z"
   },
   {
    "duration": 2,
    "start_time": "2025-06-21T20:41:27.196Z"
   },
   {
    "duration": 4,
    "start_time": "2025-06-21T20:41:27.200Z"
   },
   {
    "duration": 830,
    "start_time": "2025-06-21T20:41:27.206Z"
   },
   {
    "duration": 107,
    "start_time": "2025-06-21T20:41:28.037Z"
   },
   {
    "duration": 8,
    "start_time": "2025-06-21T20:41:28.145Z"
   },
   {
    "duration": 34,
    "start_time": "2025-06-21T20:41:28.154Z"
   },
   {
    "duration": 425,
    "start_time": "2025-06-21T20:41:28.190Z"
   },
   {
    "duration": 178,
    "start_time": "2025-06-21T20:41:28.616Z"
   },
   {
    "duration": 32,
    "start_time": "2025-06-21T20:41:28.796Z"
   },
   {
    "duration": 3,
    "start_time": "2025-06-21T20:41:28.829Z"
   },
   {
    "duration": 81165,
    "start_time": "2025-06-21T20:41:28.833Z"
   },
   {
    "duration": 7,
    "start_time": "2025-06-21T20:42:50.000Z"
   },
   {
    "duration": 337,
    "start_time": "2025-06-21T20:42:50.008Z"
   },
   {
    "duration": 355,
    "start_time": "2025-06-21T20:42:50.347Z"
   },
   {
    "duration": 2,
    "start_time": "2025-06-21T20:42:50.704Z"
   },
   {
    "duration": 22,
    "start_time": "2025-06-21T20:42:50.708Z"
   },
   {
    "duration": 3,
    "start_time": "2025-06-21T20:42:50.732Z"
   },
   {
    "duration": 5149,
    "start_time": "2025-06-21T20:42:50.737Z"
   },
   {
    "duration": 1212,
    "start_time": "2025-06-21T20:42:55.887Z"
   },
   {
    "duration": 3,
    "start_time": "2025-06-21T20:42:57.101Z"
   },
   {
    "duration": 11,
    "start_time": "2025-06-21T20:42:57.106Z"
   },
   {
    "duration": 381013,
    "start_time": "2025-06-21T20:42:57.118Z"
   },
   {
    "duration": 4,
    "start_time": "2025-06-21T20:49:18.133Z"
   },
   {
    "duration": 306855,
    "start_time": "2025-06-21T20:49:18.138Z"
   },
   {
    "duration": 3,
    "start_time": "2025-06-21T20:54:25.000Z"
   },
   {
    "duration": 633094,
    "start_time": "2025-06-21T20:54:25.004Z"
   },
   {
    "duration": 637381,
    "start_time": "2025-06-21T21:25:17.259Z"
   },
   {
    "duration": 6,
    "start_time": "2025-06-21T21:41:20.500Z"
   },
   {
    "duration": 87825,
    "start_time": "2025-06-21T21:41:21.644Z"
   },
   {
    "duration": 3,
    "start_time": "2025-06-21T21:43:21.844Z"
   },
   {
    "duration": 86131,
    "start_time": "2025-06-21T21:43:22.622Z"
   },
   {
    "duration": 4,
    "start_time": "2025-06-21T21:46:19.368Z"
   },
   {
    "duration": 1840,
    "start_time": "2025-06-21T21:46:19.375Z"
   },
   {
    "duration": 2,
    "start_time": "2025-06-21T21:46:21.217Z"
   },
   {
    "duration": 99,
    "start_time": "2025-06-21T21:46:21.221Z"
   },
   {
    "duration": 3,
    "start_time": "2025-06-21T21:46:21.322Z"
   },
   {
    "duration": 18,
    "start_time": "2025-06-21T21:46:21.326Z"
   },
   {
    "duration": 971,
    "start_time": "2025-06-21T21:46:21.346Z"
   },
   {
    "duration": 121,
    "start_time": "2025-06-21T21:46:22.319Z"
   },
   {
    "duration": 8,
    "start_time": "2025-06-21T21:46:22.443Z"
   },
   {
    "duration": 44,
    "start_time": "2025-06-21T21:46:22.452Z"
   },
   {
    "duration": 475,
    "start_time": "2025-06-21T21:46:22.498Z"
   },
   {
    "duration": 182,
    "start_time": "2025-06-21T21:46:22.974Z"
   },
   {
    "duration": 41,
    "start_time": "2025-06-21T21:46:23.158Z"
   },
   {
    "duration": 9,
    "start_time": "2025-06-21T21:46:23.203Z"
   },
   {
    "duration": 85633,
    "start_time": "2025-06-21T21:46:23.214Z"
   },
   {
    "duration": 7,
    "start_time": "2025-06-21T21:47:48.849Z"
   },
   {
    "duration": 386,
    "start_time": "2025-06-21T21:47:48.858Z"
   },
   {
    "duration": 385,
    "start_time": "2025-06-21T21:47:49.245Z"
   },
   {
    "duration": 2,
    "start_time": "2025-06-21T21:47:49.632Z"
   },
   {
    "duration": 57,
    "start_time": "2025-06-21T21:47:49.636Z"
   },
   {
    "duration": 3,
    "start_time": "2025-06-21T21:47:49.694Z"
   },
   {
    "duration": 5453,
    "start_time": "2025-06-21T21:47:49.699Z"
   },
   {
    "duration": 1305,
    "start_time": "2025-06-21T21:47:55.154Z"
   },
   {
    "duration": 4,
    "start_time": "2025-06-21T21:47:56.460Z"
   },
   {
    "duration": 23,
    "start_time": "2025-06-21T21:47:56.465Z"
   },
   {
    "duration": 145,
    "start_time": "2025-06-21T21:47:56.489Z"
   },
   {
    "duration": 0,
    "start_time": "2025-06-21T21:47:56.635Z"
   },
   {
    "duration": 0,
    "start_time": "2025-06-21T21:47:56.636Z"
   },
   {
    "duration": 0,
    "start_time": "2025-06-21T21:47:56.637Z"
   },
   {
    "duration": 0,
    "start_time": "2025-06-21T21:47:56.638Z"
   },
   {
    "duration": 0,
    "start_time": "2025-06-21T21:47:56.640Z"
   },
   {
    "duration": 0,
    "start_time": "2025-06-21T21:47:56.641Z"
   },
   {
    "duration": 3,
    "start_time": "2025-06-21T21:48:06.778Z"
   },
   {
    "duration": 98166,
    "start_time": "2025-06-21T21:48:07.676Z"
   },
   {
    "duration": 3,
    "start_time": "2025-06-21T21:50:53.199Z"
   },
   {
    "duration": 1590,
    "start_time": "2025-06-21T21:50:53.204Z"
   },
   {
    "duration": 3,
    "start_time": "2025-06-21T21:50:54.796Z"
   },
   {
    "duration": 138,
    "start_time": "2025-06-21T21:50:54.800Z"
   },
   {
    "duration": 3,
    "start_time": "2025-06-21T21:50:54.941Z"
   },
   {
    "duration": 11,
    "start_time": "2025-06-21T21:50:54.946Z"
   },
   {
    "duration": 880,
    "start_time": "2025-06-21T21:50:54.959Z"
   },
   {
    "duration": 134,
    "start_time": "2025-06-21T21:50:55.841Z"
   },
   {
    "duration": 9,
    "start_time": "2025-06-21T21:50:55.977Z"
   },
   {
    "duration": 88,
    "start_time": "2025-06-21T21:50:55.987Z"
   },
   {
    "duration": 425,
    "start_time": "2025-06-21T21:50:56.076Z"
   },
   {
    "duration": 161,
    "start_time": "2025-06-21T21:50:56.503Z"
   },
   {
    "duration": 33,
    "start_time": "2025-06-21T21:50:56.665Z"
   },
   {
    "duration": 3,
    "start_time": "2025-06-21T21:50:56.701Z"
   },
   {
    "duration": 81693,
    "start_time": "2025-06-21T21:50:56.705Z"
   },
   {
    "duration": 7,
    "start_time": "2025-06-21T21:52:18.400Z"
   },
   {
    "duration": 375,
    "start_time": "2025-06-21T21:52:18.408Z"
   },
   {
    "duration": 384,
    "start_time": "2025-06-21T21:52:18.785Z"
   },
   {
    "duration": 3,
    "start_time": "2025-06-21T21:52:19.171Z"
   },
   {
    "duration": 35,
    "start_time": "2025-06-21T21:52:19.175Z"
   },
   {
    "duration": 4,
    "start_time": "2025-06-21T21:52:19.211Z"
   },
   {
    "duration": 5186,
    "start_time": "2025-06-21T21:52:19.216Z"
   },
   {
    "duration": 1281,
    "start_time": "2025-06-21T21:52:24.403Z"
   },
   {
    "duration": 4,
    "start_time": "2025-06-21T21:52:25.685Z"
   },
   {
    "duration": 4,
    "start_time": "2025-06-21T21:52:25.697Z"
   },
   {
    "duration": 127,
    "start_time": "2025-06-21T21:52:25.703Z"
   },
   {
    "duration": 0,
    "start_time": "2025-06-21T21:52:25.832Z"
   },
   {
    "duration": 0,
    "start_time": "2025-06-21T21:52:25.833Z"
   },
   {
    "duration": 0,
    "start_time": "2025-06-21T21:52:25.834Z"
   },
   {
    "duration": 0,
    "start_time": "2025-06-21T21:52:25.835Z"
   },
   {
    "duration": 0,
    "start_time": "2025-06-21T21:52:25.836Z"
   },
   {
    "duration": 1,
    "start_time": "2025-06-21T21:52:25.837Z"
   },
   {
    "duration": 4,
    "start_time": "2025-06-21T21:53:45.058Z"
   },
   {
    "duration": 1571,
    "start_time": "2025-06-21T21:53:45.064Z"
   },
   {
    "duration": 2,
    "start_time": "2025-06-21T21:53:46.637Z"
   },
   {
    "duration": 78,
    "start_time": "2025-06-21T21:53:46.640Z"
   },
   {
    "duration": 2,
    "start_time": "2025-06-21T21:53:46.720Z"
   },
   {
    "duration": 11,
    "start_time": "2025-06-21T21:53:46.724Z"
   },
   {
    "duration": 848,
    "start_time": "2025-06-21T21:53:46.737Z"
   },
   {
    "duration": 103,
    "start_time": "2025-06-21T21:53:47.587Z"
   },
   {
    "duration": 8,
    "start_time": "2025-06-21T21:53:47.699Z"
   },
   {
    "duration": 29,
    "start_time": "2025-06-21T21:53:47.708Z"
   },
   {
    "duration": 425,
    "start_time": "2025-06-21T21:53:47.738Z"
   },
   {
    "duration": 159,
    "start_time": "2025-06-21T21:53:48.165Z"
   },
   {
    "duration": 27,
    "start_time": "2025-06-21T21:53:48.326Z"
   },
   {
    "duration": 3,
    "start_time": "2025-06-21T21:53:48.354Z"
   },
   {
    "duration": 80818,
    "start_time": "2025-06-21T21:53:48.360Z"
   },
   {
    "duration": 8,
    "start_time": "2025-06-21T21:55:09.180Z"
   },
   {
    "duration": 379,
    "start_time": "2025-06-21T21:55:09.189Z"
   },
   {
    "duration": 373,
    "start_time": "2025-06-21T21:55:09.570Z"
   },
   {
    "duration": 3,
    "start_time": "2025-06-21T21:55:09.944Z"
   },
   {
    "duration": 59,
    "start_time": "2025-06-21T21:55:09.948Z"
   },
   {
    "duration": 69,
    "start_time": "2025-06-21T21:55:10.008Z"
   },
   {
    "duration": 5363,
    "start_time": "2025-06-21T21:55:10.079Z"
   },
   {
    "duration": 1335,
    "start_time": "2025-06-21T21:55:15.444Z"
   },
   {
    "duration": 4,
    "start_time": "2025-06-21T21:55:16.780Z"
   },
   {
    "duration": 23,
    "start_time": "2025-06-21T21:55:16.785Z"
   },
   {
    "duration": 361711,
    "start_time": "2025-06-21T21:55:16.809Z"
   },
   {
    "duration": 3,
    "start_time": "2025-06-21T22:01:18.521Z"
   },
   {
    "duration": 86,
    "start_time": "2025-06-21T22:01:18.526Z"
   },
   {
    "duration": 0,
    "start_time": "2025-06-21T22:01:18.614Z"
   },
   {
    "duration": 0,
    "start_time": "2025-06-21T22:01:18.616Z"
   },
   {
    "duration": 0,
    "start_time": "2025-06-21T22:01:18.617Z"
   },
   {
    "duration": 0,
    "start_time": "2025-06-21T22:01:18.619Z"
   },
   {
    "duration": 141,
    "start_time": "2025-06-21T22:01:39.709Z"
   },
   {
    "duration": 22,
    "start_time": "2025-06-21T22:05:01.055Z"
   },
   {
    "duration": 17,
    "start_time": "2025-06-21T22:05:16.563Z"
   },
   {
    "duration": 17,
    "start_time": "2025-06-21T22:07:58.994Z"
   },
   {
    "duration": 1526,
    "start_time": "2025-06-21T22:20:24.532Z"
   },
   {
    "duration": 2,
    "start_time": "2025-06-21T22:20:26.060Z"
   },
   {
    "duration": 32,
    "start_time": "2025-06-21T22:20:26.063Z"
   },
   {
    "duration": 952,
    "start_time": "2025-06-21T22:20:26.097Z"
   },
   {
    "duration": 30,
    "start_time": "2025-06-21T22:20:27.051Z"
   },
   {
    "duration": 21,
    "start_time": "2025-06-21T22:20:27.083Z"
   },
   {
    "duration": 17,
    "start_time": "2025-06-21T22:20:27.106Z"
   },
   {
    "duration": 459,
    "start_time": "2025-06-21T22:20:27.125Z"
   },
   {
    "duration": 230,
    "start_time": "2025-06-21T22:20:27.586Z"
   },
   {
    "duration": 148,
    "start_time": "2025-06-21T22:20:27.819Z"
   },
   {
    "duration": 3,
    "start_time": "2025-06-21T22:20:27.969Z"
   },
   {
    "duration": 82239,
    "start_time": "2025-06-21T22:20:27.974Z"
   },
   {
    "duration": 7,
    "start_time": "2025-06-21T22:21:50.215Z"
   },
   {
    "duration": 417,
    "start_time": "2025-06-21T22:21:50.223Z"
   },
   {
    "duration": 384,
    "start_time": "2025-06-21T22:21:50.641Z"
   },
   {
    "duration": 2,
    "start_time": "2025-06-21T22:21:51.027Z"
   },
   {
    "duration": 46,
    "start_time": "2025-06-21T22:21:51.031Z"
   },
   {
    "duration": 3,
    "start_time": "2025-06-21T22:21:51.079Z"
   },
   {
    "duration": 5362,
    "start_time": "2025-06-21T22:21:51.083Z"
   },
   {
    "duration": 1236,
    "start_time": "2025-06-21T22:21:56.447Z"
   },
   {
    "duration": 3,
    "start_time": "2025-06-21T22:21:57.685Z"
   },
   {
    "duration": 4,
    "start_time": "2025-06-21T22:21:57.698Z"
   },
   {
    "duration": 383224,
    "start_time": "2025-06-21T22:21:57.704Z"
   },
   {
    "duration": 3,
    "start_time": "2025-06-21T22:28:20.930Z"
   },
   {
    "duration": 300143,
    "start_time": "2025-06-21T22:28:20.934Z"
   },
   {
    "duration": 3,
    "start_time": "2025-06-21T22:33:21.079Z"
   },
   {
    "duration": 614186,
    "start_time": "2025-06-21T22:33:21.083Z"
   },
   {
    "duration": 27,
    "start_time": "2025-06-21T22:43:35.272Z"
   },
   {
    "duration": 151,
    "start_time": "2025-06-21T22:43:35.300Z"
   },
   {
    "duration": 1980,
    "start_time": "2025-06-24T09:53:50.780Z"
   },
   {
    "duration": 3,
    "start_time": "2025-06-24T09:53:53.507Z"
   },
   {
    "duration": 2,
    "start_time": "2025-06-24T09:53:55.149Z"
   },
   {
    "duration": 1084,
    "start_time": "2025-06-24T09:53:56.862Z"
   },
   {
    "duration": 46,
    "start_time": "2025-06-24T09:53:58.749Z"
   },
   {
    "duration": 10,
    "start_time": "2025-06-24T09:53:59.386Z"
   },
   {
    "duration": 15,
    "start_time": "2025-06-24T09:54:01.604Z"
   },
   {
    "duration": 159,
    "start_time": "2025-06-24T09:54:36.743Z"
   },
   {
    "duration": 1003,
    "start_time": "2025-06-24T09:54:59.722Z"
   },
   {
    "duration": 37,
    "start_time": "2025-06-24T09:55:02.476Z"
   },
   {
    "duration": 8,
    "start_time": "2025-06-24T09:55:03.953Z"
   },
   {
    "duration": 3,
    "start_time": "2025-06-24T09:55:18.559Z"
   },
   {
    "duration": 509,
    "start_time": "2025-06-24T09:55:57.152Z"
   },
   {
    "duration": 292,
    "start_time": "2025-06-24T09:56:06.952Z"
   },
   {
    "duration": 162,
    "start_time": "2025-06-24T09:56:13.747Z"
   },
   {
    "duration": 5,
    "start_time": "2025-06-24T09:56:19.663Z"
   },
   {
    "duration": 59,
    "start_time": "2025-06-24T10:07:02.776Z"
   },
   {
    "duration": 4,
    "start_time": "2025-06-24T10:11:33.154Z"
   },
   {
    "duration": 4,
    "start_time": "2025-06-24T10:11:33.822Z"
   },
   {
    "duration": 4,
    "start_time": "2025-06-24T10:11:34.762Z"
   },
   {
    "duration": 22,
    "start_time": "2025-06-24T10:11:36.552Z"
   },
   {
    "duration": 11,
    "start_time": "2025-06-24T10:13:02.539Z"
   },
   {
    "duration": 12,
    "start_time": "2025-06-24T10:13:11.485Z"
   },
   {
    "duration": 1355,
    "start_time": "2025-06-24T10:13:52.808Z"
   },
   {
    "duration": 3,
    "start_time": "2025-06-24T10:14:21.935Z"
   },
   {
    "duration": 4,
    "start_time": "2025-06-24T10:14:58.512Z"
   },
   {
    "duration": 3,
    "start_time": "2025-06-24T10:15:00.622Z"
   },
   {
    "duration": 4,
    "start_time": "2025-06-24T10:15:03.143Z"
   },
   {
    "duration": 5,
    "start_time": "2025-06-24T10:20:02.138Z"
   },
   {
    "duration": 5,
    "start_time": "2025-06-24T10:22:13.723Z"
   },
   {
    "duration": 4,
    "start_time": "2025-06-24T10:22:15.979Z"
   },
   {
    "duration": 38,
    "start_time": "2025-06-24T10:22:18.137Z"
   },
   {
    "duration": 3,
    "start_time": "2025-06-24T10:23:01.008Z"
   },
   {
    "duration": 3,
    "start_time": "2025-06-24T10:23:01.627Z"
   },
   {
    "duration": 4,
    "start_time": "2025-06-24T10:23:02.429Z"
   },
   {
    "duration": 3,
    "start_time": "2025-06-24T10:23:08.610Z"
   },
   {
    "duration": 27,
    "start_time": "2025-06-24T10:23:11.109Z"
   },
   {
    "duration": 465,
    "start_time": "2025-06-24T10:23:33.131Z"
   },
   {
    "duration": 115,
    "start_time": "2025-06-24T10:23:37.940Z"
   },
   {
    "duration": 6,
    "start_time": "2025-06-24T10:25:03.975Z"
   },
   {
    "duration": 10,
    "start_time": "2025-06-24T10:25:05.031Z"
   },
   {
    "duration": 3,
    "start_time": "2025-06-24T10:25:27.172Z"
   },
   {
    "duration": 5,
    "start_time": "2025-06-24T10:25:30.586Z"
   },
   {
    "duration": 3,
    "start_time": "2025-06-24T10:25:38.502Z"
   },
   {
    "duration": 6,
    "start_time": "2025-06-24T10:26:05.975Z"
   },
   {
    "duration": 1367916,
    "start_time": "2025-06-24T10:26:37.399Z"
   },
   {
    "duration": 8,
    "start_time": "2025-06-24T10:49:33.338Z"
   },
   {
    "duration": 405,
    "start_time": "2025-06-24T10:49:39.172Z"
   },
   {
    "duration": 415,
    "start_time": "2025-06-24T10:49:42.329Z"
   },
   {
    "duration": 3,
    "start_time": "2025-06-24T10:50:13.418Z"
   },
   {
    "duration": 3,
    "start_time": "2025-06-24T10:50:37.559Z"
   },
   {
    "duration": 21,
    "start_time": "2025-06-24T10:50:38.621Z"
   },
   {
    "duration": 4,
    "start_time": "2025-06-24T10:50:40.558Z"
   },
   {
    "duration": 6781,
    "start_time": "2025-06-24T10:52:07.536Z"
   },
   {
    "duration": 6836,
    "start_time": "2025-06-24T10:54:00.517Z"
   },
   {
    "duration": 773,
    "start_time": "2025-06-24T10:54:32.179Z"
   },
   {
    "duration": 7,
    "start_time": "2025-06-24T10:54:50.160Z"
   },
   {
    "duration": 5,
    "start_time": "2025-06-24T10:56:11.358Z"
   },
   {
    "duration": 5,
    "start_time": "2025-06-24T10:57:48.943Z"
   },
   {
    "duration": 11,
    "start_time": "2025-06-24T10:58:51.348Z"
   },
   {
    "duration": 5,
    "start_time": "2025-06-24T10:59:10.275Z"
   },
   {
    "duration": 3,
    "start_time": "2025-06-24T10:59:37.618Z"
   },
   {
    "duration": 5,
    "start_time": "2025-06-24T10:59:46.880Z"
   },
   {
    "duration": 3,
    "start_time": "2025-06-24T10:59:59.335Z"
   },
   {
    "duration": 1112,
    "start_time": "2025-06-24T11:00:26.329Z"
   },
   {
    "duration": 3,
    "start_time": "2025-06-24T11:00:53.198Z"
   },
   {
    "duration": 5,
    "start_time": "2025-06-24T11:01:05.817Z"
   },
   {
    "duration": 4,
    "start_time": "2025-06-24T11:01:37.851Z"
   },
   {
    "duration": 439,
    "start_time": "2025-06-24T11:01:55.238Z"
   },
   {
    "duration": 447,
    "start_time": "2025-06-24T11:01:56.672Z"
   },
   {
    "duration": 3,
    "start_time": "2025-06-24T11:02:00.490Z"
   },
   {
    "duration": 33,
    "start_time": "2025-06-24T11:02:01.237Z"
   },
   {
    "duration": 4,
    "start_time": "2025-06-24T11:02:02.082Z"
   },
   {
    "duration": 8,
    "start_time": "2025-06-24T11:02:05.466Z"
   },
   {
    "duration": 5,
    "start_time": "2025-06-24T11:02:17.584Z"
   },
   {
    "duration": 48,
    "start_time": "2025-06-24T11:02:57.085Z"
   },
   {
    "duration": 3,
    "start_time": "2025-06-24T11:03:29.488Z"
   },
   {
    "duration": 5,
    "start_time": "2025-06-24T11:03:32.028Z"
   },
   {
    "duration": 62,
    "start_time": "2025-06-24T11:03:34.818Z"
   },
   {
    "duration": 4,
    "start_time": "2025-06-24T11:04:59.698Z"
   },
   {
    "duration": 48,
    "start_time": "2025-06-24T11:05:03.210Z"
   },
   {
    "duration": 4,
    "start_time": "2025-06-24T11:06:10.324Z"
   },
   {
    "duration": 52,
    "start_time": "2025-06-24T11:06:13.542Z"
   },
   {
    "duration": 5,
    "start_time": "2025-06-24T11:08:35.510Z"
   },
   {
    "duration": 12,
    "start_time": "2025-06-24T11:08:39.047Z"
   },
   {
    "duration": 12,
    "start_time": "2025-06-24T11:08:52.782Z"
   },
   {
    "duration": 16,
    "start_time": "2025-06-24T11:08:56.062Z"
   },
   {
    "duration": 5,
    "start_time": "2025-06-24T11:09:07.607Z"
   },
   {
    "duration": 45,
    "start_time": "2025-06-24T11:09:10.486Z"
   },
   {
    "duration": 5,
    "start_time": "2025-06-24T11:09:45.198Z"
   },
   {
    "duration": 50,
    "start_time": "2025-06-24T11:09:48.174Z"
   },
   {
    "duration": 5,
    "start_time": "2025-06-24T11:10:28.109Z"
   },
   {
    "duration": 44,
    "start_time": "2025-06-24T11:10:31.689Z"
   },
   {
    "duration": 8,
    "start_time": "2025-06-24T11:10:46.860Z"
   },
   {
    "duration": 1136422,
    "start_time": "2025-06-24T11:10:49.685Z"
   },
   {
    "duration": 0,
    "start_time": "2025-06-24T11:29:46.110Z"
   },
   {
    "duration": 4,
    "start_time": "2025-06-24T11:29:48.305Z"
   },
   {
    "duration": 27231,
    "start_time": "2025-06-24T11:30:25.657Z"
   },
   {
    "duration": 204321,
    "start_time": "2025-06-24T11:30:57.566Z"
   },
   {
    "duration": 4,
    "start_time": "2025-06-24T11:36:42.960Z"
   },
   {
    "duration": 4,
    "start_time": "2025-06-24T11:36:50.700Z"
   },
   {
    "duration": 303059,
    "start_time": "2025-06-24T11:37:32.635Z"
   },
   {
    "duration": 82,
    "start_time": "2025-06-24T11:42:35.697Z"
   },
   {
    "duration": 4,
    "start_time": "2025-06-24T11:43:32.288Z"
   },
   {
    "duration": 107,
    "start_time": "2025-06-24T11:44:38.592Z"
   },
   {
    "duration": 4,
    "start_time": "2025-06-24T11:46:51.752Z"
   },
   {
    "duration": 2563201,
    "start_time": "2025-06-24T11:46:54.966Z"
   },
   {
    "duration": 17,
    "start_time": "2025-06-24T12:29:38.169Z"
   },
   {
    "duration": 15,
    "start_time": "2025-06-24T12:30:15.665Z"
   },
   {
    "duration": 13,
    "start_time": "2025-06-24T12:31:22.738Z"
   },
   {
    "duration": 16,
    "start_time": "2025-06-24T12:31:55.371Z"
   },
   {
    "duration": 5,
    "start_time": "2025-06-24T12:34:26.625Z"
   },
   {
    "duration": 4,
    "start_time": "2025-06-24T12:38:22.830Z"
   },
   {
    "duration": 23183,
    "start_time": "2025-06-24T12:38:24.738Z"
   },
   {
    "duration": 22736,
    "start_time": "2025-06-24T12:39:02.644Z"
   },
   {
    "duration": 81268,
    "start_time": "2025-06-24T12:42:24.991Z"
   },
   {
    "duration": 37,
    "start_time": "2025-06-24T12:43:46.261Z"
   },
   {
    "duration": 3,
    "start_time": "2025-06-24T12:43:51.538Z"
   },
   {
    "duration": 22,
    "start_time": "2025-06-24T12:43:52.454Z"
   },
   {
    "duration": 3,
    "start_time": "2025-06-24T12:43:53.202Z"
   },
   {
    "duration": 4,
    "start_time": "2025-06-24T12:43:54.882Z"
   },
   {
    "duration": 4,
    "start_time": "2025-06-24T12:44:05.003Z"
   },
   {
    "duration": 4,
    "start_time": "2025-06-24T12:44:13.009Z"
   },
   {
    "duration": 5,
    "start_time": "2025-06-24T12:44:17.195Z"
   },
   {
    "duration": 206756,
    "start_time": "2025-06-24T12:44:20.832Z"
   },
   {
    "duration": 18,
    "start_time": "2025-06-24T12:48:15.557Z"
   },
   {
    "duration": 17,
    "start_time": "2025-06-24T12:49:38.899Z"
   },
   {
    "duration": 11,
    "start_time": "2025-06-24T12:49:48.178Z"
   },
   {
    "duration": 11,
    "start_time": "2025-06-24T12:49:55.355Z"
   },
   {
    "duration": 765,
    "start_time": "2025-06-24T12:50:21.333Z"
   },
   {
    "duration": 77,
    "start_time": "2025-06-24T12:51:41.461Z"
   },
   {
    "duration": 1672,
    "start_time": "2025-06-24T12:52:48.378Z"
   },
   {
    "duration": 214,
    "start_time": "2025-06-24T12:52:50.053Z"
   },
   {
    "duration": 3,
    "start_time": "2025-06-24T12:52:50.269Z"
   },
   {
    "duration": 5,
    "start_time": "2025-06-24T12:52:50.274Z"
   },
   {
    "duration": 1024,
    "start_time": "2025-06-24T12:52:50.281Z"
   },
   {
    "duration": 37,
    "start_time": "2025-06-24T12:52:51.307Z"
   },
   {
    "duration": 58,
    "start_time": "2025-06-24T12:52:51.346Z"
   },
   {
    "duration": 475,
    "start_time": "2025-06-24T12:52:51.406Z"
   },
   {
    "duration": 194,
    "start_time": "2025-06-24T12:52:51.883Z"
   },
   {
    "duration": 4,
    "start_time": "2025-06-24T12:52:52.079Z"
   },
   {
    "duration": 35,
    "start_time": "2025-06-24T12:52:52.085Z"
   },
   {
    "duration": 3,
    "start_time": "2025-06-24T12:52:52.122Z"
   },
   {
    "duration": 1483,
    "start_time": "2025-06-24T12:52:52.127Z"
   },
   {
    "duration": 1244713,
    "start_time": "2025-06-24T12:52:53.612Z"
   },
   {
    "duration": 7,
    "start_time": "2025-06-24T13:13:38.327Z"
   },
   {
    "duration": 410,
    "start_time": "2025-06-24T13:13:38.336Z"
   },
   {
    "duration": 434,
    "start_time": "2025-06-24T13:13:38.747Z"
   },
   {
    "duration": 3,
    "start_time": "2025-06-24T13:13:39.183Z"
   },
   {
    "duration": 23,
    "start_time": "2025-06-24T13:13:39.187Z"
   },
   {
    "duration": 3,
    "start_time": "2025-06-24T13:13:39.212Z"
   },
   {
    "duration": 12,
    "start_time": "2025-06-24T13:13:39.217Z"
   },
   {
    "duration": 7,
    "start_time": "2025-06-24T13:13:39.231Z"
   },
   {
    "duration": 210539,
    "start_time": "2025-06-24T13:13:39.259Z"
   },
   {
    "duration": 4,
    "start_time": "2025-06-24T13:17:09.800Z"
   },
   {
    "duration": 308648,
    "start_time": "2025-06-24T13:17:09.806Z"
   },
   {
    "duration": 5,
    "start_time": "2025-06-24T13:22:18.456Z"
   },
   {
    "duration": 2553916,
    "start_time": "2025-06-24T13:22:18.463Z"
   },
   {
    "duration": 4,
    "start_time": "2025-06-24T14:04:52.382Z"
   },
   {
    "duration": 924,
    "start_time": "2025-06-24T14:04:52.388Z"
   },
   {
    "duration": 763,
    "start_time": "2025-06-24T14:05:11.866Z"
   }
  ],
  "kernelspec": {
   "display_name": "Python 3 (ipykernel)",
   "language": "python",
   "name": "python3"
  },
  "language_info": {
   "codemirror_mode": {
    "name": "ipython",
    "version": 3
   },
   "file_extension": ".py",
   "mimetype": "text/x-python",
   "name": "python",
   "nbconvert_exporter": "python",
   "pygments_lexer": "ipython3",
   "version": "3.9.5"
  },
  "toc": {
   "base_numbering": 1,
   "nav_menu": {},
   "number_sections": true,
   "sideBar": true,
   "skip_h1_title": true,
   "title_cell": "Содержание",
   "title_sidebar": "Contents",
   "toc_cell": true,
   "toc_position": {
    "height": "calc(100% - 180px)",
    "left": "10px",
    "top": "150px",
    "width": "302.391px"
   },
   "toc_section_display": true,
   "toc_window_display": false
  }
 },
 "nbformat": 4,
 "nbformat_minor": 2
}
