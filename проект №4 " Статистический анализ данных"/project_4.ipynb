{
 "cells": [
  {
   "cell_type": "markdown",
   "id": "c76245a7",
   "metadata": {},
   "source": [
    "# Проект: Статистический анализ данных"
   ]
  },
  {
   "cell_type": "markdown",
   "id": "1766b592",
   "metadata": {},
   "source": [
    "**Цель работы**: сделать анализ данных сервиса аренды проката самокатов на определение \"слабых сторон\" в бизнесе и дать комментарии его улучшению.\n",
    "\n",
    "**Задачи**, которые необходимо решить:\n",
    "1. Проверить на существование зависимости частоты использования проката от:\n",
    "   - возраста пользователей;\n",
    "   - территориального нахождения прокатного салона;\n",
    "   - расстояния одной поездки пользователя;\n",
    "   - времени продолжительности одной поездки.\n",
    "2. Определить соотношение пользователей, у которых есть подписка и без неё.\n",
    "3. Установить, оказывает ли влияние подписки на показатели, описанные в п.1\n",
    "4. Исследовать данные о пользователях, у которых есть подписка: \n",
    "   - определить тратят ли они времени за одну поездку больше, чем пользователи без подписки;\n",
    "   - приходят ли в негодность самокаты у таких пользвателей чаще, чем у пользователей без подписки, сопоставив дистанцию одной поездки с расстоянием в 3130 м (критическое расстояние износа самоката)\n",
    "   - является ли помесячная выручка пользователей с подпиской больше, чем без неё.\n",
    "\n",
    "Для решение задач, первоначально, необходимо:\n",
    "1. Сделать обзор полученных данных о прокате самокатов.\n",
    "2. Провести предобработку данных на выявление пропусков и дубликатов(явных и неявных)\n",
    "3. Создать датафрейм по всем данным и отдельные датафреймы по данным только для подписчиков и пользователей без подписки.\n",
    "Также полученные данные преставлять в виде графиков, для наглядности и простоты восприятия полученной информации."
   ]
  },
  {
   "cell_type": "code",
   "execution_count": 1,
   "id": "72576667",
   "metadata": {},
   "outputs": [],
   "source": [
    "import pandas as pd\n",
    "import matplotlib.pyplot as plt\n",
    "import numpy as np\n",
    "import scipy.stats as st"
   ]
  },
  {
   "cell_type": "markdown",
   "id": "c42cbe00",
   "metadata": {},
   "source": [
    "#### Шаг 1. Загрузка данных\n",
    "1. Прочитать файлы и сохранить их.\n",
    "2. Вывести первые 10 строк и общую информацию о них\n",
    "3. Сделать вывод об информации в данных фвйлах"
   ]
  },
  {
   "cell_type": "code",
   "execution_count": 2,
   "id": "eff9f206",
   "metadata": {},
   "outputs": [],
   "source": [
    "data_users = pd.read_csv('/datasets/users_go.csv') #файл с данными о пользователях"
   ]
  },
  {
   "cell_type": "code",
   "execution_count": 3,
   "id": "3596574d",
   "metadata": {},
   "outputs": [
    {
     "data": {
      "text/html": [
       "<div>\n",
       "<style scoped>\n",
       "    .dataframe tbody tr th:only-of-type {\n",
       "        vertical-align: middle;\n",
       "    }\n",
       "\n",
       "    .dataframe tbody tr th {\n",
       "        vertical-align: top;\n",
       "    }\n",
       "\n",
       "    .dataframe thead th {\n",
       "        text-align: right;\n",
       "    }\n",
       "</style>\n",
       "<table border=\"1\" class=\"dataframe\">\n",
       "  <thead>\n",
       "    <tr style=\"text-align: right;\">\n",
       "      <th></th>\n",
       "      <th>user_id</th>\n",
       "      <th>name</th>\n",
       "      <th>age</th>\n",
       "      <th>city</th>\n",
       "      <th>subscription_type</th>\n",
       "    </tr>\n",
       "  </thead>\n",
       "  <tbody>\n",
       "    <tr>\n",
       "      <th>0</th>\n",
       "      <td>1</td>\n",
       "      <td>Кира</td>\n",
       "      <td>22</td>\n",
       "      <td>Тюмень</td>\n",
       "      <td>ultra</td>\n",
       "    </tr>\n",
       "    <tr>\n",
       "      <th>1</th>\n",
       "      <td>2</td>\n",
       "      <td>Станислав</td>\n",
       "      <td>31</td>\n",
       "      <td>Омск</td>\n",
       "      <td>ultra</td>\n",
       "    </tr>\n",
       "    <tr>\n",
       "      <th>2</th>\n",
       "      <td>3</td>\n",
       "      <td>Алексей</td>\n",
       "      <td>20</td>\n",
       "      <td>Москва</td>\n",
       "      <td>ultra</td>\n",
       "    </tr>\n",
       "    <tr>\n",
       "      <th>3</th>\n",
       "      <td>4</td>\n",
       "      <td>Константин</td>\n",
       "      <td>26</td>\n",
       "      <td>Ростов-на-Дону</td>\n",
       "      <td>ultra</td>\n",
       "    </tr>\n",
       "    <tr>\n",
       "      <th>4</th>\n",
       "      <td>5</td>\n",
       "      <td>Адель</td>\n",
       "      <td>28</td>\n",
       "      <td>Омск</td>\n",
       "      <td>ultra</td>\n",
       "    </tr>\n",
       "    <tr>\n",
       "      <th>5</th>\n",
       "      <td>6</td>\n",
       "      <td>Регина</td>\n",
       "      <td>25</td>\n",
       "      <td>Краснодар</td>\n",
       "      <td>ultra</td>\n",
       "    </tr>\n",
       "    <tr>\n",
       "      <th>6</th>\n",
       "      <td>7</td>\n",
       "      <td>Игорь</td>\n",
       "      <td>23</td>\n",
       "      <td>Омск</td>\n",
       "      <td>ultra</td>\n",
       "    </tr>\n",
       "    <tr>\n",
       "      <th>7</th>\n",
       "      <td>8</td>\n",
       "      <td>Юрий</td>\n",
       "      <td>23</td>\n",
       "      <td>Краснодар</td>\n",
       "      <td>ultra</td>\n",
       "    </tr>\n",
       "    <tr>\n",
       "      <th>8</th>\n",
       "      <td>9</td>\n",
       "      <td>Ян</td>\n",
       "      <td>21</td>\n",
       "      <td>Пятигорск</td>\n",
       "      <td>ultra</td>\n",
       "    </tr>\n",
       "    <tr>\n",
       "      <th>9</th>\n",
       "      <td>10</td>\n",
       "      <td>Валерий</td>\n",
       "      <td>18</td>\n",
       "      <td>Екатеринбург</td>\n",
       "      <td>ultra</td>\n",
       "    </tr>\n",
       "  </tbody>\n",
       "</table>\n",
       "</div>"
      ],
      "text/plain": [
       "   user_id        name  age            city subscription_type\n",
       "0        1        Кира   22          Тюмень             ultra\n",
       "1        2   Станислав   31            Омск             ultra\n",
       "2        3     Алексей   20          Москва             ultra\n",
       "3        4  Константин   26  Ростов-на-Дону             ultra\n",
       "4        5       Адель   28            Омск             ultra\n",
       "5        6      Регина   25       Краснодар             ultra\n",
       "6        7       Игорь   23            Омск             ultra\n",
       "7        8        Юрий   23       Краснодар             ultra\n",
       "8        9          Ян   21       Пятигорск             ultra\n",
       "9       10     Валерий   18    Екатеринбург             ultra"
      ]
     },
     "metadata": {},
     "output_type": "display_data"
    }
   ],
   "source": [
    "display(data_users.head(10))"
   ]
  },
  {
   "cell_type": "code",
   "execution_count": 4,
   "id": "d118f3b4",
   "metadata": {},
   "outputs": [
    {
     "name": "stdout",
     "output_type": "stream",
     "text": [
      "<class 'pandas.core.frame.DataFrame'>\n",
      "RangeIndex: 1565 entries, 0 to 1564\n",
      "Data columns (total 5 columns):\n",
      " #   Column             Non-Null Count  Dtype \n",
      "---  ------             --------------  ----- \n",
      " 0   user_id            1565 non-null   int64 \n",
      " 1   name               1565 non-null   object\n",
      " 2   age                1565 non-null   int64 \n",
      " 3   city               1565 non-null   object\n",
      " 4   subscription_type  1565 non-null   object\n",
      "dtypes: int64(2), object(3)\n",
      "memory usage: 61.3+ KB\n",
      "None\n"
     ]
    }
   ],
   "source": [
    "print(data_users.info())"
   ]
  },
  {
   "cell_type": "code",
   "execution_count": 5,
   "id": "34eaeb2a",
   "metadata": {},
   "outputs": [],
   "source": [
    "data_rides = pd.read_csv('/datasets/rides_go.csv') #файл с данными о поездках"
   ]
  },
  {
   "cell_type": "code",
   "execution_count": 6,
   "id": "50063b5b",
   "metadata": {},
   "outputs": [
    {
     "data": {
      "text/html": [
       "<div>\n",
       "<style scoped>\n",
       "    .dataframe tbody tr th:only-of-type {\n",
       "        vertical-align: middle;\n",
       "    }\n",
       "\n",
       "    .dataframe tbody tr th {\n",
       "        vertical-align: top;\n",
       "    }\n",
       "\n",
       "    .dataframe thead th {\n",
       "        text-align: right;\n",
       "    }\n",
       "</style>\n",
       "<table border=\"1\" class=\"dataframe\">\n",
       "  <thead>\n",
       "    <tr style=\"text-align: right;\">\n",
       "      <th></th>\n",
       "      <th>user_id</th>\n",
       "      <th>distance</th>\n",
       "      <th>duration</th>\n",
       "      <th>date</th>\n",
       "    </tr>\n",
       "  </thead>\n",
       "  <tbody>\n",
       "    <tr>\n",
       "      <th>0</th>\n",
       "      <td>1</td>\n",
       "      <td>4409.919140</td>\n",
       "      <td>25.599769</td>\n",
       "      <td>2021-01-01</td>\n",
       "    </tr>\n",
       "    <tr>\n",
       "      <th>1</th>\n",
       "      <td>1</td>\n",
       "      <td>2617.592153</td>\n",
       "      <td>15.816871</td>\n",
       "      <td>2021-01-18</td>\n",
       "    </tr>\n",
       "    <tr>\n",
       "      <th>2</th>\n",
       "      <td>1</td>\n",
       "      <td>754.159807</td>\n",
       "      <td>6.232113</td>\n",
       "      <td>2021-04-20</td>\n",
       "    </tr>\n",
       "    <tr>\n",
       "      <th>3</th>\n",
       "      <td>1</td>\n",
       "      <td>2694.783254</td>\n",
       "      <td>18.511000</td>\n",
       "      <td>2021-08-11</td>\n",
       "    </tr>\n",
       "    <tr>\n",
       "      <th>4</th>\n",
       "      <td>1</td>\n",
       "      <td>4028.687306</td>\n",
       "      <td>26.265803</td>\n",
       "      <td>2021-08-28</td>\n",
       "    </tr>\n",
       "    <tr>\n",
       "      <th>5</th>\n",
       "      <td>1</td>\n",
       "      <td>2770.890808</td>\n",
       "      <td>16.650138</td>\n",
       "      <td>2021-10-09</td>\n",
       "    </tr>\n",
       "    <tr>\n",
       "      <th>6</th>\n",
       "      <td>1</td>\n",
       "      <td>3039.020292</td>\n",
       "      <td>14.927879</td>\n",
       "      <td>2021-10-19</td>\n",
       "    </tr>\n",
       "    <tr>\n",
       "      <th>7</th>\n",
       "      <td>1</td>\n",
       "      <td>2842.118050</td>\n",
       "      <td>23.117468</td>\n",
       "      <td>2021-11-06</td>\n",
       "    </tr>\n",
       "    <tr>\n",
       "      <th>8</th>\n",
       "      <td>1</td>\n",
       "      <td>3412.690668</td>\n",
       "      <td>15.238072</td>\n",
       "      <td>2021-11-14</td>\n",
       "    </tr>\n",
       "    <tr>\n",
       "      <th>9</th>\n",
       "      <td>1</td>\n",
       "      <td>748.690645</td>\n",
       "      <td>15.041884</td>\n",
       "      <td>2021-11-22</td>\n",
       "    </tr>\n",
       "  </tbody>\n",
       "</table>\n",
       "</div>"
      ],
      "text/plain": [
       "   user_id     distance   duration        date\n",
       "0        1  4409.919140  25.599769  2021-01-01\n",
       "1        1  2617.592153  15.816871  2021-01-18\n",
       "2        1   754.159807   6.232113  2021-04-20\n",
       "3        1  2694.783254  18.511000  2021-08-11\n",
       "4        1  4028.687306  26.265803  2021-08-28\n",
       "5        1  2770.890808  16.650138  2021-10-09\n",
       "6        1  3039.020292  14.927879  2021-10-19\n",
       "7        1  2842.118050  23.117468  2021-11-06\n",
       "8        1  3412.690668  15.238072  2021-11-14\n",
       "9        1   748.690645  15.041884  2021-11-22"
      ]
     },
     "metadata": {},
     "output_type": "display_data"
    }
   ],
   "source": [
    "display(data_rides.head(10))"
   ]
  },
  {
   "cell_type": "code",
   "execution_count": 7,
   "id": "59c90fbe",
   "metadata": {},
   "outputs": [
    {
     "name": "stdout",
     "output_type": "stream",
     "text": [
      "<class 'pandas.core.frame.DataFrame'>\n",
      "RangeIndex: 18068 entries, 0 to 18067\n",
      "Data columns (total 4 columns):\n",
      " #   Column    Non-Null Count  Dtype  \n",
      "---  ------    --------------  -----  \n",
      " 0   user_id   18068 non-null  int64  \n",
      " 1   distance  18068 non-null  float64\n",
      " 2   duration  18068 non-null  float64\n",
      " 3   date      18068 non-null  object \n",
      "dtypes: float64(2), int64(1), object(1)\n",
      "memory usage: 564.8+ KB\n",
      "None\n"
     ]
    }
   ],
   "source": [
    "print(data_rides.info())"
   ]
  },
  {
   "cell_type": "code",
   "execution_count": 8,
   "id": "4ae6600a",
   "metadata": {},
   "outputs": [],
   "source": [
    "data_sub = pd.read_csv('/datasets/subscriptions_go.csv') #файл с данными о подписках"
   ]
  },
  {
   "cell_type": "code",
   "execution_count": 9,
   "id": "4f13d262",
   "metadata": {},
   "outputs": [
    {
     "data": {
      "text/html": [
       "<div>\n",
       "<style scoped>\n",
       "    .dataframe tbody tr th:only-of-type {\n",
       "        vertical-align: middle;\n",
       "    }\n",
       "\n",
       "    .dataframe tbody tr th {\n",
       "        vertical-align: top;\n",
       "    }\n",
       "\n",
       "    .dataframe thead th {\n",
       "        text-align: right;\n",
       "    }\n",
       "</style>\n",
       "<table border=\"1\" class=\"dataframe\">\n",
       "  <thead>\n",
       "    <tr style=\"text-align: right;\">\n",
       "      <th></th>\n",
       "      <th>subscription_type</th>\n",
       "      <th>minute_price</th>\n",
       "      <th>start_ride_price</th>\n",
       "      <th>subscription_fee</th>\n",
       "    </tr>\n",
       "  </thead>\n",
       "  <tbody>\n",
       "    <tr>\n",
       "      <th>0</th>\n",
       "      <td>free</td>\n",
       "      <td>8</td>\n",
       "      <td>50</td>\n",
       "      <td>0</td>\n",
       "    </tr>\n",
       "    <tr>\n",
       "      <th>1</th>\n",
       "      <td>ultra</td>\n",
       "      <td>6</td>\n",
       "      <td>0</td>\n",
       "      <td>199</td>\n",
       "    </tr>\n",
       "  </tbody>\n",
       "</table>\n",
       "</div>"
      ],
      "text/plain": [
       "  subscription_type  minute_price  start_ride_price  subscription_fee\n",
       "0              free             8                50                 0\n",
       "1             ultra             6                 0               199"
      ]
     },
     "metadata": {},
     "output_type": "display_data"
    }
   ],
   "source": [
    "display(data_sub.head(10))"
   ]
  },
  {
   "cell_type": "code",
   "execution_count": 10,
   "id": "79ad9861",
   "metadata": {},
   "outputs": [
    {
     "name": "stdout",
     "output_type": "stream",
     "text": [
      "<class 'pandas.core.frame.DataFrame'>\n",
      "RangeIndex: 2 entries, 0 to 1\n",
      "Data columns (total 4 columns):\n",
      " #   Column             Non-Null Count  Dtype \n",
      "---  ------             --------------  ----- \n",
      " 0   subscription_type  2 non-null      object\n",
      " 1   minute_price       2 non-null      int64 \n",
      " 2   start_ride_price   2 non-null      int64 \n",
      " 3   subscription_fee   2 non-null      int64 \n",
      "dtypes: int64(3), object(1)\n",
      "memory usage: 192.0+ bytes\n",
      "None\n"
     ]
    }
   ],
   "source": [
    "print(data_sub.info())"
   ]
  },
  {
   "cell_type": "markdown",
   "id": "62027eb2",
   "metadata": {},
   "source": [
    "Вывод:из полученных файлов видно, что необходимо:\n",
    "1. файл с данными о пользователях:\n",
    "   - проверить на дубликаты название городов, имена и подписки;\n",
    "   - проверить на дупликаты строк, если они есть и их количество не полияет на данные, удалить;\n",
    "   - проверить на пропуски, если есть, посмотреть возможно ли заменить, или придется их оставить или удалить.\n",
    "2. файл с данными о поездках:\n",
    "   - поменять тип данных колонки время;\n",
    "   - создать новую колонку с месяцами и проверить какой период по времени(годы) приведены в данных;\n",
    "   - проверить на дупликаты строк, если они есть и их количество не полияет на данные, удалить;\n",
    "   - проверить на пропуски,если есть, посмотреть возможна ли замена или их придется оставлять или удалять.\n",
    "3. файл с данными о подписках:\n",
    "   - данные не нуждаются в предобработке."
   ]
  },
  {
   "cell_type": "markdown",
   "id": "e95ebca7",
   "metadata": {},
   "source": [
    "#### Шаг 2. Предобработка данных"
   ]
  },
  {
   "cell_type": "markdown",
   "id": "da7f5a7e",
   "metadata": {},
   "source": [
    "##### Выполним предобработку файла с данными о пользователях.\n",
    "Первое, что необходимо сделать при предобработке данных, определим сколько пропусков есть в каждой категории."
   ]
  },
  {
   "cell_type": "code",
   "execution_count": 11,
   "id": "65daf7d2",
   "metadata": {},
   "outputs": [
    {
     "name": "stdout",
     "output_type": "stream",
     "text": [
      "user_id              0\n",
      "name                 0\n",
      "age                  0\n",
      "city                 0\n",
      "subscription_type    0\n",
      "dtype: int64\n"
     ]
    }
   ],
   "source": [
    "print(data_users.isna().sum())"
   ]
  },
  {
   "cell_type": "markdown",
   "id": "89a40727",
   "metadata": {},
   "source": [
    "Выяснилось, что пропусков нет. Проверим на наличие дубликатов в данном файле."
   ]
  },
  {
   "cell_type": "code",
   "execution_count": 12,
   "id": "52be8063",
   "metadata": {},
   "outputs": [
    {
     "name": "stdout",
     "output_type": "stream",
     "text": [
      "['Тюмень' 'Омск' 'Москва' 'Ростов-на-Дону' 'Краснодар' 'Пятигорск'\n",
      " 'Екатеринбург' 'Сочи']\n"
     ]
    }
   ],
   "source": [
    "print (data_users['city'].unique())"
   ]
  },
  {
   "cell_type": "code",
   "execution_count": 13,
   "id": "71fbb3c8",
   "metadata": {},
   "outputs": [
    {
     "name": "stdout",
     "output_type": "stream",
     "text": [
      "['ultra' 'free']\n"
     ]
    }
   ],
   "source": [
    "print (data_users['subscription_type'].unique())"
   ]
  },
  {
   "cell_type": "code",
   "execution_count": 14,
   "id": "95b8205e",
   "metadata": {},
   "outputs": [
    {
     "name": "stdout",
     "output_type": "stream",
     "text": [
      "['Кира' 'Станислав' 'Алексей' 'Константин' 'Адель' 'Регина' 'Игорь' 'Юрий'\n",
      " 'Ян' 'Валерий' 'Агата' 'Марк' 'Ева' 'Антонина' 'Валерия' 'Амалия'\n",
      " 'Даниил' 'Аделина' 'Святогор' 'Борис' 'Вероника' 'Ростислав' 'Назар'\n",
      " 'Эдуард' 'Василий' 'Денис' 'Тамара' 'Николай' 'Эвелина' 'Федор' 'Руслан'\n",
      " 'Иван' 'Любовь' 'Ярослава' 'Майя' 'Ильдар' 'Данила' 'Нина' 'Стефания'\n",
      " 'Ясмина' 'Дмитрий' 'Александр' 'Одиссей' 'Арсений' 'Алла' 'Таисия'\n",
      " 'Максим' 'Юлиана' 'Павел' 'Карина' 'Алиса' 'Лидия' 'Рамиль' 'Родион'\n",
      " 'Ника' 'Оксана' 'Анастасия' 'Маргарита' 'Вера' 'Тимур' 'Никита' 'Лев'\n",
      " 'Влад' 'Артур' 'Анна' 'Ольга' 'Вячеслав' 'Ксения' 'Виталина' 'Владислав'\n",
      " 'Тамерлан' 'Амина' 'Вадим' 'Олеся' 'Зарина' 'Егор' 'Гордей' 'Лилия'\n",
      " 'Святослав' 'Роберт' 'Амир' 'Влада' 'Богдан' 'Полина' 'Марат' 'Елисей'\n",
      " 'Макар' 'Алина' 'Глеб' 'Андрей' 'Альбина' 'Людмила' 'Марсель' 'Милена'\n",
      " 'Диана' 'Дарина' 'Данил' 'Артемий' 'Лиана' 'Альберт' 'Герман' 'Жанна'\n",
      " 'Нелли' 'Евгения' 'Ариана' 'Самира' 'Захар' 'Эльвира' 'Екатерина' 'Инна'\n",
      " 'Демид' 'Яна' 'Михаил' 'Татьяна' 'Степан' 'Мелания' 'Тимофей' 'Ирина'\n",
      " 'Анжелика' 'Владислава' 'Елизавета' 'Мадина' 'Снежана' 'Даниэль' 'Рустам'\n",
      " 'Каролина' 'Ангелина' 'Владимир' 'Виктория' 'Валентина' 'Семен' 'Арина'\n",
      " 'Лариса' 'Есения' 'Галина' 'Кирилл' 'Игнат' 'Виталий' 'Эмилия' 'Виолетта'\n",
      " 'Яромир' 'Софья' 'Мирослава' 'Евгений' 'Варвара' 'Платон' 'Наталия'\n",
      " 'Анатолий' 'Кристина' 'Всеволод' 'Дарья' 'Наташа' 'Мария' 'Марина'\n",
      " 'Василиса' 'Юлия' 'Илья' 'Злата' 'Роман' 'Наталья' 'Элина' 'Арсен'\n",
      " 'Айдар' 'Алия' 'Виктор' 'Мирон' 'Ульяна' 'Георгий' 'Петр' 'Эльмира'\n",
      " 'Олег' 'Дамир' 'Самир' 'Ярослав' 'Камилла' 'Сергей' 'Эмиль' 'Радмир'\n",
      " 'Савелий' 'Елена' 'Антон' 'Мирослав' 'София' 'Тихон' 'Артём' 'Давид'\n",
      " 'Григорий' 'Алёна' 'Светлана' 'Леонид' 'Александра' 'Василина' 'Милана'\n",
      " 'Матвей']\n"
     ]
    }
   ],
   "source": [
    "print (data_users['name'].unique())"
   ]
  },
  {
   "cell_type": "code",
   "execution_count": 15,
   "id": "4ed15a45",
   "metadata": {},
   "outputs": [
    {
     "name": "stdout",
     "output_type": "stream",
     "text": [
      "[22 31 20 26 28 25 23 21 18 27 24 29 32 14 19 30 17 12 35 33 13 15 37 16\n",
      " 34 38 36 39 43]\n"
     ]
    }
   ],
   "source": [
    "print (data_users['age'].unique()) "
   ]
  },
  {
   "cell_type": "code",
   "execution_count": 16,
   "id": "bf969ebc",
   "metadata": {},
   "outputs": [
    {
     "name": "stdout",
     "output_type": "stream",
     "text": [
      "1565\n",
      "31\n"
     ]
    }
   ],
   "source": [
    "print(data_users.shape[0])\n",
    "print(data_users.duplicated().sum())"
   ]
  },
  {
   "cell_type": "code",
   "execution_count": 17,
   "id": "81e4b1fe",
   "metadata": {},
   "outputs": [],
   "source": [
    "data_users = data_users.drop_duplicates().reset_index(drop = True)"
   ]
  },
  {
   "cell_type": "markdown",
   "id": "6b8ed6e2",
   "metadata": {},
   "source": [
    "Вывод: файл с данными о пользователях содержал дублирующиеся строки (31 из 1565, это составляет 2% от всех данных), было принято решение их удалить."
   ]
  },
  {
   "cell_type": "markdown",
   "id": "adb90f34",
   "metadata": {},
   "source": [
    "##### Выполним предобработку файла с данными о поездках.\n",
    "Первое, что необходимо сделать при предобработке данных, определим сколько пропусков есть в каждой категории."
   ]
  },
  {
   "cell_type": "code",
   "execution_count": 18,
   "id": "4b80feaf",
   "metadata": {},
   "outputs": [
    {
     "name": "stdout",
     "output_type": "stream",
     "text": [
      "user_id     0\n",
      "distance    0\n",
      "duration    0\n",
      "date        0\n",
      "dtype: int64\n"
     ]
    }
   ],
   "source": [
    "print(data_rides.isna().sum())"
   ]
  },
  {
   "cell_type": "markdown",
   "id": "025d4fa2",
   "metadata": {},
   "source": [
    "Пропусков нет. Изменим тип данных в колонке со временем и создадим отдельную колонку с месяцами."
   ]
  },
  {
   "cell_type": "code",
   "execution_count": 19,
   "id": "54a45cbe",
   "metadata": {},
   "outputs": [],
   "source": [
    "data_rides['date'] = pd.to_datetime(data_rides['date'], format = '%Y-%m-%d')"
   ]
  },
  {
   "cell_type": "code",
   "execution_count": 20,
   "id": "0c548612",
   "metadata": {},
   "outputs": [],
   "source": [
    "data_rides['month'] = pd.DatetimeIndex(data_rides['date']).month"
   ]
  },
  {
   "cell_type": "code",
   "execution_count": 21,
   "id": "e403e142",
   "metadata": {},
   "outputs": [
    {
     "name": "stdout",
     "output_type": "stream",
     "text": [
      "2021    18068\n",
      "Name: date, dtype: int64\n"
     ]
    }
   ],
   "source": [
    "print(pd.DatetimeIndex(data_rides['date']).year.value_counts()) #проверка на уникальность даты по годам"
   ]
  },
  {
   "cell_type": "markdown",
   "id": "1dd9776e",
   "metadata": {},
   "source": [
    "Проверим на наличие дубликатов."
   ]
  },
  {
   "cell_type": "code",
   "execution_count": 22,
   "id": "0daad41a",
   "metadata": {},
   "outputs": [
    {
     "name": "stdout",
     "output_type": "stream",
     "text": [
      "18068\n",
      "0\n"
     ]
    }
   ],
   "source": [
    "print(data_rides.shape[0])\n",
    "print(data_rides.duplicated().sum())"
   ]
  },
  {
   "cell_type": "markdown",
   "id": "ef599481",
   "metadata": {},
   "source": [
    "Вывод: \n",
    "- в файле с данными о поездках был изменен тип данных в датах и создана новая колонка с месяцами; \n",
    "- было установлено, что данные предсталенны только за 2021 год (не надо учитывать вклад месяцов в другие года, если они были бы);\n",
    "- дубликаты строк не были обнаружены."
   ]
  },
  {
   "cell_type": "markdown",
   "id": "1a91f0d1",
   "metadata": {},
   "source": [
    "##### Вывод: \n",
    "Было установлено, что файлы, практически, не нуждаются в предоработке данных, кроме данных с датами и дубликатами из файла про пользователи. Необходимо было сменить тип данных и добавить новый столбец для месяцев. \n",
    "\n",
    "Было установлено, что данные приведены за 2021 год, что упрощает оценку по месяцам(не учета по разным годам). \n",
    "\n",
    "В файле про пользователей были удалены дублирующиеся строки (с последующим обнавлением индексов), поскольку они составляли 2% от всех данных."
   ]
  },
  {
   "cell_type": "markdown",
   "id": "212593c7",
   "metadata": {},
   "source": [
    "#### Шаг 3. Исследовательский анализ данных"
   ]
  },
  {
   "cell_type": "markdown",
   "id": "74f2419b",
   "metadata": {},
   "source": [
    "##### Частота встречаемости городов\n",
    "Определить в каких городах прокатом пользуются чаще по отношению к другим и посмотреть сколько в среднем пользователей есть."
   ]
  },
  {
   "cell_type": "code",
   "execution_count": 23,
   "id": "378c83dd",
   "metadata": {},
   "outputs": [
    {
     "name": "stdout",
     "output_type": "stream",
     "text": [
      "Среднее количество ползователей = 191\n"
     ]
    },
    {
     "data": {
      "image/png": "[encoded data removed]",
      "text/plain": [
       "<Figure size 432x288 with 1 Axes>"
      ]
     },
     "metadata": {
      "needs_background": "light"
     },
     "output_type": "display_data"
    }
   ],
   "source": [
    "city = data_users.loc[:, ['city', 'user_id']]\n",
    "city_new = city.pivot_table(index = 'city', values = 'user_id', aggfunc = 'count')\n",
    "city_new.columns = ['count']\n",
    "#print(city_new.sort_values(by = 'count',ascending = False).head(10))\n",
    "print('Среднее количество ползователей =',int(city_new['count'].mean()))\n",
    "city_new.plot(kind = 'bar', grid = True, color = 'm');\n",
    "plt.xlabel('Название города', color = 'm')\n",
    "plt.ylabel('Количество пользователей', color = 'm')\n",
    "plt.title('Частота встречаемости городов', color='m')\n",
    "\n",
    "plt.show()"
   ]
  },
  {
   "cell_type": "markdown",
   "id": "f121078f",
   "metadata": {},
   "source": [
    "###### Вывод:\n",
    "Исходя из построенного графика распределения количества ползователей в зависимости от городов было установлено, что больше всего прокатом пользуются в Пятигорске, минимальное пользование прокатов в Москве. Среднее количевтво пользователей в городах: 191."
   ]
  },
  {
   "cell_type": "markdown",
   "id": "d198f576",
   "metadata": {},
   "source": [
    "##### Cоотношение пользователей с подпиской и без подписки\n",
    "Построить круговую диаграмму зависимостри количества пользователей от вида их подписки в целом и в зависимости от города."
   ]
  },
  {
   "cell_type": "code",
   "execution_count": 24,
   "id": "9ee248e3",
   "metadata": {},
   "outputs": [
    {
     "data": {
      "image/png": "[encoded data removed]",
      "text/plain": [
       "<Figure size 432x288 with 1 Axes>"
      ]
     },
     "metadata": {},
     "output_type": "display_data"
    }
   ],
   "source": [
    "type_0 = data_users.loc[:, ['user_id','subscription_type']]\n",
    "type_new = type_0.pivot_table(index = 'subscription_type', values = 'user_id', aggfunc = 'count')\n",
    "type_new.columns = ['count']\n",
    "type_new.plot(\n",
    "    kind = 'pie', labels = ['без подписки', 'с подпиской'],subplots=True, startangle=90,pctdistance=0.5,\n",
    "    colors=[\"r\", \"c\"],\n",
    "    autopct=\"%.f%%\",\n",
    ");\n",
    "plt.ylabel(\"\")\n",
    "plt.title('Cоотношение пользователей с подпиской и без подписки')\n",
    "plt.show()"
   ]
  },
  {
   "cell_type": "code",
   "execution_count": 25,
   "id": "4021e5a9",
   "metadata": {},
   "outputs": [
    {
     "data": {
      "image/png": "[encoded data removed]",
      "text/plain": [
       "<Figure size 432x288 with 1 Axes>"
      ]
     },
     "metadata": {
      "needs_background": "light"
     },
     "output_type": "display_data"
    }
   ],
   "source": [
    "type_1 = data_users.loc[:, ['user_id', 'city', 'subscription_type']]\n",
    "type_new1 = type_1.query('subscription_type == \"free\"').pivot_table(index = 'city', values = 'user_id', aggfunc = 'count')\n",
    "type_new2 = type_1.query('subscription_type == \"ultra\"').pivot_table(index = 'city', values = 'user_id', aggfunc = 'count')\n",
    "type_new1.columns = ['free']\n",
    "type_new2.columns = ['ultra']\n",
    "type_11 = type_new1.join(type_new2)\n",
    "type_11.plot(\n",
    "    kind = 'bar', grid = True, color = ['r', 'c']);\n",
    "plt.xlabel('')\n",
    "plt.ylabel('Количество пользователей')\n",
    "plt.title('Частота встречаемости городов')\n",
    "plt.show()"
   ]
  },
  {
   "cell_type": "markdown",
   "id": "d7457ceb",
   "metadata": {},
   "source": [
    "###### Вывод: \n",
    " Исходя из полученных данных распределение пользователей с подпиской, практически, одинакова. Разница составляет, приблизительно, 8% в пользу пользователей, у которых нет подписки. \n",
    " Из данных по сотношению пользователей с подпиской или без в зависимости от города наблюдается что:\n",
    "- во всех городах количество пользователей с подпиской меньше чем без неё;\n",
    "- количество пользователей с подпиской во всех городах имеют небольшой разброс, в отличие от количества пользователей без потписки."
   ]
  },
  {
   "cell_type": "markdown",
   "id": "262d29bd",
   "metadata": {},
   "source": [
    "##### Возраст пользователей\n",
    "Для исследования влияния возраста посетителей на прокат построим круговую гистограмму и определим в какой городе какие диапазоны возраста предпостительней"
   ]
  },
  {
   "cell_type": "code",
   "execution_count": 26,
   "id": "3e4d38a6",
   "metadata": {},
   "outputs": [
    {
     "data": {
      "image/png": "[encoded data removed]",
      "text/plain": [
       "<Figure size 432x288 with 1 Axes>"
      ]
     },
     "metadata": {
      "needs_background": "light"
     },
     "output_type": "display_data"
    }
   ],
   "source": [
    "age_0 = data_users.loc[:, ['user_id','age']]\n",
    "age_new = age_0.pivot_table(index = 'age', values = 'user_id', aggfunc = 'count')\n",
    "age_new.columns = ['count']\n",
    "age_new.plot(\n",
    "    kind = 'bar', \n",
    "    subplots=True, color = 'm',\n",
    "    title = 'Распределение количества пользователей в зависимости от возраста',\n",
    ");\n",
    "plt.xlabel('Возраст')\n",
    "plt.ylabel('Количество пользователей')\n",
    "plt.show()"
   ]
  },
  {
   "cell_type": "code",
   "execution_count": 27,
   "id": "510da019",
   "metadata": {},
   "outputs": [],
   "source": [
    "#data_rides['duration'].describe()"
   ]
  },
  {
   "cell_type": "code",
   "execution_count": 28,
   "id": "b43557e7",
   "metadata": {},
   "outputs": [
    {
     "data": {
      "image/png": "[encoded data removed]",
      "text/plain": [
       "<Figure size 432x288 with 1 Axes>"
      ]
     },
     "metadata": {
      "needs_background": "light"
     },
     "output_type": "display_data"
    }
   ],
   "source": [
    "age_1 = data_users.loc[:, ['user_id', 'age', 'subscription_type']]\n",
    "age_new1 = age_1.query('subscription_type == \"free\"').pivot_table(index = 'age', values = 'user_id', aggfunc = 'count')\n",
    "age_new2 = age_1.query('subscription_type == \"ultra\"').pivot_table(index = 'age', values = 'user_id', aggfunc = 'count')\n",
    "age_new1.columns = ['free']\n",
    "age_new2.columns = ['ultra']\n",
    "age_11 = age_new1.join(age_new2)\n",
    "age_11.plot(\n",
    "    kind = 'bar',color = ['red', 'c'],\n",
    "    title = 'Распределение возраста в зависимости от типа подписки');\n",
    "plt.legend(['без подписки', 'с подпиской'])\n",
    "plt.xlabel('Возраст')\n",
    "plt.ylabel('Количество пользователей')\n",
    "plt.show()"
   ]
  },
  {
   "cell_type": "code",
   "execution_count": 29,
   "id": "7fec29db",
   "metadata": {},
   "outputs": [
    {
     "data": {
      "image/png": "[encoded data removed]",
      "text/plain": [
       "<Figure size 432x288 with 1 Axes>"
      ]
     },
     "metadata": {
      "needs_background": "light"
     },
     "output_type": "display_data"
    }
   ],
   "source": [
    "age_1 = data_users.loc[:, ['age', 'city', 'subscription_type']]\n",
    "age_new1 = age_1.query('subscription_type == \"free\"').pivot_table(index = 'city', values = 'age', aggfunc = 'mean')\n",
    "age_new2 = age_1.query('subscription_type == \"ultra\"').pivot_table(index = 'city', values = 'age', aggfunc = 'mean')\n",
    "age_new1.columns = ['free']\n",
    "age_new2.columns = ['ultra']\n",
    "age_11 = age_new1.join(age_new2)\n",
    "age_11.plot(\n",
    "    kind = 'bar',color = ['red', 'c'],\n",
    "    title = 'Распределение среднего возраста пользователей в зависимости от вида подписки и города проживания');\n",
    "plt.legend(['без подписки', 'с подпиской'])\n",
    "plt.xlabel('Возраст')\n",
    "plt.ylabel('Количество пользователей')\n",
    "plt.show()"
   ]
  },
  {
   "cell_type": "markdown",
   "id": "4301a86d",
   "metadata": {},
   "source": [
    "###### Вывод:\n",
    "Из полученных данных видно,что \n",
    "- зависимость количества пользователей от возвраста представляет нормальное распределение, что говорит о корректности данных. По данному распределению больше всего пользуются прокатом люди в возрасте 25 лет;\n",
    "- зависимость количества пользователей от возраста с учетом вида подписки не представляет нормальные распределения. Зависимость количества пользователей от возвраста, кто имеет подписку, представляет распределение Стьюдента, а зависимость количества пользователей от возвраста, кто не имеет подписку, имеют много скачков в окрестностях пика, поэтому нельхя сказать, что распределение нормальное. Но данные скачки вносят вклад в распределение без учёта подписки, что сказывается на среднем возрасте пользователей проката;\n",
    "- зависимость среднего возраста ползователей с подписко и без нее в зависимости от города не показало значительных различий. Средний возвраст колеблится в районе 25 лет."
   ]
  },
  {
   "cell_type": "markdown",
   "id": "f74f08c9",
   "metadata": {},
   "source": [
    "##### Расстояние, которое пользователь преодолел за одну поездку\n",
    "Для изучение распределения расстояния за одну поездку пользователя построим гистограммы расстояний, которые пользователь преодалел за одну поездку, без учета вида подкиски и с учетом подписки. Сделаем выводы по полученным гистограммам и оценим влияние подписки на распределение."
   ]
  },
  {
   "cell_type": "code",
   "execution_count": 30,
   "id": "2c6c5c23",
   "metadata": {},
   "outputs": [
    {
     "data": {
      "image/png": "[encoded data removed]",
      "text/plain": [
       "<Figure size 432x288 with 1 Axes>"
      ]
     },
     "metadata": {
      "needs_background": "light"
     },
     "output_type": "display_data"
    }
   ],
   "source": [
    "data_rides['distance'].hist(color = 'm', \n",
    "                            bins = 75);\n",
    "plt.title('Распределение расстояния за одну поездку без учёта вида подписки');\n",
    "plt.xlabel('Расстояние (м)');\n",
    "plt.ylabel('Количество расстояний');\n",
    "\n",
    "plt.show()\n"
   ]
  },
  {
   "cell_type": "code",
   "execution_count": 31,
   "id": "d8b524f4",
   "metadata": {},
   "outputs": [
    {
     "data": {
      "image/png": "[encoded data removed]",
      "text/plain": [
       "<Figure size 432x288 with 1 Axes>"
      ]
     },
     "metadata": {
      "needs_background": "light"
     },
     "output_type": "display_data"
    }
   ],
   "source": [
    "plt.boxplot(data_rides['distance'], patch_artist=True);\n",
    "plt.title('Boxplot распределения расстояния за одну поездку без учёта вида подписки');\n",
    "plt.ylabel('Количество расстояний');"
   ]
  },
  {
   "cell_type": "code",
   "execution_count": 32,
   "id": "d837b451",
   "metadata": {},
   "outputs": [],
   "source": [
    "#data_rides['distance'].describe()"
   ]
  },
  {
   "cell_type": "code",
   "execution_count": 33,
   "id": "331f3b6d",
   "metadata": {},
   "outputs": [
    {
     "data": {
      "image/png": "[encoded data removed]",
      "text/plain": [
       "<Figure size 432x288 with 1 Axes>"
      ]
     },
     "metadata": {
      "needs_background": "light"
     },
     "output_type": "display_data"
    }
   ],
   "source": [
    "data_rides['sub'] = data_users['subscription_type']\n",
    "plt.hist(data_rides.query('sub == \"free\"')['distance'], color = 'r',alpha = 0.75, label='без подписки', bins = 75)\n",
    "plt.hist(data_rides.query('sub == \"ultra\"')['distance'],color = 'c', alpha = 0.75, label='с подпиской', bins = 75)\n",
    "plt.legend()\n",
    "plt.title('Распределение расстояния за одну поездку с учётом вида подписки');\n",
    "plt.grid(b=True)\n",
    "plt.xlabel('Расстояние (м)');\n",
    "plt.ylabel('Количество расстояний');\n",
    "plt.show()"
   ]
  },
  {
   "cell_type": "markdown",
   "id": "f6027301",
   "metadata": {},
   "source": [
    "###### Вывод:\n",
    "- Основная часть поездок занимает от 2543 до 3776 метров. Медиана 3133 метра. Поездки на расстояние более 5 км редки. Однако на гистограмме видно, что некоторая часть пользователей использует самокаты для коротких поездок - до 1500 м.\n",
    "- зависимость количества пользователей от возвраста представляет нормальное распределение, что говорит о корректности данных. По данному распределению больше всего пользуются прокатом люди в возрасте 25 лет;\n",
    "- зависимость количества пользователей от возраста с учетом вида подписки не представляет нормальные распределения. Зависимость количества пользователей от возвраста, кто имеет подписку, представляет распределение Стьюдента, а зависимость количества пользователей от возвраста, кто не имеет подписку, имеют много скачков в окрестностях пика, поэтому нельхя сказать, что распределение нормальное. Но данные скачки вносят вклад в распределение без учёта подписки, что сказывается на среднем возрасте пользователей проката;\n",
    "- зависимость среднего возраста ползователей с подпиской и без нее в зависимости от города не показало значительных различий. Средний возвраст колеблится в районе 25 лет."
   ]
  },
  {
   "cell_type": "markdown",
   "id": "ffd2e16a",
   "metadata": {},
   "source": [
    "##### Продолжительность поездок\n",
    "Для изучение распределения продолжительности поездок пользователя построим гистограммы продолжительности без учета вида подкиски и с учетом подписки. Сделаем выводы по полученным гистограммам и оценим влияние подписки на распределение."
   ]
  },
  {
   "cell_type": "code",
   "execution_count": 34,
   "id": "d2b17e5a",
   "metadata": {},
   "outputs": [
    {
     "data": {
      "image/png": "[encoded data removed]",
      "text/plain": [
       "<Figure size 432x288 with 1 Axes>"
      ]
     },
     "metadata": {
      "needs_background": "light"
     },
     "output_type": "display_data"
    }
   ],
   "source": [
    "data_rides['duration'].hist(color = 'm', \n",
    "                            bins = 50);\n",
    "plt.title('Распределение продолжительности времени поездок без учёта вида подписки');\n",
    "plt.xlabel('Время одной поездки (мин)');\n",
    "plt.ylabel('Количество минут');"
   ]
  },
  {
   "cell_type": "code",
   "execution_count": 35,
   "id": "b64bd06a",
   "metadata": {},
   "outputs": [
    {
     "data": {
      "image/png": "[encoded data removed]",
      "text/plain": [
       "<Figure size 432x288 with 1 Axes>"
      ]
     },
     "metadata": {
      "needs_background": "light"
     },
     "output_type": "display_data"
    }
   ],
   "source": [
    "plt.boxplot(data_rides['duration'], patch_artist=True);\n",
    "plt.title('Boxplot распределение продолжительности времени поездок');\n",
    "plt.ylabel('Количество минут');"
   ]
  },
  {
   "cell_type": "code",
   "execution_count": 36,
   "id": "9242ec18",
   "metadata": {},
   "outputs": [
    {
     "data": {
      "text/plain": [
       "count    18068.000000\n",
       "mean        17.805011\n",
       "std          6.091051\n",
       "min          0.500000\n",
       "25%         13.597563\n",
       "50%         17.678395\n",
       "75%         21.724800\n",
       "max         40.823963\n",
       "Name: duration, dtype: float64"
      ]
     },
     "execution_count": 36,
     "metadata": {},
     "output_type": "execute_result"
    }
   ],
   "source": [
    "data_rides['duration'].describe()"
   ]
  },
  {
   "cell_type": "code",
   "execution_count": 37,
   "id": "b678ca46",
   "metadata": {},
   "outputs": [
    {
     "data": {
      "image/png": "[encoded data removed]",
      "text/plain": [
       "<Figure size 432x288 with 1 Axes>"
      ]
     },
     "metadata": {
      "needs_background": "light"
     },
     "output_type": "display_data"
    }
   ],
   "source": [
    "plt.hist(data_rides.query('sub == \"free\"')['duration'], color = 'r',alpha = 0.75, label='без подписки', bins = 50)\n",
    "plt.hist(data_rides.query('sub == \"ultra\"')['duration'],color = 'c', alpha = 0.75, label='с подпиской', bins = 50)\n",
    "plt.legend()\n",
    "plt.title('Распределение продолжительности времени поездок с учётом вида подписки');\n",
    "plt.grid(b=True)\n",
    "plt.xlabel('Время одной поездки (мин)');\n",
    "plt.ylabel('Количество минут');\n",
    "plt.show()"
   ]
  },
  {
   "cell_type": "markdown",
   "id": "da648beb",
   "metadata": {},
   "source": [
    "###### Вывод:\n",
    "Исходя из полученных данных наблюдается нормальное распределение но с выбросами. Основная часть поездок занимает от 13 до 22 минут. Медиана 18 минут. Аномальный выброс наблюдается при значении расстояния равным 0.5 мин. \n",
    "При построении гистограммы распределения продолжительности поездок с учётом влияния видов подписки было установлено, что в аномальный пик при значениях близких к 0,больше вносят вклад те пользователи, которые имеют подписку.Но на все распредление вносят те данные, пользователи которых не имеют подписку."
   ]
  },
  {
   "cell_type": "markdown",
   "id": "4ef51331",
   "metadata": {},
   "source": [
    "#### Шаг 4. Объединение данных\n",
    "На данном этапе необходимо сделать:\n",
    "- Объедините данные о пользователях, поездках и подписках в один датафрейм. Для этого воспользуйтесь методом merge().\n",
    "- Создайте ещё два датафрейма из датафрейма, созданного на предыдущем этапе:\n",
    "  - c данными о пользователях без подписки;\n",
    "  - с данными о пользователях с подпиской.\n",
    "- построение повторного распределения времени и расстояния в зависимости от типа поездки, дополнить вывод о полученных результатах.\n",
    "\n",
    "После создание датафреймов провести проверку размерности."
   ]
  },
  {
   "cell_type": "code",
   "execution_count": 38,
   "id": "6bf288b5",
   "metadata": {},
   "outputs": [
    {
     "data": {
      "text/html": [
       "<div>\n",
       "<style scoped>\n",
       "    .dataframe tbody tr th:only-of-type {\n",
       "        vertical-align: middle;\n",
       "    }\n",
       "\n",
       "    .dataframe tbody tr th {\n",
       "        vertical-align: top;\n",
       "    }\n",
       "\n",
       "    .dataframe thead th {\n",
       "        text-align: right;\n",
       "    }\n",
       "</style>\n",
       "<table border=\"1\" class=\"dataframe\">\n",
       "  <thead>\n",
       "    <tr style=\"text-align: right;\">\n",
       "      <th></th>\n",
       "      <th>user_id</th>\n",
       "      <th>name</th>\n",
       "      <th>age</th>\n",
       "      <th>city</th>\n",
       "      <th>subscription_type</th>\n",
       "      <th>distance</th>\n",
       "      <th>duration</th>\n",
       "      <th>date</th>\n",
       "      <th>month</th>\n",
       "    </tr>\n",
       "  </thead>\n",
       "  <tbody>\n",
       "    <tr>\n",
       "      <th>0</th>\n",
       "      <td>1</td>\n",
       "      <td>Кира</td>\n",
       "      <td>22</td>\n",
       "      <td>Тюмень</td>\n",
       "      <td>ultra</td>\n",
       "      <td>4409.919140</td>\n",
       "      <td>25.599769</td>\n",
       "      <td>2021-01-01</td>\n",
       "      <td>1</td>\n",
       "    </tr>\n",
       "    <tr>\n",
       "      <th>1</th>\n",
       "      <td>1</td>\n",
       "      <td>Кира</td>\n",
       "      <td>22</td>\n",
       "      <td>Тюмень</td>\n",
       "      <td>ultra</td>\n",
       "      <td>2617.592153</td>\n",
       "      <td>15.816871</td>\n",
       "      <td>2021-01-18</td>\n",
       "      <td>1</td>\n",
       "    </tr>\n",
       "    <tr>\n",
       "      <th>2</th>\n",
       "      <td>1</td>\n",
       "      <td>Кира</td>\n",
       "      <td>22</td>\n",
       "      <td>Тюмень</td>\n",
       "      <td>ultra</td>\n",
       "      <td>754.159807</td>\n",
       "      <td>6.232113</td>\n",
       "      <td>2021-04-20</td>\n",
       "      <td>4</td>\n",
       "    </tr>\n",
       "    <tr>\n",
       "      <th>3</th>\n",
       "      <td>1</td>\n",
       "      <td>Кира</td>\n",
       "      <td>22</td>\n",
       "      <td>Тюмень</td>\n",
       "      <td>ultra</td>\n",
       "      <td>2694.783254</td>\n",
       "      <td>18.511000</td>\n",
       "      <td>2021-08-11</td>\n",
       "      <td>8</td>\n",
       "    </tr>\n",
       "    <tr>\n",
       "      <th>4</th>\n",
       "      <td>1</td>\n",
       "      <td>Кира</td>\n",
       "      <td>22</td>\n",
       "      <td>Тюмень</td>\n",
       "      <td>ultra</td>\n",
       "      <td>4028.687306</td>\n",
       "      <td>26.265803</td>\n",
       "      <td>2021-08-28</td>\n",
       "      <td>8</td>\n",
       "    </tr>\n",
       "  </tbody>\n",
       "</table>\n",
       "</div>"
      ],
      "text/plain": [
       "   user_id  name  age    city subscription_type     distance   duration  \\\n",
       "0        1  Кира   22  Тюмень             ultra  4409.919140  25.599769   \n",
       "1        1  Кира   22  Тюмень             ultra  2617.592153  15.816871   \n",
       "2        1  Кира   22  Тюмень             ultra   754.159807   6.232113   \n",
       "3        1  Кира   22  Тюмень             ultra  2694.783254  18.511000   \n",
       "4        1  Кира   22  Тюмень             ultra  4028.687306  26.265803   \n",
       "\n",
       "        date  month  \n",
       "0 2021-01-01      1  \n",
       "1 2021-01-18      1  \n",
       "2 2021-04-20      4  \n",
       "3 2021-08-11      8  \n",
       "4 2021-08-28      8  "
      ]
     },
     "metadata": {},
     "output_type": "display_data"
    }
   ],
   "source": [
    "data = data_users.merge(data_rides).drop('sub', axis = 1)\n",
    "display(data.head())"
   ]
  },
  {
   "cell_type": "code",
   "execution_count": 39,
   "id": "07357e9c",
   "metadata": {},
   "outputs": [
    {
     "data": {
      "text/plain": [
       "1534"
      ]
     },
     "execution_count": 39,
     "metadata": {},
     "output_type": "execute_result"
    }
   ],
   "source": [
    "len(data_users)"
   ]
  },
  {
   "cell_type": "code",
   "execution_count": 40,
   "id": "92b443cf",
   "metadata": {},
   "outputs": [
    {
     "data": {
      "text/plain": [
       "18068"
      ]
     },
     "execution_count": 40,
     "metadata": {},
     "output_type": "execute_result"
    }
   ],
   "source": [
    "len(data_rides)"
   ]
  },
  {
   "cell_type": "code",
   "execution_count": 41,
   "id": "e985d105",
   "metadata": {},
   "outputs": [
    {
     "data": {
      "text/plain": [
       "18068"
      ]
     },
     "execution_count": 41,
     "metadata": {},
     "output_type": "execute_result"
    }
   ],
   "source": [
    "len(data)"
   ]
  },
  {
   "cell_type": "code",
   "execution_count": 42,
   "id": "2f995429",
   "metadata": {},
   "outputs": [
    {
     "name": "stdout",
     "output_type": "stream",
     "text": [
      "Количество явных дубликатов в датафрейме \"data\" =  0 \n",
      "\n",
      "<class 'pandas.core.frame.DataFrame'>\n",
      "Int64Index: 18068 entries, 0 to 18067\n",
      "Data columns (total 9 columns):\n",
      " #   Column             Non-Null Count  Dtype         \n",
      "---  ------             --------------  -----         \n",
      " 0   user_id            18068 non-null  int64         \n",
      " 1   name               18068 non-null  object        \n",
      " 2   age                18068 non-null  int64         \n",
      " 3   city               18068 non-null  object        \n",
      " 4   subscription_type  18068 non-null  object        \n",
      " 5   distance           18068 non-null  float64       \n",
      " 6   duration           18068 non-null  float64       \n",
      " 7   date               18068 non-null  datetime64[ns]\n",
      " 8   month              18068 non-null  int64         \n",
      "dtypes: datetime64[ns](1), float64(2), int64(3), object(3)\n",
      "memory usage: 1.4+ MB\n"
     ]
    }
   ],
   "source": [
    "print('Количество явных дубликатов в датафрейме \"data\" = ', data.duplicated().sum(), '\\n')\n",
    "data.info()"
   ]
  },
  {
   "cell_type": "code",
   "execution_count": 43,
   "id": "3d3ba43f",
   "metadata": {},
   "outputs": [
    {
     "data": {
      "text/html": [
       "<div>\n",
       "<style scoped>\n",
       "    .dataframe tbody tr th:only-of-type {\n",
       "        vertical-align: middle;\n",
       "    }\n",
       "\n",
       "    .dataframe tbody tr th {\n",
       "        vertical-align: top;\n",
       "    }\n",
       "\n",
       "    .dataframe thead th {\n",
       "        text-align: right;\n",
       "    }\n",
       "</style>\n",
       "<table border=\"1\" class=\"dataframe\">\n",
       "  <thead>\n",
       "    <tr style=\"text-align: right;\">\n",
       "      <th></th>\n",
       "      <th>user_id</th>\n",
       "      <th>name</th>\n",
       "      <th>age</th>\n",
       "      <th>city</th>\n",
       "      <th>subscription_type</th>\n",
       "      <th>distance</th>\n",
       "      <th>duration</th>\n",
       "      <th>date</th>\n",
       "      <th>month</th>\n",
       "    </tr>\n",
       "  </thead>\n",
       "  <tbody>\n",
       "    <tr>\n",
       "      <th>6500</th>\n",
       "      <td>700</td>\n",
       "      <td>Айдар</td>\n",
       "      <td>22</td>\n",
       "      <td>Омск</td>\n",
       "      <td>free</td>\n",
       "      <td>2515.690719</td>\n",
       "      <td>14.944286</td>\n",
       "      <td>2021-01-02</td>\n",
       "      <td>1</td>\n",
       "    </tr>\n",
       "    <tr>\n",
       "      <th>6501</th>\n",
       "      <td>700</td>\n",
       "      <td>Айдар</td>\n",
       "      <td>22</td>\n",
       "      <td>Омск</td>\n",
       "      <td>free</td>\n",
       "      <td>846.932642</td>\n",
       "      <td>16.234663</td>\n",
       "      <td>2021-02-01</td>\n",
       "      <td>2</td>\n",
       "    </tr>\n",
       "    <tr>\n",
       "      <th>6502</th>\n",
       "      <td>700</td>\n",
       "      <td>Айдар</td>\n",
       "      <td>22</td>\n",
       "      <td>Омск</td>\n",
       "      <td>free</td>\n",
       "      <td>4004.434142</td>\n",
       "      <td>20.016628</td>\n",
       "      <td>2021-02-04</td>\n",
       "      <td>2</td>\n",
       "    </tr>\n",
       "    <tr>\n",
       "      <th>6503</th>\n",
       "      <td>700</td>\n",
       "      <td>Айдар</td>\n",
       "      <td>22</td>\n",
       "      <td>Омск</td>\n",
       "      <td>free</td>\n",
       "      <td>1205.911290</td>\n",
       "      <td>9.782872</td>\n",
       "      <td>2021-02-10</td>\n",
       "      <td>2</td>\n",
       "    </tr>\n",
       "    <tr>\n",
       "      <th>6504</th>\n",
       "      <td>700</td>\n",
       "      <td>Айдар</td>\n",
       "      <td>22</td>\n",
       "      <td>Омск</td>\n",
       "      <td>free</td>\n",
       "      <td>3047.379435</td>\n",
       "      <td>17.427673</td>\n",
       "      <td>2021-02-14</td>\n",
       "      <td>2</td>\n",
       "    </tr>\n",
       "  </tbody>\n",
       "</table>\n",
       "</div>"
      ],
      "text/plain": [
       "      user_id   name  age  city subscription_type     distance   duration  \\\n",
       "6500      700  Айдар   22  Омск              free  2515.690719  14.944286   \n",
       "6501      700  Айдар   22  Омск              free   846.932642  16.234663   \n",
       "6502      700  Айдар   22  Омск              free  4004.434142  20.016628   \n",
       "6503      700  Айдар   22  Омск              free  1205.911290   9.782872   \n",
       "6504      700  Айдар   22  Омск              free  3047.379435  17.427673   \n",
       "\n",
       "           date  month  \n",
       "6500 2021-01-02      1  \n",
       "6501 2021-02-01      2  \n",
       "6502 2021-02-04      2  \n",
       "6503 2021-02-10      2  \n",
       "6504 2021-02-14      2  "
      ]
     },
     "metadata": {},
     "output_type": "display_data"
    }
   ],
   "source": [
    "data_free = data.query('subscription_type == \"free\"')\n",
    "display(data_free.head())"
   ]
  },
  {
   "cell_type": "code",
   "execution_count": 44,
   "id": "275f4670",
   "metadata": {},
   "outputs": [
    {
     "data": {
      "text/html": [
       "<div>\n",
       "<style scoped>\n",
       "    .dataframe tbody tr th:only-of-type {\n",
       "        vertical-align: middle;\n",
       "    }\n",
       "\n",
       "    .dataframe tbody tr th {\n",
       "        vertical-align: top;\n",
       "    }\n",
       "\n",
       "    .dataframe thead th {\n",
       "        text-align: right;\n",
       "    }\n",
       "</style>\n",
       "<table border=\"1\" class=\"dataframe\">\n",
       "  <thead>\n",
       "    <tr style=\"text-align: right;\">\n",
       "      <th></th>\n",
       "      <th>user_id</th>\n",
       "      <th>name</th>\n",
       "      <th>age</th>\n",
       "      <th>city</th>\n",
       "      <th>subscription_type</th>\n",
       "      <th>distance</th>\n",
       "      <th>duration</th>\n",
       "      <th>date</th>\n",
       "      <th>month</th>\n",
       "    </tr>\n",
       "  </thead>\n",
       "  <tbody>\n",
       "    <tr>\n",
       "      <th>0</th>\n",
       "      <td>1</td>\n",
       "      <td>Кира</td>\n",
       "      <td>22</td>\n",
       "      <td>Тюмень</td>\n",
       "      <td>ultra</td>\n",
       "      <td>4409.919140</td>\n",
       "      <td>25.599769</td>\n",
       "      <td>2021-01-01</td>\n",
       "      <td>1</td>\n",
       "    </tr>\n",
       "    <tr>\n",
       "      <th>1</th>\n",
       "      <td>1</td>\n",
       "      <td>Кира</td>\n",
       "      <td>22</td>\n",
       "      <td>Тюмень</td>\n",
       "      <td>ultra</td>\n",
       "      <td>2617.592153</td>\n",
       "      <td>15.816871</td>\n",
       "      <td>2021-01-18</td>\n",
       "      <td>1</td>\n",
       "    </tr>\n",
       "    <tr>\n",
       "      <th>2</th>\n",
       "      <td>1</td>\n",
       "      <td>Кира</td>\n",
       "      <td>22</td>\n",
       "      <td>Тюмень</td>\n",
       "      <td>ultra</td>\n",
       "      <td>754.159807</td>\n",
       "      <td>6.232113</td>\n",
       "      <td>2021-04-20</td>\n",
       "      <td>4</td>\n",
       "    </tr>\n",
       "    <tr>\n",
       "      <th>3</th>\n",
       "      <td>1</td>\n",
       "      <td>Кира</td>\n",
       "      <td>22</td>\n",
       "      <td>Тюмень</td>\n",
       "      <td>ultra</td>\n",
       "      <td>2694.783254</td>\n",
       "      <td>18.511000</td>\n",
       "      <td>2021-08-11</td>\n",
       "      <td>8</td>\n",
       "    </tr>\n",
       "    <tr>\n",
       "      <th>4</th>\n",
       "      <td>1</td>\n",
       "      <td>Кира</td>\n",
       "      <td>22</td>\n",
       "      <td>Тюмень</td>\n",
       "      <td>ultra</td>\n",
       "      <td>4028.687306</td>\n",
       "      <td>26.265803</td>\n",
       "      <td>2021-08-28</td>\n",
       "      <td>8</td>\n",
       "    </tr>\n",
       "  </tbody>\n",
       "</table>\n",
       "</div>"
      ],
      "text/plain": [
       "   user_id  name  age    city subscription_type     distance   duration  \\\n",
       "0        1  Кира   22  Тюмень             ultra  4409.919140  25.599769   \n",
       "1        1  Кира   22  Тюмень             ultra  2617.592153  15.816871   \n",
       "2        1  Кира   22  Тюмень             ultra   754.159807   6.232113   \n",
       "3        1  Кира   22  Тюмень             ultra  2694.783254  18.511000   \n",
       "4        1  Кира   22  Тюмень             ultra  4028.687306  26.265803   \n",
       "\n",
       "        date  month  \n",
       "0 2021-01-01      1  \n",
       "1 2021-01-18      1  \n",
       "2 2021-04-20      4  \n",
       "3 2021-08-11      8  \n",
       "4 2021-08-28      8  "
      ]
     },
     "metadata": {},
     "output_type": "display_data"
    }
   ],
   "source": [
    "data_ultra = data.query('subscription_type == \"ultra\"')\n",
    "display(data_ultra.head())"
   ]
  },
  {
   "cell_type": "code",
   "execution_count": 45,
   "id": "7b25466a",
   "metadata": {},
   "outputs": [
    {
     "name": "stdout",
     "output_type": "stream",
     "text": [
      "Разделение прошло успешно\n"
     ]
    }
   ],
   "source": [
    "if len(data) == (len(data_free) + len(data_ultra)):\n",
    "    print('Разделение прошло успешно')\n",
    "else:\n",
    "    print('ВНИМАНИЕ! Разделение не получилось, есть ошибка в коде')"
   ]
  },
  {
   "cell_type": "code",
   "execution_count": 46,
   "id": "fbfe1a20",
   "metadata": {},
   "outputs": [
    {
     "data": {
      "image/png": "[encoded data removed]",
      "text/plain": [
       "<Figure size 432x288 with 1 Axes>"
      ]
     },
     "metadata": {
      "needs_background": "light"
     },
     "output_type": "display_data"
    }
   ],
   "source": [
    "plt.hist([data_free['distance'], data_ultra['distance']],color = ['red', 'c'], bins=50, label=['без подписки', 'с подпиской'])\n",
    "plt.legend(loc='upper right')\n",
    "plt.title('Количество поездок в зависимости расстояния поездки')\n",
    "plt.xlabel('Расстояние в метрах ')\n",
    "plt.ylabel('Количество поездок')\n",
    "plt.show()"
   ]
  },
  {
   "cell_type": "code",
   "execution_count": 47,
   "id": "d81da3b8",
   "metadata": {},
   "outputs": [
    {
     "data": {
      "text/plain": [
       "count    11568.000000\n",
       "mean      3045.495282\n",
       "std       1246.173806\n",
       "min          0.855683\n",
       "25%       2366.562689\n",
       "50%       3114.648465\n",
       "75%       3905.697894\n",
       "max       7211.007745\n",
       "Name: distance, dtype: float64"
      ]
     },
     "execution_count": 47,
     "metadata": {},
     "output_type": "execute_result"
    }
   ],
   "source": [
    "data_free['distance'].describe()"
   ]
  },
  {
   "cell_type": "code",
   "execution_count": 48,
   "id": "d07ac740",
   "metadata": {},
   "outputs": [
    {
     "data": {
      "text/plain": [
       "count    6500.000000\n",
       "mean     3115.445388\n",
       "std       836.895330\n",
       "min       244.210438\n",
       "25%      2785.444017\n",
       "50%      3148.637229\n",
       "75%      3560.574425\n",
       "max      5699.769662\n",
       "Name: distance, dtype: float64"
      ]
     },
     "execution_count": 48,
     "metadata": {},
     "output_type": "execute_result"
    }
   ],
   "source": [
    "data_ultra['distance'].describe()"
   ]
  },
  {
   "cell_type": "code",
   "execution_count": 49,
   "id": "697e5254",
   "metadata": {},
   "outputs": [
    {
     "data": {
      "image/png": "[encoded data removed]",
      "text/plain": [
       "<Figure size 432x288 with 1 Axes>"
      ]
     },
     "metadata": {
      "needs_background": "light"
     },
     "output_type": "display_data"
    }
   ],
   "source": [
    "plt.hist([data_free['duration'], data_ultra['duration']],color = ['red', 'c'], bins=50, label=['без подписки', 'с подпиской'])\n",
    "plt.legend(loc='upper right')\n",
    "plt.title('Количество поездок в зависимости от продолжительности времени')\n",
    "plt.xlabel('продолжительность поездки (мин)')\n",
    "plt.ylabel('Количество поездок')\n",
    "plt.show()"
   ]
  },
  {
   "cell_type": "code",
   "execution_count": 50,
   "id": "0bb2892e",
   "metadata": {},
   "outputs": [
    {
     "data": {
      "text/plain": [
       "count    11568.000000\n",
       "mean        17.390909\n",
       "std          6.326803\n",
       "min          0.500000\n",
       "25%         12.958437\n",
       "50%         17.326890\n",
       "75%         21.594071\n",
       "max         34.948498\n",
       "Name: duration, dtype: float64"
      ]
     },
     "execution_count": 50,
     "metadata": {},
     "output_type": "execute_result"
    }
   ],
   "source": [
    "data_free['duration'].describe()"
   ]
  },
  {
   "cell_type": "code",
   "execution_count": 51,
   "id": "6f42d174",
   "metadata": {},
   "outputs": [
    {
     "data": {
      "text/plain": [
       "count    6500.000000\n",
       "mean       18.541985\n",
       "std         5.572048\n",
       "min         3.760353\n",
       "25%        14.524654\n",
       "50%        18.178153\n",
       "75%        21.884129\n",
       "max        40.823963\n",
       "Name: duration, dtype: float64"
      ]
     },
     "execution_count": 51,
     "metadata": {},
     "output_type": "execute_result"
    }
   ],
   "source": [
    "data_ultra['duration'].describe()"
   ]
  },
  {
   "cell_type": "markdown",
   "id": "e7fa641a",
   "metadata": {},
   "source": [
    "##### Вывод:\n",
    "С помощью метода merge() был создан датафрейм, объединяющий всех пользователей.\n",
    "\n",
    "С помощью метода query() были созданы датафреймы, в которых данные только о тельзователях, у которых нет подписки или она есть.\n",
    "\n",
    "Была выполнена оценка корректности разделение. Разделение было совершено корректно.\n",
    "\n",
    "Были построены распределения для расстояния и времени одной поездки в зависимости от типа подписки. Распределения повторяют то, что было представлено в пункте 3. Но было установлено, что у пользователей без подписки минимальное время составляет 0.5 минуты, минимальное расстояние за одну поездку - 0.8 метров. Это может свидетельствовать о проблемах во внутреннней структуре использования самокатов без подписки и неисправности самих самокатов."
   ]
  },
  {
   "cell_type": "markdown",
   "id": "402d620f",
   "metadata": {},
   "source": [
    "#### Шаг 5. Подсчёт выручки\n",
    "Для подсчёт вырочки необходимо:\n",
    "- Создать датафрейм с агрегированными данными о поездках на основе датафрейма с объединёнными данными из шага 4: найдите суммарное расстояние, количество поездок и суммарное время для каждого пользователя за каждый месяц.\n",
    "- В этот же датафрейм добавьте столбец с помесячной выручкой, которую принёс каждый пользователь. Для этого обратитесь к информации об условиях оплаты для подписчиков и тех, у кого нет подписки. Продолжительность каждой поездки в каждой строке исходного датафрейма для подсчёта стоимости округляется до следующего целого числа методом ceil()\n",
    "\n",
    "Замечание:перед расчётом выручки провести проверку на пропуски"
   ]
  },
  {
   "cell_type": "code",
   "execution_count": 52,
   "id": "53049e0a",
   "metadata": {},
   "outputs": [
    {
     "name": "stdout",
     "output_type": "stream",
     "text": [
      "count       0\n",
      "distance    0\n",
      "duration    0\n",
      "dtype: int64\n"
     ]
    }
   ],
   "source": [
    "rev_free = data_free.pivot_table(index=['user_id', 'month'],values=['distance', 'duration'],aggfunc={'distance': [\"count\",\"sum\"], 'duration': \"sum\"} )\n",
    "rev_free.columns = ['count','distance', 'duration']\n",
    "print(rev_free.isna().sum()) #проверка пропусков"
   ]
  },
  {
   "cell_type": "code",
   "execution_count": 53,
   "id": "01001d94",
   "metadata": {},
   "outputs": [
    {
     "data": {
      "text/html": [
       "<div>\n",
       "<style scoped>\n",
       "    .dataframe tbody tr th:only-of-type {\n",
       "        vertical-align: middle;\n",
       "    }\n",
       "\n",
       "    .dataframe tbody tr th {\n",
       "        vertical-align: top;\n",
       "    }\n",
       "\n",
       "    .dataframe thead th {\n",
       "        text-align: right;\n",
       "    }\n",
       "</style>\n",
       "<table border=\"1\" class=\"dataframe\">\n",
       "  <thead>\n",
       "    <tr style=\"text-align: right;\">\n",
       "      <th></th>\n",
       "      <th></th>\n",
       "      <th>count</th>\n",
       "      <th>distance</th>\n",
       "      <th>duration</th>\n",
       "      <th>revenue</th>\n",
       "    </tr>\n",
       "    <tr>\n",
       "      <th>user_id</th>\n",
       "      <th>month</th>\n",
       "      <th></th>\n",
       "      <th></th>\n",
       "      <th></th>\n",
       "      <th></th>\n",
       "    </tr>\n",
       "  </thead>\n",
       "  <tbody>\n",
       "    <tr>\n",
       "      <th rowspan=\"9\" valign=\"top\">700</th>\n",
       "      <th>1</th>\n",
       "      <td>1</td>\n",
       "      <td>2515.690719</td>\n",
       "      <td>15.0</td>\n",
       "      <td>170.0</td>\n",
       "    </tr>\n",
       "    <tr>\n",
       "      <th>2</th>\n",
       "      <td>5</td>\n",
       "      <td>13446.659764</td>\n",
       "      <td>86.0</td>\n",
       "      <td>938.0</td>\n",
       "    </tr>\n",
       "    <tr>\n",
       "      <th>3</th>\n",
       "      <td>1</td>\n",
       "      <td>3798.334905</td>\n",
       "      <td>19.0</td>\n",
       "      <td>202.0</td>\n",
       "    </tr>\n",
       "    <tr>\n",
       "      <th>4</th>\n",
       "      <td>1</td>\n",
       "      <td>2984.551206</td>\n",
       "      <td>16.0</td>\n",
       "      <td>178.0</td>\n",
       "    </tr>\n",
       "    <tr>\n",
       "      <th>6</th>\n",
       "      <td>2</td>\n",
       "      <td>5927.650988</td>\n",
       "      <td>29.0</td>\n",
       "      <td>332.0</td>\n",
       "    </tr>\n",
       "    <tr>\n",
       "      <th>7</th>\n",
       "      <td>2</td>\n",
       "      <td>4399.206279</td>\n",
       "      <td>21.0</td>\n",
       "      <td>268.0</td>\n",
       "    </tr>\n",
       "    <tr>\n",
       "      <th>8</th>\n",
       "      <td>1</td>\n",
       "      <td>4071.654669</td>\n",
       "      <td>17.0</td>\n",
       "      <td>186.0</td>\n",
       "    </tr>\n",
       "    <tr>\n",
       "      <th>10</th>\n",
       "      <td>2</td>\n",
       "      <td>6322.578618</td>\n",
       "      <td>43.0</td>\n",
       "      <td>444.0</td>\n",
       "    </tr>\n",
       "    <tr>\n",
       "      <th>11</th>\n",
       "      <td>3</td>\n",
       "      <td>8735.782625</td>\n",
       "      <td>32.0</td>\n",
       "      <td>406.0</td>\n",
       "    </tr>\n",
       "    <tr>\n",
       "      <th rowspan=\"11\" valign=\"top\">701</th>\n",
       "      <th>1</th>\n",
       "      <td>1</td>\n",
       "      <td>2676.472894</td>\n",
       "      <td>18.0</td>\n",
       "      <td>194.0</td>\n",
       "    </tr>\n",
       "    <tr>\n",
       "      <th>2</th>\n",
       "      <td>2</td>\n",
       "      <td>5637.334007</td>\n",
       "      <td>27.0</td>\n",
       "      <td>316.0</td>\n",
       "    </tr>\n",
       "    <tr>\n",
       "      <th>3</th>\n",
       "      <td>1</td>\n",
       "      <td>2802.021357</td>\n",
       "      <td>17.0</td>\n",
       "      <td>186.0</td>\n",
       "    </tr>\n",
       "    <tr>\n",
       "      <th>4</th>\n",
       "      <td>1</td>\n",
       "      <td>3509.012965</td>\n",
       "      <td>14.0</td>\n",
       "      <td>162.0</td>\n",
       "    </tr>\n",
       "    <tr>\n",
       "      <th>5</th>\n",
       "      <td>1</td>\n",
       "      <td>2465.852577</td>\n",
       "      <td>15.0</td>\n",
       "      <td>170.0</td>\n",
       "    </tr>\n",
       "    <tr>\n",
       "      <th>6</th>\n",
       "      <td>2</td>\n",
       "      <td>4634.620760</td>\n",
       "      <td>26.0</td>\n",
       "      <td>308.0</td>\n",
       "    </tr>\n",
       "    <tr>\n",
       "      <th>7</th>\n",
       "      <td>4</td>\n",
       "      <td>12970.722682</td>\n",
       "      <td>65.0</td>\n",
       "      <td>720.0</td>\n",
       "    </tr>\n",
       "    <tr>\n",
       "      <th>8</th>\n",
       "      <td>2</td>\n",
       "      <td>7628.751294</td>\n",
       "      <td>18.0</td>\n",
       "      <td>244.0</td>\n",
       "    </tr>\n",
       "    <tr>\n",
       "      <th>9</th>\n",
       "      <td>2</td>\n",
       "      <td>8659.573699</td>\n",
       "      <td>32.0</td>\n",
       "      <td>356.0</td>\n",
       "    </tr>\n",
       "    <tr>\n",
       "      <th>10</th>\n",
       "      <td>2</td>\n",
       "      <td>8395.260013</td>\n",
       "      <td>43.0</td>\n",
       "      <td>444.0</td>\n",
       "    </tr>\n",
       "    <tr>\n",
       "      <th>12</th>\n",
       "      <td>2</td>\n",
       "      <td>2773.396606</td>\n",
       "      <td>22.0</td>\n",
       "      <td>276.0</td>\n",
       "    </tr>\n",
       "  </tbody>\n",
       "</table>\n",
       "</div>"
      ],
      "text/plain": [
       "               count      distance  duration  revenue\n",
       "user_id month                                        \n",
       "700     1          1   2515.690719      15.0    170.0\n",
       "        2          5  13446.659764      86.0    938.0\n",
       "        3          1   3798.334905      19.0    202.0\n",
       "        4          1   2984.551206      16.0    178.0\n",
       "        6          2   5927.650988      29.0    332.0\n",
       "        7          2   4399.206279      21.0    268.0\n",
       "        8          1   4071.654669      17.0    186.0\n",
       "        10         2   6322.578618      43.0    444.0\n",
       "        11         3   8735.782625      32.0    406.0\n",
       "701     1          1   2676.472894      18.0    194.0\n",
       "        2          2   5637.334007      27.0    316.0\n",
       "        3          1   2802.021357      17.0    186.0\n",
       "        4          1   3509.012965      14.0    162.0\n",
       "        5          1   2465.852577      15.0    170.0\n",
       "        6          2   4634.620760      26.0    308.0\n",
       "        7          4  12970.722682      65.0    720.0\n",
       "        8          2   7628.751294      18.0    244.0\n",
       "        9          2   8659.573699      32.0    356.0\n",
       "        10         2   8395.260013      43.0    444.0\n",
       "        12         2   2773.396606      22.0    276.0"
      ]
     },
     "metadata": {},
     "output_type": "display_data"
    }
   ],
   "source": [
    "rev_free['duration'] = np.ceil(rev_free['duration'])\n",
    "rev_free['revenue'] = data_sub.loc[0,'start_ride_price']*rev_free['count'] + data_sub.loc[0,'minute_price']*rev_free['duration'] +  data_sub.loc[0,'subscription_fee']\n",
    "display(rev_free.head(20))"
   ]
  },
  {
   "cell_type": "code",
   "execution_count": 54,
   "id": "21c36827",
   "metadata": {},
   "outputs": [
    {
     "name": "stdout",
     "output_type": "stream",
     "text": [
      "count       0\n",
      "distance    0\n",
      "duration    0\n",
      "dtype: int64\n"
     ]
    }
   ],
   "source": [
    "rev_ultra = data_ultra.pivot_table(index=['user_id', 'month'],values=['distance', 'duration'],aggfunc={'distance': [\"count\",\"sum\"], 'duration': \"sum\"} )\n",
    "rev_ultra.columns = ['count','distance', 'duration']\n",
    "print(rev_ultra.isna().sum()) #проверка пропусков"
   ]
  },
  {
   "cell_type": "code",
   "execution_count": 55,
   "id": "68e1de9c",
   "metadata": {},
   "outputs": [
    {
     "data": {
      "text/html": [
       "<div>\n",
       "<style scoped>\n",
       "    .dataframe tbody tr th:only-of-type {\n",
       "        vertical-align: middle;\n",
       "    }\n",
       "\n",
       "    .dataframe tbody tr th {\n",
       "        vertical-align: top;\n",
       "    }\n",
       "\n",
       "    .dataframe thead th {\n",
       "        text-align: right;\n",
       "    }\n",
       "</style>\n",
       "<table border=\"1\" class=\"dataframe\">\n",
       "  <thead>\n",
       "    <tr style=\"text-align: right;\">\n",
       "      <th></th>\n",
       "      <th></th>\n",
       "      <th>count</th>\n",
       "      <th>distance</th>\n",
       "      <th>duration</th>\n",
       "      <th>revenue</th>\n",
       "    </tr>\n",
       "    <tr>\n",
       "      <th>user_id</th>\n",
       "      <th>month</th>\n",
       "      <th></th>\n",
       "      <th></th>\n",
       "      <th></th>\n",
       "      <th></th>\n",
       "    </tr>\n",
       "  </thead>\n",
       "  <tbody>\n",
       "    <tr>\n",
       "      <th rowspan=\"6\" valign=\"top\">1</th>\n",
       "      <th>1</th>\n",
       "      <td>2</td>\n",
       "      <td>7027.511294</td>\n",
       "      <td>42.0</td>\n",
       "      <td>451.0</td>\n",
       "    </tr>\n",
       "    <tr>\n",
       "      <th>4</th>\n",
       "      <td>1</td>\n",
       "      <td>754.159807</td>\n",
       "      <td>7.0</td>\n",
       "      <td>241.0</td>\n",
       "    </tr>\n",
       "    <tr>\n",
       "      <th>8</th>\n",
       "      <td>2</td>\n",
       "      <td>6723.470560</td>\n",
       "      <td>45.0</td>\n",
       "      <td>469.0</td>\n",
       "    </tr>\n",
       "    <tr>\n",
       "      <th>10</th>\n",
       "      <td>2</td>\n",
       "      <td>5809.911100</td>\n",
       "      <td>32.0</td>\n",
       "      <td>391.0</td>\n",
       "    </tr>\n",
       "    <tr>\n",
       "      <th>11</th>\n",
       "      <td>3</td>\n",
       "      <td>7003.499363</td>\n",
       "      <td>54.0</td>\n",
       "      <td>523.0</td>\n",
       "    </tr>\n",
       "    <tr>\n",
       "      <th>12</th>\n",
       "      <td>2</td>\n",
       "      <td>6751.629942</td>\n",
       "      <td>28.0</td>\n",
       "      <td>367.0</td>\n",
       "    </tr>\n",
       "    <tr>\n",
       "      <th rowspan=\"7\" valign=\"top\">2</th>\n",
       "      <th>3</th>\n",
       "      <td>3</td>\n",
       "      <td>10187.723006</td>\n",
       "      <td>61.0</td>\n",
       "      <td>565.0</td>\n",
       "    </tr>\n",
       "    <tr>\n",
       "      <th>4</th>\n",
       "      <td>2</td>\n",
       "      <td>6164.381824</td>\n",
       "      <td>40.0</td>\n",
       "      <td>439.0</td>\n",
       "    </tr>\n",
       "    <tr>\n",
       "      <th>6</th>\n",
       "      <td>1</td>\n",
       "      <td>3255.338202</td>\n",
       "      <td>14.0</td>\n",
       "      <td>283.0</td>\n",
       "    </tr>\n",
       "    <tr>\n",
       "      <th>7</th>\n",
       "      <td>2</td>\n",
       "      <td>6780.722964</td>\n",
       "      <td>47.0</td>\n",
       "      <td>481.0</td>\n",
       "    </tr>\n",
       "    <tr>\n",
       "      <th>8</th>\n",
       "      <td>1</td>\n",
       "      <td>923.007439</td>\n",
       "      <td>7.0</td>\n",
       "      <td>241.0</td>\n",
       "    </tr>\n",
       "    <tr>\n",
       "      <th>10</th>\n",
       "      <td>1</td>\n",
       "      <td>2824.636598</td>\n",
       "      <td>19.0</td>\n",
       "      <td>313.0</td>\n",
       "    </tr>\n",
       "    <tr>\n",
       "      <th>12</th>\n",
       "      <td>1</td>\n",
       "      <td>3828.248580</td>\n",
       "      <td>12.0</td>\n",
       "      <td>271.0</td>\n",
       "    </tr>\n",
       "    <tr>\n",
       "      <th rowspan=\"7\" valign=\"top\">3</th>\n",
       "      <th>1</th>\n",
       "      <td>1</td>\n",
       "      <td>3061.777147</td>\n",
       "      <td>13.0</td>\n",
       "      <td>277.0</td>\n",
       "    </tr>\n",
       "    <tr>\n",
       "      <th>2</th>\n",
       "      <td>2</td>\n",
       "      <td>5421.152016</td>\n",
       "      <td>38.0</td>\n",
       "      <td>427.0</td>\n",
       "    </tr>\n",
       "    <tr>\n",
       "      <th>4</th>\n",
       "      <td>1</td>\n",
       "      <td>2956.651632</td>\n",
       "      <td>21.0</td>\n",
       "      <td>325.0</td>\n",
       "    </tr>\n",
       "    <tr>\n",
       "      <th>5</th>\n",
       "      <td>3</td>\n",
       "      <td>9064.026918</td>\n",
       "      <td>62.0</td>\n",
       "      <td>571.0</td>\n",
       "    </tr>\n",
       "    <tr>\n",
       "      <th>7</th>\n",
       "      <td>3</td>\n",
       "      <td>10919.595403</td>\n",
       "      <td>66.0</td>\n",
       "      <td>595.0</td>\n",
       "    </tr>\n",
       "    <tr>\n",
       "      <th>9</th>\n",
       "      <td>1</td>\n",
       "      <td>2891.012822</td>\n",
       "      <td>23.0</td>\n",
       "      <td>337.0</td>\n",
       "    </tr>\n",
       "    <tr>\n",
       "      <th>12</th>\n",
       "      <td>1</td>\n",
       "      <td>2593.381928</td>\n",
       "      <td>13.0</td>\n",
       "      <td>277.0</td>\n",
       "    </tr>\n",
       "  </tbody>\n",
       "</table>\n",
       "</div>"
      ],
      "text/plain": [
       "               count      distance  duration  revenue\n",
       "user_id month                                        \n",
       "1       1          2   7027.511294      42.0    451.0\n",
       "        4          1    754.159807       7.0    241.0\n",
       "        8          2   6723.470560      45.0    469.0\n",
       "        10         2   5809.911100      32.0    391.0\n",
       "        11         3   7003.499363      54.0    523.0\n",
       "        12         2   6751.629942      28.0    367.0\n",
       "2       3          3  10187.723006      61.0    565.0\n",
       "        4          2   6164.381824      40.0    439.0\n",
       "        6          1   3255.338202      14.0    283.0\n",
       "        7          2   6780.722964      47.0    481.0\n",
       "        8          1    923.007439       7.0    241.0\n",
       "        10         1   2824.636598      19.0    313.0\n",
       "        12         1   3828.248580      12.0    271.0\n",
       "3       1          1   3061.777147      13.0    277.0\n",
       "        2          2   5421.152016      38.0    427.0\n",
       "        4          1   2956.651632      21.0    325.0\n",
       "        5          3   9064.026918      62.0    571.0\n",
       "        7          3  10919.595403      66.0    595.0\n",
       "        9          1   2891.012822      23.0    337.0\n",
       "        12         1   2593.381928      13.0    277.0"
      ]
     },
     "metadata": {},
     "output_type": "display_data"
    }
   ],
   "source": [
    "rev_ultra['duration'] = np.ceil(rev_ultra['duration'])\n",
    "rev_ultra['revenue'] = data_sub.loc[1,'start_ride_price']*rev_ultra['count'] + data_sub.loc[1,'minute_price']*rev_ultra['duration'] +  data_sub.loc[1,'subscription_fee']\n",
    "display(rev_ultra.head(20))"
   ]
  },
  {
   "cell_type": "code",
   "execution_count": 56,
   "id": "b9f4eda4",
   "metadata": {},
   "outputs": [
    {
     "name": "stdout",
     "output_type": "stream",
     "text": [
      "Выручка за 2021 год составила : 3853677.0 руб.\n"
     ]
    }
   ],
   "source": [
    "print ('Выручка за 2021 год составила :',rev_free['revenue'].sum() + rev_ultra['revenue'].sum(), 'руб.')"
   ]
  },
  {
   "cell_type": "markdown",
   "id": "6869a8ba",
   "metadata": {},
   "source": [
    "#####  Вывод:\n",
    "С помощью метода pivot_table() были созданы сводные таблицы для пользователей с подпиской и без нее. \n",
    "\n",
    "Была посчитана помесячная вырочка с каждого пользователя в зависимости от типа подписки. \n",
    "\n",
    "Общая сумма выручки за 2021 год составила 3 853 677 руб.\n",
    "\n",
    "По полученным данным сложно сделать вывод,кто приносит больше прибыли: пользователи с подпиской или без неё."
   ]
  },
  {
   "cell_type": "markdown",
   "id": "41545ac0",
   "metadata": {},
   "source": [
    "#### Шаг 6. Проверка гипотез"
   ]
  },
  {
   "cell_type": "markdown",
   "id": "1e78d53b",
   "metadata": {},
   "source": [
    "##### Гипотеза 1. Тратят ли пользователи с подпиской больше времени на поездки?\n",
    "Сформулируем гипотезу:\n",
    "- H0: пользователи с подпиской тратят сколько же времени на прокат сколько и пользователи без подписки.\n",
    "- H1: пользователи с подпиской тратят больше времени на поездки, чем пользователи без подписки (если это верно, это выгодно скажется на бизнесе)"
   ]
  },
  {
   "cell_type": "code",
   "execution_count": 57,
   "id": "90b181c8",
   "metadata": {},
   "outputs": [
    {
     "name": "stdout",
     "output_type": "stream",
     "text": [
      " p-value: 1.2804098316645618e-34\n",
      "Отвергаем нулевую гипотезу\n"
     ]
    }
   ],
   "source": [
    "alpha = 0.05\n",
    "\n",
    "results = st.ttest_ind(data_ultra['duration'], data_free['duration'], alternative = 'greater')\n",
    "\n",
    "print(f' p-value: {results.pvalue}')\n",
    "\n",
    "if results.pvalue < alpha :\n",
    "    print ('Отвергаем нулевую гипотезу')\n",
    "else:\n",
    "    print ('Нет оснований отвергнуть нулевую гипотезу')"
   ]
  },
  {
   "cell_type": "markdown",
   "id": "79286f02",
   "metadata": {},
   "source": [
    "###### Вывод:\n",
    "P-value больше alpha и ttest показал, что нулевую гипотезу отвергаем. Следовательно, пользователи с подпиской \"выгоднее\", чем пользователи без нее. Владельцам протака необходимо задуматься об увеличении пользователей с подпиской."
   ]
  },
  {
   "cell_type": "markdown",
   "id": "93ab1a67",
   "metadata": {},
   "source": [
    "##### Гипотеза 2.Не превышают ли пользователи за одну поездку расстояние, равное 3130 метров?\n",
    "Сформулируем гипотезу:\n",
    "- H0:растояние, преодоленное пользователем с подпиской не превышает 3130 метров\n",
    "- H1: растояние, преодоленное пользователем с подпиской превышает 3130 метров"
   ]
  },
  {
   "cell_type": "code",
   "execution_count": 58,
   "id": "90f3c79a",
   "metadata": {},
   "outputs": [
    {
     "name": "stdout",
     "output_type": "stream",
     "text": [
      " p-value: 0.9195368847849785\n",
      "Нет оснований отвергнуть нулевую гипотезу\n"
     ]
    }
   ],
   "source": [
    "alpha = 0.05\n",
    "\n",
    "optimal_value = 3130\n",
    "\n",
    "results = st.ttest_1samp(data_ultra['distance'], optimal_value, alternative = 'greater')\n",
    "                         \n",
    "print(f' p-value: {results.pvalue}')\n",
    "\n",
    "if results.pvalue < alpha :\n",
    "    print ('Отвергаем нулевую гипотезу')\n",
    "else:\n",
    "    print ('Нет оснований отвергнуть нулевую гипотезу')"
   ]
  },
  {
   "cell_type": "markdown",
   "id": "3be29757",
   "metadata": {},
   "source": [
    "###### Вывод:\n",
    "P-value меньше alpha и ttest показал, что нет оснований отвергать нулевую гипотезу. Следовательно, расстояние,которое преодолевают пользователи с подпиской, равно 3130 м, значит у самокатов,которыми пользуются подписчики, меньше износ."
   ]
  },
  {
   "cell_type": "markdown",
   "id": "24cdb66d",
   "metadata": {},
   "source": [
    "##### Гипотеза 3.  Будет ли помесячная выручка от пользователей с подпиской по месяцам выше, чем выручка от пользователей без подписки?\n",
    "Сформулируем гипотезу:\n",
    "- H0:выручка с пользователей с подпиской не превышает выручки с пользователей без подписки\n",
    "- H1: выручка с пользователей с подпиской больше, чем с пользователей без подписки"
   ]
  },
  {
   "cell_type": "code",
   "execution_count": 59,
   "id": "b7246316",
   "metadata": {},
   "outputs": [
    {
     "name": "stdout",
     "output_type": "stream",
     "text": [
      " p-value: 2.8130926188487286e-35\n",
      "Отвергаем нулевую гипотезу\n"
     ]
    }
   ],
   "source": [
    "alpha = 0.05\n",
    "\n",
    "results = st.ttest_ind(rev_ultra['revenue'], rev_free['revenue'], alternative = 'greater')\n",
    "\n",
    "print(f' p-value: {results.pvalue}')\n",
    "\n",
    "if results.pvalue < alpha :\n",
    "    print ('Отвергаем нулевую гипотезу')\n",
    "else:\n",
    "    print ('Нет оснований отвергнуть нулевую гипотезу')"
   ]
  },
  {
   "cell_type": "markdown",
   "id": "b4a732aa",
   "metadata": {},
   "source": [
    "###### Вывод:\n",
    "Проведя одностороннее тестирование гипотезы, p-value больше уровня значимости, что позволяет отвергнуть гипотезу.\n",
    "Следовательно, группа с подписками приносит v выручки компании GoFast и им стоит задуматься о привлечении \"подписчиков\"."
   ]
  },
  {
   "cell_type": "markdown",
   "id": "2e95cc2c",
   "metadata": {},
   "source": [
    "##### Гипотеза 4.  Некоторый файл содержит для каждого пользователя данные о количестве обращений до обновления и после него. Какой тест вам понадобился бы для проверки этой гипотезы?\n",
    "\n",
    "В данном случае рассматривается случай сопоставления новых данных старым, поэтому будем использовать метод scipy.stats.ttest_rel(). Поскольку интересует снижение количества запросов, следовательно альтернативный парагметр должен быть \"less\"."
   ]
  },
  {
   "cell_type": "markdown",
   "id": "61213c5e",
   "metadata": {},
   "source": [
    "#### Шаг 7. Общий выдов\n",
    "В ходе изучения данных о пользователях проката было сделано:\n",
    "1. предобработка данных, в ходе которой, было установлено, что файлы, практически, не нуждаются в корректирке, кроме данных с датами и дубликатами из файла про пользователи. Необходимо было сменить тип данных и добавить новый столбец для месяцев. А в файле про пользователей были удалены дублирующиеся строки (с последующим обнавлением индексов), поскольку они составляли 2% от всех данных.\n",
    "2. В ходе анализа некоторых данных, было выявлено:\n",
    "   - из построенного графика распределения количества ползователей в зависимости от городов следует, что больше всего прокатом пользуются в Пятигорске, минимальное пользование прокатов в Москве. Среднее количевтво пользователей в городах: 191.\n",
    "   -  из полученных данных о распределении пользователей с подпиской и без нее, практически, одинакова. Разница составляет, приблизительно, 8% в пользу пользователей, у которых нет подписки. Также было расмотрено соотношение пользователей в зависимости от города: во всех городах количество пользователей с подпиской меньше чем без неё; количество пользователей с подпиской во всех городах имеют небольшой разброс, в отличие от количества пользователей без потписки.\n",
    "   - зависимость количества пользователей от возвраста представляет нормальное распределение, что говорит о корректности данных. По данному распределению больше всего пользуются прокатом люди в возрасте 25 лет;\n",
    "   - зависимость количества пользователей от возраста с учетом вида подписки не представляет нормальные распределения. Зависимость количества пользователей от возвраста, кто имеет подписку, представляет распределение Стьюдента, а зависимость количества пользователей от возвраста, кто не имеет подписку, имеют много скачков в окрестностях пика, поэтому нельхя сказать, что распределение нормальное. Но данные скачки вносят вклад в распределение без учёта подписки, что сказывается на среднем возрасте пользователей проката;\n",
    "   - зависимость среднего возраста ползователей с подписко и без нее в зависимости от города не показало значительных различий. Средний возвраст колеблится в районе 25 лет.\n",
    "   - исследование среднего расстояния за одну поездку показало два пика: первый пик имеет интервал от 0м до 1500 м, второй - от 1500м до 5000м. Основная часть поездок занимает от 2543м до 3776м. Медиана составляет 3133 м. Без первого пика распределение расстояний,которые преодалевает пользователь за одну поездку стремится к нормальному. Для уточнения пользователи с какой подпикой больше вносят вклад в распределение расстояния за одну поездку была построена гистрограммы для двух виов подписок. Из гистограммы следует, что вклад в первый пик вносят пользователи обоих видов подписок, во второй пик больший вклад вносят люди с отсутствием подписки, хотя у пользователей с подпиской есть сильно выбивающиеся пики.\n",
    "   - исходя из полученных данных о распределении времени поездок наблюдается нормальное распределение но с выбросами. Диапозон основного времени: 13 - 22 минуты. Аномальный выброс наблюдается при значении расстояния равным 0.5 минутам. При построении гистограммы распределения продолжительности поездок с учётом влияния видов подписки было установлено, что в аномальный пик при значениях близких к 0,больше вносят вклад те пользователи, которые имеют подписку.Но на все распредление вносят те данные, пользователи которых не имеют подписку.Также было установлено, что у пользователей без подписки минимальное время составляет 0.5 минуты, минимальное расстояние за одну поездку - 0.8 метров. Это может свидетельствовать о проблемах во внутреннней структуре использования самокатов без подписки и неисправности самих самокатов.\n",
    "3. Для расчёта выручки были созданы дополнительно датафреймы для разных видом подкиски, используя метод merge() метод query(). Для расчёта выручки дополнительно был использован метод pivot_table() для создания сводных таблиц. После этого была посчитана помесячная вырочка с каждого пользователя в зависимости от типа подписки. По полученным данным сложно было сделать вывод,кто приносит больше прибыли: пользователи с подпиской или без неё, поэтому было предложено ряд гпотез для анализа данных:\n",
    "   - Гипотеза 1 заключалась в выяснении тратят ли пользователи с подпиской больше времени на поездки. P-value больше alpha и ttest показал, что нулевую гипотезу отвергаем. Следовательно, пользователи с подпиской \"выгоднее\", чем пользователи без нее. Владельцам протака необходимо задуматься об увеличении пользователей с подпиской.\n",
    "   - Гипотеза 2 превышают ли пользователи с подпиской за одну поездку расстояние, равное 3130 метров.  P-value меньше alpha и ttest показал, что нет оснований отвергать нулевую гипотезу. Следовательно, расстояние,которое преодолевают пользователи с подпиской, меньше 3130 м, значит у самокатов,которыми пользуются подписчики, меньше износ.\n",
    "   - Гипотеза 3.  Будет ли помесячная выручка от пользователей с подпиской по месяцам выше, чем выручка от пользователей без подписки? Проведя одностороннее тестирование гипотезы, p-value больше уровня значимости, что позволяет отвергнуть гипотезу. Следовательно, группа с подписками приносит выручку компании GoFast больше, надо задуматься о привлечении \"подписчиков\".\n",
    "   \n",
    "Рекомендации по улучшению бизнеса: поскольку данные по пользователям с подпиской вносят хороший вклад в выручку и износ самокатов, необходимо увеличить процент подписчиков(понять почему не берут подписку, а предпочитают без нее, возможно это связано с возростной категорией, потому что основная масса от 18 до 22 лет, это категория студентов, необходимо расширить этот критерий) и разобраться с данными о пользователях без подписки, потому что они имеют аномально малые расстояния и время одной поездки."
   ]
  }
 ],
 "metadata": {
  "ExecuteTimeLog": [
   {
    "duration": 418,
    "start_time": "2025-02-03T08:59:10.166Z"
   },
   {
    "duration": 19,
    "start_time": "2025-02-03T09:01:46.743Z"
   },
   {
    "duration": 7,
    "start_time": "2025-02-03T09:02:26.233Z"
   },
   {
    "duration": 18,
    "start_time": "2025-02-03T09:02:37.998Z"
   },
   {
    "duration": 6,
    "start_time": "2025-02-03T09:02:38.728Z"
   },
   {
    "duration": 11,
    "start_time": "2025-02-03T09:03:28.114Z"
   },
   {
    "duration": 40,
    "start_time": "2025-02-03T09:07:22.896Z"
   },
   {
    "duration": 6,
    "start_time": "2025-02-03T09:07:23.813Z"
   },
   {
    "duration": 12,
    "start_time": "2025-02-03T09:07:29.660Z"
   },
   {
    "duration": 15,
    "start_time": "2025-02-03T09:07:32.862Z"
   },
   {
    "duration": 6,
    "start_time": "2025-02-03T09:07:34.076Z"
   },
   {
    "duration": 10,
    "start_time": "2025-02-03T09:07:39.985Z"
   },
   {
    "duration": 7,
    "start_time": "2025-02-03T09:25:56.788Z"
   },
   {
    "duration": 1119,
    "start_time": "2025-02-03T09:28:54.455Z"
   },
   {
    "duration": 3,
    "start_time": "2025-02-03T09:29:40.650Z"
   },
   {
    "duration": 4,
    "start_time": "2025-02-03T09:30:39.621Z"
   },
   {
    "duration": 4,
    "start_time": "2025-02-03T09:31:02.948Z"
   },
   {
    "duration": 4,
    "start_time": "2025-02-03T09:35:11.986Z"
   },
   {
    "duration": 6,
    "start_time": "2025-02-03T09:35:54.295Z"
   },
   {
    "duration": 7,
    "start_time": "2025-02-03T09:39:31.101Z"
   },
   {
    "duration": 8,
    "start_time": "2025-02-03T09:40:39.851Z"
   },
   {
    "duration": 6,
    "start_time": "2025-02-03T09:42:57.568Z"
   },
   {
    "duration": 6,
    "start_time": "2025-02-03T09:43:18.275Z"
   },
   {
    "duration": 11,
    "start_time": "2025-02-03T09:44:05.855Z"
   },
   {
    "duration": 6,
    "start_time": "2025-02-03T09:44:28.051Z"
   },
   {
    "duration": 2,
    "start_time": "2025-02-03T09:49:33.224Z"
   },
   {
    "duration": 414,
    "start_time": "2025-02-03T09:56:40.439Z"
   },
   {
    "duration": 30,
    "start_time": "2025-02-03T09:56:48.321Z"
   },
   {
    "duration": 11,
    "start_time": "2025-02-03T10:00:36.069Z"
   },
   {
    "duration": 12,
    "start_time": "2025-02-03T10:00:51.811Z"
   },
   {
    "duration": 65,
    "start_time": "2025-02-03T10:01:46.743Z"
   },
   {
    "duration": 9,
    "start_time": "2025-02-03T10:01:53.649Z"
   },
   {
    "duration": 10,
    "start_time": "2025-02-03T10:02:17.470Z"
   },
   {
    "duration": 20,
    "start_time": "2025-02-03T10:02:22.757Z"
   },
   {
    "duration": 173,
    "start_time": "2025-02-03T10:02:32.428Z"
   },
   {
    "duration": 158,
    "start_time": "2025-02-03T10:03:56.206Z"
   },
   {
    "duration": 160,
    "start_time": "2025-02-03T10:04:09.362Z"
   },
   {
    "duration": 221,
    "start_time": "2025-02-03T10:09:58.761Z"
   },
   {
    "duration": 174,
    "start_time": "2025-02-03T10:10:06.480Z"
   },
   {
    "duration": 54,
    "start_time": "2025-02-03T10:10:59.113Z"
   },
   {
    "duration": 165,
    "start_time": "2025-02-03T10:11:02.889Z"
   },
   {
    "duration": 52,
    "start_time": "2025-02-03T10:14:08.448Z"
   },
   {
    "duration": 158,
    "start_time": "2025-02-03T10:15:28.881Z"
   },
   {
    "duration": 159,
    "start_time": "2025-02-03T10:17:19.811Z"
   },
   {
    "duration": 156,
    "start_time": "2025-02-03T10:18:53.169Z"
   },
   {
    "duration": 6,
    "start_time": "2025-02-03T13:49:24.780Z"
   },
   {
    "duration": 6,
    "start_time": "2025-02-03T13:49:42.863Z"
   },
   {
    "duration": 9,
    "start_time": "2025-02-03T13:50:33.990Z"
   },
   {
    "duration": 7,
    "start_time": "2025-02-03T13:51:30.821Z"
   },
   {
    "duration": 6,
    "start_time": "2025-02-03T13:52:43.795Z"
   },
   {
    "duration": 4,
    "start_time": "2025-02-03T13:53:26.223Z"
   },
   {
    "duration": 6,
    "start_time": "2025-02-03T13:53:32.642Z"
   },
   {
    "duration": 11,
    "start_time": "2025-02-03T14:26:50.224Z"
   },
   {
    "duration": 9,
    "start_time": "2025-02-03T14:27:09.619Z"
   },
   {
    "duration": 7,
    "start_time": "2025-02-03T14:27:42.032Z"
   },
   {
    "duration": 5,
    "start_time": "2025-02-03T14:28:56.736Z"
   },
   {
    "duration": 4,
    "start_time": "2025-02-03T14:28:58.639Z"
   },
   {
    "duration": 4,
    "start_time": "2025-02-03T14:28:59.150Z"
   },
   {
    "duration": 5,
    "start_time": "2025-02-03T14:29:00.057Z"
   },
   {
    "duration": 3,
    "start_time": "2025-02-03T14:29:00.847Z"
   },
   {
    "duration": 7,
    "start_time": "2025-02-03T14:29:03.348Z"
   },
   {
    "duration": 6,
    "start_time": "2025-02-03T14:29:08.268Z"
   },
   {
    "duration": 15,
    "start_time": "2025-02-03T14:29:09.003Z"
   },
   {
    "duration": 10,
    "start_time": "2025-02-03T14:29:39.098Z"
   },
   {
    "duration": 711,
    "start_time": "2025-02-03T14:31:49.475Z"
   },
   {
    "duration": 29,
    "start_time": "2025-02-03T14:31:50.188Z"
   },
   {
    "duration": 13,
    "start_time": "2025-02-03T14:31:50.219Z"
   },
   {
    "duration": 13,
    "start_time": "2025-02-03T14:31:50.234Z"
   },
   {
    "duration": 33,
    "start_time": "2025-02-03T14:31:50.249Z"
   },
   {
    "duration": 7,
    "start_time": "2025-02-03T14:31:50.283Z"
   },
   {
    "duration": 37,
    "start_time": "2025-02-03T14:31:50.292Z"
   },
   {
    "duration": 23,
    "start_time": "2025-02-03T14:31:50.331Z"
   },
   {
    "duration": 5,
    "start_time": "2025-02-03T14:31:50.356Z"
   },
   {
    "duration": 19,
    "start_time": "2025-02-03T14:31:50.363Z"
   },
   {
    "duration": 9,
    "start_time": "2025-02-03T14:31:50.383Z"
   },
   {
    "duration": 24,
    "start_time": "2025-02-03T14:31:50.394Z"
   },
   {
    "duration": 23,
    "start_time": "2025-02-03T14:31:50.421Z"
   },
   {
    "duration": 8,
    "start_time": "2025-02-03T14:31:50.445Z"
   },
   {
    "duration": 8,
    "start_time": "2025-02-03T14:31:50.454Z"
   },
   {
    "duration": 7,
    "start_time": "2025-02-03T14:31:50.464Z"
   },
   {
    "duration": 5,
    "start_time": "2025-02-03T14:31:50.473Z"
   },
   {
    "duration": 21,
    "start_time": "2025-02-03T14:31:50.479Z"
   },
   {
    "duration": 20,
    "start_time": "2025-02-03T14:31:50.502Z"
   },
   {
    "duration": 8,
    "start_time": "2025-02-03T14:31:50.525Z"
   },
   {
    "duration": 210,
    "start_time": "2025-02-03T14:31:50.535Z"
   },
   {
    "duration": 9,
    "start_time": "2025-02-03T14:35:26.667Z"
   },
   {
    "duration": 5,
    "start_time": "2025-02-03T14:36:36.450Z"
   },
   {
    "duration": 8,
    "start_time": "2025-02-03T14:36:37.528Z"
   },
   {
    "duration": 698,
    "start_time": "2025-02-03T14:36:48.385Z"
   },
   {
    "duration": 19,
    "start_time": "2025-02-03T14:36:49.085Z"
   },
   {
    "duration": 7,
    "start_time": "2025-02-03T14:36:49.105Z"
   },
   {
    "duration": 12,
    "start_time": "2025-02-03T14:36:49.114Z"
   },
   {
    "duration": 30,
    "start_time": "2025-02-03T14:36:49.127Z"
   },
   {
    "duration": 6,
    "start_time": "2025-02-03T14:36:49.159Z"
   },
   {
    "duration": 34,
    "start_time": "2025-02-03T14:36:49.167Z"
   },
   {
    "duration": 22,
    "start_time": "2025-02-03T14:36:49.203Z"
   },
   {
    "duration": 6,
    "start_time": "2025-02-03T14:36:49.226Z"
   },
   {
    "duration": 12,
    "start_time": "2025-02-03T14:36:49.236Z"
   },
   {
    "duration": 6,
    "start_time": "2025-02-03T14:36:49.251Z"
   },
   {
    "duration": 14,
    "start_time": "2025-02-03T14:36:49.259Z"
   },
   {
    "duration": 8,
    "start_time": "2025-02-03T14:36:49.274Z"
   },
   {
    "duration": 5,
    "start_time": "2025-02-03T14:36:49.301Z"
   },
   {
    "duration": 10,
    "start_time": "2025-02-03T14:36:49.308Z"
   },
   {
    "duration": 11,
    "start_time": "2025-02-03T14:36:49.320Z"
   },
   {
    "duration": 6,
    "start_time": "2025-02-03T14:36:49.333Z"
   },
   {
    "duration": 8,
    "start_time": "2025-02-03T14:36:49.341Z"
   },
   {
    "duration": 9,
    "start_time": "2025-02-03T14:36:49.351Z"
   },
   {
    "duration": 39,
    "start_time": "2025-02-03T14:36:49.361Z"
   },
   {
    "duration": 23,
    "start_time": "2025-02-03T14:36:49.402Z"
   },
   {
    "duration": 237,
    "start_time": "2025-02-03T14:36:49.426Z"
   },
   {
    "duration": 10,
    "start_time": "2025-02-03T14:45:43.026Z"
   },
   {
    "duration": 708,
    "start_time": "2025-02-03T14:48:27.286Z"
   },
   {
    "duration": 29,
    "start_time": "2025-02-03T14:48:27.996Z"
   },
   {
    "duration": 7,
    "start_time": "2025-02-03T14:48:28.027Z"
   },
   {
    "duration": 11,
    "start_time": "2025-02-03T14:48:28.036Z"
   },
   {
    "duration": 35,
    "start_time": "2025-02-03T14:48:28.049Z"
   },
   {
    "duration": 6,
    "start_time": "2025-02-03T14:48:28.085Z"
   },
   {
    "duration": 69,
    "start_time": "2025-02-03T14:48:28.093Z"
   },
   {
    "duration": 15,
    "start_time": "2025-02-03T14:48:28.164Z"
   },
   {
    "duration": 7,
    "start_time": "2025-02-03T14:48:28.180Z"
   },
   {
    "duration": 21,
    "start_time": "2025-02-03T14:48:28.190Z"
   },
   {
    "duration": 6,
    "start_time": "2025-02-03T14:48:28.213Z"
   },
   {
    "duration": 4,
    "start_time": "2025-02-03T14:48:28.220Z"
   },
   {
    "duration": 4,
    "start_time": "2025-02-03T14:48:28.225Z"
   },
   {
    "duration": 5,
    "start_time": "2025-02-03T14:48:28.230Z"
   },
   {
    "duration": 5,
    "start_time": "2025-02-03T14:48:28.236Z"
   },
   {
    "duration": 7,
    "start_time": "2025-02-03T14:48:28.242Z"
   },
   {
    "duration": 5,
    "start_time": "2025-02-03T14:48:28.250Z"
   },
   {
    "duration": 47,
    "start_time": "2025-02-03T14:48:28.257Z"
   },
   {
    "duration": 8,
    "start_time": "2025-02-03T14:48:28.306Z"
   },
   {
    "duration": 9,
    "start_time": "2025-02-03T14:48:28.315Z"
   },
   {
    "duration": 7,
    "start_time": "2025-02-03T14:48:28.325Z"
   },
   {
    "duration": 218,
    "start_time": "2025-02-03T14:48:28.334Z"
   },
   {
    "duration": 76,
    "start_time": "2025-02-03T14:54:42.181Z"
   },
   {
    "duration": 10,
    "start_time": "2025-02-03T14:54:54.738Z"
   },
   {
    "duration": 18,
    "start_time": "2025-02-03T14:55:08.229Z"
   },
   {
    "duration": 20,
    "start_time": "2025-02-03T14:56:13.230Z"
   },
   {
    "duration": 133,
    "start_time": "2025-02-03T14:57:00.297Z"
   },
   {
    "duration": 127,
    "start_time": "2025-02-03T14:59:56.621Z"
   },
   {
    "duration": 138,
    "start_time": "2025-02-03T15:01:42.087Z"
   },
   {
    "duration": 215,
    "start_time": "2025-02-03T15:02:45.546Z"
   },
   {
    "duration": 722,
    "start_time": "2025-02-03T15:04:15.178Z"
   },
   {
    "duration": 28,
    "start_time": "2025-02-03T15:04:15.902Z"
   },
   {
    "duration": 7,
    "start_time": "2025-02-03T15:04:15.932Z"
   },
   {
    "duration": 11,
    "start_time": "2025-02-03T15:04:15.941Z"
   },
   {
    "duration": 38,
    "start_time": "2025-02-03T15:04:15.954Z"
   },
   {
    "duration": 6,
    "start_time": "2025-02-03T15:04:15.994Z"
   },
   {
    "duration": 23,
    "start_time": "2025-02-03T15:04:16.001Z"
   },
   {
    "duration": 16,
    "start_time": "2025-02-03T15:04:16.025Z"
   },
   {
    "duration": 4,
    "start_time": "2025-02-03T15:04:16.043Z"
   },
   {
    "duration": 10,
    "start_time": "2025-02-03T15:04:16.050Z"
   },
   {
    "duration": 21,
    "start_time": "2025-02-03T15:04:16.061Z"
   },
   {
    "duration": 22,
    "start_time": "2025-02-03T15:04:16.084Z"
   },
   {
    "duration": 15,
    "start_time": "2025-02-03T15:04:16.108Z"
   },
   {
    "duration": 12,
    "start_time": "2025-02-03T15:04:16.124Z"
   },
   {
    "duration": 12,
    "start_time": "2025-02-03T15:04:16.137Z"
   },
   {
    "duration": 85,
    "start_time": "2025-02-03T15:04:16.150Z"
   },
   {
    "duration": 18,
    "start_time": "2025-02-03T15:04:16.237Z"
   },
   {
    "duration": 7,
    "start_time": "2025-02-03T15:04:16.257Z"
   },
   {
    "duration": 13,
    "start_time": "2025-02-03T15:04:16.265Z"
   },
   {
    "duration": 5,
    "start_time": "2025-02-03T15:04:16.280Z"
   },
   {
    "duration": 17,
    "start_time": "2025-02-03T15:04:16.287Z"
   },
   {
    "duration": 195,
    "start_time": "2025-02-03T15:04:16.305Z"
   },
   {
    "duration": 155,
    "start_time": "2025-02-03T15:04:16.502Z"
   },
   {
    "duration": 150,
    "start_time": "2025-02-03T15:04:37.908Z"
   },
   {
    "duration": 779,
    "start_time": "2025-02-03T20:47:35.598Z"
   },
   {
    "duration": 19,
    "start_time": "2025-02-03T20:47:36.379Z"
   },
   {
    "duration": 7,
    "start_time": "2025-02-03T20:47:36.400Z"
   },
   {
    "duration": 22,
    "start_time": "2025-02-03T20:47:36.409Z"
   },
   {
    "duration": 30,
    "start_time": "2025-02-03T20:47:36.432Z"
   },
   {
    "duration": 6,
    "start_time": "2025-02-03T20:47:36.463Z"
   },
   {
    "duration": 13,
    "start_time": "2025-02-03T20:47:36.471Z"
   },
   {
    "duration": 15,
    "start_time": "2025-02-03T20:47:36.485Z"
   },
   {
    "duration": 5,
    "start_time": "2025-02-03T20:47:36.502Z"
   },
   {
    "duration": 9,
    "start_time": "2025-02-03T20:47:36.510Z"
   },
   {
    "duration": 6,
    "start_time": "2025-02-03T20:47:36.521Z"
   },
   {
    "duration": 34,
    "start_time": "2025-02-03T20:47:36.528Z"
   },
   {
    "duration": 9,
    "start_time": "2025-02-03T20:47:36.564Z"
   },
   {
    "duration": 4,
    "start_time": "2025-02-03T20:47:36.574Z"
   },
   {
    "duration": 4,
    "start_time": "2025-02-03T20:47:36.579Z"
   },
   {
    "duration": 4,
    "start_time": "2025-02-03T20:47:36.585Z"
   },
   {
    "duration": 4,
    "start_time": "2025-02-03T20:47:36.591Z"
   },
   {
    "duration": 5,
    "start_time": "2025-02-03T20:47:36.597Z"
   },
   {
    "duration": 7,
    "start_time": "2025-02-03T20:47:36.604Z"
   },
   {
    "duration": 4,
    "start_time": "2025-02-03T20:47:36.612Z"
   },
   {
    "duration": 8,
    "start_time": "2025-02-03T20:47:36.658Z"
   },
   {
    "duration": 196,
    "start_time": "2025-02-03T20:47:36.668Z"
   },
   {
    "duration": 154,
    "start_time": "2025-02-03T20:47:36.866Z"
   },
   {
    "duration": 3,
    "start_time": "2025-02-03T20:54:38.730Z"
   },
   {
    "duration": 73,
    "start_time": "2025-02-03T20:54:52.184Z"
   },
   {
    "duration": 92,
    "start_time": "2025-02-03T20:55:10.693Z"
   },
   {
    "duration": 8,
    "start_time": "2025-02-03T20:55:19.787Z"
   },
   {
    "duration": 87,
    "start_time": "2025-02-03T21:00:09.161Z"
   },
   {
    "duration": 84,
    "start_time": "2025-02-03T21:00:18.003Z"
   },
   {
    "duration": 45,
    "start_time": "2025-02-03T21:07:51.003Z"
   },
   {
    "duration": 12,
    "start_time": "2025-02-03T21:08:13.384Z"
   },
   {
    "duration": 11,
    "start_time": "2025-02-03T21:10:17.673Z"
   },
   {
    "duration": 11,
    "start_time": "2025-02-03T21:10:58.743Z"
   },
   {
    "duration": 73,
    "start_time": "2025-02-03T21:12:54.926Z"
   },
   {
    "duration": 335,
    "start_time": "2025-02-03T21:13:00.500Z"
   },
   {
    "duration": 325,
    "start_time": "2025-02-03T21:13:56.155Z"
   },
   {
    "duration": 75,
    "start_time": "2025-02-03T21:14:02.052Z"
   },
   {
    "duration": 72,
    "start_time": "2025-02-03T21:16:03.572Z"
   },
   {
    "duration": 3,
    "start_time": "2025-02-03T21:16:11.505Z"
   },
   {
    "duration": 3,
    "start_time": "2025-02-03T21:16:57.013Z"
   },
   {
    "duration": 9,
    "start_time": "2025-02-03T21:18:15.757Z"
   },
   {
    "duration": 5,
    "start_time": "2025-02-03T21:18:57.565Z"
   },
   {
    "duration": 7,
    "start_time": "2025-02-03T21:19:08.466Z"
   },
   {
    "duration": 10,
    "start_time": "2025-02-03T21:20:20.209Z"
   },
   {
    "duration": 89,
    "start_time": "2025-02-03T21:23:22.139Z"
   },
   {
    "duration": 3,
    "start_time": "2025-02-03T21:24:32.776Z"
   },
   {
    "duration": 11,
    "start_time": "2025-02-03T21:27:33.708Z"
   },
   {
    "duration": 7,
    "start_time": "2025-02-03T21:27:41.531Z"
   },
   {
    "duration": 10,
    "start_time": "2025-02-03T21:28:11.013Z"
   },
   {
    "duration": 5,
    "start_time": "2025-02-03T21:28:36.735Z"
   },
   {
    "duration": 10,
    "start_time": "2025-02-03T21:29:19.375Z"
   },
   {
    "duration": 11,
    "start_time": "2025-02-03T21:29:39.496Z"
   },
   {
    "duration": 12,
    "start_time": "2025-02-03T21:29:51.192Z"
   },
   {
    "duration": 11,
    "start_time": "2025-02-03T21:30:08.541Z"
   },
   {
    "duration": 10,
    "start_time": "2025-02-03T21:30:26.450Z"
   },
   {
    "duration": 5,
    "start_time": "2025-02-03T21:31:19.542Z"
   },
   {
    "duration": 7,
    "start_time": "2025-02-03T21:31:25.918Z"
   },
   {
    "duration": 13,
    "start_time": "2025-02-03T21:35:42.289Z"
   },
   {
    "duration": 11,
    "start_time": "2025-02-03T21:35:58.823Z"
   },
   {
    "duration": 167,
    "start_time": "2025-02-03T21:36:42.854Z"
   },
   {
    "duration": 153,
    "start_time": "2025-02-03T21:37:24.730Z"
   },
   {
    "duration": 198,
    "start_time": "2025-02-03T21:40:37.262Z"
   },
   {
    "duration": 147,
    "start_time": "2025-02-03T21:42:39.558Z"
   },
   {
    "duration": 13,
    "start_time": "2025-02-03T21:51:03.156Z"
   },
   {
    "duration": 17,
    "start_time": "2025-02-03T21:52:04.746Z"
   },
   {
    "duration": 12,
    "start_time": "2025-02-03T21:52:09.638Z"
   },
   {
    "duration": 83,
    "start_time": "2025-02-03T21:52:50.530Z"
   },
   {
    "duration": 82,
    "start_time": "2025-02-03T21:53:02.725Z"
   },
   {
    "duration": 13,
    "start_time": "2025-02-03T21:53:09.340Z"
   },
   {
    "duration": 20,
    "start_time": "2025-02-03T21:54:03.007Z"
   },
   {
    "duration": 19,
    "start_time": "2025-02-03T21:54:58.115Z"
   },
   {
    "duration": 25,
    "start_time": "2025-02-03T21:56:48.089Z"
   },
   {
    "duration": 26,
    "start_time": "2025-02-03T21:57:11.400Z"
   },
   {
    "duration": 20,
    "start_time": "2025-02-03T21:57:39.480Z"
   },
   {
    "duration": 18,
    "start_time": "2025-02-03T21:58:00.729Z"
   },
   {
    "duration": 215,
    "start_time": "2025-02-03T22:00:00.551Z"
   },
   {
    "duration": 174,
    "start_time": "2025-02-03T22:01:08.819Z"
   },
   {
    "duration": 114,
    "start_time": "2025-02-03T22:02:07.772Z"
   },
   {
    "duration": 110,
    "start_time": "2025-02-03T22:02:44.249Z"
   },
   {
    "duration": 108,
    "start_time": "2025-02-03T22:03:09.191Z"
   },
   {
    "duration": 171,
    "start_time": "2025-02-03T22:03:16.009Z"
   },
   {
    "duration": 101,
    "start_time": "2025-02-03T22:04:51.806Z"
   },
   {
    "duration": 114,
    "start_time": "2025-02-03T22:05:06.449Z"
   },
   {
    "duration": 111,
    "start_time": "2025-02-03T22:07:14.783Z"
   },
   {
    "duration": 226,
    "start_time": "2025-02-03T22:07:20.241Z"
   },
   {
    "duration": 187,
    "start_time": "2025-02-03T22:09:16.620Z"
   },
   {
    "duration": 175,
    "start_time": "2025-02-03T22:09:37.852Z"
   },
   {
    "duration": 189,
    "start_time": "2025-02-03T22:10:07.312Z"
   },
   {
    "duration": 190,
    "start_time": "2025-02-03T22:11:50.774Z"
   },
   {
    "duration": 157,
    "start_time": "2025-02-03T22:22:00.919Z"
   },
   {
    "duration": 131,
    "start_time": "2025-02-03T22:22:26.243Z"
   },
   {
    "duration": 194,
    "start_time": "2025-02-03T22:22:26.827Z"
   },
   {
    "duration": 16,
    "start_time": "2025-02-03T22:24:11.326Z"
   },
   {
    "duration": 636,
    "start_time": "2025-02-03T22:24:46.452Z"
   },
   {
    "duration": 18,
    "start_time": "2025-02-03T22:24:47.090Z"
   },
   {
    "duration": 7,
    "start_time": "2025-02-03T22:24:47.109Z"
   },
   {
    "duration": 11,
    "start_time": "2025-02-03T22:24:47.117Z"
   },
   {
    "duration": 30,
    "start_time": "2025-02-03T22:24:47.129Z"
   },
   {
    "duration": 6,
    "start_time": "2025-02-03T22:24:47.160Z"
   },
   {
    "duration": 12,
    "start_time": "2025-02-03T22:24:47.167Z"
   },
   {
    "duration": 15,
    "start_time": "2025-02-03T22:24:47.180Z"
   },
   {
    "duration": 5,
    "start_time": "2025-02-03T22:24:47.196Z"
   },
   {
    "duration": 11,
    "start_time": "2025-02-03T22:24:47.202Z"
   },
   {
    "duration": 5,
    "start_time": "2025-02-03T22:24:47.214Z"
   },
   {
    "duration": 4,
    "start_time": "2025-02-03T22:24:47.220Z"
   },
   {
    "duration": 33,
    "start_time": "2025-02-03T22:24:47.225Z"
   },
   {
    "duration": 4,
    "start_time": "2025-02-03T22:24:47.261Z"
   },
   {
    "duration": 4,
    "start_time": "2025-02-03T22:24:47.267Z"
   },
   {
    "duration": 5,
    "start_time": "2025-02-03T22:24:47.273Z"
   },
   {
    "duration": 5,
    "start_time": "2025-02-03T22:24:47.279Z"
   },
   {
    "duration": 5,
    "start_time": "2025-02-03T22:24:47.285Z"
   },
   {
    "duration": 7,
    "start_time": "2025-02-03T22:24:47.291Z"
   },
   {
    "duration": 6,
    "start_time": "2025-02-03T22:24:47.299Z"
   },
   {
    "duration": 11,
    "start_time": "2025-02-03T22:24:47.307Z"
   },
   {
    "duration": 193,
    "start_time": "2025-02-03T22:24:47.357Z"
   },
   {
    "duration": 141,
    "start_time": "2025-02-03T22:24:47.552Z"
   },
   {
    "duration": 198,
    "start_time": "2025-02-03T22:24:47.694Z"
   },
   {
    "duration": 86,
    "start_time": "2025-02-03T22:24:47.893Z"
   },
   {
    "duration": 15,
    "start_time": "2025-02-03T22:25:18.661Z"
   },
   {
    "duration": 855,
    "start_time": "2025-02-03T22:25:39.779Z"
   },
   {
    "duration": 260,
    "start_time": "2025-02-03T22:26:10.021Z"
   },
   {
    "duration": 268,
    "start_time": "2025-02-03T22:26:28.519Z"
   },
   {
    "duration": 290,
    "start_time": "2025-02-03T22:27:25.019Z"
   },
   {
    "duration": 264,
    "start_time": "2025-02-03T22:27:48.076Z"
   },
   {
    "duration": 274,
    "start_time": "2025-02-03T22:27:57.523Z"
   },
   {
    "duration": 17,
    "start_time": "2025-02-03T22:29:44.985Z"
   },
   {
    "duration": 393,
    "start_time": "2025-02-03T22:30:11.033Z"
   },
   {
    "duration": 122,
    "start_time": "2025-02-03T22:30:28.322Z"
   },
   {
    "duration": 328,
    "start_time": "2025-02-03T22:31:20.742Z"
   },
   {
    "duration": 349,
    "start_time": "2025-02-03T22:31:44.999Z"
   },
   {
    "duration": 312,
    "start_time": "2025-02-03T22:32:04.090Z"
   },
   {
    "duration": 276,
    "start_time": "2025-02-03T22:32:24.917Z"
   },
   {
    "duration": 212,
    "start_time": "2025-02-03T22:32:41.392Z"
   },
   {
    "duration": 188,
    "start_time": "2025-02-03T22:32:56.739Z"
   },
   {
    "duration": 196,
    "start_time": "2025-02-03T22:33:02.118Z"
   },
   {
    "duration": 154,
    "start_time": "2025-02-03T22:33:19.667Z"
   },
   {
    "duration": 317,
    "start_time": "2025-02-03T22:34:31.762Z"
   },
   {
    "duration": 100,
    "start_time": "2025-02-03T22:37:55.449Z"
   },
   {
    "duration": 79,
    "start_time": "2025-02-03T22:38:25.701Z"
   },
   {
    "duration": 191,
    "start_time": "2025-02-03T22:38:40.087Z"
   },
   {
    "duration": 191,
    "start_time": "2025-02-03T22:39:15.814Z"
   },
   {
    "duration": 205,
    "start_time": "2025-02-03T22:40:22.647Z"
   },
   {
    "duration": 199,
    "start_time": "2025-02-03T22:41:18.615Z"
   },
   {
    "duration": 8,
    "start_time": "2025-02-03T23:00:45.695Z"
   },
   {
    "duration": 4,
    "start_time": "2025-02-03T23:01:07.962Z"
   },
   {
    "duration": 133,
    "start_time": "2025-02-03T23:05:24.152Z"
   },
   {
    "duration": 192,
    "start_time": "2025-02-03T23:05:39.220Z"
   },
   {
    "duration": 123,
    "start_time": "2025-02-03T23:05:52.974Z"
   },
   {
    "duration": 123,
    "start_time": "2025-02-03T23:06:26.159Z"
   },
   {
    "duration": 130,
    "start_time": "2025-02-03T23:06:43.867Z"
   },
   {
    "duration": 133,
    "start_time": "2025-02-03T23:07:16.952Z"
   },
   {
    "duration": 135,
    "start_time": "2025-02-03T23:07:40.406Z"
   },
   {
    "duration": 140,
    "start_time": "2025-02-03T23:07:43.611Z"
   },
   {
    "duration": 138,
    "start_time": "2025-02-03T23:08:03.647Z"
   },
   {
    "duration": 86,
    "start_time": "2025-02-03T23:08:23.950Z"
   },
   {
    "duration": 105,
    "start_time": "2025-02-03T23:08:28.036Z"
   },
   {
    "duration": 132,
    "start_time": "2025-02-03T23:08:31.883Z"
   },
   {
    "duration": 137,
    "start_time": "2025-02-03T23:08:36.898Z"
   },
   {
    "duration": 142,
    "start_time": "2025-02-03T23:09:01.718Z"
   },
   {
    "duration": 216,
    "start_time": "2025-02-03T23:09:26.137Z"
   },
   {
    "duration": 18043,
    "start_time": "2025-02-03T23:11:06.043Z"
   },
   {
    "duration": 406,
    "start_time": "2025-02-03T23:11:59.888Z"
   },
   {
    "duration": 138,
    "start_time": "2025-02-03T23:12:43.318Z"
   },
   {
    "duration": 863,
    "start_time": "2025-02-04T08:10:42.663Z"
   },
   {
    "duration": 31,
    "start_time": "2025-02-04T08:10:43.529Z"
   },
   {
    "duration": 8,
    "start_time": "2025-02-04T08:10:43.562Z"
   },
   {
    "duration": 46,
    "start_time": "2025-02-04T08:10:43.572Z"
   },
   {
    "duration": 31,
    "start_time": "2025-02-04T08:10:43.620Z"
   },
   {
    "duration": 6,
    "start_time": "2025-02-04T08:10:43.653Z"
   },
   {
    "duration": 12,
    "start_time": "2025-02-04T08:10:43.661Z"
   },
   {
    "duration": 16,
    "start_time": "2025-02-04T08:10:43.675Z"
   },
   {
    "duration": 5,
    "start_time": "2025-02-04T08:10:43.692Z"
   },
   {
    "duration": 13,
    "start_time": "2025-02-04T08:10:43.700Z"
   },
   {
    "duration": 15,
    "start_time": "2025-02-04T08:10:43.714Z"
   },
   {
    "duration": 10,
    "start_time": "2025-02-04T08:10:43.730Z"
   },
   {
    "duration": 11,
    "start_time": "2025-02-04T08:10:43.741Z"
   },
   {
    "duration": 11,
    "start_time": "2025-02-04T08:10:43.753Z"
   },
   {
    "duration": 9,
    "start_time": "2025-02-04T08:10:43.766Z"
   },
   {
    "duration": 16,
    "start_time": "2025-02-04T08:10:43.777Z"
   },
   {
    "duration": 14,
    "start_time": "2025-02-04T08:10:43.794Z"
   },
   {
    "duration": 34,
    "start_time": "2025-02-04T08:10:43.810Z"
   },
   {
    "duration": 73,
    "start_time": "2025-02-04T08:10:43.846Z"
   },
   {
    "duration": 5,
    "start_time": "2025-02-04T08:10:43.921Z"
   },
   {
    "duration": 11,
    "start_time": "2025-02-04T08:10:43.927Z"
   },
   {
    "duration": 186,
    "start_time": "2025-02-04T08:10:43.939Z"
   },
   {
    "duration": 156,
    "start_time": "2025-02-04T08:10:44.127Z"
   },
   {
    "duration": 221,
    "start_time": "2025-02-04T08:10:44.285Z"
   },
   {
    "duration": 293,
    "start_time": "2025-02-04T08:10:44.507Z"
   },
   {
    "duration": 410,
    "start_time": "2025-02-04T08:10:44.802Z"
   },
   {
    "duration": 227,
    "start_time": "2025-02-04T08:10:45.214Z"
   },
   {
    "duration": 157,
    "start_time": "2025-02-04T08:10:45.443Z"
   },
   {
    "duration": 133,
    "start_time": "2025-02-04T08:11:20.388Z"
   },
   {
    "duration": 135,
    "start_time": "2025-02-04T08:11:53.413Z"
   },
   {
    "duration": 130,
    "start_time": "2025-02-04T08:12:00.934Z"
   },
   {
    "duration": 186,
    "start_time": "2025-02-04T08:12:15.985Z"
   },
   {
    "duration": 245,
    "start_time": "2025-02-04T08:12:25.587Z"
   },
   {
    "duration": 1099,
    "start_time": "2025-02-04T08:12:33.447Z"
   },
   {
    "duration": 203,
    "start_time": "2025-02-04T08:12:42.115Z"
   },
   {
    "duration": 302,
    "start_time": "2025-02-04T08:13:14.266Z"
   },
   {
    "duration": 227,
    "start_time": "2025-02-04T08:13:28.829Z"
   },
   {
    "duration": 197,
    "start_time": "2025-02-04T08:13:43.403Z"
   },
   {
    "duration": 207,
    "start_time": "2025-02-04T08:13:51.030Z"
   },
   {
    "duration": 76,
    "start_time": "2025-02-04T08:15:19.807Z"
   },
   {
    "duration": 17,
    "start_time": "2025-02-04T08:15:29.609Z"
   },
   {
    "duration": 26,
    "start_time": "2025-02-04T08:15:41.120Z"
   },
   {
    "duration": 165,
    "start_time": "2025-02-04T08:19:44.772Z"
   },
   {
    "duration": 237,
    "start_time": "2025-02-04T08:20:10.781Z"
   },
   {
    "duration": 171,
    "start_time": "2025-02-04T08:23:21.124Z"
   },
   {
    "duration": 293,
    "start_time": "2025-02-04T08:23:33.875Z"
   },
   {
    "duration": 192,
    "start_time": "2025-02-04T08:23:46.622Z"
   },
   {
    "duration": 193,
    "start_time": "2025-02-04T08:24:16.202Z"
   },
   {
    "duration": 185,
    "start_time": "2025-02-04T08:24:29.454Z"
   },
   {
    "duration": 175,
    "start_time": "2025-02-04T08:24:46.994Z"
   },
   {
    "duration": 374,
    "start_time": "2025-02-04T08:25:13.623Z"
   },
   {
    "duration": 247,
    "start_time": "2025-02-04T08:26:43.385Z"
   },
   {
    "duration": 394,
    "start_time": "2025-02-04T08:27:11.602Z"
   },
   {
    "duration": 313,
    "start_time": "2025-02-04T08:27:21.775Z"
   },
   {
    "duration": 322,
    "start_time": "2025-02-04T08:27:38.433Z"
   },
   {
    "duration": 402,
    "start_time": "2025-02-04T08:28:06.064Z"
   },
   {
    "duration": 428,
    "start_time": "2025-02-04T08:29:38.707Z"
   },
   {
    "duration": 333,
    "start_time": "2025-02-04T08:29:44.943Z"
   },
   {
    "duration": 370,
    "start_time": "2025-02-04T08:29:49.172Z"
   },
   {
    "duration": 421,
    "start_time": "2025-02-04T08:30:06.397Z"
   },
   {
    "duration": 350,
    "start_time": "2025-02-04T08:33:37.819Z"
   },
   {
    "duration": 204,
    "start_time": "2025-02-04T08:33:45.986Z"
   },
   {
    "duration": 225,
    "start_time": "2025-02-04T08:33:56.780Z"
   },
   {
    "duration": 221,
    "start_time": "2025-02-04T08:34:17.587Z"
   },
   {
    "duration": 224,
    "start_time": "2025-02-04T08:34:26.988Z"
   },
   {
    "duration": 226,
    "start_time": "2025-02-04T08:45:53.549Z"
   },
   {
    "duration": 344,
    "start_time": "2025-02-04T08:46:26.281Z"
   },
   {
    "duration": 226,
    "start_time": "2025-02-04T08:46:48.241Z"
   },
   {
    "duration": 237,
    "start_time": "2025-02-04T08:47:36.780Z"
   },
   {
    "duration": 209,
    "start_time": "2025-02-04T08:47:59.940Z"
   },
   {
    "duration": 221,
    "start_time": "2025-02-04T08:48:11.333Z"
   },
   {
    "duration": 290,
    "start_time": "2025-02-04T08:48:26.286Z"
   },
   {
    "duration": 226,
    "start_time": "2025-02-04T08:49:14.372Z"
   },
   {
    "duration": 221,
    "start_time": "2025-02-04T08:49:24.111Z"
   },
   {
    "duration": 227,
    "start_time": "2025-02-04T08:50:08.760Z"
   },
   {
    "duration": 634,
    "start_time": "2025-02-04T08:55:17.021Z"
   },
   {
    "duration": 20,
    "start_time": "2025-02-04T08:55:17.657Z"
   },
   {
    "duration": 10,
    "start_time": "2025-02-04T08:55:17.680Z"
   },
   {
    "duration": 21,
    "start_time": "2025-02-04T08:55:17.693Z"
   },
   {
    "duration": 31,
    "start_time": "2025-02-04T08:55:17.715Z"
   },
   {
    "duration": 6,
    "start_time": "2025-02-04T08:55:17.748Z"
   },
   {
    "duration": 22,
    "start_time": "2025-02-04T08:55:17.755Z"
   },
   {
    "duration": 17,
    "start_time": "2025-02-04T08:55:17.780Z"
   },
   {
    "duration": 5,
    "start_time": "2025-02-04T08:55:17.798Z"
   },
   {
    "duration": 10,
    "start_time": "2025-02-04T08:55:17.806Z"
   },
   {
    "duration": 4,
    "start_time": "2025-02-04T08:55:17.818Z"
   },
   {
    "duration": 4,
    "start_time": "2025-02-04T08:55:17.823Z"
   },
   {
    "duration": 3,
    "start_time": "2025-02-04T08:55:17.829Z"
   },
   {
    "duration": 4,
    "start_time": "2025-02-04T08:55:17.834Z"
   },
   {
    "duration": 37,
    "start_time": "2025-02-04T08:55:17.840Z"
   },
   {
    "duration": 11,
    "start_time": "2025-02-04T08:55:17.884Z"
   },
   {
    "duration": 5,
    "start_time": "2025-02-04T08:55:17.896Z"
   },
   {
    "duration": 9,
    "start_time": "2025-02-04T08:55:17.903Z"
   },
   {
    "duration": 19,
    "start_time": "2025-02-04T08:55:17.914Z"
   },
   {
    "duration": 24,
    "start_time": "2025-02-04T08:55:17.935Z"
   },
   {
    "duration": 23,
    "start_time": "2025-02-04T08:55:17.961Z"
   },
   {
    "duration": 224,
    "start_time": "2025-02-04T08:55:17.986Z"
   },
   {
    "duration": 169,
    "start_time": "2025-02-04T08:55:18.212Z"
   },
   {
    "duration": 244,
    "start_time": "2025-02-04T08:55:18.383Z"
   },
   {
    "duration": 314,
    "start_time": "2025-02-04T08:55:18.628Z"
   },
   {
    "duration": 445,
    "start_time": "2025-02-04T08:55:18.943Z"
   },
   {
    "duration": 240,
    "start_time": "2025-02-04T08:55:19.390Z"
   },
   {
    "duration": 251,
    "start_time": "2025-02-04T08:55:19.633Z"
   },
   {
    "duration": 416,
    "start_time": "2025-02-04T08:55:19.886Z"
   },
   {
    "duration": 224,
    "start_time": "2025-02-04T08:57:22.110Z"
   },
   {
    "duration": 514,
    "start_time": "2025-02-04T08:57:22.874Z"
   },
   {
    "duration": 238,
    "start_time": "2025-02-04T09:03:41.431Z"
   },
   {
    "duration": 369,
    "start_time": "2025-02-04T09:04:44.213Z"
   },
   {
    "duration": 392,
    "start_time": "2025-02-04T09:06:12.034Z"
   },
   {
    "duration": 609,
    "start_time": "2025-02-04T09:07:55.255Z"
   },
   {
    "duration": 309,
    "start_time": "2025-02-04T09:08:13.315Z"
   },
   {
    "duration": 2021,
    "start_time": "2025-02-04T09:08:21.666Z"
   },
   {
    "duration": 361,
    "start_time": "2025-02-04T09:08:33.446Z"
   },
   {
    "duration": 202,
    "start_time": "2025-02-04T09:08:48.426Z"
   },
   {
    "duration": 411,
    "start_time": "2025-02-04T09:10:25.313Z"
   },
   {
    "duration": 369,
    "start_time": "2025-02-04T09:10:46.491Z"
   },
   {
    "duration": 200,
    "start_time": "2025-02-04T09:15:44.611Z"
   },
   {
    "duration": 279,
    "start_time": "2025-02-04T09:15:46.397Z"
   },
   {
    "duration": 163,
    "start_time": "2025-02-04T09:24:19.203Z"
   },
   {
    "duration": 169,
    "start_time": "2025-02-04T09:24:26.242Z"
   },
   {
    "duration": 165,
    "start_time": "2025-02-04T09:24:35.302Z"
   },
   {
    "duration": 183,
    "start_time": "2025-02-04T09:24:50.949Z"
   },
   {
    "duration": 377,
    "start_time": "2025-02-04T09:25:50.198Z"
   },
   {
    "duration": 291,
    "start_time": "2025-02-04T09:26:05.170Z"
   },
   {
    "duration": 295,
    "start_time": "2025-02-04T09:26:17.255Z"
   },
   {
    "duration": 313,
    "start_time": "2025-02-04T10:48:07.485Z"
   },
   {
    "duration": 369,
    "start_time": "2025-02-04T10:48:14.233Z"
   },
   {
    "duration": 709,
    "start_time": "2025-02-04T10:54:08.753Z"
   },
   {
    "duration": 22,
    "start_time": "2025-02-04T10:54:09.464Z"
   },
   {
    "duration": 12,
    "start_time": "2025-02-04T10:54:09.488Z"
   },
   {
    "duration": 19,
    "start_time": "2025-02-04T10:54:09.502Z"
   },
   {
    "duration": 44,
    "start_time": "2025-02-04T10:54:09.523Z"
   },
   {
    "duration": 11,
    "start_time": "2025-02-04T10:54:09.568Z"
   },
   {
    "duration": 18,
    "start_time": "2025-02-04T10:54:09.581Z"
   },
   {
    "duration": 22,
    "start_time": "2025-02-04T10:54:09.601Z"
   },
   {
    "duration": 11,
    "start_time": "2025-02-04T10:54:09.624Z"
   },
   {
    "duration": 24,
    "start_time": "2025-02-04T10:54:09.637Z"
   },
   {
    "duration": 23,
    "start_time": "2025-02-04T10:54:09.662Z"
   },
   {
    "duration": 16,
    "start_time": "2025-02-04T10:54:09.687Z"
   },
   {
    "duration": 13,
    "start_time": "2025-02-04T10:54:09.705Z"
   },
   {
    "duration": 12,
    "start_time": "2025-02-04T10:54:09.719Z"
   },
   {
    "duration": 17,
    "start_time": "2025-02-04T10:54:09.733Z"
   },
   {
    "duration": 9,
    "start_time": "2025-02-04T10:54:09.752Z"
   },
   {
    "duration": 6,
    "start_time": "2025-02-04T10:54:09.763Z"
   },
   {
    "duration": 7,
    "start_time": "2025-02-04T10:54:09.770Z"
   },
   {
    "duration": 12,
    "start_time": "2025-02-04T10:54:09.779Z"
   },
   {
    "duration": 5,
    "start_time": "2025-02-04T10:54:09.793Z"
   },
   {
    "duration": 8,
    "start_time": "2025-02-04T10:54:09.800Z"
   },
   {
    "duration": 232,
    "start_time": "2025-02-04T10:54:09.809Z"
   },
   {
    "duration": 181,
    "start_time": "2025-02-04T10:54:10.043Z"
   },
   {
    "duration": 260,
    "start_time": "2025-02-04T10:54:10.226Z"
   },
   {
    "duration": 306,
    "start_time": "2025-02-04T10:54:10.489Z"
   },
   {
    "duration": 418,
    "start_time": "2025-02-04T10:54:10.797Z"
   },
   {
    "duration": 290,
    "start_time": "2025-02-04T10:54:11.217Z"
   },
   {
    "duration": 241,
    "start_time": "2025-02-04T10:54:11.512Z"
   },
   {
    "duration": 416,
    "start_time": "2025-02-04T10:54:11.755Z"
   },
   {
    "duration": 245,
    "start_time": "2025-02-04T10:54:12.176Z"
   },
   {
    "duration": 345,
    "start_time": "2025-02-04T10:54:12.423Z"
   },
   {
    "duration": 86,
    "start_time": "2025-02-04T10:55:04.130Z"
   },
   {
    "duration": 16,
    "start_time": "2025-02-04T10:55:10.847Z"
   },
   {
    "duration": 746,
    "start_time": "2025-02-04T10:56:29.156Z"
   },
   {
    "duration": 19,
    "start_time": "2025-02-04T10:56:29.904Z"
   },
   {
    "duration": 149,
    "start_time": "2025-02-04T10:56:29.924Z"
   },
   {
    "duration": 26,
    "start_time": "2025-02-04T10:56:30.079Z"
   },
   {
    "duration": 68,
    "start_time": "2025-02-04T10:56:30.106Z"
   },
   {
    "duration": 7,
    "start_time": "2025-02-04T10:56:30.176Z"
   },
   {
    "duration": 43,
    "start_time": "2025-02-04T10:56:30.185Z"
   },
   {
    "duration": 91,
    "start_time": "2025-02-04T10:56:30.230Z"
   },
   {
    "duration": 28,
    "start_time": "2025-02-04T10:56:30.322Z"
   },
   {
    "duration": 33,
    "start_time": "2025-02-04T10:56:30.353Z"
   },
   {
    "duration": 90,
    "start_time": "2025-02-04T10:56:30.389Z"
   },
   {
    "duration": 19,
    "start_time": "2025-02-04T10:56:30.482Z"
   },
   {
    "duration": 36,
    "start_time": "2025-02-04T10:56:30.503Z"
   },
   {
    "duration": 41,
    "start_time": "2025-02-04T10:56:30.540Z"
   },
   {
    "duration": 17,
    "start_time": "2025-02-04T10:56:30.583Z"
   },
   {
    "duration": 6,
    "start_time": "2025-02-04T10:56:30.603Z"
   },
   {
    "duration": 5,
    "start_time": "2025-02-04T10:56:30.612Z"
   },
   {
    "duration": 21,
    "start_time": "2025-02-04T10:56:30.618Z"
   },
   {
    "duration": 14,
    "start_time": "2025-02-04T10:56:30.640Z"
   },
   {
    "duration": 15,
    "start_time": "2025-02-04T10:56:30.656Z"
   },
   {
    "duration": 32,
    "start_time": "2025-02-04T10:56:30.673Z"
   },
   {
    "duration": 207,
    "start_time": "2025-02-04T10:56:30.707Z"
   },
   {
    "duration": 190,
    "start_time": "2025-02-04T10:56:30.916Z"
   },
   {
    "duration": 274,
    "start_time": "2025-02-04T10:56:31.108Z"
   },
   {
    "duration": 311,
    "start_time": "2025-02-04T10:56:31.384Z"
   },
   {
    "duration": 481,
    "start_time": "2025-02-04T10:56:31.697Z"
   },
   {
    "duration": 252,
    "start_time": "2025-02-04T10:56:32.181Z"
   },
   {
    "duration": 271,
    "start_time": "2025-02-04T10:56:32.436Z"
   },
   {
    "duration": 423,
    "start_time": "2025-02-04T10:56:32.709Z"
   },
   {
    "duration": 241,
    "start_time": "2025-02-04T10:56:33.134Z"
   },
   {
    "duration": 352,
    "start_time": "2025-02-04T10:56:33.377Z"
   },
   {
    "duration": 17,
    "start_time": "2025-02-04T10:56:33.731Z"
   },
   {
    "duration": 20,
    "start_time": "2025-02-04T10:56:59.057Z"
   },
   {
    "duration": 832,
    "start_time": "2025-02-04T10:58:27.775Z"
   },
   {
    "duration": 21,
    "start_time": "2025-02-04T10:58:28.609Z"
   },
   {
    "duration": 7,
    "start_time": "2025-02-04T10:58:28.634Z"
   },
   {
    "duration": 12,
    "start_time": "2025-02-04T10:58:28.642Z"
   },
   {
    "duration": 42,
    "start_time": "2025-02-04T10:58:28.655Z"
   },
   {
    "duration": 7,
    "start_time": "2025-02-04T10:58:28.699Z"
   },
   {
    "duration": 16,
    "start_time": "2025-02-04T10:58:28.707Z"
   },
   {
    "duration": 26,
    "start_time": "2025-02-04T10:58:28.725Z"
   },
   {
    "duration": 57,
    "start_time": "2025-02-04T10:58:28.754Z"
   },
   {
    "duration": 11,
    "start_time": "2025-02-04T10:58:28.813Z"
   },
   {
    "duration": 5,
    "start_time": "2025-02-04T10:58:28.826Z"
   },
   {
    "duration": 4,
    "start_time": "2025-02-04T10:58:28.833Z"
   },
   {
    "duration": 4,
    "start_time": "2025-02-04T10:58:28.838Z"
   },
   {
    "duration": 4,
    "start_time": "2025-02-04T10:58:28.844Z"
   },
   {
    "duration": 5,
    "start_time": "2025-02-04T10:58:28.850Z"
   },
   {
    "duration": 10,
    "start_time": "2025-02-04T10:58:28.856Z"
   },
   {
    "duration": 16,
    "start_time": "2025-02-04T10:58:28.867Z"
   },
   {
    "duration": 11,
    "start_time": "2025-02-04T10:58:28.885Z"
   },
   {
    "duration": 8,
    "start_time": "2025-02-04T10:58:28.898Z"
   },
   {
    "duration": 6,
    "start_time": "2025-02-04T10:58:28.908Z"
   },
   {
    "duration": 11,
    "start_time": "2025-02-04T10:58:28.916Z"
   },
   {
    "duration": 282,
    "start_time": "2025-02-04T10:58:28.928Z"
   },
   {
    "duration": 165,
    "start_time": "2025-02-04T10:58:29.211Z"
   },
   {
    "duration": 249,
    "start_time": "2025-02-04T10:58:29.378Z"
   },
   {
    "duration": 322,
    "start_time": "2025-02-04T10:58:29.629Z"
   },
   {
    "duration": 468,
    "start_time": "2025-02-04T10:58:29.953Z"
   },
   {
    "duration": 227,
    "start_time": "2025-02-04T10:58:30.426Z"
   },
   {
    "duration": 243,
    "start_time": "2025-02-04T10:58:30.656Z"
   },
   {
    "duration": 419,
    "start_time": "2025-02-04T10:58:30.901Z"
   },
   {
    "duration": 246,
    "start_time": "2025-02-04T10:58:31.323Z"
   },
   {
    "duration": 332,
    "start_time": "2025-02-04T10:58:31.571Z"
   },
   {
    "duration": 19,
    "start_time": "2025-02-04T10:58:31.905Z"
   },
   {
    "duration": 11,
    "start_time": "2025-02-04T11:01:50.423Z"
   },
   {
    "duration": 12,
    "start_time": "2025-02-04T11:02:15.052Z"
   },
   {
    "duration": 9,
    "start_time": "2025-02-04T11:03:25.504Z"
   },
   {
    "duration": 731,
    "start_time": "2025-02-04T11:06:49.264Z"
   },
   {
    "duration": 19,
    "start_time": "2025-02-04T11:06:49.997Z"
   },
   {
    "duration": 99,
    "start_time": "2025-02-04T11:06:50.018Z"
   },
   {
    "duration": 11,
    "start_time": "2025-02-04T11:06:50.120Z"
   },
   {
    "duration": 56,
    "start_time": "2025-02-04T11:06:50.133Z"
   },
   {
    "duration": 8,
    "start_time": "2025-02-04T11:06:50.191Z"
   },
   {
    "duration": 12,
    "start_time": "2025-02-04T11:06:50.201Z"
   },
   {
    "duration": 17,
    "start_time": "2025-02-04T11:06:50.215Z"
   },
   {
    "duration": 7,
    "start_time": "2025-02-04T11:06:50.234Z"
   },
   {
    "duration": 52,
    "start_time": "2025-02-04T11:06:50.245Z"
   },
   {
    "duration": 44,
    "start_time": "2025-02-04T11:06:50.300Z"
   },
   {
    "duration": 35,
    "start_time": "2025-02-04T11:06:50.346Z"
   },
   {
    "duration": 17,
    "start_time": "2025-02-04T11:06:50.383Z"
   },
   {
    "duration": 10,
    "start_time": "2025-02-04T11:06:50.402Z"
   },
   {
    "duration": 87,
    "start_time": "2025-02-04T11:06:50.414Z"
   },
   {
    "duration": 26,
    "start_time": "2025-02-04T11:06:50.503Z"
   },
   {
    "duration": 10,
    "start_time": "2025-02-04T11:06:50.531Z"
   },
   {
    "duration": 22,
    "start_time": "2025-02-04T11:06:50.542Z"
   },
   {
    "duration": 26,
    "start_time": "2025-02-04T11:06:50.566Z"
   },
   {
    "duration": 5,
    "start_time": "2025-02-04T11:06:50.594Z"
   },
   {
    "duration": 15,
    "start_time": "2025-02-04T11:06:50.601Z"
   },
   {
    "duration": 207,
    "start_time": "2025-02-04T11:06:50.617Z"
   },
   {
    "duration": 175,
    "start_time": "2025-02-04T11:06:50.826Z"
   },
   {
    "duration": 232,
    "start_time": "2025-02-04T11:06:51.003Z"
   },
   {
    "duration": 346,
    "start_time": "2025-02-04T11:06:51.237Z"
   },
   {
    "duration": 450,
    "start_time": "2025-02-04T11:06:51.586Z"
   },
   {
    "duration": 274,
    "start_time": "2025-02-04T11:06:52.038Z"
   },
   {
    "duration": 255,
    "start_time": "2025-02-04T11:06:52.316Z"
   },
   {
    "duration": 429,
    "start_time": "2025-02-04T11:06:52.574Z"
   },
   {
    "duration": 260,
    "start_time": "2025-02-04T11:06:53.004Z"
   },
   {
    "duration": 353,
    "start_time": "2025-02-04T11:06:53.266Z"
   },
   {
    "duration": 19,
    "start_time": "2025-02-04T11:06:53.621Z"
   },
   {
    "duration": 7,
    "start_time": "2025-02-04T11:06:53.642Z"
   },
   {
    "duration": 28,
    "start_time": "2025-02-04T11:06:53.651Z"
   },
   {
    "duration": 82,
    "start_time": "2025-02-04T11:33:15.556Z"
   },
   {
    "duration": 56,
    "start_time": "2025-02-04T11:34:12.716Z"
   },
   {
    "duration": 23,
    "start_time": "2025-02-04T11:34:53.642Z"
   },
   {
    "duration": 23,
    "start_time": "2025-02-04T11:34:59.831Z"
   },
   {
    "duration": 86,
    "start_time": "2025-02-04T11:35:23.361Z"
   },
   {
    "duration": 134,
    "start_time": "2025-02-04T11:35:43.594Z"
   },
   {
    "duration": 121,
    "start_time": "2025-02-04T11:35:47.792Z"
   },
   {
    "duration": 28,
    "start_time": "2025-02-04T11:36:01.895Z"
   },
   {
    "duration": 40,
    "start_time": "2025-02-04T11:37:37.286Z"
   },
   {
    "duration": 3,
    "start_time": "2025-02-04T11:38:44.217Z"
   },
   {
    "duration": 1679,
    "start_time": "2025-02-04T11:40:00.844Z"
   },
   {
    "duration": 1283,
    "start_time": "2025-02-04T11:40:08.430Z"
   },
   {
    "duration": 25,
    "start_time": "2025-02-04T11:40:23.536Z"
   },
   {
    "duration": 34,
    "start_time": "2025-02-04T11:42:19.261Z"
   },
   {
    "duration": 36,
    "start_time": "2025-02-04T11:43:25.466Z"
   },
   {
    "duration": 25,
    "start_time": "2025-02-04T11:44:05.641Z"
   },
   {
    "duration": 822,
    "start_time": "2025-02-04T11:44:29.078Z"
   },
   {
    "duration": 19,
    "start_time": "2025-02-04T11:44:29.902Z"
   },
   {
    "duration": 9,
    "start_time": "2025-02-04T11:44:29.923Z"
   },
   {
    "duration": 14,
    "start_time": "2025-02-04T11:44:29.934Z"
   },
   {
    "duration": 37,
    "start_time": "2025-02-04T11:44:29.950Z"
   },
   {
    "duration": 10,
    "start_time": "2025-02-04T11:44:29.989Z"
   },
   {
    "duration": 97,
    "start_time": "2025-02-04T11:44:30.001Z"
   },
   {
    "duration": 32,
    "start_time": "2025-02-04T11:44:30.100Z"
   },
   {
    "duration": 7,
    "start_time": "2025-02-04T11:44:30.133Z"
   },
   {
    "duration": 20,
    "start_time": "2025-02-04T11:44:30.143Z"
   },
   {
    "duration": 18,
    "start_time": "2025-02-04T11:44:30.165Z"
   },
   {
    "duration": 84,
    "start_time": "2025-02-04T11:44:30.185Z"
   },
   {
    "duration": 22,
    "start_time": "2025-02-04T11:44:30.271Z"
   },
   {
    "duration": 13,
    "start_time": "2025-02-04T11:44:30.296Z"
   },
   {
    "duration": 70,
    "start_time": "2025-02-04T11:44:30.311Z"
   },
   {
    "duration": 69,
    "start_time": "2025-02-04T11:44:30.386Z"
   },
   {
    "duration": 24,
    "start_time": "2025-02-04T11:44:30.457Z"
   },
   {
    "duration": 18,
    "start_time": "2025-02-04T11:44:30.484Z"
   },
   {
    "duration": 9,
    "start_time": "2025-02-04T11:44:30.504Z"
   },
   {
    "duration": 7,
    "start_time": "2025-02-04T11:44:30.515Z"
   },
   {
    "duration": 9,
    "start_time": "2025-02-04T11:44:30.524Z"
   },
   {
    "duration": 241,
    "start_time": "2025-02-04T11:44:30.534Z"
   },
   {
    "duration": 184,
    "start_time": "2025-02-04T11:44:30.777Z"
   },
   {
    "duration": 255,
    "start_time": "2025-02-04T11:44:30.962Z"
   },
   {
    "duration": 372,
    "start_time": "2025-02-04T11:44:31.219Z"
   },
   {
    "duration": 457,
    "start_time": "2025-02-04T11:44:31.594Z"
   },
   {
    "duration": 250,
    "start_time": "2025-02-04T11:44:32.053Z"
   },
   {
    "duration": 235,
    "start_time": "2025-02-04T11:44:32.307Z"
   },
   {
    "duration": 414,
    "start_time": "2025-02-04T11:44:32.543Z"
   },
   {
    "duration": 274,
    "start_time": "2025-02-04T11:44:32.958Z"
   },
   {
    "duration": 344,
    "start_time": "2025-02-04T11:44:33.234Z"
   },
   {
    "duration": 22,
    "start_time": "2025-02-04T11:44:33.580Z"
   },
   {
    "duration": 7,
    "start_time": "2025-02-04T11:44:33.604Z"
   },
   {
    "duration": 12,
    "start_time": "2025-02-04T11:44:33.612Z"
   },
   {
    "duration": 215,
    "start_time": "2025-02-04T11:44:33.625Z"
   },
   {
    "duration": 35,
    "start_time": "2025-02-04T11:44:50.264Z"
   },
   {
    "duration": 28,
    "start_time": "2025-02-04T11:44:59.101Z"
   },
   {
    "duration": 38,
    "start_time": "2025-02-04T11:45:06.768Z"
   },
   {
    "duration": 26,
    "start_time": "2025-02-04T11:46:13.189Z"
   },
   {
    "duration": 709,
    "start_time": "2025-02-04T11:46:30.153Z"
   },
   {
    "duration": 22,
    "start_time": "2025-02-04T11:46:30.864Z"
   },
   {
    "duration": 11,
    "start_time": "2025-02-04T11:46:30.890Z"
   },
   {
    "duration": 25,
    "start_time": "2025-02-04T11:46:30.904Z"
   },
   {
    "duration": 52,
    "start_time": "2025-02-04T11:46:30.931Z"
   },
   {
    "duration": 36,
    "start_time": "2025-02-04T11:46:30.986Z"
   },
   {
    "duration": 13,
    "start_time": "2025-02-04T11:46:31.024Z"
   },
   {
    "duration": 16,
    "start_time": "2025-02-04T11:46:31.038Z"
   },
   {
    "duration": 6,
    "start_time": "2025-02-04T11:46:31.056Z"
   },
   {
    "duration": 22,
    "start_time": "2025-02-04T11:46:31.065Z"
   },
   {
    "duration": 9,
    "start_time": "2025-02-04T11:46:31.089Z"
   },
   {
    "duration": 30,
    "start_time": "2025-02-04T11:46:31.100Z"
   },
   {
    "duration": 18,
    "start_time": "2025-02-04T11:46:31.132Z"
   },
   {
    "duration": 19,
    "start_time": "2025-02-04T11:46:31.152Z"
   },
   {
    "duration": 11,
    "start_time": "2025-02-04T11:46:31.173Z"
   },
   {
    "duration": 11,
    "start_time": "2025-02-04T11:46:31.187Z"
   },
   {
    "duration": 8,
    "start_time": "2025-02-04T11:46:31.199Z"
   },
   {
    "duration": 11,
    "start_time": "2025-02-04T11:46:31.208Z"
   },
   {
    "duration": 11,
    "start_time": "2025-02-04T11:46:31.221Z"
   },
   {
    "duration": 6,
    "start_time": "2025-02-04T11:46:31.234Z"
   },
   {
    "duration": 44,
    "start_time": "2025-02-04T11:46:31.242Z"
   },
   {
    "duration": 268,
    "start_time": "2025-02-04T11:46:31.288Z"
   },
   {
    "duration": 183,
    "start_time": "2025-02-04T11:46:31.557Z"
   },
   {
    "duration": 267,
    "start_time": "2025-02-04T11:46:31.741Z"
   },
   {
    "duration": 310,
    "start_time": "2025-02-04T11:46:32.010Z"
   },
   {
    "duration": 423,
    "start_time": "2025-02-04T11:46:32.322Z"
   },
   {
    "duration": 237,
    "start_time": "2025-02-04T11:46:32.746Z"
   },
   {
    "duration": 262,
    "start_time": "2025-02-04T11:46:32.987Z"
   },
   {
    "duration": 452,
    "start_time": "2025-02-04T11:46:33.250Z"
   },
   {
    "duration": 229,
    "start_time": "2025-02-04T11:46:33.703Z"
   },
   {
    "duration": 376,
    "start_time": "2025-02-04T11:46:33.934Z"
   },
   {
    "duration": 21,
    "start_time": "2025-02-04T11:46:34.312Z"
   },
   {
    "duration": 7,
    "start_time": "2025-02-04T11:46:34.335Z"
   },
   {
    "duration": 19,
    "start_time": "2025-02-04T11:46:34.344Z"
   },
   {
    "duration": 114,
    "start_time": "2025-02-04T11:46:34.379Z"
   },
   {
    "duration": 33,
    "start_time": "2025-02-04T11:49:36.501Z"
   },
   {
    "duration": 26,
    "start_time": "2025-02-04T11:51:08.622Z"
   },
   {
    "duration": 35,
    "start_time": "2025-02-04T11:52:46.598Z"
   },
   {
    "duration": 5,
    "start_time": "2025-02-04T11:57:33.214Z"
   },
   {
    "duration": 1279,
    "start_time": "2025-02-04T11:57:41.845Z"
   },
   {
    "duration": 1233,
    "start_time": "2025-02-04T11:57:49.345Z"
   },
   {
    "duration": 6,
    "start_time": "2025-02-04T11:57:59.091Z"
   },
   {
    "duration": 1123,
    "start_time": "2025-02-04T11:58:10.513Z"
   },
   {
    "duration": 5,
    "start_time": "2025-02-04T11:58:16.875Z"
   },
   {
    "duration": 4,
    "start_time": "2025-02-04T11:58:36.598Z"
   },
   {
    "duration": 5,
    "start_time": "2025-02-04T12:00:54.031Z"
   },
   {
    "duration": 2043,
    "start_time": "2025-02-04T12:08:18.260Z"
   },
   {
    "duration": 846,
    "start_time": "2025-02-04T12:08:43.623Z"
   },
   {
    "duration": 107,
    "start_time": "2025-02-04T12:08:44.471Z"
   },
   {
    "duration": 26,
    "start_time": "2025-02-04T12:08:44.581Z"
   },
   {
    "duration": 12,
    "start_time": "2025-02-04T12:08:44.610Z"
   },
   {
    "duration": 201,
    "start_time": "2025-02-04T12:08:44.623Z"
   },
   {
    "duration": 6,
    "start_time": "2025-02-04T12:08:44.826Z"
   },
   {
    "duration": 12,
    "start_time": "2025-02-04T12:08:44.834Z"
   },
   {
    "duration": 66,
    "start_time": "2025-02-04T12:08:44.847Z"
   },
   {
    "duration": 5,
    "start_time": "2025-02-04T12:08:44.915Z"
   },
   {
    "duration": 22,
    "start_time": "2025-02-04T12:08:44.923Z"
   },
   {
    "duration": 6,
    "start_time": "2025-02-04T12:08:44.947Z"
   },
   {
    "duration": 6,
    "start_time": "2025-02-04T12:08:44.954Z"
   },
   {
    "duration": 4,
    "start_time": "2025-02-04T12:08:44.962Z"
   },
   {
    "duration": 86,
    "start_time": "2025-02-04T12:08:44.968Z"
   },
   {
    "duration": 56,
    "start_time": "2025-02-04T12:08:45.055Z"
   },
   {
    "duration": 13,
    "start_time": "2025-02-04T12:08:45.112Z"
   },
   {
    "duration": 28,
    "start_time": "2025-02-04T12:08:45.126Z"
   },
   {
    "duration": 45,
    "start_time": "2025-02-04T12:08:45.156Z"
   },
   {
    "duration": 28,
    "start_time": "2025-02-04T12:08:45.203Z"
   },
   {
    "duration": 38,
    "start_time": "2025-02-04T12:08:45.233Z"
   },
   {
    "duration": 34,
    "start_time": "2025-02-04T12:08:45.273Z"
   },
   {
    "duration": 245,
    "start_time": "2025-02-04T12:08:45.310Z"
   },
   {
    "duration": 182,
    "start_time": "2025-02-04T12:08:45.556Z"
   },
   {
    "duration": 285,
    "start_time": "2025-02-04T12:08:45.739Z"
   },
   {
    "duration": 344,
    "start_time": "2025-02-04T12:08:46.025Z"
   },
   {
    "duration": 484,
    "start_time": "2025-02-04T12:08:46.375Z"
   },
   {
    "duration": 278,
    "start_time": "2025-02-04T12:08:46.861Z"
   },
   {
    "duration": 301,
    "start_time": "2025-02-04T12:08:47.144Z"
   },
   {
    "duration": 497,
    "start_time": "2025-02-04T12:08:47.446Z"
   },
   {
    "duration": 287,
    "start_time": "2025-02-04T12:08:47.945Z"
   },
   {
    "duration": 385,
    "start_time": "2025-02-04T12:08:48.234Z"
   },
   {
    "duration": 21,
    "start_time": "2025-02-04T12:08:48.621Z"
   },
   {
    "duration": 60,
    "start_time": "2025-02-04T12:08:48.643Z"
   },
   {
    "duration": 13,
    "start_time": "2025-02-04T12:08:48.705Z"
   },
   {
    "duration": 6,
    "start_time": "2025-02-04T12:08:48.720Z"
   },
   {
    "duration": 3039,
    "start_time": "2025-02-04T12:08:48.728Z"
   },
   {
    "duration": 1806,
    "start_time": "2025-02-04T12:09:03.732Z"
   },
   {
    "duration": 47,
    "start_time": "2025-02-04T12:09:15.962Z"
   },
   {
    "duration": 26,
    "start_time": "2025-02-04T12:09:22.311Z"
   },
   {
    "duration": 26,
    "start_time": "2025-02-04T12:10:04.925Z"
   },
   {
    "duration": 43,
    "start_time": "2025-02-04T12:11:00.499Z"
   },
   {
    "duration": 35,
    "start_time": "2025-02-04T12:12:31.103Z"
   },
   {
    "duration": 4,
    "start_time": "2025-02-04T12:13:00.551Z"
   },
   {
    "duration": 25,
    "start_time": "2025-02-04T12:14:10.718Z"
   },
   {
    "duration": 41,
    "start_time": "2025-02-04T12:15:55.774Z"
   },
   {
    "duration": 29,
    "start_time": "2025-02-04T12:16:19.499Z"
   },
   {
    "duration": 31,
    "start_time": "2025-02-04T12:16:35.957Z"
   },
   {
    "duration": 40,
    "start_time": "2025-02-04T12:17:05.295Z"
   },
   {
    "duration": 33,
    "start_time": "2025-02-04T12:17:42.291Z"
   },
   {
    "duration": 42,
    "start_time": "2025-02-04T12:17:49.767Z"
   },
   {
    "duration": 769,
    "start_time": "2025-02-04T12:17:58.470Z"
   },
   {
    "duration": 18,
    "start_time": "2025-02-04T12:17:59.241Z"
   },
   {
    "duration": 7,
    "start_time": "2025-02-04T12:17:59.261Z"
   },
   {
    "duration": 18,
    "start_time": "2025-02-04T12:17:59.270Z"
   },
   {
    "duration": 34,
    "start_time": "2025-02-04T12:17:59.296Z"
   },
   {
    "duration": 6,
    "start_time": "2025-02-04T12:17:59.332Z"
   },
   {
    "duration": 15,
    "start_time": "2025-02-04T12:17:59.339Z"
   },
   {
    "duration": 30,
    "start_time": "2025-02-04T12:17:59.356Z"
   },
   {
    "duration": 11,
    "start_time": "2025-02-04T12:17:59.389Z"
   },
   {
    "duration": 19,
    "start_time": "2025-02-04T12:17:59.403Z"
   },
   {
    "duration": 6,
    "start_time": "2025-02-04T12:17:59.423Z"
   },
   {
    "duration": 9,
    "start_time": "2025-02-04T12:17:59.431Z"
   },
   {
    "duration": 4,
    "start_time": "2025-02-04T12:17:59.442Z"
   },
   {
    "duration": 4,
    "start_time": "2025-02-04T12:17:59.448Z"
   },
   {
    "duration": 24,
    "start_time": "2025-02-04T12:17:59.454Z"
   },
   {
    "duration": 10,
    "start_time": "2025-02-04T12:17:59.493Z"
   },
   {
    "duration": 6,
    "start_time": "2025-02-04T12:17:59.505Z"
   },
   {
    "duration": 8,
    "start_time": "2025-02-04T12:17:59.512Z"
   },
   {
    "duration": 18,
    "start_time": "2025-02-04T12:17:59.521Z"
   },
   {
    "duration": 15,
    "start_time": "2025-02-04T12:17:59.541Z"
   },
   {
    "duration": 12,
    "start_time": "2025-02-04T12:17:59.558Z"
   },
   {
    "duration": 234,
    "start_time": "2025-02-04T12:17:59.572Z"
   },
   {
    "duration": 158,
    "start_time": "2025-02-04T12:17:59.808Z"
   },
   {
    "duration": 246,
    "start_time": "2025-02-04T12:17:59.968Z"
   },
   {
    "duration": 349,
    "start_time": "2025-02-04T12:18:00.216Z"
   },
   {
    "duration": 499,
    "start_time": "2025-02-04T12:18:00.566Z"
   },
   {
    "duration": 290,
    "start_time": "2025-02-04T12:18:01.067Z"
   },
   {
    "duration": 292,
    "start_time": "2025-02-04T12:18:01.362Z"
   },
   {
    "duration": 474,
    "start_time": "2025-02-04T12:18:01.656Z"
   },
   {
    "duration": 237,
    "start_time": "2025-02-04T12:18:02.132Z"
   },
   {
    "duration": 356,
    "start_time": "2025-02-04T12:18:02.376Z"
   },
   {
    "duration": 18,
    "start_time": "2025-02-04T12:18:02.734Z"
   },
   {
    "duration": 48,
    "start_time": "2025-02-04T12:18:02.754Z"
   },
   {
    "duration": 9,
    "start_time": "2025-02-04T12:18:02.803Z"
   },
   {
    "duration": 12,
    "start_time": "2025-02-04T12:18:02.814Z"
   },
   {
    "duration": 129,
    "start_time": "2025-02-04T12:18:02.828Z"
   },
   {
    "duration": 47,
    "start_time": "2025-02-04T12:18:02.959Z"
   },
   {
    "duration": 821,
    "start_time": "2025-02-04T12:19:23.187Z"
   },
   {
    "duration": 19,
    "start_time": "2025-02-04T12:19:24.011Z"
   },
   {
    "duration": 8,
    "start_time": "2025-02-04T12:19:24.031Z"
   },
   {
    "duration": 16,
    "start_time": "2025-02-04T12:19:24.041Z"
   },
   {
    "duration": 39,
    "start_time": "2025-02-04T12:19:24.059Z"
   },
   {
    "duration": 6,
    "start_time": "2025-02-04T12:19:24.103Z"
   },
   {
    "duration": 12,
    "start_time": "2025-02-04T12:19:24.111Z"
   },
   {
    "duration": 16,
    "start_time": "2025-02-04T12:19:24.124Z"
   },
   {
    "duration": 5,
    "start_time": "2025-02-04T12:19:24.141Z"
   },
   {
    "duration": 10,
    "start_time": "2025-02-04T12:19:24.148Z"
   },
   {
    "duration": 23,
    "start_time": "2025-02-04T12:19:24.160Z"
   },
   {
    "duration": 22,
    "start_time": "2025-02-04T12:19:24.184Z"
   },
   {
    "duration": 4,
    "start_time": "2025-02-04T12:19:24.208Z"
   },
   {
    "duration": 4,
    "start_time": "2025-02-04T12:19:24.214Z"
   },
   {
    "duration": 8,
    "start_time": "2025-02-04T12:19:24.220Z"
   },
   {
    "duration": 14,
    "start_time": "2025-02-04T12:19:24.230Z"
   },
   {
    "duration": 5,
    "start_time": "2025-02-04T12:19:24.246Z"
   },
   {
    "duration": 7,
    "start_time": "2025-02-04T12:19:24.253Z"
   },
   {
    "duration": 16,
    "start_time": "2025-02-04T12:19:24.278Z"
   },
   {
    "duration": 32,
    "start_time": "2025-02-04T12:19:24.296Z"
   },
   {
    "duration": 9,
    "start_time": "2025-02-04T12:19:24.330Z"
   },
   {
    "duration": 198,
    "start_time": "2025-02-04T12:19:24.341Z"
   },
   {
    "duration": 163,
    "start_time": "2025-02-04T12:19:24.541Z"
   },
   {
    "duration": 243,
    "start_time": "2025-02-04T12:19:24.706Z"
   },
   {
    "duration": 312,
    "start_time": "2025-02-04T12:19:24.951Z"
   },
   {
    "duration": 477,
    "start_time": "2025-02-04T12:19:25.265Z"
   },
   {
    "duration": 254,
    "start_time": "2025-02-04T12:19:25.743Z"
   },
   {
    "duration": 269,
    "start_time": "2025-02-04T12:19:26.002Z"
   },
   {
    "duration": 444,
    "start_time": "2025-02-04T12:19:26.272Z"
   },
   {
    "duration": 220,
    "start_time": "2025-02-04T12:19:26.718Z"
   },
   {
    "duration": 348,
    "start_time": "2025-02-04T12:19:26.939Z"
   },
   {
    "duration": 28,
    "start_time": "2025-02-04T12:19:27.289Z"
   },
   {
    "duration": 8,
    "start_time": "2025-02-04T12:19:27.318Z"
   },
   {
    "duration": 19,
    "start_time": "2025-02-04T12:19:27.327Z"
   },
   {
    "duration": 5,
    "start_time": "2025-02-04T12:19:27.348Z"
   },
   {
    "duration": 114,
    "start_time": "2025-02-04T12:19:27.354Z"
   },
   {
    "duration": 33,
    "start_time": "2025-02-04T12:19:27.471Z"
   },
   {
    "duration": 759,
    "start_time": "2025-02-04T12:34:34.548Z"
   },
   {
    "duration": 31,
    "start_time": "2025-02-04T12:34:35.309Z"
   },
   {
    "duration": 8,
    "start_time": "2025-02-04T12:34:35.341Z"
   },
   {
    "duration": 12,
    "start_time": "2025-02-04T12:34:35.350Z"
   },
   {
    "duration": 47,
    "start_time": "2025-02-04T12:34:35.363Z"
   },
   {
    "duration": 7,
    "start_time": "2025-02-04T12:34:35.411Z"
   },
   {
    "duration": 16,
    "start_time": "2025-02-04T12:34:35.419Z"
   },
   {
    "duration": 30,
    "start_time": "2025-02-04T12:34:35.437Z"
   },
   {
    "duration": 5,
    "start_time": "2025-02-04T12:34:35.469Z"
   },
   {
    "duration": 23,
    "start_time": "2025-02-04T12:34:35.479Z"
   },
   {
    "duration": 15,
    "start_time": "2025-02-04T12:34:35.507Z"
   },
   {
    "duration": 5,
    "start_time": "2025-02-04T12:34:35.524Z"
   },
   {
    "duration": 5,
    "start_time": "2025-02-04T12:34:35.530Z"
   },
   {
    "duration": 5,
    "start_time": "2025-02-04T12:34:35.537Z"
   },
   {
    "duration": 4,
    "start_time": "2025-02-04T12:34:35.544Z"
   },
   {
    "duration": 50,
    "start_time": "2025-02-04T12:34:35.550Z"
   },
   {
    "duration": 6,
    "start_time": "2025-02-04T12:34:35.603Z"
   },
   {
    "duration": 28,
    "start_time": "2025-02-04T12:34:35.611Z"
   },
   {
    "duration": 24,
    "start_time": "2025-02-04T12:34:35.640Z"
   },
   {
    "duration": 14,
    "start_time": "2025-02-04T12:34:35.666Z"
   },
   {
    "duration": 21,
    "start_time": "2025-02-04T12:34:35.682Z"
   },
   {
    "duration": 216,
    "start_time": "2025-02-04T12:34:35.705Z"
   },
   {
    "duration": 184,
    "start_time": "2025-02-04T12:34:35.923Z"
   },
   {
    "duration": 247,
    "start_time": "2025-02-04T12:34:36.109Z"
   },
   {
    "duration": 345,
    "start_time": "2025-02-04T12:34:36.357Z"
   },
   {
    "duration": 451,
    "start_time": "2025-02-04T12:34:36.704Z"
   },
   {
    "duration": 270,
    "start_time": "2025-02-04T12:34:37.157Z"
   },
   {
    "duration": 271,
    "start_time": "2025-02-04T12:34:37.431Z"
   },
   {
    "duration": 442,
    "start_time": "2025-02-04T12:34:37.711Z"
   },
   {
    "duration": 240,
    "start_time": "2025-02-04T12:34:38.154Z"
   },
   {
    "duration": 362,
    "start_time": "2025-02-04T12:34:38.397Z"
   },
   {
    "duration": 42,
    "start_time": "2025-02-04T12:34:38.761Z"
   },
   {
    "duration": 7,
    "start_time": "2025-02-04T12:34:38.805Z"
   },
   {
    "duration": 10,
    "start_time": "2025-02-04T12:34:38.813Z"
   },
   {
    "duration": 124,
    "start_time": "2025-02-04T12:34:38.824Z"
   },
   {
    "duration": 53,
    "start_time": "2025-02-04T12:34:38.950Z"
   },
   {
    "duration": 673,
    "start_time": "2025-02-04T13:54:39.697Z"
   },
   {
    "duration": 19,
    "start_time": "2025-02-04T13:54:40.372Z"
   },
   {
    "duration": 8,
    "start_time": "2025-02-04T13:54:40.392Z"
   },
   {
    "duration": 12,
    "start_time": "2025-02-04T13:54:40.403Z"
   },
   {
    "duration": 30,
    "start_time": "2025-02-04T13:54:40.417Z"
   },
   {
    "duration": 6,
    "start_time": "2025-02-04T13:54:40.448Z"
   },
   {
    "duration": 29,
    "start_time": "2025-02-04T13:54:40.456Z"
   },
   {
    "duration": 16,
    "start_time": "2025-02-04T13:54:40.487Z"
   },
   {
    "duration": 7,
    "start_time": "2025-02-04T13:54:40.505Z"
   },
   {
    "duration": 12,
    "start_time": "2025-02-04T13:54:40.515Z"
   },
   {
    "duration": 24,
    "start_time": "2025-02-04T13:54:40.528Z"
   },
   {
    "duration": 9,
    "start_time": "2025-02-04T13:54:40.555Z"
   },
   {
    "duration": 22,
    "start_time": "2025-02-04T13:54:40.565Z"
   },
   {
    "duration": 9,
    "start_time": "2025-02-04T13:54:40.588Z"
   },
   {
    "duration": 12,
    "start_time": "2025-02-04T13:54:40.599Z"
   },
   {
    "duration": 9,
    "start_time": "2025-02-04T13:54:40.612Z"
   },
   {
    "duration": 5,
    "start_time": "2025-02-04T13:54:40.623Z"
   },
   {
    "duration": 17,
    "start_time": "2025-02-04T13:54:40.629Z"
   },
   {
    "duration": 8,
    "start_time": "2025-02-04T13:54:40.647Z"
   },
   {
    "duration": 32,
    "start_time": "2025-02-04T13:54:40.656Z"
   },
   {
    "duration": 16,
    "start_time": "2025-02-04T13:54:40.690Z"
   },
   {
    "duration": 219,
    "start_time": "2025-02-04T13:54:40.707Z"
   },
   {
    "duration": 159,
    "start_time": "2025-02-04T13:54:40.927Z"
   },
   {
    "duration": 236,
    "start_time": "2025-02-04T13:54:41.088Z"
   },
   {
    "duration": 335,
    "start_time": "2025-02-04T13:54:41.326Z"
   },
   {
    "duration": 413,
    "start_time": "2025-02-04T13:54:41.662Z"
   },
   {
    "duration": 245,
    "start_time": "2025-02-04T13:54:42.077Z"
   },
   {
    "duration": 251,
    "start_time": "2025-02-04T13:54:42.326Z"
   },
   {
    "duration": 428,
    "start_time": "2025-02-04T13:54:42.579Z"
   },
   {
    "duration": 239,
    "start_time": "2025-02-04T13:54:43.009Z"
   },
   {
    "duration": 344,
    "start_time": "2025-02-04T13:54:43.250Z"
   },
   {
    "duration": 21,
    "start_time": "2025-02-04T13:54:43.596Z"
   },
   {
    "duration": 8,
    "start_time": "2025-02-04T13:54:43.619Z"
   },
   {
    "duration": 10,
    "start_time": "2025-02-04T13:54:43.628Z"
   },
   {
    "duration": 135,
    "start_time": "2025-02-04T13:54:43.640Z"
   },
   {
    "duration": 27,
    "start_time": "2025-02-04T13:54:43.777Z"
   },
   {
    "duration": 844,
    "start_time": "2025-02-05T05:55:33.755Z"
   },
   {
    "duration": 31,
    "start_time": "2025-02-05T05:55:34.602Z"
   },
   {
    "duration": 7,
    "start_time": "2025-02-05T05:55:34.635Z"
   },
   {
    "duration": 12,
    "start_time": "2025-02-05T05:55:34.644Z"
   },
   {
    "duration": 31,
    "start_time": "2025-02-05T05:55:34.657Z"
   },
   {
    "duration": 6,
    "start_time": "2025-02-05T05:55:34.689Z"
   },
   {
    "duration": 23,
    "start_time": "2025-02-05T05:55:34.697Z"
   },
   {
    "duration": 16,
    "start_time": "2025-02-05T05:55:34.721Z"
   },
   {
    "duration": 5,
    "start_time": "2025-02-05T05:55:34.739Z"
   },
   {
    "duration": 18,
    "start_time": "2025-02-05T05:55:34.746Z"
   },
   {
    "duration": 9,
    "start_time": "2025-02-05T05:55:34.765Z"
   },
   {
    "duration": 17,
    "start_time": "2025-02-05T05:55:34.775Z"
   },
   {
    "duration": 21,
    "start_time": "2025-02-05T05:55:34.793Z"
   },
   {
    "duration": 5,
    "start_time": "2025-02-05T05:55:34.816Z"
   },
   {
    "duration": 5,
    "start_time": "2025-02-05T05:55:34.822Z"
   },
   {
    "duration": 5,
    "start_time": "2025-02-05T05:55:34.828Z"
   },
   {
    "duration": 7,
    "start_time": "2025-02-05T05:55:34.835Z"
   },
   {
    "duration": 10,
    "start_time": "2025-02-05T05:55:34.843Z"
   },
   {
    "duration": 9,
    "start_time": "2025-02-05T05:55:34.854Z"
   },
   {
    "duration": 5,
    "start_time": "2025-02-05T05:55:34.864Z"
   },
   {
    "duration": 7,
    "start_time": "2025-02-05T05:55:34.870Z"
   },
   {
    "duration": 197,
    "start_time": "2025-02-05T05:55:34.879Z"
   },
   {
    "duration": 147,
    "start_time": "2025-02-05T05:55:35.077Z"
   },
   {
    "duration": 205,
    "start_time": "2025-02-05T05:55:35.226Z"
   },
   {
    "duration": 282,
    "start_time": "2025-02-05T05:55:35.433Z"
   },
   {
    "duration": 396,
    "start_time": "2025-02-05T05:55:35.717Z"
   },
   {
    "duration": 215,
    "start_time": "2025-02-05T05:55:36.115Z"
   },
   {
    "duration": 223,
    "start_time": "2025-02-05T05:55:36.333Z"
   },
   {
    "duration": 387,
    "start_time": "2025-02-05T05:55:36.560Z"
   },
   {
    "duration": 206,
    "start_time": "2025-02-05T05:55:36.948Z"
   },
   {
    "duration": 306,
    "start_time": "2025-02-05T05:55:37.155Z"
   },
   {
    "duration": 19,
    "start_time": "2025-02-05T05:55:37.462Z"
   },
   {
    "duration": 36,
    "start_time": "2025-02-05T05:55:37.483Z"
   },
   {
    "duration": 7,
    "start_time": "2025-02-05T05:55:37.521Z"
   },
   {
    "duration": 93,
    "start_time": "2025-02-05T05:55:37.530Z"
   },
   {
    "duration": 25,
    "start_time": "2025-02-05T05:55:37.625Z"
   },
   {
    "duration": 406,
    "start_time": "2025-02-05T06:01:43.077Z"
   },
   {
    "duration": 54,
    "start_time": "2025-02-05T06:09:21.800Z"
   },
   {
    "duration": 111,
    "start_time": "2025-02-05T06:09:31.251Z"
   },
   {
    "duration": 1139,
    "start_time": "2025-02-05T06:10:30.712Z"
   },
   {
    "duration": 29,
    "start_time": "2025-02-05T06:10:31.853Z"
   },
   {
    "duration": 8,
    "start_time": "2025-02-05T06:10:31.883Z"
   },
   {
    "duration": 29,
    "start_time": "2025-02-05T06:10:31.893Z"
   },
   {
    "duration": 34,
    "start_time": "2025-02-05T06:10:31.924Z"
   },
   {
    "duration": 6,
    "start_time": "2025-02-05T06:10:31.959Z"
   },
   {
    "duration": 16,
    "start_time": "2025-02-05T06:10:31.967Z"
   },
   {
    "duration": 16,
    "start_time": "2025-02-05T06:10:31.984Z"
   },
   {
    "duration": 5,
    "start_time": "2025-02-05T06:10:32.002Z"
   },
   {
    "duration": 19,
    "start_time": "2025-02-05T06:10:32.010Z"
   },
   {
    "duration": 13,
    "start_time": "2025-02-05T06:10:32.030Z"
   },
   {
    "duration": 8,
    "start_time": "2025-02-05T06:10:32.045Z"
   },
   {
    "duration": 10,
    "start_time": "2025-02-05T06:10:32.054Z"
   },
   {
    "duration": 4,
    "start_time": "2025-02-05T06:10:32.066Z"
   },
   {
    "duration": 17,
    "start_time": "2025-02-05T06:10:32.072Z"
   },
   {
    "duration": 11,
    "start_time": "2025-02-05T06:10:32.091Z"
   },
   {
    "duration": 19,
    "start_time": "2025-02-05T06:10:32.104Z"
   },
   {
    "duration": 7,
    "start_time": "2025-02-05T06:10:32.125Z"
   },
   {
    "duration": 8,
    "start_time": "2025-02-05T06:10:32.133Z"
   },
   {
    "duration": 19,
    "start_time": "2025-02-05T06:10:32.142Z"
   },
   {
    "duration": 12,
    "start_time": "2025-02-05T06:10:32.163Z"
   },
   {
    "duration": 212,
    "start_time": "2025-02-05T06:10:32.176Z"
   },
   {
    "duration": 156,
    "start_time": "2025-02-05T06:10:32.390Z"
   },
   {
    "duration": 215,
    "start_time": "2025-02-05T06:10:32.548Z"
   },
   {
    "duration": 292,
    "start_time": "2025-02-05T06:10:32.764Z"
   },
   {
    "duration": 363,
    "start_time": "2025-02-05T06:10:33.060Z"
   },
   {
    "duration": 239,
    "start_time": "2025-02-05T06:10:33.425Z"
   },
   {
    "duration": 326,
    "start_time": "2025-02-05T06:10:33.667Z"
   },
   {
    "duration": 390,
    "start_time": "2025-02-05T06:10:33.995Z"
   },
   {
    "duration": 198,
    "start_time": "2025-02-05T06:10:34.386Z"
   },
   {
    "duration": 311,
    "start_time": "2025-02-05T06:10:34.586Z"
   },
   {
    "duration": 19,
    "start_time": "2025-02-05T06:10:34.898Z"
   },
   {
    "duration": 21,
    "start_time": "2025-02-05T06:10:34.918Z"
   },
   {
    "duration": 29,
    "start_time": "2025-02-05T06:10:34.941Z"
   },
   {
    "duration": 39,
    "start_time": "2025-02-05T06:10:34.971Z"
   },
   {
    "duration": 29,
    "start_time": "2025-02-05T06:10:35.012Z"
   },
   {
    "duration": 102,
    "start_time": "2025-02-05T06:10:35.042Z"
   },
   {
    "duration": 3,
    "start_time": "2025-02-05T06:12:02.640Z"
   },
   {
    "duration": 3,
    "start_time": "2025-02-05T06:12:34.560Z"
   },
   {
    "duration": 12,
    "start_time": "2025-02-05T06:12:42.395Z"
   },
   {
    "duration": 6,
    "start_time": "2025-02-05T06:14:20.540Z"
   },
   {
    "duration": 5,
    "start_time": "2025-02-05T06:14:48.048Z"
   },
   {
    "duration": 872,
    "start_time": "2025-02-05T06:32:23.331Z"
   },
   {
    "duration": 989,
    "start_time": "2025-02-05T06:32:42.847Z"
   },
   {
    "duration": 6,
    "start_time": "2025-02-05T06:33:00.888Z"
   },
   {
    "duration": 5,
    "start_time": "2025-02-05T06:38:33.043Z"
   },
   {
    "duration": 5,
    "start_time": "2025-02-05T06:38:39.008Z"
   },
   {
    "duration": 5,
    "start_time": "2025-02-05T06:38:54.495Z"
   },
   {
    "duration": 1141,
    "start_time": "2025-02-05T06:39:04.606Z"
   },
   {
    "duration": 19,
    "start_time": "2025-02-05T06:39:05.750Z"
   },
   {
    "duration": 9,
    "start_time": "2025-02-05T06:39:05.771Z"
   },
   {
    "duration": 37,
    "start_time": "2025-02-05T06:39:05.782Z"
   },
   {
    "duration": 33,
    "start_time": "2025-02-05T06:39:05.821Z"
   },
   {
    "duration": 7,
    "start_time": "2025-02-05T06:39:05.856Z"
   },
   {
    "duration": 30,
    "start_time": "2025-02-05T06:39:05.865Z"
   },
   {
    "duration": 41,
    "start_time": "2025-02-05T06:39:05.897Z"
   },
   {
    "duration": 18,
    "start_time": "2025-02-05T06:39:05.940Z"
   },
   {
    "duration": 13,
    "start_time": "2025-02-05T06:39:05.961Z"
   },
   {
    "duration": 14,
    "start_time": "2025-02-05T06:39:05.976Z"
   },
   {
    "duration": 8,
    "start_time": "2025-02-05T06:39:05.992Z"
   },
   {
    "duration": 22,
    "start_time": "2025-02-05T06:39:06.001Z"
   },
   {
    "duration": 4,
    "start_time": "2025-02-05T06:39:06.025Z"
   },
   {
    "duration": 5,
    "start_time": "2025-02-05T06:39:06.031Z"
   },
   {
    "duration": 5,
    "start_time": "2025-02-05T06:39:06.038Z"
   },
   {
    "duration": 17,
    "start_time": "2025-02-05T06:39:06.044Z"
   },
   {
    "duration": 17,
    "start_time": "2025-02-05T06:39:06.062Z"
   },
   {
    "duration": 40,
    "start_time": "2025-02-05T06:39:06.081Z"
   },
   {
    "duration": 22,
    "start_time": "2025-02-05T06:39:06.123Z"
   },
   {
    "duration": 21,
    "start_time": "2025-02-05T06:39:06.147Z"
   },
   {
    "duration": 200,
    "start_time": "2025-02-05T06:39:06.170Z"
   },
   {
    "duration": 184,
    "start_time": "2025-02-05T06:39:06.372Z"
   },
   {
    "duration": 212,
    "start_time": "2025-02-05T06:39:06.560Z"
   },
   {
    "duration": 292,
    "start_time": "2025-02-05T06:39:06.774Z"
   },
   {
    "duration": 350,
    "start_time": "2025-02-05T06:39:07.067Z"
   },
   {
    "duration": 230,
    "start_time": "2025-02-05T06:39:07.419Z"
   },
   {
    "duration": 303,
    "start_time": "2025-02-05T06:39:07.652Z"
   },
   {
    "duration": 385,
    "start_time": "2025-02-05T06:39:07.960Z"
   },
   {
    "duration": 206,
    "start_time": "2025-02-05T06:39:08.347Z"
   },
   {
    "duration": 309,
    "start_time": "2025-02-05T06:39:08.555Z"
   },
   {
    "duration": 19,
    "start_time": "2025-02-05T06:39:08.865Z"
   },
   {
    "duration": 6,
    "start_time": "2025-02-05T06:39:08.885Z"
   },
   {
    "duration": 7,
    "start_time": "2025-02-05T06:39:08.893Z"
   },
   {
    "duration": 25,
    "start_time": "2025-02-05T06:39:08.902Z"
   },
   {
    "duration": 55,
    "start_time": "2025-02-05T06:39:08.929Z"
   },
   {
    "duration": 6,
    "start_time": "2025-02-05T06:39:08.986Z"
   },
   {
    "duration": 9,
    "start_time": "2025-02-05T06:39:08.993Z"
   },
   {
    "duration": 6,
    "start_time": "2025-02-05T06:39:51.082Z"
   },
   {
    "duration": 5,
    "start_time": "2025-02-05T06:40:16.327Z"
   },
   {
    "duration": 5,
    "start_time": "2025-02-05T06:52:49.408Z"
   },
   {
    "duration": 7,
    "start_time": "2025-02-05T06:53:00.244Z"
   },
   {
    "duration": 5,
    "start_time": "2025-02-05T06:53:06.767Z"
   },
   {
    "duration": 5,
    "start_time": "2025-02-05T06:53:12.284Z"
   },
   {
    "duration": 5,
    "start_time": "2025-02-05T06:53:16.504Z"
   },
   {
    "duration": 5,
    "start_time": "2025-02-05T06:53:31.176Z"
   },
   {
    "duration": 6,
    "start_time": "2025-02-05T07:06:06.873Z"
   },
   {
    "duration": 7,
    "start_time": "2025-02-05T07:07:00.850Z"
   },
   {
    "duration": 4,
    "start_time": "2025-02-05T07:13:58.517Z"
   },
   {
    "duration": 5,
    "start_time": "2025-02-05T07:19:50.388Z"
   },
   {
    "duration": 6,
    "start_time": "2025-02-05T07:23:06.473Z"
   },
   {
    "duration": 6,
    "start_time": "2025-02-05T07:23:10.077Z"
   },
   {
    "duration": 6,
    "start_time": "2025-02-05T07:24:31.637Z"
   },
   {
    "duration": 7,
    "start_time": "2025-02-05T07:25:46.551Z"
   },
   {
    "duration": 5,
    "start_time": "2025-02-05T07:30:18.916Z"
   },
   {
    "duration": 5,
    "start_time": "2025-02-05T07:38:47.446Z"
   },
   {
    "duration": 103,
    "start_time": "2025-02-05T08:22:21.210Z"
   },
   {
    "duration": 2,
    "start_time": "2025-02-05T08:23:23.089Z"
   },
   {
    "duration": 270,
    "start_time": "2025-02-05T08:23:24.149Z"
   },
   {
    "duration": 256,
    "start_time": "2025-02-05T08:31:33.437Z"
   },
   {
    "duration": 262,
    "start_time": "2025-02-05T08:31:47.750Z"
   },
   {
    "duration": 231,
    "start_time": "2025-02-05T08:32:12.776Z"
   },
   {
    "duration": 346,
    "start_time": "2025-02-05T08:32:28.745Z"
   },
   {
    "duration": 232,
    "start_time": "2025-02-05T08:32:33.429Z"
   },
   {
    "duration": 261,
    "start_time": "2025-02-05T08:32:44.037Z"
   },
   {
    "duration": 256,
    "start_time": "2025-02-05T08:33:40.456Z"
   },
   {
    "duration": 190,
    "start_time": "2025-02-05T08:33:47.325Z"
   },
   {
    "duration": 276,
    "start_time": "2025-02-05T08:33:55.641Z"
   },
   {
    "duration": 245,
    "start_time": "2025-02-05T08:34:07.757Z"
   },
   {
    "duration": 240,
    "start_time": "2025-02-05T08:35:11.868Z"
   },
   {
    "duration": 194,
    "start_time": "2025-02-05T08:35:16.715Z"
   },
   {
    "duration": 185,
    "start_time": "2025-02-05T08:35:22.726Z"
   },
   {
    "duration": 185,
    "start_time": "2025-02-05T08:35:29.125Z"
   },
   {
    "duration": 352,
    "start_time": "2025-02-05T08:35:33.657Z"
   },
   {
    "duration": 200,
    "start_time": "2025-02-05T08:35:46.120Z"
   },
   {
    "duration": 236,
    "start_time": "2025-02-05T08:36:16.170Z"
   },
   {
    "duration": 230,
    "start_time": "2025-02-05T08:36:23.798Z"
   },
   {
    "duration": 257,
    "start_time": "2025-02-05T08:36:37.239Z"
   },
   {
    "duration": 241,
    "start_time": "2025-02-05T08:36:41.591Z"
   },
   {
    "duration": 263,
    "start_time": "2025-02-05T08:36:45.256Z"
   },
   {
    "duration": 264,
    "start_time": "2025-02-05T08:36:50.737Z"
   },
   {
    "duration": 255,
    "start_time": "2025-02-05T08:36:55.578Z"
   },
   {
    "duration": 11,
    "start_time": "2025-02-05T08:39:29.372Z"
   },
   {
    "duration": 12,
    "start_time": "2025-02-05T08:39:37.082Z"
   },
   {
    "duration": 11,
    "start_time": "2025-02-05T08:41:07.449Z"
   },
   {
    "duration": 12,
    "start_time": "2025-02-05T08:41:36.053Z"
   },
   {
    "duration": 11,
    "start_time": "2025-02-05T08:41:53.247Z"
   },
   {
    "duration": 12,
    "start_time": "2025-02-05T08:42:05.902Z"
   },
   {
    "duration": 11,
    "start_time": "2025-02-05T08:42:54.796Z"
   },
   {
    "duration": 11,
    "start_time": "2025-02-05T08:44:32.666Z"
   },
   {
    "duration": 386,
    "start_time": "2025-02-05T08:45:16.141Z"
   },
   {
    "duration": 378,
    "start_time": "2025-02-05T08:45:23.333Z"
   },
   {
    "duration": 332,
    "start_time": "2025-02-05T08:45:38.468Z"
   },
   {
    "duration": 276,
    "start_time": "2025-02-05T08:46:31.495Z"
   },
   {
    "duration": 279,
    "start_time": "2025-02-05T08:46:38.613Z"
   },
   {
    "duration": 273,
    "start_time": "2025-02-05T08:46:46.926Z"
   },
   {
    "duration": 288,
    "start_time": "2025-02-05T08:46:51.556Z"
   },
   {
    "duration": 261,
    "start_time": "2025-02-05T08:48:32.576Z"
   },
   {
    "duration": 294,
    "start_time": "2025-02-05T08:48:51.621Z"
   },
   {
    "duration": 146,
    "start_time": "2025-02-05T08:49:49.982Z"
   },
   {
    "duration": 220,
    "start_time": "2025-02-05T09:19:21.461Z"
   },
   {
    "duration": 307,
    "start_time": "2025-02-05T09:19:30.035Z"
   },
   {
    "duration": 5,
    "start_time": "2025-02-05T09:29:13.545Z"
   },
   {
    "duration": 5,
    "start_time": "2025-02-05T09:32:08.177Z"
   },
   {
    "duration": 5,
    "start_time": "2025-02-05T09:32:31.626Z"
   },
   {
    "duration": 5,
    "start_time": "2025-02-05T09:34:20.111Z"
   },
   {
    "duration": 5,
    "start_time": "2025-02-05T09:34:28.689Z"
   },
   {
    "duration": 5,
    "start_time": "2025-02-05T09:34:38.345Z"
   },
   {
    "duration": 1209,
    "start_time": "2025-02-05T09:40:03.134Z"
   },
   {
    "duration": 20,
    "start_time": "2025-02-05T09:40:04.345Z"
   },
   {
    "duration": 15,
    "start_time": "2025-02-05T09:40:04.366Z"
   },
   {
    "duration": 32,
    "start_time": "2025-02-05T09:40:04.383Z"
   },
   {
    "duration": 77,
    "start_time": "2025-02-05T09:40:04.416Z"
   },
   {
    "duration": 7,
    "start_time": "2025-02-05T09:40:04.494Z"
   },
   {
    "duration": 23,
    "start_time": "2025-02-05T09:40:04.502Z"
   },
   {
    "duration": 33,
    "start_time": "2025-02-05T09:40:04.527Z"
   },
   {
    "duration": 50,
    "start_time": "2025-02-05T09:40:04.561Z"
   },
   {
    "duration": 12,
    "start_time": "2025-02-05T09:40:04.614Z"
   },
   {
    "duration": 30,
    "start_time": "2025-02-05T09:40:04.628Z"
   },
   {
    "duration": 19,
    "start_time": "2025-02-05T09:40:04.660Z"
   },
   {
    "duration": 23,
    "start_time": "2025-02-05T09:40:04.680Z"
   },
   {
    "duration": 23,
    "start_time": "2025-02-05T09:40:04.705Z"
   },
   {
    "duration": 16,
    "start_time": "2025-02-05T09:40:04.730Z"
   },
   {
    "duration": 9,
    "start_time": "2025-02-05T09:40:04.747Z"
   },
   {
    "duration": 17,
    "start_time": "2025-02-05T09:40:04.758Z"
   },
   {
    "duration": 40,
    "start_time": "2025-02-05T09:40:04.777Z"
   },
   {
    "duration": 8,
    "start_time": "2025-02-05T09:40:04.819Z"
   },
   {
    "duration": 80,
    "start_time": "2025-02-05T09:40:04.829Z"
   },
   {
    "duration": 10,
    "start_time": "2025-02-05T09:40:04.911Z"
   },
   {
    "duration": 184,
    "start_time": "2025-02-05T09:40:04.922Z"
   },
   {
    "duration": 156,
    "start_time": "2025-02-05T09:40:05.107Z"
   },
   {
    "duration": 251,
    "start_time": "2025-02-05T09:40:05.265Z"
   },
   {
    "duration": 305,
    "start_time": "2025-02-05T09:40:05.517Z"
   },
   {
    "duration": 347,
    "start_time": "2025-02-05T09:40:05.823Z"
   },
   {
    "duration": 229,
    "start_time": "2025-02-05T09:40:06.173Z"
   },
   {
    "duration": 311,
    "start_time": "2025-02-05T09:40:06.406Z"
   },
   {
    "duration": 387,
    "start_time": "2025-02-05T09:40:06.719Z"
   },
   {
    "duration": 204,
    "start_time": "2025-02-05T09:40:07.107Z"
   },
   {
    "duration": 317,
    "start_time": "2025-02-05T09:40:07.313Z"
   },
   {
    "duration": 18,
    "start_time": "2025-02-05T09:40:07.632Z"
   },
   {
    "duration": 6,
    "start_time": "2025-02-05T09:40:07.662Z"
   },
   {
    "duration": 8,
    "start_time": "2025-02-05T09:40:07.670Z"
   },
   {
    "duration": 31,
    "start_time": "2025-02-05T09:40:07.680Z"
   },
   {
    "duration": 26,
    "start_time": "2025-02-05T09:40:07.712Z"
   },
   {
    "duration": 24,
    "start_time": "2025-02-05T09:40:07.739Z"
   },
   {
    "duration": 5,
    "start_time": "2025-02-05T09:40:07.765Z"
   },
   {
    "duration": 14,
    "start_time": "2025-02-05T09:40:07.771Z"
   },
   {
    "duration": 1184,
    "start_time": "2025-02-05T09:48:28.262Z"
   },
   {
    "duration": 19,
    "start_time": "2025-02-05T09:48:29.448Z"
   },
   {
    "duration": 8,
    "start_time": "2025-02-05T09:48:29.469Z"
   },
   {
    "duration": 12,
    "start_time": "2025-02-05T09:48:29.479Z"
   },
   {
    "duration": 29,
    "start_time": "2025-02-05T09:48:29.492Z"
   },
   {
    "duration": 7,
    "start_time": "2025-02-05T09:48:29.522Z"
   },
   {
    "duration": 12,
    "start_time": "2025-02-05T09:48:29.530Z"
   },
   {
    "duration": 20,
    "start_time": "2025-02-05T09:48:29.544Z"
   },
   {
    "duration": 7,
    "start_time": "2025-02-05T09:48:29.566Z"
   },
   {
    "duration": 10,
    "start_time": "2025-02-05T09:48:29.577Z"
   },
   {
    "duration": 5,
    "start_time": "2025-02-05T09:48:29.589Z"
   },
   {
    "duration": 4,
    "start_time": "2025-02-05T09:48:29.595Z"
   },
   {
    "duration": 8,
    "start_time": "2025-02-05T09:48:29.601Z"
   },
   {
    "duration": 10,
    "start_time": "2025-02-05T09:48:29.610Z"
   },
   {
    "duration": 40,
    "start_time": "2025-02-05T09:48:29.621Z"
   },
   {
    "duration": 6,
    "start_time": "2025-02-05T09:48:29.663Z"
   },
   {
    "duration": 6,
    "start_time": "2025-02-05T09:48:29.670Z"
   },
   {
    "duration": 6,
    "start_time": "2025-02-05T09:48:29.677Z"
   },
   {
    "duration": 6,
    "start_time": "2025-02-05T09:48:29.685Z"
   },
   {
    "duration": 5,
    "start_time": "2025-02-05T09:48:29.693Z"
   },
   {
    "duration": 8,
    "start_time": "2025-02-05T09:48:29.699Z"
   },
   {
    "duration": 235,
    "start_time": "2025-02-05T09:48:29.709Z"
   },
   {
    "duration": 162,
    "start_time": "2025-02-05T09:48:29.945Z"
   },
   {
    "duration": 225,
    "start_time": "2025-02-05T09:48:30.108Z"
   },
   {
    "duration": 287,
    "start_time": "2025-02-05T09:48:30.335Z"
   },
   {
    "duration": 363,
    "start_time": "2025-02-05T09:48:30.624Z"
   },
   {
    "duration": 221,
    "start_time": "2025-02-05T09:48:30.989Z"
   },
   {
    "duration": 308,
    "start_time": "2025-02-05T09:48:31.215Z"
   },
   {
    "duration": 418,
    "start_time": "2025-02-05T09:48:31.525Z"
   },
   {
    "duration": 211,
    "start_time": "2025-02-05T09:48:31.945Z"
   },
   {
    "duration": 306,
    "start_time": "2025-02-05T09:48:32.157Z"
   },
   {
    "duration": 18,
    "start_time": "2025-02-05T09:48:32.465Z"
   },
   {
    "duration": 46,
    "start_time": "2025-02-05T09:48:32.484Z"
   },
   {
    "duration": 21,
    "start_time": "2025-02-05T09:48:32.531Z"
   },
   {
    "duration": 26,
    "start_time": "2025-02-05T09:48:32.554Z"
   },
   {
    "duration": 25,
    "start_time": "2025-02-05T09:48:32.582Z"
   },
   {
    "duration": 9,
    "start_time": "2025-02-05T09:48:32.609Z"
   },
   {
    "duration": 14,
    "start_time": "2025-02-05T09:48:32.619Z"
   },
   {
    "duration": 18,
    "start_time": "2025-02-05T09:48:32.634Z"
   },
   {
    "duration": 1180,
    "start_time": "2025-02-05T10:50:10.901Z"
   },
   {
    "duration": 19,
    "start_time": "2025-02-05T10:50:12.083Z"
   },
   {
    "duration": 9,
    "start_time": "2025-02-05T10:50:12.104Z"
   },
   {
    "duration": 95,
    "start_time": "2025-02-05T10:50:12.115Z"
   },
   {
    "duration": 37,
    "start_time": "2025-02-05T10:50:12.252Z"
   },
   {
    "duration": 18,
    "start_time": "2025-02-05T10:50:12.291Z"
   },
   {
    "duration": 5,
    "start_time": "2025-02-05T10:50:12.311Z"
   },
   {
    "duration": 13,
    "start_time": "2025-02-05T10:50:12.318Z"
   },
   {
    "duration": 9,
    "start_time": "2025-02-05T10:50:12.332Z"
   },
   {
    "duration": 5,
    "start_time": "2025-02-05T10:50:12.342Z"
   },
   {
    "duration": 7,
    "start_time": "2025-02-05T10:50:12.348Z"
   },
   {
    "duration": 14,
    "start_time": "2025-02-05T10:50:12.359Z"
   },
   {
    "duration": 54,
    "start_time": "2025-02-05T10:50:12.375Z"
   },
   {
    "duration": 6,
    "start_time": "2025-02-05T10:50:12.431Z"
   },
   {
    "duration": 6,
    "start_time": "2025-02-05T10:50:12.439Z"
   },
   {
    "duration": 8,
    "start_time": "2025-02-05T10:50:12.446Z"
   },
   {
    "duration": 8,
    "start_time": "2025-02-05T10:50:12.455Z"
   },
   {
    "duration": 30,
    "start_time": "2025-02-05T10:50:12.464Z"
   },
   {
    "duration": 9,
    "start_time": "2025-02-05T10:50:12.496Z"
   },
   {
    "duration": 198,
    "start_time": "2025-02-05T10:50:12.507Z"
   },
   {
    "duration": 147,
    "start_time": "2025-02-05T10:50:12.707Z"
   },
   {
    "duration": 213,
    "start_time": "2025-02-05T10:50:12.856Z"
   },
   {
    "duration": 286,
    "start_time": "2025-02-05T10:50:13.071Z"
   },
   {
    "duration": 344,
    "start_time": "2025-02-05T10:50:13.359Z"
   },
   {
    "duration": 228,
    "start_time": "2025-02-05T10:50:13.705Z"
   },
   {
    "duration": 298,
    "start_time": "2025-02-05T10:50:13.935Z"
   },
   {
    "duration": 441,
    "start_time": "2025-02-05T10:50:14.235Z"
   },
   {
    "duration": 227,
    "start_time": "2025-02-05T10:50:14.678Z"
   },
   {
    "duration": 348,
    "start_time": "2025-02-05T10:50:14.908Z"
   },
   {
    "duration": 21,
    "start_time": "2025-02-05T10:50:15.258Z"
   },
   {
    "duration": 23,
    "start_time": "2025-02-05T10:50:15.281Z"
   },
   {
    "duration": 7,
    "start_time": "2025-02-05T10:50:15.305Z"
   },
   {
    "duration": 43,
    "start_time": "2025-02-05T10:50:15.314Z"
   },
   {
    "duration": 26,
    "start_time": "2025-02-05T10:50:15.358Z"
   },
   {
    "duration": 17,
    "start_time": "2025-02-05T10:50:15.386Z"
   },
   {
    "duration": 6,
    "start_time": "2025-02-05T10:50:15.404Z"
   },
   {
    "duration": 12,
    "start_time": "2025-02-05T10:50:15.412Z"
   },
   {
    "duration": 18,
    "start_time": "2025-02-05T10:52:59.243Z"
   },
   {
    "duration": 17,
    "start_time": "2025-02-05T10:53:05.891Z"
   },
   {
    "duration": 16,
    "start_time": "2025-02-05T10:53:52.282Z"
   },
   {
    "duration": 1258,
    "start_time": "2025-02-05T21:08:52.519Z"
   },
   {
    "duration": 19,
    "start_time": "2025-02-05T21:08:53.779Z"
   },
   {
    "duration": 9,
    "start_time": "2025-02-05T21:08:53.799Z"
   },
   {
    "duration": 13,
    "start_time": "2025-02-05T21:08:53.810Z"
   },
   {
    "duration": 37,
    "start_time": "2025-02-05T21:08:53.824Z"
   },
   {
    "duration": 5,
    "start_time": "2025-02-05T21:08:53.863Z"
   },
   {
    "duration": 70,
    "start_time": "2025-02-05T21:08:53.870Z"
   },
   {
    "duration": 16,
    "start_time": "2025-02-05T21:08:53.942Z"
   },
   {
    "duration": 5,
    "start_time": "2025-02-05T21:08:53.959Z"
   },
   {
    "duration": 27,
    "start_time": "2025-02-05T21:08:53.967Z"
   },
   {
    "duration": 13,
    "start_time": "2025-02-05T21:08:53.995Z"
   },
   {
    "duration": 14,
    "start_time": "2025-02-05T21:08:54.010Z"
   },
   {
    "duration": 5,
    "start_time": "2025-02-05T21:08:54.025Z"
   },
   {
    "duration": 7,
    "start_time": "2025-02-05T21:08:54.032Z"
   },
   {
    "duration": 5,
    "start_time": "2025-02-05T21:08:54.040Z"
   },
   {
    "duration": 17,
    "start_time": "2025-02-05T21:08:54.047Z"
   },
   {
    "duration": 6,
    "start_time": "2025-02-05T21:08:54.065Z"
   },
   {
    "duration": 6,
    "start_time": "2025-02-05T21:08:54.072Z"
   },
   {
    "duration": 8,
    "start_time": "2025-02-05T21:08:54.079Z"
   },
   {
    "duration": 5,
    "start_time": "2025-02-05T21:08:54.099Z"
   },
   {
    "duration": 17,
    "start_time": "2025-02-05T21:08:54.105Z"
   },
   {
    "duration": 205,
    "start_time": "2025-02-05T21:08:54.124Z"
   },
   {
    "duration": 139,
    "start_time": "2025-02-05T21:08:54.331Z"
   },
   {
    "duration": 202,
    "start_time": "2025-02-05T21:08:54.471Z"
   },
   {
    "duration": 274,
    "start_time": "2025-02-05T21:08:54.674Z"
   },
   {
    "duration": 345,
    "start_time": "2025-02-05T21:08:54.950Z"
   },
   {
    "duration": 248,
    "start_time": "2025-02-05T21:08:55.299Z"
   },
   {
    "duration": 310,
    "start_time": "2025-02-05T21:08:55.552Z"
   },
   {
    "duration": 384,
    "start_time": "2025-02-05T21:08:55.864Z"
   },
   {
    "duration": 199,
    "start_time": "2025-02-05T21:08:56.250Z"
   },
   {
    "duration": 304,
    "start_time": "2025-02-05T21:08:56.451Z"
   },
   {
    "duration": 18,
    "start_time": "2025-02-05T21:08:56.757Z"
   },
   {
    "duration": 6,
    "start_time": "2025-02-05T21:08:56.776Z"
   },
   {
    "duration": 19,
    "start_time": "2025-02-05T21:08:56.784Z"
   },
   {
    "duration": 25,
    "start_time": "2025-02-05T21:08:56.805Z"
   },
   {
    "duration": 23,
    "start_time": "2025-02-05T21:08:56.832Z"
   },
   {
    "duration": 4,
    "start_time": "2025-02-05T21:08:56.857Z"
   },
   {
    "duration": 7,
    "start_time": "2025-02-05T21:08:56.863Z"
   },
   {
    "duration": 30,
    "start_time": "2025-02-05T21:08:56.872Z"
   },
   {
    "duration": 11,
    "start_time": "2025-02-05T21:10:14.865Z"
   },
   {
    "duration": 13,
    "start_time": "2025-02-05T21:12:14.294Z"
   },
   {
    "duration": 11,
    "start_time": "2025-02-05T21:12:21.525Z"
   },
   {
    "duration": 11,
    "start_time": "2025-02-05T21:12:31.439Z"
   },
   {
    "duration": 10,
    "start_time": "2025-02-05T21:12:37.680Z"
   },
   {
    "duration": 11,
    "start_time": "2025-02-05T21:12:56.632Z"
   },
   {
    "duration": 6,
    "start_time": "2025-02-05T21:13:15.210Z"
   },
   {
    "duration": 101,
    "start_time": "2025-02-05T21:14:29.794Z"
   },
   {
    "duration": 9,
    "start_time": "2025-02-05T21:14:59.173Z"
   },
   {
    "duration": 10,
    "start_time": "2025-02-05T21:15:04.096Z"
   },
   {
    "duration": 4,
    "start_time": "2025-02-05T21:15:25.945Z"
   },
   {
    "duration": 5,
    "start_time": "2025-02-05T21:15:43.357Z"
   },
   {
    "duration": 54,
    "start_time": "2025-02-05T21:15:57.562Z"
   },
   {
    "duration": 10,
    "start_time": "2025-02-05T21:16:01.434Z"
   },
   {
    "duration": 5,
    "start_time": "2025-02-05T21:16:05.860Z"
   },
   {
    "duration": 5,
    "start_time": "2025-02-05T21:16:31.686Z"
   },
   {
    "duration": 6,
    "start_time": "2025-02-05T21:16:49.779Z"
   },
   {
    "duration": 8,
    "start_time": "2025-02-05T21:17:10.866Z"
   },
   {
    "duration": 6,
    "start_time": "2025-02-05T21:17:16.995Z"
   },
   {
    "duration": 6,
    "start_time": "2025-02-05T21:18:09.581Z"
   },
   {
    "duration": 10,
    "start_time": "2025-02-05T21:18:22.261Z"
   },
   {
    "duration": 5,
    "start_time": "2025-02-05T21:18:29.350Z"
   },
   {
    "duration": 6,
    "start_time": "2025-02-05T21:19:01.200Z"
   },
   {
    "duration": 1185,
    "start_time": "2025-02-05T21:23:48.193Z"
   },
   {
    "duration": 19,
    "start_time": "2025-02-05T21:23:49.380Z"
   },
   {
    "duration": 15,
    "start_time": "2025-02-05T21:23:49.400Z"
   },
   {
    "duration": 12,
    "start_time": "2025-02-05T21:23:49.417Z"
   },
   {
    "duration": 33,
    "start_time": "2025-02-05T21:23:49.430Z"
   },
   {
    "duration": 9,
    "start_time": "2025-02-05T21:23:49.465Z"
   },
   {
    "duration": 17,
    "start_time": "2025-02-05T21:23:49.475Z"
   },
   {
    "duration": 15,
    "start_time": "2025-02-05T21:23:49.500Z"
   },
   {
    "duration": 6,
    "start_time": "2025-02-05T21:23:49.517Z"
   },
   {
    "duration": 10,
    "start_time": "2025-02-05T21:23:49.526Z"
   },
   {
    "duration": 9,
    "start_time": "2025-02-05T21:23:49.538Z"
   },
   {
    "duration": 16,
    "start_time": "2025-02-05T21:23:49.548Z"
   },
   {
    "duration": 3,
    "start_time": "2025-02-05T21:23:49.566Z"
   },
   {
    "duration": 10,
    "start_time": "2025-02-05T21:23:49.571Z"
   },
   {
    "duration": 18,
    "start_time": "2025-02-05T21:23:49.582Z"
   },
   {
    "duration": 5,
    "start_time": "2025-02-05T21:23:49.601Z"
   },
   {
    "duration": 15,
    "start_time": "2025-02-05T21:23:49.608Z"
   },
   {
    "duration": 8,
    "start_time": "2025-02-05T21:23:49.625Z"
   },
   {
    "duration": 10,
    "start_time": "2025-02-05T21:23:49.635Z"
   },
   {
    "duration": 5,
    "start_time": "2025-02-05T21:23:49.647Z"
   },
   {
    "duration": 43,
    "start_time": "2025-02-05T21:23:49.654Z"
   },
   {
    "duration": 26,
    "start_time": "2025-02-05T21:23:49.699Z"
   },
   {
    "duration": 207,
    "start_time": "2025-02-05T21:23:49.726Z"
   },
   {
    "duration": 148,
    "start_time": "2025-02-05T21:23:49.934Z"
   },
   {
    "duration": 218,
    "start_time": "2025-02-05T21:23:50.084Z"
   },
   {
    "duration": 280,
    "start_time": "2025-02-05T21:23:50.304Z"
   },
   {
    "duration": 345,
    "start_time": "2025-02-05T21:23:50.586Z"
   },
   {
    "duration": 215,
    "start_time": "2025-02-05T21:23:50.934Z"
   },
   {
    "duration": 292,
    "start_time": "2025-02-05T21:23:51.150Z"
   },
   {
    "duration": 380,
    "start_time": "2025-02-05T21:23:51.443Z"
   },
   {
    "duration": 204,
    "start_time": "2025-02-05T21:23:51.824Z"
   },
   {
    "duration": 306,
    "start_time": "2025-02-05T21:23:52.029Z"
   },
   {
    "duration": 19,
    "start_time": "2025-02-05T21:23:52.337Z"
   },
   {
    "duration": 6,
    "start_time": "2025-02-05T21:23:52.357Z"
   },
   {
    "duration": 5,
    "start_time": "2025-02-05T21:23:52.365Z"
   },
   {
    "duration": 47,
    "start_time": "2025-02-05T21:23:52.371Z"
   },
   {
    "duration": 23,
    "start_time": "2025-02-05T21:23:52.419Z"
   },
   {
    "duration": 5,
    "start_time": "2025-02-05T21:23:52.444Z"
   },
   {
    "duration": 5,
    "start_time": "2025-02-05T21:23:52.450Z"
   },
   {
    "duration": 15,
    "start_time": "2025-02-05T21:23:52.457Z"
   },
   {
    "duration": 8,
    "start_time": "2025-02-05T21:25:38.497Z"
   },
   {
    "duration": 168,
    "start_time": "2025-02-05T21:30:53.522Z"
   },
   {
    "duration": 86,
    "start_time": "2025-02-05T21:31:59.352Z"
   },
   {
    "duration": 182,
    "start_time": "2025-02-05T21:32:09.272Z"
   },
   {
    "duration": 179,
    "start_time": "2025-02-05T21:32:26.702Z"
   },
   {
    "duration": 264,
    "start_time": "2025-02-05T21:33:32.141Z"
   },
   {
    "duration": 206,
    "start_time": "2025-02-05T21:34:35.444Z"
   },
   {
    "duration": 1055,
    "start_time": "2025-02-05T21:36:44.235Z"
   },
   {
    "duration": 19,
    "start_time": "2025-02-05T21:36:45.292Z"
   },
   {
    "duration": 84,
    "start_time": "2025-02-05T21:36:45.312Z"
   },
   {
    "duration": 73,
    "start_time": "2025-02-05T21:36:45.398Z"
   },
   {
    "duration": 40,
    "start_time": "2025-02-05T21:36:45.473Z"
   },
   {
    "duration": 9,
    "start_time": "2025-02-05T21:36:45.514Z"
   },
   {
    "duration": 12,
    "start_time": "2025-02-05T21:36:45.525Z"
   },
   {
    "duration": 21,
    "start_time": "2025-02-05T21:36:45.538Z"
   },
   {
    "duration": 16,
    "start_time": "2025-02-05T21:36:45.561Z"
   },
   {
    "duration": 16,
    "start_time": "2025-02-05T21:36:45.580Z"
   },
   {
    "duration": 8,
    "start_time": "2025-02-05T21:36:45.598Z"
   },
   {
    "duration": 11,
    "start_time": "2025-02-05T21:36:45.608Z"
   },
   {
    "duration": 7,
    "start_time": "2025-02-05T21:36:45.621Z"
   },
   {
    "duration": 8,
    "start_time": "2025-02-05T21:36:45.629Z"
   },
   {
    "duration": 5,
    "start_time": "2025-02-05T21:36:45.639Z"
   },
   {
    "duration": 12,
    "start_time": "2025-02-05T21:36:45.646Z"
   },
   {
    "duration": 14,
    "start_time": "2025-02-05T21:36:45.659Z"
   },
   {
    "duration": 26,
    "start_time": "2025-02-05T21:36:45.674Z"
   },
   {
    "duration": 11,
    "start_time": "2025-02-05T21:36:45.702Z"
   },
   {
    "duration": 5,
    "start_time": "2025-02-05T21:36:45.715Z"
   },
   {
    "duration": 5,
    "start_time": "2025-02-05T21:36:45.721Z"
   },
   {
    "duration": 73,
    "start_time": "2025-02-05T21:36:45.728Z"
   },
   {
    "duration": 189,
    "start_time": "2025-02-05T21:36:45.803Z"
   },
   {
    "duration": 143,
    "start_time": "2025-02-05T21:36:45.999Z"
   },
   {
    "duration": 214,
    "start_time": "2025-02-05T21:36:46.144Z"
   },
   {
    "duration": 283,
    "start_time": "2025-02-05T21:36:46.359Z"
   },
   {
    "duration": 337,
    "start_time": "2025-02-05T21:36:46.644Z"
   },
   {
    "duration": 218,
    "start_time": "2025-02-05T21:36:46.984Z"
   },
   {
    "duration": 289,
    "start_time": "2025-02-05T21:36:47.203Z"
   },
   {
    "duration": 378,
    "start_time": "2025-02-05T21:36:47.494Z"
   },
   {
    "duration": 198,
    "start_time": "2025-02-05T21:36:47.873Z"
   },
   {
    "duration": 297,
    "start_time": "2025-02-05T21:36:48.073Z"
   },
   {
    "duration": 29,
    "start_time": "2025-02-05T21:36:48.371Z"
   },
   {
    "duration": 9,
    "start_time": "2025-02-05T21:36:48.401Z"
   },
   {
    "duration": 8,
    "start_time": "2025-02-05T21:36:48.411Z"
   },
   {
    "duration": 25,
    "start_time": "2025-02-05T21:36:48.420Z"
   },
   {
    "duration": 24,
    "start_time": "2025-02-05T21:36:48.447Z"
   },
   {
    "duration": 28,
    "start_time": "2025-02-05T21:36:48.473Z"
   },
   {
    "duration": 6,
    "start_time": "2025-02-05T21:36:48.502Z"
   },
   {
    "duration": 7,
    "start_time": "2025-02-05T21:36:48.509Z"
   },
   {
    "duration": 145,
    "start_time": "2025-02-05T21:38:20.040Z"
   },
   {
    "duration": 223,
    "start_time": "2025-02-05T21:39:12.045Z"
   },
   {
    "duration": 135,
    "start_time": "2025-02-05T21:39:17.952Z"
   },
   {
    "duration": 142,
    "start_time": "2025-02-05T21:39:26.793Z"
   },
   {
    "duration": 232,
    "start_time": "2025-02-05T21:43:10.066Z"
   },
   {
    "duration": 18,
    "start_time": "2025-02-05T21:43:27.153Z"
   },
   {
    "duration": 143,
    "start_time": "2025-02-05T21:43:37.324Z"
   },
   {
    "duration": 16,
    "start_time": "2025-02-05T21:44:04.513Z"
   },
   {
    "duration": 136,
    "start_time": "2025-02-05T21:44:20.265Z"
   },
   {
    "duration": 142,
    "start_time": "2025-02-05T21:46:26.689Z"
   },
   {
    "duration": 136,
    "start_time": "2025-02-05T21:46:52.112Z"
   },
   {
    "duration": 147,
    "start_time": "2025-02-05T21:47:01.636Z"
   },
   {
    "duration": 140,
    "start_time": "2025-02-05T21:47:16.014Z"
   },
   {
    "duration": 146,
    "start_time": "2025-02-05T21:47:27.460Z"
   },
   {
    "duration": 142,
    "start_time": "2025-02-05T21:47:36.751Z"
   },
   {
    "duration": 122,
    "start_time": "2025-02-05T21:51:35.232Z"
   },
   {
    "duration": 144,
    "start_time": "2025-02-05T21:52:36.101Z"
   },
   {
    "duration": 138,
    "start_time": "2025-02-05T21:52:44.767Z"
   },
   {
    "duration": 209,
    "start_time": "2025-02-05T21:54:39.585Z"
   },
   {
    "duration": 281,
    "start_time": "2025-02-05T21:54:48.801Z"
   },
   {
    "duration": 202,
    "start_time": "2025-02-05T21:54:55.136Z"
   },
   {
    "duration": 204,
    "start_time": "2025-02-05T21:55:14.634Z"
   },
   {
    "duration": 190,
    "start_time": "2025-02-05T21:55:35.062Z"
   },
   {
    "duration": 129,
    "start_time": "2025-02-05T21:56:06.977Z"
   },
   {
    "duration": 127,
    "start_time": "2025-02-05T21:56:40.060Z"
   },
   {
    "duration": 193,
    "start_time": "2025-02-05T21:57:02.046Z"
   },
   {
    "duration": 192,
    "start_time": "2025-02-05T21:57:16.704Z"
   },
   {
    "duration": 270,
    "start_time": "2025-02-05T21:58:47.848Z"
   },
   {
    "duration": 271,
    "start_time": "2025-02-05T22:00:07.071Z"
   },
   {
    "duration": 381,
    "start_time": "2025-02-05T22:00:24.644Z"
   },
   {
    "duration": 282,
    "start_time": "2025-02-05T22:00:31.700Z"
   },
   {
    "duration": 285,
    "start_time": "2025-02-05T22:00:37.493Z"
   },
   {
    "duration": 208,
    "start_time": "2025-02-05T22:02:44.805Z"
   },
   {
    "duration": 216,
    "start_time": "2025-02-05T22:03:03.613Z"
   },
   {
    "duration": 222,
    "start_time": "2025-02-05T22:03:29.593Z"
   },
   {
    "duration": 328,
    "start_time": "2025-02-05T22:04:07.372Z"
   },
   {
    "duration": 422,
    "start_time": "2025-02-05T22:06:13.314Z"
   },
   {
    "duration": 229,
    "start_time": "2025-02-05T22:06:28.532Z"
   },
   {
    "duration": 240,
    "start_time": "2025-02-05T22:08:16.595Z"
   },
   {
    "duration": 228,
    "start_time": "2025-02-05T22:08:56.368Z"
   },
   {
    "duration": 217,
    "start_time": "2025-02-05T22:09:22.451Z"
   },
   {
    "duration": 451,
    "start_time": "2025-02-05T22:09:45.729Z"
   },
   {
    "duration": 385,
    "start_time": "2025-02-05T22:10:43.391Z"
   },
   {
    "duration": 208,
    "start_time": "2025-02-05T22:17:31.300Z"
   },
   {
    "duration": 225,
    "start_time": "2025-02-05T22:18:54.463Z"
   },
   {
    "duration": 95,
    "start_time": "2025-02-05T22:19:00.097Z"
   },
   {
    "duration": 93,
    "start_time": "2025-02-05T22:19:10.749Z"
   },
   {
    "duration": 106,
    "start_time": "2025-02-05T22:23:47.176Z"
   },
   {
    "duration": 199,
    "start_time": "2025-02-05T22:24:17.468Z"
   },
   {
    "duration": 119,
    "start_time": "2025-02-05T22:25:22.834Z"
   },
   {
    "duration": 56,
    "start_time": "2025-02-05T22:26:06.144Z"
   },
   {
    "duration": 72,
    "start_time": "2025-02-05T22:26:14.511Z"
   },
   {
    "duration": 9,
    "start_time": "2025-02-05T22:27:48.931Z"
   },
   {
    "duration": 9,
    "start_time": "2025-02-05T22:27:54.899Z"
   },
   {
    "duration": 9,
    "start_time": "2025-02-05T22:28:00.345Z"
   },
   {
    "duration": 9,
    "start_time": "2025-02-05T22:28:19.931Z"
   },
   {
    "duration": 8,
    "start_time": "2025-02-05T22:28:27.886Z"
   },
   {
    "duration": 9,
    "start_time": "2025-02-05T22:28:33.887Z"
   },
   {
    "duration": 9,
    "start_time": "2025-02-05T22:28:54.562Z"
   },
   {
    "duration": 9,
    "start_time": "2025-02-05T22:28:59.331Z"
   },
   {
    "duration": 8,
    "start_time": "2025-02-05T22:29:24.485Z"
   },
   {
    "duration": 117,
    "start_time": "2025-02-05T22:29:33.422Z"
   },
   {
    "duration": 226,
    "start_time": "2025-02-05T22:32:17.276Z"
   },
   {
    "duration": 963,
    "start_time": "2025-02-05T22:35:07.771Z"
   },
   {
    "duration": 226,
    "start_time": "2025-02-05T22:36:08.654Z"
   },
   {
    "duration": 973,
    "start_time": "2025-02-05T22:36:18.389Z"
   },
   {
    "duration": 1037,
    "start_time": "2025-02-05T22:37:26.439Z"
   },
   {
    "duration": 8,
    "start_time": "2025-02-05T22:37:56.994Z"
   },
   {
    "duration": 9,
    "start_time": "2025-02-05T22:40:17.304Z"
   },
   {
    "duration": 202,
    "start_time": "2025-02-05T22:42:42.161Z"
   },
   {
    "duration": 303,
    "start_time": "2025-02-05T22:43:37.218Z"
   },
   {
    "duration": 10,
    "start_time": "2025-02-05T22:44:14.607Z"
   },
   {
    "duration": 462,
    "start_time": "2025-02-05T22:45:34.061Z"
   },
   {
    "duration": 108,
    "start_time": "2025-02-05T22:47:05.940Z"
   },
   {
    "duration": 1025,
    "start_time": "2025-02-05T22:51:49.544Z"
   },
   {
    "duration": 17,
    "start_time": "2025-02-05T22:51:50.571Z"
   },
   {
    "duration": 13,
    "start_time": "2025-02-05T22:51:50.590Z"
   },
   {
    "duration": 90,
    "start_time": "2025-02-05T22:51:50.605Z"
   },
   {
    "duration": 45,
    "start_time": "2025-02-05T22:51:50.696Z"
   },
   {
    "duration": 9,
    "start_time": "2025-02-05T22:51:50.742Z"
   },
   {
    "duration": 12,
    "start_time": "2025-02-05T22:51:50.753Z"
   },
   {
    "duration": 15,
    "start_time": "2025-02-05T22:51:50.766Z"
   },
   {
    "duration": 12,
    "start_time": "2025-02-05T22:51:50.783Z"
   },
   {
    "duration": 14,
    "start_time": "2025-02-05T22:51:50.797Z"
   },
   {
    "duration": 19,
    "start_time": "2025-02-05T22:51:50.812Z"
   },
   {
    "duration": 26,
    "start_time": "2025-02-05T22:51:50.832Z"
   },
   {
    "duration": 12,
    "start_time": "2025-02-05T22:51:50.859Z"
   },
   {
    "duration": 22,
    "start_time": "2025-02-05T22:51:50.872Z"
   },
   {
    "duration": 124,
    "start_time": "2025-02-05T22:51:50.895Z"
   },
   {
    "duration": 13,
    "start_time": "2025-02-05T22:51:51.021Z"
   },
   {
    "duration": 26,
    "start_time": "2025-02-05T22:51:51.035Z"
   },
   {
    "duration": 10,
    "start_time": "2025-02-05T22:51:51.063Z"
   },
   {
    "duration": 34,
    "start_time": "2025-02-05T22:51:51.075Z"
   },
   {
    "duration": 13,
    "start_time": "2025-02-05T22:51:51.110Z"
   },
   {
    "duration": 7,
    "start_time": "2025-02-05T22:51:51.125Z"
   },
   {
    "duration": 27,
    "start_time": "2025-02-05T22:51:51.134Z"
   },
   {
    "duration": 188,
    "start_time": "2025-02-05T22:51:51.162Z"
   },
   {
    "duration": 147,
    "start_time": "2025-02-05T22:51:51.352Z"
   },
   {
    "duration": 205,
    "start_time": "2025-02-05T22:51:51.502Z"
   },
   {
    "duration": 283,
    "start_time": "2025-02-05T22:51:51.709Z"
   },
   {
    "duration": 6,
    "start_time": "2025-02-05T22:51:51.993Z"
   },
   {
    "duration": 340,
    "start_time": "2025-02-05T22:51:52.003Z"
   },
   {
    "duration": 231,
    "start_time": "2025-02-05T22:51:52.345Z"
   },
   {
    "duration": 310,
    "start_time": "2025-02-05T22:51:52.578Z"
   },
   {
    "duration": 128,
    "start_time": "2025-02-05T22:51:52.890Z"
   },
   {
    "duration": 3,
    "start_time": "2025-02-05T22:51:53.019Z"
   },
   {
    "duration": 381,
    "start_time": "2025-02-05T22:51:53.023Z"
   },
   {
    "duration": 210,
    "start_time": "2025-02-05T22:51:53.406Z"
   },
   {
    "duration": 116,
    "start_time": "2025-02-05T22:51:53.618Z"
   },
   {
    "duration": 9,
    "start_time": "2025-02-05T22:51:53.735Z"
   },
   {
    "duration": 327,
    "start_time": "2025-02-05T22:51:53.745Z"
   },
   {
    "duration": 27,
    "start_time": "2025-02-05T22:51:54.074Z"
   },
   {
    "duration": 6,
    "start_time": "2025-02-05T22:51:54.102Z"
   },
   {
    "duration": 7,
    "start_time": "2025-02-05T22:51:54.109Z"
   },
   {
    "duration": 25,
    "start_time": "2025-02-05T22:51:54.118Z"
   },
   {
    "duration": 23,
    "start_time": "2025-02-05T22:51:54.145Z"
   },
   {
    "duration": 169,
    "start_time": "2025-02-05T22:51:54.169Z"
   },
   {
    "duration": 9,
    "start_time": "2025-02-05T22:51:54.339Z"
   },
   {
    "duration": 7,
    "start_time": "2025-02-05T22:51:54.349Z"
   },
   {
    "duration": 24,
    "start_time": "2025-02-05T22:58:22.592Z"
   },
   {
    "duration": 15,
    "start_time": "2025-02-05T22:59:11.035Z"
   },
   {
    "duration": 15,
    "start_time": "2025-02-05T22:59:36.878Z"
   },
   {
    "duration": 4,
    "start_time": "2025-02-05T23:00:32.874Z"
   },
   {
    "duration": 22,
    "start_time": "2025-02-05T23:02:10.579Z"
   },
   {
    "duration": 21,
    "start_time": "2025-02-05T23:02:22.197Z"
   },
   {
    "duration": 21,
    "start_time": "2025-02-05T23:02:34.762Z"
   },
   {
    "duration": 4,
    "start_time": "2025-02-05T23:04:22.904Z"
   },
   {
    "duration": 151,
    "start_time": "2025-02-05T23:05:19.971Z"
   },
   {
    "duration": 45,
    "start_time": "2025-02-05T23:05:27.898Z"
   },
   {
    "duration": 71,
    "start_time": "2025-02-05T23:06:11.014Z"
   },
   {
    "duration": 61,
    "start_time": "2025-02-05T23:06:19.610Z"
   },
   {
    "duration": 48,
    "start_time": "2025-02-05T23:06:24.983Z"
   },
   {
    "duration": 69,
    "start_time": "2025-02-05T23:08:09.305Z"
   },
   {
    "duration": 255,
    "start_time": "2025-02-05T23:09:28.115Z"
   },
   {
    "duration": 354,
    "start_time": "2025-02-05T23:11:30.784Z"
   },
   {
    "duration": 105,
    "start_time": "2025-02-05T23:13:00.460Z"
   },
   {
    "duration": 236,
    "start_time": "2025-02-05T23:13:14.520Z"
   },
   {
    "duration": 180,
    "start_time": "2025-02-05T23:13:23.722Z"
   },
   {
    "duration": 401,
    "start_time": "2025-02-05T23:13:35.541Z"
   },
   {
    "duration": 297,
    "start_time": "2025-02-05T23:13:42.917Z"
   },
   {
    "duration": 358,
    "start_time": "2025-02-05T23:13:53.358Z"
   },
   {
    "duration": 276,
    "start_time": "2025-02-05T23:14:06.660Z"
   },
   {
    "duration": 12,
    "start_time": "2025-02-05T23:18:48.839Z"
   },
   {
    "duration": 9,
    "start_time": "2025-02-05T23:18:59.571Z"
   },
   {
    "duration": 8,
    "start_time": "2025-02-05T23:19:19.122Z"
   },
   {
    "duration": 8,
    "start_time": "2025-02-05T23:19:51.726Z"
   },
   {
    "duration": 8,
    "start_time": "2025-02-05T23:20:21.517Z"
   },
   {
    "duration": 8,
    "start_time": "2025-02-05T23:20:26.175Z"
   },
   {
    "duration": 30,
    "start_time": "2025-02-05T23:31:22.684Z"
   },
   {
    "duration": 30,
    "start_time": "2025-02-05T23:31:32.781Z"
   },
   {
    "duration": 16,
    "start_time": "2025-02-05T23:32:15.735Z"
   },
   {
    "duration": 22,
    "start_time": "2025-02-05T23:34:18.866Z"
   },
   {
    "duration": 14,
    "start_time": "2025-02-05T23:37:56.603Z"
   },
   {
    "duration": 24,
    "start_time": "2025-02-05T23:38:45.532Z"
   },
   {
    "duration": 15,
    "start_time": "2025-02-05T23:38:50.046Z"
   },
   {
    "duration": 1008,
    "start_time": "2025-02-05T23:42:03.147Z"
   },
   {
    "duration": 1120,
    "start_time": "2025-02-05T23:43:28.348Z"
   },
   {
    "duration": 18,
    "start_time": "2025-02-05T23:43:29.470Z"
   },
   {
    "duration": 17,
    "start_time": "2025-02-05T23:43:29.489Z"
   },
   {
    "duration": 9,
    "start_time": "2025-02-05T23:43:29.509Z"
   },
   {
    "duration": 30,
    "start_time": "2025-02-05T23:43:29.520Z"
   },
   {
    "duration": 9,
    "start_time": "2025-02-05T23:43:29.552Z"
   },
   {
    "duration": 12,
    "start_time": "2025-02-05T23:43:29.562Z"
   },
   {
    "duration": 15,
    "start_time": "2025-02-05T23:43:29.576Z"
   },
   {
    "duration": 12,
    "start_time": "2025-02-05T23:43:29.592Z"
   },
   {
    "duration": 10,
    "start_time": "2025-02-05T23:43:29.607Z"
   },
   {
    "duration": 6,
    "start_time": "2025-02-05T23:43:29.619Z"
   },
   {
    "duration": 6,
    "start_time": "2025-02-05T23:43:29.627Z"
   },
   {
    "duration": 7,
    "start_time": "2025-02-05T23:43:29.635Z"
   },
   {
    "duration": 5,
    "start_time": "2025-02-05T23:43:29.644Z"
   },
   {
    "duration": 8,
    "start_time": "2025-02-05T23:43:29.651Z"
   },
   {
    "duration": 9,
    "start_time": "2025-02-05T23:43:29.660Z"
   },
   {
    "duration": 29,
    "start_time": "2025-02-05T23:43:29.671Z"
   },
   {
    "duration": 6,
    "start_time": "2025-02-05T23:43:29.701Z"
   },
   {
    "duration": 8,
    "start_time": "2025-02-05T23:43:29.709Z"
   },
   {
    "duration": 59,
    "start_time": "2025-02-05T23:43:29.718Z"
   },
   {
    "duration": 12,
    "start_time": "2025-02-05T23:43:29.778Z"
   },
   {
    "duration": 8,
    "start_time": "2025-02-05T23:43:29.791Z"
   },
   {
    "duration": 250,
    "start_time": "2025-02-05T23:43:29.801Z"
   },
   {
    "duration": 152,
    "start_time": "2025-02-05T23:43:30.053Z"
   },
   {
    "duration": 208,
    "start_time": "2025-02-05T23:43:30.207Z"
   },
   {
    "duration": 286,
    "start_time": "2025-02-05T23:43:30.416Z"
   },
   {
    "duration": 2,
    "start_time": "2025-02-05T23:43:30.704Z"
   },
   {
    "duration": 347,
    "start_time": "2025-02-05T23:43:30.709Z"
   },
   {
    "duration": 228,
    "start_time": "2025-02-05T23:43:31.058Z"
   },
   {
    "duration": 306,
    "start_time": "2025-02-05T23:43:31.287Z"
   },
   {
    "duration": 122,
    "start_time": "2025-02-05T23:43:31.599Z"
   },
   {
    "duration": 3,
    "start_time": "2025-02-05T23:43:31.722Z"
   },
   {
    "duration": 476,
    "start_time": "2025-02-05T23:43:31.726Z"
   },
   {
    "duration": 214,
    "start_time": "2025-02-05T23:43:32.204Z"
   },
   {
    "duration": 113,
    "start_time": "2025-02-05T23:43:32.419Z"
   },
   {
    "duration": 8,
    "start_time": "2025-02-05T23:43:32.534Z"
   },
   {
    "duration": 326,
    "start_time": "2025-02-05T23:43:32.544Z"
   },
   {
    "duration": 30,
    "start_time": "2025-02-05T23:43:32.871Z"
   },
   {
    "duration": 22,
    "start_time": "2025-02-05T23:43:32.903Z"
   },
   {
    "duration": 14,
    "start_time": "2025-02-05T23:43:32.927Z"
   },
   {
    "duration": 22,
    "start_time": "2025-02-05T23:43:32.942Z"
   },
   {
    "duration": 4,
    "start_time": "2025-02-05T23:43:32.965Z"
   },
   {
    "duration": 304,
    "start_time": "2025-02-05T23:43:32.971Z"
   },
   {
    "duration": 8,
    "start_time": "2025-02-05T23:43:33.276Z"
   },
   {
    "duration": 18,
    "start_time": "2025-02-05T23:43:33.286Z"
   },
   {
    "duration": 383,
    "start_time": "2025-02-05T23:43:33.306Z"
   },
   {
    "duration": 14,
    "start_time": "2025-02-05T23:43:33.690Z"
   },
   {
    "duration": 9,
    "start_time": "2025-02-05T23:43:33.706Z"
   },
   {
    "duration": 22,
    "start_time": "2025-02-05T23:43:33.717Z"
   },
   {
    "duration": 75,
    "start_time": "2025-02-05T23:43:33.740Z"
   },
   {
    "duration": 84,
    "start_time": "2025-02-05T23:43:33.817Z"
   },
   {
    "duration": 16,
    "start_time": "2025-02-05T23:43:33.903Z"
   },
   {
    "duration": 7,
    "start_time": "2025-02-05T23:43:33.921Z"
   },
   {
    "duration": 27,
    "start_time": "2025-02-05T23:43:33.930Z"
   },
   {
    "duration": 25,
    "start_time": "2025-02-05T23:43:33.958Z"
   },
   {
    "duration": 30,
    "start_time": "2025-02-05T23:43:33.984Z"
   },
   {
    "duration": 6,
    "start_time": "2025-02-05T23:48:27.069Z"
   },
   {
    "duration": 5,
    "start_time": "2025-02-05T23:51:30.314Z"
   },
   {
    "duration": 1114,
    "start_time": "2025-02-06T00:13:36.040Z"
   },
   {
    "duration": 18,
    "start_time": "2025-02-06T00:13:37.157Z"
   },
   {
    "duration": 69,
    "start_time": "2025-02-06T00:13:37.177Z"
   },
   {
    "duration": 15,
    "start_time": "2025-02-06T00:13:37.248Z"
   },
   {
    "duration": 28,
    "start_time": "2025-02-06T00:13:37.266Z"
   },
   {
    "duration": 9,
    "start_time": "2025-02-06T00:13:37.295Z"
   },
   {
    "duration": 25,
    "start_time": "2025-02-06T00:13:37.305Z"
   },
   {
    "duration": 16,
    "start_time": "2025-02-06T00:13:37.331Z"
   },
   {
    "duration": 9,
    "start_time": "2025-02-06T00:13:37.349Z"
   },
   {
    "duration": 15,
    "start_time": "2025-02-06T00:13:37.359Z"
   },
   {
    "duration": 5,
    "start_time": "2025-02-06T00:13:37.375Z"
   },
   {
    "duration": 3,
    "start_time": "2025-02-06T00:13:37.382Z"
   },
   {
    "duration": 15,
    "start_time": "2025-02-06T00:13:37.387Z"
   },
   {
    "duration": 9,
    "start_time": "2025-02-06T00:13:37.404Z"
   },
   {
    "duration": 11,
    "start_time": "2025-02-06T00:13:37.414Z"
   },
   {
    "duration": 36,
    "start_time": "2025-02-06T00:13:37.427Z"
   },
   {
    "duration": 6,
    "start_time": "2025-02-06T00:13:37.464Z"
   },
   {
    "duration": 10,
    "start_time": "2025-02-06T00:13:37.471Z"
   },
   {
    "duration": 9,
    "start_time": "2025-02-06T00:13:37.483Z"
   },
   {
    "duration": 31,
    "start_time": "2025-02-06T00:13:37.494Z"
   },
   {
    "duration": 11,
    "start_time": "2025-02-06T00:13:37.527Z"
   },
   {
    "duration": 20,
    "start_time": "2025-02-06T00:13:37.539Z"
   },
   {
    "duration": 179,
    "start_time": "2025-02-06T00:13:37.561Z"
   },
   {
    "duration": 148,
    "start_time": "2025-02-06T00:13:37.742Z"
   },
   {
    "duration": 200,
    "start_time": "2025-02-06T00:13:37.892Z"
   },
   {
    "duration": 284,
    "start_time": "2025-02-06T00:13:38.094Z"
   },
   {
    "duration": 2,
    "start_time": "2025-02-06T00:13:38.380Z"
   },
   {
    "duration": 335,
    "start_time": "2025-02-06T00:13:38.384Z"
   },
   {
    "duration": 243,
    "start_time": "2025-02-06T00:13:38.721Z"
   },
   {
    "duration": 313,
    "start_time": "2025-02-06T00:13:38.966Z"
   },
   {
    "duration": 119,
    "start_time": "2025-02-06T00:13:39.281Z"
   },
   {
    "duration": 2,
    "start_time": "2025-02-06T00:13:39.402Z"
   },
   {
    "duration": 402,
    "start_time": "2025-02-06T00:13:39.405Z"
   },
   {
    "duration": 209,
    "start_time": "2025-02-06T00:13:39.808Z"
   },
   {
    "duration": 113,
    "start_time": "2025-02-06T00:13:40.019Z"
   },
   {
    "duration": 8,
    "start_time": "2025-02-06T00:13:40.133Z"
   },
   {
    "duration": 308,
    "start_time": "2025-02-06T00:13:40.143Z"
   },
   {
    "duration": 24,
    "start_time": "2025-02-06T00:13:40.453Z"
   },
   {
    "duration": 39,
    "start_time": "2025-02-06T00:13:40.479Z"
   },
   {
    "duration": 14,
    "start_time": "2025-02-06T00:13:40.519Z"
   },
   {
    "duration": 102,
    "start_time": "2025-02-06T00:13:40.536Z"
   },
   {
    "duration": 4,
    "start_time": "2025-02-06T00:13:40.639Z"
   },
   {
    "duration": 278,
    "start_time": "2025-02-06T00:13:40.644Z"
   },
   {
    "duration": 9,
    "start_time": "2025-02-06T00:13:40.925Z"
   },
   {
    "duration": 95,
    "start_time": "2025-02-06T00:13:40.935Z"
   },
   {
    "duration": 359,
    "start_time": "2025-02-06T00:13:41.032Z"
   },
   {
    "duration": 14,
    "start_time": "2025-02-06T00:13:41.393Z"
   },
   {
    "duration": 8,
    "start_time": "2025-02-06T00:13:41.409Z"
   },
   {
    "duration": 45,
    "start_time": "2025-02-06T00:13:41.419Z"
   },
   {
    "duration": 31,
    "start_time": "2025-02-06T00:13:41.466Z"
   },
   {
    "duration": 29,
    "start_time": "2025-02-06T00:13:41.499Z"
   },
   {
    "duration": 16,
    "start_time": "2025-02-06T00:13:41.530Z"
   },
   {
    "duration": 24,
    "start_time": "2025-02-06T00:13:41.547Z"
   },
   {
    "duration": 26,
    "start_time": "2025-02-06T00:13:41.573Z"
   },
   {
    "duration": 8,
    "start_time": "2025-02-06T00:13:41.601Z"
   },
   {
    "duration": 17,
    "start_time": "2025-02-06T00:13:41.610Z"
   },
   {
    "duration": 1107,
    "start_time": "2025-02-06T00:16:01.763Z"
   },
   {
    "duration": 18,
    "start_time": "2025-02-06T00:16:02.872Z"
   },
   {
    "duration": 18,
    "start_time": "2025-02-06T00:16:02.893Z"
   },
   {
    "duration": 75,
    "start_time": "2025-02-06T00:16:02.913Z"
   },
   {
    "duration": 73,
    "start_time": "2025-02-06T00:16:02.990Z"
   },
   {
    "duration": 8,
    "start_time": "2025-02-06T00:16:03.065Z"
   },
   {
    "duration": 25,
    "start_time": "2025-02-06T00:16:03.075Z"
   },
   {
    "duration": 21,
    "start_time": "2025-02-06T00:16:03.101Z"
   },
   {
    "duration": 7,
    "start_time": "2025-02-06T00:16:03.124Z"
   },
   {
    "duration": 25,
    "start_time": "2025-02-06T00:16:03.132Z"
   },
   {
    "duration": 5,
    "start_time": "2025-02-06T00:16:03.159Z"
   },
   {
    "duration": 4,
    "start_time": "2025-02-06T00:16:03.165Z"
   },
   {
    "duration": 53,
    "start_time": "2025-02-06T00:16:03.172Z"
   },
   {
    "duration": 71,
    "start_time": "2025-02-06T00:16:03.227Z"
   },
   {
    "duration": 18,
    "start_time": "2025-02-06T00:16:03.300Z"
   },
   {
    "duration": 27,
    "start_time": "2025-02-06T00:16:03.320Z"
   },
   {
    "duration": 25,
    "start_time": "2025-02-06T00:16:03.349Z"
   },
   {
    "duration": 32,
    "start_time": "2025-02-06T00:16:03.376Z"
   },
   {
    "duration": 16,
    "start_time": "2025-02-06T00:16:03.409Z"
   },
   {
    "duration": 17,
    "start_time": "2025-02-06T00:16:03.427Z"
   },
   {
    "duration": 6,
    "start_time": "2025-02-06T00:16:03.446Z"
   },
   {
    "duration": 8,
    "start_time": "2025-02-06T00:16:03.454Z"
   },
   {
    "duration": 194,
    "start_time": "2025-02-06T00:16:03.464Z"
   },
   {
    "duration": 147,
    "start_time": "2025-02-06T00:16:03.660Z"
   },
   {
    "duration": 209,
    "start_time": "2025-02-06T00:16:03.809Z"
   },
   {
    "duration": 280,
    "start_time": "2025-02-06T00:16:04.020Z"
   },
   {
    "duration": 3,
    "start_time": "2025-02-06T00:16:04.302Z"
   },
   {
    "duration": 344,
    "start_time": "2025-02-06T00:16:04.306Z"
   },
   {
    "duration": 232,
    "start_time": "2025-02-06T00:16:04.652Z"
   },
   {
    "duration": 302,
    "start_time": "2025-02-06T00:16:04.886Z"
   },
   {
    "duration": 126,
    "start_time": "2025-02-06T00:16:05.190Z"
   },
   {
    "duration": 3,
    "start_time": "2025-02-06T00:16:05.318Z"
   },
   {
    "duration": 424,
    "start_time": "2025-02-06T00:16:05.323Z"
   },
   {
    "duration": 209,
    "start_time": "2025-02-06T00:16:05.749Z"
   },
   {
    "duration": 116,
    "start_time": "2025-02-06T00:16:05.960Z"
   },
   {
    "duration": 10,
    "start_time": "2025-02-06T00:16:06.078Z"
   },
   {
    "duration": 310,
    "start_time": "2025-02-06T00:16:06.100Z"
   },
   {
    "duration": 24,
    "start_time": "2025-02-06T00:16:06.412Z"
   },
   {
    "duration": 25,
    "start_time": "2025-02-06T00:16:06.438Z"
   },
   {
    "duration": 39,
    "start_time": "2025-02-06T00:16:06.468Z"
   },
   {
    "duration": 14,
    "start_time": "2025-02-06T00:16:06.508Z"
   },
   {
    "duration": 18,
    "start_time": "2025-02-06T00:16:06.524Z"
   },
   {
    "duration": 368,
    "start_time": "2025-02-06T00:16:06.544Z"
   },
   {
    "duration": 9,
    "start_time": "2025-02-06T00:16:06.914Z"
   },
   {
    "duration": 123,
    "start_time": "2025-02-06T00:16:06.924Z"
   },
   {
    "duration": 353,
    "start_time": "2025-02-06T00:16:07.049Z"
   },
   {
    "duration": 10,
    "start_time": "2025-02-06T00:16:07.404Z"
   },
   {
    "duration": 10,
    "start_time": "2025-02-06T00:16:07.415Z"
   },
   {
    "duration": 23,
    "start_time": "2025-02-06T00:16:07.427Z"
   },
   {
    "duration": 49,
    "start_time": "2025-02-06T00:16:07.452Z"
   },
   {
    "duration": 21,
    "start_time": "2025-02-06T00:16:07.503Z"
   },
   {
    "duration": 15,
    "start_time": "2025-02-06T00:16:07.526Z"
   },
   {
    "duration": 5,
    "start_time": "2025-02-06T00:16:07.543Z"
   },
   {
    "duration": 19,
    "start_time": "2025-02-06T00:16:07.550Z"
   },
   {
    "duration": 8,
    "start_time": "2025-02-06T00:16:07.570Z"
   },
   {
    "duration": 22,
    "start_time": "2025-02-06T00:16:07.580Z"
   },
   {
    "duration": 1045,
    "start_time": "2025-02-06T00:16:58.515Z"
   },
   {
    "duration": 19,
    "start_time": "2025-02-06T00:16:59.561Z"
   },
   {
    "duration": 13,
    "start_time": "2025-02-06T00:16:59.581Z"
   },
   {
    "duration": 18,
    "start_time": "2025-02-06T00:16:59.599Z"
   },
   {
    "duration": 34,
    "start_time": "2025-02-06T00:16:59.618Z"
   },
   {
    "duration": 10,
    "start_time": "2025-02-06T00:16:59.653Z"
   },
   {
    "duration": 13,
    "start_time": "2025-02-06T00:16:59.664Z"
   },
   {
    "duration": 16,
    "start_time": "2025-02-06T00:16:59.678Z"
   },
   {
    "duration": 7,
    "start_time": "2025-02-06T00:16:59.696Z"
   },
   {
    "duration": 11,
    "start_time": "2025-02-06T00:16:59.705Z"
   },
   {
    "duration": 4,
    "start_time": "2025-02-06T00:16:59.718Z"
   },
   {
    "duration": 4,
    "start_time": "2025-02-06T00:16:59.723Z"
   },
   {
    "duration": 4,
    "start_time": "2025-02-06T00:16:59.728Z"
   },
   {
    "duration": 4,
    "start_time": "2025-02-06T00:16:59.733Z"
   },
   {
    "duration": 3,
    "start_time": "2025-02-06T00:16:59.739Z"
   },
   {
    "duration": 8,
    "start_time": "2025-02-06T00:16:59.744Z"
   },
   {
    "duration": 47,
    "start_time": "2025-02-06T00:16:59.753Z"
   },
   {
    "duration": 7,
    "start_time": "2025-02-06T00:16:59.802Z"
   },
   {
    "duration": 9,
    "start_time": "2025-02-06T00:16:59.810Z"
   },
   {
    "duration": 10,
    "start_time": "2025-02-06T00:16:59.821Z"
   },
   {
    "duration": 63,
    "start_time": "2025-02-06T00:16:59.833Z"
   },
   {
    "duration": 7,
    "start_time": "2025-02-06T00:16:59.898Z"
   },
   {
    "duration": 186,
    "start_time": "2025-02-06T00:16:59.907Z"
   },
   {
    "duration": 145,
    "start_time": "2025-02-06T00:17:00.095Z"
   },
   {
    "duration": 206,
    "start_time": "2025-02-06T00:17:00.241Z"
   },
   {
    "duration": 279,
    "start_time": "2025-02-06T00:17:00.449Z"
   },
   {
    "duration": 2,
    "start_time": "2025-02-06T00:17:00.730Z"
   },
   {
    "duration": 356,
    "start_time": "2025-02-06T00:17:00.736Z"
   },
   {
    "duration": 221,
    "start_time": "2025-02-06T00:17:01.093Z"
   },
   {
    "duration": 298,
    "start_time": "2025-02-06T00:17:01.316Z"
   },
   {
    "duration": 117,
    "start_time": "2025-02-06T00:17:01.616Z"
   },
   {
    "duration": 3,
    "start_time": "2025-02-06T00:17:01.734Z"
   },
   {
    "duration": 414,
    "start_time": "2025-02-06T00:17:01.738Z"
   },
   {
    "duration": 218,
    "start_time": "2025-02-06T00:17:02.153Z"
   },
   {
    "duration": 115,
    "start_time": "2025-02-06T00:17:02.373Z"
   },
   {
    "duration": 16,
    "start_time": "2025-02-06T00:17:02.489Z"
   },
   {
    "duration": 307,
    "start_time": "2025-02-06T00:17:02.506Z"
   },
   {
    "duration": 23,
    "start_time": "2025-02-06T00:17:02.814Z"
   },
   {
    "duration": 20,
    "start_time": "2025-02-06T00:17:02.839Z"
   },
   {
    "duration": 26,
    "start_time": "2025-02-06T00:17:02.861Z"
   },
   {
    "duration": 40,
    "start_time": "2025-02-06T00:17:02.889Z"
   },
   {
    "duration": 120,
    "start_time": "2025-02-06T00:17:02.930Z"
   },
   {
    "duration": 279,
    "start_time": "2025-02-06T00:17:03.051Z"
   },
   {
    "duration": 8,
    "start_time": "2025-02-06T00:17:03.331Z"
   },
   {
    "duration": 20,
    "start_time": "2025-02-06T00:17:03.341Z"
   },
   {
    "duration": 359,
    "start_time": "2025-02-06T00:17:03.363Z"
   },
   {
    "duration": 8,
    "start_time": "2025-02-06T00:17:03.724Z"
   },
   {
    "duration": 20,
    "start_time": "2025-02-06T00:17:03.734Z"
   },
   {
    "duration": 43,
    "start_time": "2025-02-06T00:17:03.755Z"
   },
   {
    "duration": 21,
    "start_time": "2025-02-06T00:17:03.800Z"
   },
   {
    "duration": 18,
    "start_time": "2025-02-06T00:17:03.823Z"
   },
   {
    "duration": 64,
    "start_time": "2025-02-06T00:17:03.843Z"
   },
   {
    "duration": 113,
    "start_time": "2025-02-06T00:17:03.908Z"
   },
   {
    "duration": 23,
    "start_time": "2025-02-06T00:17:04.022Z"
   },
   {
    "duration": 12,
    "start_time": "2025-02-06T00:17:04.046Z"
   },
   {
    "duration": 6,
    "start_time": "2025-02-06T00:17:04.059Z"
   },
   {
    "duration": 45,
    "start_time": "2025-02-06T05:32:01.040Z"
   },
   {
    "duration": 1308,
    "start_time": "2025-02-06T05:32:29.815Z"
   },
   {
    "duration": 19,
    "start_time": "2025-02-06T05:32:31.125Z"
   },
   {
    "duration": 20,
    "start_time": "2025-02-06T05:32:31.146Z"
   },
   {
    "duration": 33,
    "start_time": "2025-02-06T05:32:31.169Z"
   },
   {
    "duration": 59,
    "start_time": "2025-02-06T05:32:31.203Z"
   },
   {
    "duration": 28,
    "start_time": "2025-02-06T05:32:31.264Z"
   },
   {
    "duration": 24,
    "start_time": "2025-02-06T05:32:31.294Z"
   },
   {
    "duration": 16,
    "start_time": "2025-02-06T05:32:31.320Z"
   },
   {
    "duration": 8,
    "start_time": "2025-02-06T05:32:31.337Z"
   },
   {
    "duration": 31,
    "start_time": "2025-02-06T05:32:31.348Z"
   },
   {
    "duration": 37,
    "start_time": "2025-02-06T05:32:31.381Z"
   },
   {
    "duration": 41,
    "start_time": "2025-02-06T05:32:31.420Z"
   },
   {
    "duration": 22,
    "start_time": "2025-02-06T05:32:31.463Z"
   },
   {
    "duration": 23,
    "start_time": "2025-02-06T05:32:31.487Z"
   },
   {
    "duration": 37,
    "start_time": "2025-02-06T05:32:31.512Z"
   },
   {
    "duration": 27,
    "start_time": "2025-02-06T05:32:31.551Z"
   },
   {
    "duration": 33,
    "start_time": "2025-02-06T05:32:31.580Z"
   },
   {
    "duration": 25,
    "start_time": "2025-02-06T05:32:31.615Z"
   },
   {
    "duration": 16,
    "start_time": "2025-02-06T05:32:31.641Z"
   },
   {
    "duration": 21,
    "start_time": "2025-02-06T05:32:31.659Z"
   },
   {
    "duration": 24,
    "start_time": "2025-02-06T05:32:31.682Z"
   },
   {
    "duration": 41,
    "start_time": "2025-02-06T05:32:31.708Z"
   },
   {
    "duration": 215,
    "start_time": "2025-02-06T05:32:31.751Z"
   },
   {
    "duration": 157,
    "start_time": "2025-02-06T05:32:31.968Z"
   },
   {
    "duration": 226,
    "start_time": "2025-02-06T05:32:32.127Z"
   },
   {
    "duration": 285,
    "start_time": "2025-02-06T05:32:32.355Z"
   },
   {
    "duration": 2,
    "start_time": "2025-02-06T05:32:32.642Z"
   },
   {
    "duration": 454,
    "start_time": "2025-02-06T05:32:32.658Z"
   },
   {
    "duration": 241,
    "start_time": "2025-02-06T05:32:33.114Z"
   },
   {
    "duration": 334,
    "start_time": "2025-02-06T05:32:33.356Z"
   },
   {
    "duration": 135,
    "start_time": "2025-02-06T05:32:33.692Z"
   },
   {
    "duration": 2,
    "start_time": "2025-02-06T05:32:33.829Z"
   },
   {
    "duration": 424,
    "start_time": "2025-02-06T05:32:33.833Z"
   },
   {
    "duration": 226,
    "start_time": "2025-02-06T05:32:34.258Z"
   },
   {
    "duration": 133,
    "start_time": "2025-02-06T05:32:34.485Z"
   },
   {
    "duration": 9,
    "start_time": "2025-02-06T05:32:34.619Z"
   },
   {
    "duration": 360,
    "start_time": "2025-02-06T05:32:34.630Z"
   },
   {
    "duration": 24,
    "start_time": "2025-02-06T05:32:34.992Z"
   },
   {
    "duration": 4,
    "start_time": "2025-02-06T05:32:35.017Z"
   },
   {
    "duration": 5,
    "start_time": "2025-02-06T05:32:35.023Z"
   },
   {
    "duration": 26,
    "start_time": "2025-02-06T05:32:35.030Z"
   },
   {
    "duration": 40,
    "start_time": "2025-02-06T05:32:35.058Z"
   },
   {
    "duration": 14,
    "start_time": "2025-02-06T05:32:35.100Z"
   },
   {
    "duration": 13,
    "start_time": "2025-02-06T05:32:35.115Z"
   },
   {
    "duration": 48,
    "start_time": "2025-02-06T05:32:35.129Z"
   },
   {
    "duration": 306,
    "start_time": "2025-02-06T05:32:35.178Z"
   },
   {
    "duration": 9,
    "start_time": "2025-02-06T05:32:35.486Z"
   },
   {
    "duration": 28,
    "start_time": "2025-02-06T05:32:35.497Z"
   },
   {
    "duration": 407,
    "start_time": "2025-02-06T05:32:35.527Z"
   },
   {
    "duration": 23,
    "start_time": "2025-02-06T05:32:35.936Z"
   },
   {
    "duration": 52,
    "start_time": "2025-02-06T05:32:35.961Z"
   },
   {
    "duration": 21,
    "start_time": "2025-02-06T05:32:36.014Z"
   },
   {
    "duration": 91,
    "start_time": "2025-02-06T05:32:36.037Z"
   },
   {
    "duration": 115,
    "start_time": "2025-02-06T05:32:36.129Z"
   },
   {
    "duration": 123,
    "start_time": "2025-02-06T05:32:36.245Z"
   },
   {
    "duration": 8,
    "start_time": "2025-02-06T05:32:36.369Z"
   },
   {
    "duration": 24,
    "start_time": "2025-02-06T05:32:36.379Z"
   },
   {
    "duration": 88,
    "start_time": "2025-02-06T05:32:36.404Z"
   },
   {
    "duration": 84,
    "start_time": "2025-02-06T05:32:36.494Z"
   }
  ],
  "kernelspec": {
   "display_name": "Python 3 (ipykernel)",
   "language": "python",
   "name": "python3"
  },
  "language_info": {
   "codemirror_mode": {
    "name": "ipython",
    "version": 3
   },
   "file_extension": ".py",
   "mimetype": "text/x-python",
   "name": "python",
   "nbconvert_exporter": "python",
   "pygments_lexer": "ipython3",
   "version": "3.9.5"
  },
  "toc": {
   "base_numbering": 1,
   "nav_menu": {},
   "number_sections": true,
   "sideBar": true,
   "skip_h1_title": true,
   "title_cell": "Table of Contents",
   "title_sidebar": "Contents",
   "toc_cell": false,
   "toc_position": {
    "height": "calc(100% - 180px)",
    "left": "10px",
    "top": "150px",
    "width": "194px"
   },
   "toc_section_display": true,
   "toc_window_display": true
  }
 },
 "nbformat": 4,
 "nbformat_minor": 5
}
